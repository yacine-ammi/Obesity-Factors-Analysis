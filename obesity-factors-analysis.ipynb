{
 "cells": [
  {
   "cell_type": "markdown",
   "id": "e16abec7",
   "metadata": {
    "papermill": {
     "duration": 0.019602,
     "end_time": "2023-04-17T10:49:31.754710",
     "exception": false,
     "start_time": "2023-04-17T10:49:31.735108",
     "status": "completed"
    },
    "tags": []
   },
   "source": [
    "# Overview\n",
    "## Objective\n",
    "The objective of the study is to identify the factors that affect obesity the most. To achieve this, three approaches are used: PCA, classification, and regression.\n",
    "\n",
    "### Approaches\n",
    "\n",
    "> - PCA is used to identify the factors that contribute the most to obesity.\n",
    "> - Classification is used to identify the most important predictors of obesity.\n",
    "> - Regression is used to identify the factors that contribute the most to an individual's BMI.\n",
    "\n",
    "### Interpretation\n",
    "\n",
    "To interpret the results, the SHAP approach is used in both classification and regression. SHAP values are used to explain the contribution of each feature to the target variable, providing a deeper understanding of the contribution of each feature to obesity.\n",
    "\n",
    "### Overall\n",
    "\n",
    "Overall, these three approaches work together to identify the most important factors that affect obesity. PCA identifies the most important features, classification identifies the most important predictors of obesity, and regression identifies the factors that contribute the most to an individual's BMI. The interpretation of the results using the SHAP approach provides a more detailed understanding of the contribution of each feature to obesity."
   ]
  },
  {
   "cell_type": "markdown",
   "id": "75c23b1d",
   "metadata": {
    "papermill": {
     "duration": 0.017591,
     "end_time": "2023-04-17T10:49:31.791859",
     "exception": false,
     "start_time": "2023-04-17T10:49:31.774268",
     "status": "completed"
    },
    "tags": []
   },
   "source": [
    "## Dataset Description\n",
    "### About the dataset\n",
    "This dataset include data for the estimation of obesity levels in individuals from the countries of Mexico, Peru and Colombia, based on their eating habits and physical condition. 77% of the data was generated synthetically using the Weka tool and the SMOTE filter, 23% of the data was collected directly from users through a web platform.\n",
    "\n",
    "The data contains 17 attributes and 2111 records, the records are labeled with the class variable NObesity (Obesity Level), that allows classification of the data using the values of: \n",
    "* Insufficient Weight, \n",
    "* Normal Weight\n",
    "* Overweight Level I\n",
    "* Overweight Level II\n",
    "* Obesity Type I\n",
    "* Obesity Type II\n",
    "* Obesity Type III\n"
   ]
  },
  {
   "cell_type": "markdown",
   "id": "d3a9753e",
   "metadata": {
    "papermill": {
     "duration": 0.017337,
     "end_time": "2023-04-17T10:49:31.826935",
     "exception": false,
     "start_time": "2023-04-17T10:49:31.809598",
     "status": "completed"
    },
    "tags": []
   },
   "source": [
    "### Features Descriptions"
   ]
  },
  {
   "cell_type": "markdown",
   "id": "6599048f",
   "metadata": {
    "papermill": {
     "duration": 0.017659,
     "end_time": "2023-04-17T10:49:31.862902",
     "exception": false,
     "start_time": "2023-04-17T10:49:31.845243",
     "status": "completed"
    },
    "tags": []
   },
   "source": [
    "| Feature Name                              | Description                                                            | Label                                           | Variable Type |\n",
    "|-------------------------------------------|------------------------------------------------------------------------|-------------------------------------------------|---------------|\n",
    "| Gender                                    | The gender of the individual                                          | Male or Female                                  | Categorical   |\n",
    "| Age                                       | The age of the individual in years                                     | Years                                           | Numerical     |\n",
    "| Height                                    | The height of the individual in centimeters                            | Centimeters                                     | Numerical     |\n",
    "| Weight                                    | The weight of the individual in kilograms                              | Kilograms                                       | Numerical     |\n",
    "| Family history with overweight            | Whether the individual has a family history of overweight              | Yes or No                                       | Categorical   |\n",
    "| FAVC (Frequent consumption of high caloric food) | Whether the individual frequently consumes high-calorie foods        | Yes or No                                       | Categorical   |\n",
    "| FCVC (Frequency of consumption of vegetables) | How frequently the individual consumes vegetables                       | Never, 1-2 days, 3-4 days, or every day        | Ordinal       |\n",
    "| NCP (Number of main meals)                | The number of main meals that the individual consumes in a day         | 1, 2, 3, 4, or 5                               | Ordinal   |\n",
    "| CAEC (Consumption of food between meals)   | Whether the individual consumes food between meals                      | No, Sometimes, or Frequently                  | Ordinal   |\n",
    "| SMOKE (Smoking habit)                     | Whether the individual smokes or not                                    | Yes or No                                       | Categorical   |\n",
    "| CH2O (Daily water consumption)            | The daily water consumption of the individual in liters                | Liters                                          | Ordinal     |\n",
    "| SCC (Calories consumption monitoring)     | Whether the individual monitors their calorie consumption               | Yes or No       | Categorical   |\n",
    "| FAF (Physical activity frequency)         | How frequently the individual engages in physical activity             | None, 1-2 days, 3-4 days, or 5 or more days   | Ordinal       |\n",
    "| TUE (Time using technology devices)       | The amount of time the individual spends using technology devices      | 0, 1-2 hours, 3-4 hours, 5 or more hours      | Ordinal       |\n",
    "| CALC (Consumption of alcohol)             | Whether the individual consumes alcohol                                 | No, Sometimes, or Frequently                  | Ordinal   |\n",
    "| MTRANS (Transportation used)              | The mode of transportation used by the individual                      | Automobile, Motorbike, Bike, Public transportation, Walking, or Other | Categorical   |\n",
    "| NObeyesdad                                | The obesity level of the individual based on BMI calculation           | Insufficient Weight, Normal Weight, Overweight Level I, Overweight Level II, Obesity Type I, Obesity Type II, or Obesity Type III | Categorical |\n"
   ]
  },
  {
   "cell_type": "markdown",
   "id": "b2e78823",
   "metadata": {
    "papermill": {
     "duration": 0.017378,
     "end_time": "2023-04-17T10:49:31.897943",
     "exception": false,
     "start_time": "2023-04-17T10:49:31.880565",
     "status": "completed"
    },
    "tags": []
   },
   "source": [
    "# Preparation & Cleanup"
   ]
  },
  {
   "cell_type": "code",
   "execution_count": 1,
   "id": "b1cab221",
   "metadata": {
    "execution": {
     "iopub.execute_input": "2023-04-17T10:49:31.936981Z",
     "iopub.status.busy": "2023-04-17T10:49:31.936403Z",
     "iopub.status.idle": "2023-04-17T10:49:42.781306Z",
     "shell.execute_reply": "2023-04-17T10:49:42.779955Z"
    },
    "papermill": {
     "duration": 10.868793,
     "end_time": "2023-04-17T10:49:42.784536",
     "exception": false,
     "start_time": "2023-04-17T10:49:31.915743",
     "status": "completed"
    },
    "tags": []
   },
   "outputs": [
    {
     "data": {
      "text/html": [
       "<style type='text/css'>\n",
       ".datatable table.frame { margin-bottom: 0; }\n",
       ".datatable table.frame thead { border-bottom: none; }\n",
       ".datatable table.frame tr.coltypes td {  color: #FFFFFF;  line-height: 6px;  padding: 0 0.5em;}\n",
       ".datatable .bool    { background: #DDDD99; }\n",
       ".datatable .object  { background: #565656; }\n",
       ".datatable .int     { background: #5D9E5D; }\n",
       ".datatable .float   { background: #4040CC; }\n",
       ".datatable .str     { background: #CC4040; }\n",
       ".datatable .time    { background: #40CC40; }\n",
       ".datatable .row_index {  background: var(--jp-border-color3);  border-right: 1px solid var(--jp-border-color0);  color: var(--jp-ui-font-color3);  font-size: 9px;}\n",
       ".datatable .frame tbody td { text-align: left; }\n",
       ".datatable .frame tr.coltypes .row_index {  background: var(--jp-border-color0);}\n",
       ".datatable th:nth-child(2) { padding-left: 12px; }\n",
       ".datatable .hellipsis {  color: var(--jp-cell-editor-border-color);}\n",
       ".datatable .vellipsis {  background: var(--jp-layout-color0);  color: var(--jp-cell-editor-border-color);}\n",
       ".datatable .na {  color: var(--jp-cell-editor-border-color);  font-size: 80%;}\n",
       ".datatable .sp {  opacity: 0.25;}\n",
       ".datatable .footer { font-size: 9px; }\n",
       ".datatable .frame_dimensions {  background: var(--jp-border-color3);  border-top: 1px solid var(--jp-border-color0);  color: var(--jp-ui-font-color3);  display: inline-block;  opacity: 0.6;  padding: 1px 10px 1px 5px;}\n",
       "</style>\n"
      ],
      "text/plain": [
       "<IPython.core.display.HTML object>"
      ]
     },
     "metadata": {},
     "output_type": "display_data"
    },
    {
     "name": "stderr",
     "output_type": "stream",
     "text": [
      "The Shapely GEOS version (3.9.1-CAPI-1.14.2) is incompatible with the GEOS version PyGEOS was compiled with (3.10.4-CAPI-1.16.2). Conversions between both will be slow.\n"
     ]
    }
   ],
   "source": [
    "#General\n",
    "import pandas as pd\n",
    "import numpy as np\n",
    "\n",
    "#Preprocessing\n",
    "from sklearn import feature_selection\n",
    "from sklearn import model_selection\n",
    "from sklearn.model_selection import train_test_split, KFold, cross_val_predict, StratifiedKFold, cross_validate, cross_val_score\n",
    "from sklearn.feature_selection import RFECV\n",
    "from sklearn.preprocessing import StandardScaler\n",
    "\n",
    "#Models\n",
    "import xgboost as xgb\n",
    "import lightgbm as lgb\n",
    "from sklearn import svm, tree, linear_model, neighbors, naive_bayes, ensemble, gaussian_process, neural_network\n",
    "from sklearn.decomposition import PCA\n",
    "\n",
    "\n",
    "#Model_Evaluation\n",
    "import optuna\n",
    "import shap\n",
    "from optuna.pruners import MedianPruner\n",
    "from sklearn.metrics import roc_curve, auc, make_scorer, accuracy_score, precision_score, recall_score\n",
    "from sklearn.metrics import mean_squared_error, mean_absolute_error, r2_score\n",
    "from sklearn.metrics import f1_score, plot_confusion_matrix, classification_report, average_precision_score\n",
    "\n",
    "#Visualization\n",
    "import matplotlib.pyplot as plt\n",
    "import matplotlib.style as style\n",
    "import seaborn as sns\n",
    "import plotly.figure_factory as ff\n",
    "import plotly.graph_objs as go\n",
    "import plotly.express as px\n",
    "from plotly.subplots import make_subplots\n",
    "\n",
    "\n",
    "#Setting_Parameters\n",
    "import time\n",
    "import warnings\n",
    "from warnings import simplefilter\n",
    "from sklearn.exceptions import ConvergenceWarning\n",
    "from IPython.display import display, Markdown\n",
    "\n",
    "def bold(string):\n",
    "    display(Markdown(string))\n",
    "\n",
    "simplefilter(\"ignore\", category=ConvergenceWarning)    \n",
    "optuna.logging.set_verbosity(optuna.logging.WARNING)\n",
    "warnings.filterwarnings('ignore')\n",
    "warnings.filterwarnings('ignore', 'Solver terminated early.*')\n",
    "sns.set()\n",
    "style.use('ggplot')\n",
    "pd.set_option(\"display.max_rows\", 100)\n",
    "%matplotlib inline \n",
    "plt.rcParams[\"figure.figsize\"] = (8, 6)"
   ]
  },
  {
   "cell_type": "code",
   "execution_count": 2,
   "id": "7da7922b",
   "metadata": {
    "execution": {
     "iopub.execute_input": "2023-04-17T10:49:42.823951Z",
     "iopub.status.busy": "2023-04-17T10:49:42.823085Z",
     "iopub.status.idle": "2023-04-17T10:49:42.898274Z",
     "shell.execute_reply": "2023-04-17T10:49:42.896950Z"
    },
    "papermill": {
     "duration": 0.098169,
     "end_time": "2023-04-17T10:49:42.901045",
     "exception": false,
     "start_time": "2023-04-17T10:49:42.802876",
     "status": "completed"
    },
    "tags": []
   },
   "outputs": [
    {
     "data": {
      "text/html": [
       "<div>\n",
       "<style scoped>\n",
       "    .dataframe tbody tr th:only-of-type {\n",
       "        vertical-align: middle;\n",
       "    }\n",
       "\n",
       "    .dataframe tbody tr th {\n",
       "        vertical-align: top;\n",
       "    }\n",
       "\n",
       "    .dataframe thead th {\n",
       "        text-align: right;\n",
       "    }\n",
       "</style>\n",
       "<table border=\"1\" class=\"dataframe\">\n",
       "  <thead>\n",
       "    <tr style=\"text-align: right;\">\n",
       "      <th></th>\n",
       "      <th>Gender</th>\n",
       "      <th>Age</th>\n",
       "      <th>Height</th>\n",
       "      <th>Weight</th>\n",
       "      <th>family_history_with_overweight</th>\n",
       "      <th>FAVC</th>\n",
       "      <th>FCVC</th>\n",
       "      <th>NCP</th>\n",
       "      <th>CAEC</th>\n",
       "      <th>SMOKE</th>\n",
       "      <th>CH2O</th>\n",
       "      <th>SCC</th>\n",
       "      <th>FAF</th>\n",
       "      <th>TUE</th>\n",
       "      <th>CALC</th>\n",
       "      <th>MTRANS</th>\n",
       "      <th>NObeyesdad</th>\n",
       "    </tr>\n",
       "  </thead>\n",
       "  <tbody>\n",
       "    <tr>\n",
       "      <th>0</th>\n",
       "      <td>Female</td>\n",
       "      <td>21.0</td>\n",
       "      <td>1.62</td>\n",
       "      <td>64.0</td>\n",
       "      <td>yes</td>\n",
       "      <td>no</td>\n",
       "      <td>2.0</td>\n",
       "      <td>3.0</td>\n",
       "      <td>Sometimes</td>\n",
       "      <td>no</td>\n",
       "      <td>2.0</td>\n",
       "      <td>no</td>\n",
       "      <td>0.0</td>\n",
       "      <td>1.0</td>\n",
       "      <td>no</td>\n",
       "      <td>Public_Transportation</td>\n",
       "      <td>Normal_Weight</td>\n",
       "    </tr>\n",
       "    <tr>\n",
       "      <th>1</th>\n",
       "      <td>Female</td>\n",
       "      <td>21.0</td>\n",
       "      <td>1.52</td>\n",
       "      <td>56.0</td>\n",
       "      <td>yes</td>\n",
       "      <td>no</td>\n",
       "      <td>3.0</td>\n",
       "      <td>3.0</td>\n",
       "      <td>Sometimes</td>\n",
       "      <td>yes</td>\n",
       "      <td>3.0</td>\n",
       "      <td>yes</td>\n",
       "      <td>3.0</td>\n",
       "      <td>0.0</td>\n",
       "      <td>Sometimes</td>\n",
       "      <td>Public_Transportation</td>\n",
       "      <td>Normal_Weight</td>\n",
       "    </tr>\n",
       "    <tr>\n",
       "      <th>2</th>\n",
       "      <td>Male</td>\n",
       "      <td>23.0</td>\n",
       "      <td>1.80</td>\n",
       "      <td>77.0</td>\n",
       "      <td>yes</td>\n",
       "      <td>no</td>\n",
       "      <td>2.0</td>\n",
       "      <td>3.0</td>\n",
       "      <td>Sometimes</td>\n",
       "      <td>no</td>\n",
       "      <td>2.0</td>\n",
       "      <td>no</td>\n",
       "      <td>2.0</td>\n",
       "      <td>1.0</td>\n",
       "      <td>Frequently</td>\n",
       "      <td>Public_Transportation</td>\n",
       "      <td>Normal_Weight</td>\n",
       "    </tr>\n",
       "    <tr>\n",
       "      <th>3</th>\n",
       "      <td>Male</td>\n",
       "      <td>27.0</td>\n",
       "      <td>1.80</td>\n",
       "      <td>87.0</td>\n",
       "      <td>no</td>\n",
       "      <td>no</td>\n",
       "      <td>3.0</td>\n",
       "      <td>3.0</td>\n",
       "      <td>Sometimes</td>\n",
       "      <td>no</td>\n",
       "      <td>2.0</td>\n",
       "      <td>no</td>\n",
       "      <td>2.0</td>\n",
       "      <td>0.0</td>\n",
       "      <td>Frequently</td>\n",
       "      <td>Walking</td>\n",
       "      <td>Overweight_Level_I</td>\n",
       "    </tr>\n",
       "    <tr>\n",
       "      <th>4</th>\n",
       "      <td>Male</td>\n",
       "      <td>22.0</td>\n",
       "      <td>1.78</td>\n",
       "      <td>89.8</td>\n",
       "      <td>no</td>\n",
       "      <td>no</td>\n",
       "      <td>2.0</td>\n",
       "      <td>1.0</td>\n",
       "      <td>Sometimes</td>\n",
       "      <td>no</td>\n",
       "      <td>2.0</td>\n",
       "      <td>no</td>\n",
       "      <td>0.0</td>\n",
       "      <td>0.0</td>\n",
       "      <td>Sometimes</td>\n",
       "      <td>Public_Transportation</td>\n",
       "      <td>Overweight_Level_II</td>\n",
       "    </tr>\n",
       "  </tbody>\n",
       "</table>\n",
       "</div>"
      ],
      "text/plain": [
       "   Gender   Age  Height  Weight family_history_with_overweight FAVC  FCVC  \\\n",
       "0  Female  21.0    1.62    64.0                            yes   no   2.0   \n",
       "1  Female  21.0    1.52    56.0                            yes   no   3.0   \n",
       "2    Male  23.0    1.80    77.0                            yes   no   2.0   \n",
       "3    Male  27.0    1.80    87.0                             no   no   3.0   \n",
       "4    Male  22.0    1.78    89.8                             no   no   2.0   \n",
       "\n",
       "   NCP       CAEC SMOKE  CH2O  SCC  FAF  TUE        CALC  \\\n",
       "0  3.0  Sometimes    no   2.0   no  0.0  1.0          no   \n",
       "1  3.0  Sometimes   yes   3.0  yes  3.0  0.0   Sometimes   \n",
       "2  3.0  Sometimes    no   2.0   no  2.0  1.0  Frequently   \n",
       "3  3.0  Sometimes    no   2.0   no  2.0  0.0  Frequently   \n",
       "4  1.0  Sometimes    no   2.0   no  0.0  0.0   Sometimes   \n",
       "\n",
       "                  MTRANS           NObeyesdad  \n",
       "0  Public_Transportation        Normal_Weight  \n",
       "1  Public_Transportation        Normal_Weight  \n",
       "2  Public_Transportation        Normal_Weight  \n",
       "3                Walking   Overweight_Level_I  \n",
       "4  Public_Transportation  Overweight_Level_II  "
      ]
     },
     "execution_count": 2,
     "metadata": {},
     "output_type": "execute_result"
    }
   ],
   "source": [
    "df = pd.read_csv('/kaggle/input/obesity-levels/ObesityDataSet_raw_and_data_sinthetic.csv')\n",
    "df.head()"
   ]
  },
  {
   "cell_type": "code",
   "execution_count": 3,
   "id": "13e9f568",
   "metadata": {
    "execution": {
     "iopub.execute_input": "2023-04-17T10:49:42.940169Z",
     "iopub.status.busy": "2023-04-17T10:49:42.939740Z",
     "iopub.status.idle": "2023-04-17T10:49:42.982472Z",
     "shell.execute_reply": "2023-04-17T10:49:42.981116Z"
    },
    "papermill": {
     "duration": 0.065587,
     "end_time": "2023-04-17T10:49:42.985247",
     "exception": false,
     "start_time": "2023-04-17T10:49:42.919660",
     "status": "completed"
    },
    "tags": []
   },
   "outputs": [
    {
     "data": {
      "text/html": [
       "<div>\n",
       "<style scoped>\n",
       "    .dataframe tbody tr th:only-of-type {\n",
       "        vertical-align: middle;\n",
       "    }\n",
       "\n",
       "    .dataframe tbody tr th {\n",
       "        vertical-align: top;\n",
       "    }\n",
       "\n",
       "    .dataframe thead th {\n",
       "        text-align: right;\n",
       "    }\n",
       "</style>\n",
       "<table border=\"1\" class=\"dataframe\">\n",
       "  <thead>\n",
       "    <tr style=\"text-align: right;\">\n",
       "      <th></th>\n",
       "      <th>Gender</th>\n",
       "      <th>family_history_with_overweight</th>\n",
       "      <th>FAVC</th>\n",
       "      <th>CAEC</th>\n",
       "      <th>SMOKE</th>\n",
       "      <th>SCC</th>\n",
       "      <th>CALC</th>\n",
       "      <th>MTRANS</th>\n",
       "      <th>NObeyesdad</th>\n",
       "    </tr>\n",
       "  </thead>\n",
       "  <tbody>\n",
       "    <tr>\n",
       "      <th>count</th>\n",
       "      <td>2111</td>\n",
       "      <td>2111</td>\n",
       "      <td>2111</td>\n",
       "      <td>2111</td>\n",
       "      <td>2111</td>\n",
       "      <td>2111</td>\n",
       "      <td>2111</td>\n",
       "      <td>2111</td>\n",
       "      <td>2111</td>\n",
       "    </tr>\n",
       "    <tr>\n",
       "      <th>unique</th>\n",
       "      <td>2</td>\n",
       "      <td>2</td>\n",
       "      <td>2</td>\n",
       "      <td>4</td>\n",
       "      <td>2</td>\n",
       "      <td>2</td>\n",
       "      <td>4</td>\n",
       "      <td>5</td>\n",
       "      <td>7</td>\n",
       "    </tr>\n",
       "    <tr>\n",
       "      <th>top</th>\n",
       "      <td>Male</td>\n",
       "      <td>yes</td>\n",
       "      <td>yes</td>\n",
       "      <td>Sometimes</td>\n",
       "      <td>no</td>\n",
       "      <td>no</td>\n",
       "      <td>Sometimes</td>\n",
       "      <td>Public_Transportation</td>\n",
       "      <td>Obesity_Type_I</td>\n",
       "    </tr>\n",
       "    <tr>\n",
       "      <th>freq</th>\n",
       "      <td>1068</td>\n",
       "      <td>1726</td>\n",
       "      <td>1866</td>\n",
       "      <td>1765</td>\n",
       "      <td>2067</td>\n",
       "      <td>2015</td>\n",
       "      <td>1401</td>\n",
       "      <td>1580</td>\n",
       "      <td>351</td>\n",
       "    </tr>\n",
       "  </tbody>\n",
       "</table>\n",
       "</div>"
      ],
      "text/plain": [
       "       Gender family_history_with_overweight  FAVC       CAEC SMOKE   SCC  \\\n",
       "count    2111                           2111  2111       2111  2111  2111   \n",
       "unique      2                              2     2          4     2     2   \n",
       "top      Male                            yes   yes  Sometimes    no    no   \n",
       "freq     1068                           1726  1866       1765  2067  2015   \n",
       "\n",
       "             CALC                 MTRANS      NObeyesdad  \n",
       "count        2111                   2111            2111  \n",
       "unique          4                      5               7  \n",
       "top     Sometimes  Public_Transportation  Obesity_Type_I  \n",
       "freq         1401                   1580             351  "
      ]
     },
     "execution_count": 3,
     "metadata": {},
     "output_type": "execute_result"
    }
   ],
   "source": [
    "df.describe(include=np.object)"
   ]
  },
  {
   "cell_type": "code",
   "execution_count": 4,
   "id": "56b180ba",
   "metadata": {
    "execution": {
     "iopub.execute_input": "2023-04-17T10:49:43.025429Z",
     "iopub.status.busy": "2023-04-17T10:49:43.024225Z",
     "iopub.status.idle": "2023-04-17T10:49:43.063793Z",
     "shell.execute_reply": "2023-04-17T10:49:43.062428Z"
    },
    "papermill": {
     "duration": 0.062869,
     "end_time": "2023-04-17T10:49:43.066696",
     "exception": false,
     "start_time": "2023-04-17T10:49:43.003827",
     "status": "completed"
    },
    "tags": []
   },
   "outputs": [
    {
     "data": {
      "text/html": [
       "<div>\n",
       "<style scoped>\n",
       "    .dataframe tbody tr th:only-of-type {\n",
       "        vertical-align: middle;\n",
       "    }\n",
       "\n",
       "    .dataframe tbody tr th {\n",
       "        vertical-align: top;\n",
       "    }\n",
       "\n",
       "    .dataframe thead th {\n",
       "        text-align: right;\n",
       "    }\n",
       "</style>\n",
       "<table border=\"1\" class=\"dataframe\">\n",
       "  <thead>\n",
       "    <tr style=\"text-align: right;\">\n",
       "      <th></th>\n",
       "      <th>Age</th>\n",
       "      <th>Height</th>\n",
       "      <th>Weight</th>\n",
       "      <th>FCVC</th>\n",
       "      <th>NCP</th>\n",
       "      <th>CH2O</th>\n",
       "      <th>FAF</th>\n",
       "      <th>TUE</th>\n",
       "    </tr>\n",
       "  </thead>\n",
       "  <tbody>\n",
       "    <tr>\n",
       "      <th>count</th>\n",
       "      <td>2111.000000</td>\n",
       "      <td>2111.000000</td>\n",
       "      <td>2111.000000</td>\n",
       "      <td>2111.000000</td>\n",
       "      <td>2111.000000</td>\n",
       "      <td>2111.000000</td>\n",
       "      <td>2111.000000</td>\n",
       "      <td>2111.000000</td>\n",
       "    </tr>\n",
       "    <tr>\n",
       "      <th>mean</th>\n",
       "      <td>24.312600</td>\n",
       "      <td>1.701677</td>\n",
       "      <td>86.586058</td>\n",
       "      <td>2.419043</td>\n",
       "      <td>2.685628</td>\n",
       "      <td>2.008011</td>\n",
       "      <td>1.010298</td>\n",
       "      <td>0.657866</td>\n",
       "    </tr>\n",
       "    <tr>\n",
       "      <th>std</th>\n",
       "      <td>6.345968</td>\n",
       "      <td>0.093305</td>\n",
       "      <td>26.191172</td>\n",
       "      <td>0.533927</td>\n",
       "      <td>0.778039</td>\n",
       "      <td>0.612953</td>\n",
       "      <td>0.850592</td>\n",
       "      <td>0.608927</td>\n",
       "    </tr>\n",
       "    <tr>\n",
       "      <th>min</th>\n",
       "      <td>14.000000</td>\n",
       "      <td>1.450000</td>\n",
       "      <td>39.000000</td>\n",
       "      <td>1.000000</td>\n",
       "      <td>1.000000</td>\n",
       "      <td>1.000000</td>\n",
       "      <td>0.000000</td>\n",
       "      <td>0.000000</td>\n",
       "    </tr>\n",
       "    <tr>\n",
       "      <th>25%</th>\n",
       "      <td>19.947192</td>\n",
       "      <td>1.630000</td>\n",
       "      <td>65.473343</td>\n",
       "      <td>2.000000</td>\n",
       "      <td>2.658738</td>\n",
       "      <td>1.584812</td>\n",
       "      <td>0.124505</td>\n",
       "      <td>0.000000</td>\n",
       "    </tr>\n",
       "    <tr>\n",
       "      <th>50%</th>\n",
       "      <td>22.777890</td>\n",
       "      <td>1.700499</td>\n",
       "      <td>83.000000</td>\n",
       "      <td>2.385502</td>\n",
       "      <td>3.000000</td>\n",
       "      <td>2.000000</td>\n",
       "      <td>1.000000</td>\n",
       "      <td>0.625350</td>\n",
       "    </tr>\n",
       "    <tr>\n",
       "      <th>75%</th>\n",
       "      <td>26.000000</td>\n",
       "      <td>1.768464</td>\n",
       "      <td>107.430682</td>\n",
       "      <td>3.000000</td>\n",
       "      <td>3.000000</td>\n",
       "      <td>2.477420</td>\n",
       "      <td>1.666678</td>\n",
       "      <td>1.000000</td>\n",
       "    </tr>\n",
       "    <tr>\n",
       "      <th>max</th>\n",
       "      <td>61.000000</td>\n",
       "      <td>1.980000</td>\n",
       "      <td>173.000000</td>\n",
       "      <td>3.000000</td>\n",
       "      <td>4.000000</td>\n",
       "      <td>3.000000</td>\n",
       "      <td>3.000000</td>\n",
       "      <td>2.000000</td>\n",
       "    </tr>\n",
       "  </tbody>\n",
       "</table>\n",
       "</div>"
      ],
      "text/plain": [
       "               Age       Height       Weight         FCVC          NCP  \\\n",
       "count  2111.000000  2111.000000  2111.000000  2111.000000  2111.000000   \n",
       "mean     24.312600     1.701677    86.586058     2.419043     2.685628   \n",
       "std       6.345968     0.093305    26.191172     0.533927     0.778039   \n",
       "min      14.000000     1.450000    39.000000     1.000000     1.000000   \n",
       "25%      19.947192     1.630000    65.473343     2.000000     2.658738   \n",
       "50%      22.777890     1.700499    83.000000     2.385502     3.000000   \n",
       "75%      26.000000     1.768464   107.430682     3.000000     3.000000   \n",
       "max      61.000000     1.980000   173.000000     3.000000     4.000000   \n",
       "\n",
       "              CH2O          FAF          TUE  \n",
       "count  2111.000000  2111.000000  2111.000000  \n",
       "mean      2.008011     1.010298     0.657866  \n",
       "std       0.612953     0.850592     0.608927  \n",
       "min       1.000000     0.000000     0.000000  \n",
       "25%       1.584812     0.124505     0.000000  \n",
       "50%       2.000000     1.000000     0.625350  \n",
       "75%       2.477420     1.666678     1.000000  \n",
       "max       3.000000     3.000000     2.000000  "
      ]
     },
     "execution_count": 4,
     "metadata": {},
     "output_type": "execute_result"
    }
   ],
   "source": [
    "df.describe()"
   ]
  },
  {
   "cell_type": "code",
   "execution_count": 5,
   "id": "9dab068a",
   "metadata": {
    "execution": {
     "iopub.execute_input": "2023-04-17T10:49:43.106644Z",
     "iopub.status.busy": "2023-04-17T10:49:43.105763Z",
     "iopub.status.idle": "2023-04-17T10:49:43.127487Z",
     "shell.execute_reply": "2023-04-17T10:49:43.126463Z"
    },
    "papermill": {
     "duration": 0.044522,
     "end_time": "2023-04-17T10:49:43.130057",
     "exception": false,
     "start_time": "2023-04-17T10:49:43.085535",
     "status": "completed"
    },
    "tags": []
   },
   "outputs": [
    {
     "data": {
      "text/markdown": [
       "**Age** has **1402** unique values instead of **40** "
      ],
      "text/plain": [
       "<IPython.core.display.Markdown object>"
      ]
     },
     "metadata": {},
     "output_type": "display_data"
    },
    {
     "data": {
      "text/markdown": [
       "**FCVC** has **810** unique values instead of **3** "
      ],
      "text/plain": [
       "<IPython.core.display.Markdown object>"
      ]
     },
     "metadata": {},
     "output_type": "display_data"
    },
    {
     "data": {
      "text/markdown": [
       "**NCP** has **635** unique values instead of **4** "
      ],
      "text/plain": [
       "<IPython.core.display.Markdown object>"
      ]
     },
     "metadata": {},
     "output_type": "display_data"
    },
    {
     "data": {
      "text/markdown": [
       "**CH2O** has **1268** unique values instead of **3** "
      ],
      "text/plain": [
       "<IPython.core.display.Markdown object>"
      ]
     },
     "metadata": {},
     "output_type": "display_data"
    },
    {
     "data": {
      "text/markdown": [
       "**FAF** has **1190** unique values instead of **4** "
      ],
      "text/plain": [
       "<IPython.core.display.Markdown object>"
      ]
     },
     "metadata": {},
     "output_type": "display_data"
    },
    {
     "data": {
      "text/markdown": [
       "**TUE** has **1129** unique values instead of **3** "
      ],
      "text/plain": [
       "<IPython.core.display.Markdown object>"
      ]
     },
     "metadata": {},
     "output_type": "display_data"
    }
   ],
   "source": [
    "cols = {\"Age\":40,\"FCVC\": 3, \"NCP\": 4, \"CH2O\": 3, \"FAF\": 4, \"TUE\": 3}\n",
    "for col,uniqs in cols.items():\n",
    "    bold(f'**{col}** has **{len(df[col].unique())}** unique values instead of **{uniqs}** ')"
   ]
  },
  {
   "cell_type": "markdown",
   "id": "be492780",
   "metadata": {
    "papermill": {
     "duration": 0.019065,
     "end_time": "2023-04-17T10:49:43.168749",
     "exception": false,
     "start_time": "2023-04-17T10:49:43.149684",
     "status": "completed"
    },
    "tags": []
   },
   "source": [
    "* Some of our descrete ordinal records are floats because they were syntheticly generated.\n",
    "* We should convert these float to whole integers to better represent the survey data."
   ]
  },
  {
   "cell_type": "code",
   "execution_count": 6,
   "id": "c6fb5558",
   "metadata": {
    "execution": {
     "iopub.execute_input": "2023-04-17T10:49:43.209758Z",
     "iopub.status.busy": "2023-04-17T10:49:43.209320Z",
     "iopub.status.idle": "2023-04-17T10:49:43.219675Z",
     "shell.execute_reply": "2023-04-17T10:49:43.218343Z"
    },
    "papermill": {
     "duration": 0.03421,
     "end_time": "2023-04-17T10:49:43.222291",
     "exception": false,
     "start_time": "2023-04-17T10:49:43.188081",
     "status": "completed"
    },
    "tags": []
   },
   "outputs": [],
   "source": [
    "#Rounding floats to integers\n",
    "for col, uniqs in cols.items():\n",
    "    df[col] = round(df[col]).astype('int')"
   ]
  },
  {
   "cell_type": "code",
   "execution_count": 7,
   "id": "7aa6ac52",
   "metadata": {
    "execution": {
     "iopub.execute_input": "2023-04-17T10:49:43.263415Z",
     "iopub.status.busy": "2023-04-17T10:49:43.262930Z",
     "iopub.status.idle": "2023-04-17T10:49:43.285659Z",
     "shell.execute_reply": "2023-04-17T10:49:43.284394Z"
    },
    "papermill": {
     "duration": 0.046413,
     "end_time": "2023-04-17T10:49:43.288286",
     "exception": false,
     "start_time": "2023-04-17T10:49:43.241873",
     "status": "completed"
    },
    "tags": []
   },
   "outputs": [
    {
     "data": {
      "text/markdown": [
       "**Age** has **40** unique values "
      ],
      "text/plain": [
       "<IPython.core.display.Markdown object>"
      ]
     },
     "metadata": {},
     "output_type": "display_data"
    },
    {
     "data": {
      "text/markdown": [
       "**FCVC** has **3** unique values "
      ],
      "text/plain": [
       "<IPython.core.display.Markdown object>"
      ]
     },
     "metadata": {},
     "output_type": "display_data"
    },
    {
     "data": {
      "text/markdown": [
       "**NCP** has **4** unique values "
      ],
      "text/plain": [
       "<IPython.core.display.Markdown object>"
      ]
     },
     "metadata": {},
     "output_type": "display_data"
    },
    {
     "data": {
      "text/markdown": [
       "**CH2O** has **3** unique values "
      ],
      "text/plain": [
       "<IPython.core.display.Markdown object>"
      ]
     },
     "metadata": {},
     "output_type": "display_data"
    },
    {
     "data": {
      "text/markdown": [
       "**FAF** has **4** unique values "
      ],
      "text/plain": [
       "<IPython.core.display.Markdown object>"
      ]
     },
     "metadata": {},
     "output_type": "display_data"
    },
    {
     "data": {
      "text/markdown": [
       "**TUE** has **3** unique values "
      ],
      "text/plain": [
       "<IPython.core.display.Markdown object>"
      ]
     },
     "metadata": {},
     "output_type": "display_data"
    }
   ],
   "source": [
    "# Checking again\n",
    "for col,uniqs in cols.items():\n",
    "    bold(f'**{col}** has **{len(df[col].unique())}** unique values ')"
   ]
  },
  {
   "cell_type": "markdown",
   "id": "9ab69b30",
   "metadata": {
    "papermill": {
     "duration": 0.019878,
     "end_time": "2023-04-17T10:49:43.328553",
     "exception": false,
     "start_time": "2023-04-17T10:49:43.308675",
     "status": "completed"
    },
    "tags": []
   },
   "source": [
    "# Exploratory Data Analysis\n",
    "This section will inspect the distributions of all the features and their impact on the target variable."
   ]
  },
  {
   "cell_type": "code",
   "execution_count": 8,
   "id": "a890baa6",
   "metadata": {
    "execution": {
     "iopub.execute_input": "2023-04-17T10:49:43.371228Z",
     "iopub.status.busy": "2023-04-17T10:49:43.370748Z",
     "iopub.status.idle": "2023-04-17T10:49:44.789332Z",
     "shell.execute_reply": "2023-04-17T10:49:44.788065Z"
    },
    "papermill": {
     "duration": 1.443356,
     "end_time": "2023-04-17T10:49:44.792154",
     "exception": false,
     "start_time": "2023-04-17T10:49:43.348798",
     "status": "completed"
    },
    "tags": []
   },
   "outputs": [
    {
     "data": {
      "text/html": [
       "        <script type=\"text/javascript\">\n",
       "        window.PlotlyConfig = {MathJaxConfig: 'local'};\n",
       "        if (window.MathJax && window.MathJax.Hub && window.MathJax.Hub.Config) {window.MathJax.Hub.Config({SVG: {font: \"STIX-Web\"}});}\n",
       "        if (typeof require !== 'undefined') {\n",
       "        require.undef(\"plotly\");\n",
       "        requirejs.config({\n",
       "            paths: {\n",
       "                'plotly': ['https://cdn.plot.ly/plotly-2.18.0.min']\n",
       "            }\n",
       "        });\n",
       "        require(['plotly'], function(Plotly) {\n",
       "            window._Plotly = Plotly;\n",
       "        });\n",
       "        }\n",
       "        </script>\n",
       "        "
      ]
     },
     "metadata": {},
     "output_type": "display_data"
    },
    {
     "data": {
      "text/html": [
       "<div>                            <div id=\"30ea366c-708a-4e2a-a031-8277cb70cfd8\" class=\"plotly-graph-div\" style=\"height:525px; width:100%;\"></div>            <script type=\"text/javascript\">                require([\"plotly\"], function(Plotly) {                    window.PLOTLYENV=window.PLOTLYENV || {};                                    if (document.getElementById(\"30ea366c-708a-4e2a-a031-8277cb70cfd8\")) {                    Plotly.newPlot(                        \"30ea366c-708a-4e2a-a031-8277cb70cfd8\",                        [{\"legendgroup\":\"Age\",\"marker\":{\"color\":\"rgb(31, 119, 180)\"},\"mode\":\"lines\",\"name\":\"Age\",\"showlegend\":true,\"x\":[14.0,14.094,14.188,14.282,14.376,14.47,14.564,14.658,14.752,14.846,14.94,15.034,15.128,15.222,15.316,15.41,15.504,15.598,15.692,15.786,15.879999999999999,15.974,16.068,16.162,16.256,16.35,16.444,16.538,16.632,16.726,16.82,16.914,17.008,17.102,17.196,17.29,17.384,17.478,17.572,17.666,17.759999999999998,17.854,17.948,18.042,18.136,18.23,18.323999999999998,18.418,18.512,18.606,18.7,18.794,18.887999999999998,18.982,19.076,19.17,19.264,19.358,19.451999999999998,19.546,19.64,19.734,19.828,19.922,20.016,20.11,20.204,20.298000000000002,20.392,20.486,20.58,20.674,20.768,20.862000000000002,20.956,21.05,21.144,21.238,21.332,21.426000000000002,21.52,21.614,21.708,21.802,21.896,21.990000000000002,22.084,22.178,22.272,22.366,22.46,22.554000000000002,22.648,22.742,22.836,22.93,23.024,23.118000000000002,23.212,23.305999999999997,23.4,23.494,23.588,23.682000000000002,23.776,23.869999999999997,23.964,24.058,24.152,24.246000000000002,24.34,24.433999999999997,24.528,24.622,24.716,24.810000000000002,24.904,24.997999999999998,25.092,25.186,25.28,25.374000000000002,25.468,25.561999999999998,25.656,25.75,25.844,25.938000000000002,26.032,26.125999999999998,26.22,26.314,26.408,26.502000000000002,26.596,26.689999999999998,26.784,26.878,26.972,27.066000000000003,27.16,27.253999999999998,27.348,27.442,27.536,27.630000000000003,27.724,27.817999999999998,27.912,28.006,28.1,28.194000000000003,28.288,28.381999999999998,28.476,28.57,28.664,28.758,28.852,28.945999999999998,29.04,29.134,29.228,29.322,29.416,29.509999999999998,29.604,29.698,29.792,29.886,29.98,30.074,30.168,30.262,30.356,30.45,30.544,30.638,30.732,30.826,30.92,31.014,31.108,31.202,31.296,31.39,31.484,31.578,31.672,31.766,31.86,31.954,32.048,32.141999999999996,32.236000000000004,32.33,32.424,32.518,32.611999999999995,32.706,32.8,32.894,32.988,33.082,33.176,33.269999999999996,33.364000000000004,33.458,33.552,33.646,33.739999999999995,33.834,33.928,34.022,34.116,34.21,34.304,34.397999999999996,34.492000000000004,34.586,34.68,34.774,34.867999999999995,34.962,35.056,35.15,35.244,35.338,35.432,35.525999999999996,35.620000000000005,35.714,35.808,35.902,35.995999999999995,36.09,36.184,36.278,36.372,36.466,36.56,36.653999999999996,36.748000000000005,36.842,36.936,37.03,37.123999999999995,37.218,37.312,37.406,37.5,37.594,37.688,37.782,37.876000000000005,37.97,38.064,38.158,38.251999999999995,38.346000000000004,38.44,38.534,38.628,38.722,38.816,38.91,39.004000000000005,39.098,39.192,39.286,39.379999999999995,39.474000000000004,39.568,39.662,39.756,39.85,39.944,40.038,40.132000000000005,40.226,40.32,40.414,40.507999999999996,40.602000000000004,40.696,40.79,40.884,40.978,41.072,41.166,41.260000000000005,41.354,41.448,41.542,41.635999999999996,41.730000000000004,41.824,41.918,42.012,42.106,42.2,42.294,42.388000000000005,42.482,42.576,42.67,42.763999999999996,42.858000000000004,42.952,43.046,43.14,43.234,43.328,43.422,43.516,43.61,43.704,43.798,43.891999999999996,43.986000000000004,44.08,44.174,44.268,44.361999999999995,44.456,44.55,44.644,44.738,44.832,44.926,45.019999999999996,45.114000000000004,45.208,45.302,45.396,45.489999999999995,45.584,45.678,45.772,45.866,45.96,46.054,46.148,46.242,46.336,46.43,46.524,46.618,46.712,46.806,46.9,46.994,47.088,47.182,47.276,47.37,47.464,47.558,47.652,47.746,47.84,47.934,48.028,48.122,48.216,48.31,48.404,48.498,48.592,48.686,48.78,48.874,48.968,49.062,49.156,49.25,49.344,49.438,49.532,49.626,49.72,49.814,49.908,50.002,50.096,50.19,50.284,50.378,50.472,50.566,50.66,50.754,50.848,50.942,51.036,51.13,51.224,51.318,51.412,51.506,51.6,51.694,51.788,51.882,51.976,52.07,52.164,52.258,52.352,52.446,52.54,52.634,52.728,52.822,52.916,53.01,53.104,53.198,53.292,53.386,53.48,53.574,53.668,53.762,53.856,53.95,54.044,54.138,54.232,54.326,54.42,54.514,54.608,54.702,54.796,54.89,54.984,55.078,55.172,55.266,55.36,55.454,55.548,55.642,55.736,55.83,55.924,56.018,56.112,56.206,56.3,56.394,56.488,56.582,56.676,56.77,56.864,56.958,57.052,57.146,57.24,57.334,57.428,57.522,57.616,57.71,57.804,57.898,57.992,58.086,58.18,58.274,58.368,58.462,58.556,58.65,58.744,58.838,58.932,59.026,59.12,59.214,59.308,59.402,59.496,59.59,59.684,59.778,59.872,59.966,60.06,60.154,60.248,60.342,60.436,60.53,60.624,60.718,60.812,60.906],\"xaxis\":\"x\",\"y\":[0.0025321738062349056,0.0028744034864453686,0.0032561104193345692,0.003680666184053518,0.004151544258786281,0.004672293696633958,0.00524650798076458,0.005877788921909148,0.0065697055520535,0.007325748077696171,0.008149277084514189,0.00904346833204315,0.01001125364033874,0.011055258547758864,0.01217773760586554,0.013380508368644383,0.014664885322109258,0.016031615179157,0.017480815124430546,0.019011915725705528,0.020623610322132956,0.022313812746307372,0.0240796252277166,0.02591731825247538,0.02782232401264539,0.029789244864877242,0.031811877932275044,0.03388325662819994,0.03599570946258394,0.03814093602016613,0.040310099489074915,0.04249393458373796,0.04468286916704542,0.04686715735372257,0.04903702139167462,0.051182799192385615,0.0532950940358556,0.055364922728926874,0.05738385836337261,0.05934416381362733,0.061238912240115365,0.06306209112441677,0.06480868675250279,0.06647474657261808,0.06805741746926924,0.0695549586942437,0.0709667289551261,0.07229314795363156,0.07353563346064154,0.07469651578143542,0.075778932173605,0.07678670440313447,0.07772420313671587,0.07859620324961464,0.07940773436369294,0.08016393100976828,0.08086988673039534,0.0815305162069917,0.08215042911989429,0.08273381894825801,0.08328436931074855,0.08380517976444067,0.08429871224828003,0.08476675861011831,0.08521042892540823,0.08563015963152237,0.08602573989295635,0.08639635410352653,0.08674063804099347,0.08705674593047655,0.08734242555111493,0.08759509853492109,0.08781194314911753,0.08798997710882271,0.08812613831486439,0.08821736182662011,0.08826065183360357,0.08825314785179683,0.08819218481192521,0.08807534709889324,0.08790051692027098,0.08766591760821187,0.08737015258038976,0.08701224069638333,0.08659164864811165,0.08610832082606805,0.08556270682399858,0.08495578640551195,0.0842890913844337,0.08356472349676868,0.08278536699723006,0.0819542944281698,0.08107536381130122,0.08015300542587064,0.07919219637863886,0.07819842135031489,0.07717761822232881,0.07613610773985925,0.07508050693684223,0.07401762671376116,0.07295435468950973,0.07189752521040124,0.07085377915407108,0.06982941687416752,0.06883024825445798,0.06786144434159032,0.06692739537269059,0.06603158018123748,0.06517645193454959,0.06436334491924171,0.06359240664743568,0.06286255891598402,0.06217149063265108,0.061515684254639,0.060890476601629044,0.06029015364862157,0.05970807771926185,0.05913684433583797,0.058568464885768,0.05799457028241996,0.057406629972307346,0.05679618000702776,0.05615505348487782,0.05547560649281629,0.05475093275338231,0.053975060501608496,0.053143125672046106,0.05225151624347112,0.05129798353794367,0.05028171736301083,0.04920338307684184,0.04806511989817696,0.04687050102687282,0.045624457338181476,0.044333167519505806,0.04300391849195867,0.04164494076727358,0.04026522400830392,0.03887431847225511,0.03748212821323493,0.036098701907344224,0.03473402695082926,0.03339783208910227,0.032099403287608866,0.0308474168853822,0.029649793312683307,0.02851357384083665,0.027444822000246987,0.026448550484695136,0.025528673586048423,0.024687984498560085,0.02392815621585482,0.02324976423047179,0.022652328843598985,0.022134374603756984,0.021693504214801325,0.021326484178388873,0.02102933945277296,0.020797454504857725,0.020625678290245364,0.020508430900538773,0.020439809852433426,0.020413694244363262,0.020423845260525913,0.020464001748030942,0.02052796982237467,0.020609705663619846,0.020703390847433507,0.020803499710823608,0.02090485838338928,0.021002695224271298,0.021092682497182238,0.021170969195873496,0.021234205005618886,0.021279555457713355,0.02130470840807601,0.02130787205114087,0.021287764768481446,0.021243597208663915,0.021175047099939868,0.021082227408356635,0.02096564856719135,0.020826175614937333,0.020664981183138597,0.020483495366733818,0.020283353582767637,0.020066343573301202,0.01983435273081897,0.019589316916267314,0.019333171899114935,0.019067808475188394,0.018795032212628595,0.018516528641889254,0.01823383454626557,0.017948315830423188,0.017661152251948194,0.01737332910196148,0.0170856357224529,0.01679867055718714,0.016512852256416216,0.016228436198985646,0.01594553566358833,0.01566414677742346,0.015384176297768632,0.015105471240748633,0.014827849361692347,0.014551129511196099,0.01427516093791006,0.013999850679680072,0.013725188275084581,0.013451267133362092,0.01317830201784741,0.012906642222124507,0.012636780145242601,0.012369355099050594,0.012105152304021349,0.011845097147458582,0.011590244887825878,0.011341766089742708,0.011100928164986411,0.010869073474947163,0.010647594519018241,0.010437906790992936,0.010241419931470576,0.010059507838194417,0.009893478417899037,0.009744543672179452,0.009613790805775816,0.00950215502811262,0.00941039468768813,0.009339069333922298,0.00928852124252402,0.009258860868889902,0.009249956610414188,0.0092614291642725,0.009292650664044711,0.009342748668724232,0.009410614963877555,0.009494919019852313,0.009594125839210547,0.009706517818136457,0.009830220147703983,0.00996322919355806,0.01010344321954093,0.010248694764363787,0.010396783942428295,0.010545511921526763,0.010692713832045847,0.01083629038432469,0.010974237512350191,0.01110467342159878,0.011225862494719399,0.01133623559848875,0.011434406436285528,0.011519183699150346,0.01158957888206092,0.011644809747006782,0.011684299527472958,0.011707672076845902,0.01171474326303792,0.01170550900062212,0.011680130387630478,0.011638916475002911,0.011582305241041181,0.011510843370153852,0.011425165444251043,0.011325973146417912,0.011214015050538834,0.011090067528425337,0.010954917249230166,0.010809345676425667,0.010654115887694974,0.010489961955287695,0.010317581031564941,0.010137628189542872,0.009950713974270874,0.009757404530835243,0.00955822409152383,0.009353659530876258,0.009144166635303382,0.008930177685641204,0.008712109917883936,0.00849037441036552,0.008265384945224009,0.008037566407873646,0.007807362319642707,0.007575241144353666,0.007341701067546049,0.007107273014966586,0.006872521752179772,0.006638044986769899,0.0064044704755366515,0.006172451218256296,0.005942658894028595,0.005715775763216084,0.0054924853151295215,0.005273461986955277,0.005059360311519368,0.00485080386944421,0.004648374424769603,0.004452601612453164,0.004263953522150247,0.004082828486630834,0.003909548336862735,0.0037443533312765806,0.003587398906361285,0.003438754331994546,0.0032984032903002384,0.003166246333776015,0.0030421051192194193,0.0029257282606192135,0.0028167985983658297,0.002714941645200602,0.002619734942187567,0.002530718041154619,0.0024474028235926953,0.002369283869606535,0.0022958486034938097,0.002226586963892608,0.0021610003749234674,0.0020986098289072484,0.002038962929490138,0.00198163978472103,0.0019262576811890427,0.0018724745112038382,0.001819990963786795,0.0017685515257184275,0.001717944370057563,0.0016680002356556248,0.0016185904217368454,0.001569624036361544,0.0015210446465394388,0.0014728264811438019,0.0014249703360180704,0.0013774993243486642,0.001330454605198413,0.0012838912098299975,0.0012378740699034434,0.0011924743346037633,0.0011477660460014057,0.001103823224151368,0.0010607173961872157,0.0010185155874451247,0.0009772787778267657,0.0009370608134305315,0.0008979077520937936,0.000859857611944625,0.0008229404843324312,0.0007871789665051616,0.0007525888649988552,0.0007191801177535733,0.0006869578813139256,0.0006559237289671195,0.0006260769061904654,0.0005974155912213805,0.0005699381108527806,0.0005436440646449394,0.0005185353146028979,0.0004946168019791157,0.0004718971582113974,0.000450389083075771,0.0004301094698873018,0.000411079264958118,0.0003933230564293006,0.0003768683959046192,0.0003617448648655009,0.00034798290643849744,0.00033561245148935133,0.00032466137597750126,0.00031515383375436425,0.00030710851525713394,0.0003005368875770512,0.0002954414749283475,0.00029181424040914864,0.0002896351299721996,0.00028887083761266764,0.00028947384689838887,0.0002913817981508345,0.0002945172229408594,0.00029878767827120386,0.00030408630212342623,0.00031029280025519744,0.00031727486159765594,0.0003248899867104776,0.0003329877009133833,0.0003414121113408964,0.0003500047556641291,0.00035860767996377684,0.0003670666745543829,0.00037523458972921084,0.000382974648630824,0.00039016367189715354,0.00039669512845536236,0.0004024819288313239,0.0004074588815382425,0.0004115847393683495,0.0004148437705502243,0.00041724679952337337,0.0004188316732656509,0.0004196631214156769,0.0004198319915843024,0.000419453854972518,0.0004186669914446721,0.0004176297772959804,0.0004165175128672582,0.00041551874067550235,0.0004148311176324952,0.0004146569170036777,0.0004151982468009976,0.0004166520810818719,0.00041920520890383403,0.00042302921220877963,0.0004282755884178729,0.0004350711357390439,0.00044351371886054735,0.000453668529584777,0.0004655649508446952,0.00047919412330068407,0.000494507301280577,0.0005114150692464224,0.0005297874714158944,0.0005494550859365896,0.0005702110515514294,0.0005918140295864703,0.000613992058051095,0.0006364472284875422,0.0006588610908452531,0.0006809006680339455,0.0007022249408774069,0.0007224916468530884,0.0007413642230725189,0.0007585187161076828,0.0007736504789907856,0.0007864804792871389,0.0007967610516020169,0.0008042809430216279,0.0008088695203456903,0.0008104000328513808,0.0008087918528367475,0.0008040116472616197,0.0007960734662548303,0.0007850377668468278,0.0007710094217742138,0.0007541347924028968,0.0007345979706590146,0.0007126163164334709,0.0006884354335315886,0.0006623237383985857,0.0006345667813348203,0.0006054614797403175,0.0005753104173509527,0.0005444163529185776,0.0005130770669964764,0.000481580657214081,0.00045020137155389356,0.0004191960466225087,0.00038880119468603843,0.0003592307602298256,0.0003306745448394077,0.0003032972790153754,0.0002772383017299894,0.0002526117935668594,0.00022950749746409902,0.00020799185256562664,0.00018810946149311973,0.00016988480937357646,0.00015332415397632974,0.00013841751002050426,0.00012514065673364095,0.0001134571056520549,0.00010331997500502072,0.00009467372736190341,0.00008745573809663844,0.0000815976732119349,0.00007702666577415097,0.00007366629028771488,0.00007143734348156264,0.00007025844793681891,0.00007004650155634901,0.0000707170009193588,0.0000721842699899661,0.00007436162742458851,0.00007716152586986503,0.00008049569523334308,0.00008427531906511703,0.000088411269077293,0.00009281441765749024,0.0000973960422449875,0.00010206832890313587,0.00010674497562719044,0.00011134188916895849,0.00011577796273240625,0.0001199759160772954,0.0001238631746152044,0.00012737276021145032,0.00013044416378842405,0.00013302416857671008,0.00013506759303536515,0.00013653792405296498,0.00013740781397337862],\"yaxis\":\"y\",\"type\":\"scatter\"}],                        {\"barmode\":\"overlay\",\"hovermode\":\"closest\",\"legend\":{\"traceorder\":\"reversed\"},\"xaxis\":{\"anchor\":\"y2\",\"domain\":[0.0,1.0],\"zeroline\":false,\"title\":{\"text\":\"Age\",\"font\":{\"size\":18}},\"tickfont\":{\"size\":14}},\"yaxis\":{\"anchor\":\"free\",\"domain\":[0.0,1],\"position\":0.0,\"title\":{\"text\":\"Density\",\"font\":{\"size\":18}},\"tickfont\":{\"size\":14}},\"template\":{\"data\":{\"barpolar\":[{\"marker\":{\"line\":{\"color\":\"white\",\"width\":0.5},\"pattern\":{\"fillmode\":\"overlay\",\"size\":10,\"solidity\":0.2}},\"type\":\"barpolar\"}],\"bar\":[{\"error_x\":{\"color\":\"#2a3f5f\"},\"error_y\":{\"color\":\"#2a3f5f\"},\"marker\":{\"line\":{\"color\":\"white\",\"width\":0.5},\"pattern\":{\"fillmode\":\"overlay\",\"size\":10,\"solidity\":0.2}},\"type\":\"bar\"}],\"carpet\":[{\"aaxis\":{\"endlinecolor\":\"#2a3f5f\",\"gridcolor\":\"#C8D4E3\",\"linecolor\":\"#C8D4E3\",\"minorgridcolor\":\"#C8D4E3\",\"startlinecolor\":\"#2a3f5f\"},\"baxis\":{\"endlinecolor\":\"#2a3f5f\",\"gridcolor\":\"#C8D4E3\",\"linecolor\":\"#C8D4E3\",\"minorgridcolor\":\"#C8D4E3\",\"startlinecolor\":\"#2a3f5f\"},\"type\":\"carpet\"}],\"choropleth\":[{\"colorbar\":{\"outlinewidth\":0,\"ticks\":\"\"},\"type\":\"choropleth\"}],\"contourcarpet\":[{\"colorbar\":{\"outlinewidth\":0,\"ticks\":\"\"},\"type\":\"contourcarpet\"}],\"contour\":[{\"colorbar\":{\"outlinewidth\":0,\"ticks\":\"\"},\"colorscale\":[[0.0,\"#0d0887\"],[0.1111111111111111,\"#46039f\"],[0.2222222222222222,\"#7201a8\"],[0.3333333333333333,\"#9c179e\"],[0.4444444444444444,\"#bd3786\"],[0.5555555555555556,\"#d8576b\"],[0.6666666666666666,\"#ed7953\"],[0.7777777777777778,\"#fb9f3a\"],[0.8888888888888888,\"#fdca26\"],[1.0,\"#f0f921\"]],\"type\":\"contour\"}],\"heatmapgl\":[{\"colorbar\":{\"outlinewidth\":0,\"ticks\":\"\"},\"colorscale\":[[0.0,\"#0d0887\"],[0.1111111111111111,\"#46039f\"],[0.2222222222222222,\"#7201a8\"],[0.3333333333333333,\"#9c179e\"],[0.4444444444444444,\"#bd3786\"],[0.5555555555555556,\"#d8576b\"],[0.6666666666666666,\"#ed7953\"],[0.7777777777777778,\"#fb9f3a\"],[0.8888888888888888,\"#fdca26\"],[1.0,\"#f0f921\"]],\"type\":\"heatmapgl\"}],\"heatmap\":[{\"colorbar\":{\"outlinewidth\":0,\"ticks\":\"\"},\"colorscale\":[[0.0,\"#0d0887\"],[0.1111111111111111,\"#46039f\"],[0.2222222222222222,\"#7201a8\"],[0.3333333333333333,\"#9c179e\"],[0.4444444444444444,\"#bd3786\"],[0.5555555555555556,\"#d8576b\"],[0.6666666666666666,\"#ed7953\"],[0.7777777777777778,\"#fb9f3a\"],[0.8888888888888888,\"#fdca26\"],[1.0,\"#f0f921\"]],\"type\":\"heatmap\"}],\"histogram2dcontour\":[{\"colorbar\":{\"outlinewidth\":0,\"ticks\":\"\"},\"colorscale\":[[0.0,\"#0d0887\"],[0.1111111111111111,\"#46039f\"],[0.2222222222222222,\"#7201a8\"],[0.3333333333333333,\"#9c179e\"],[0.4444444444444444,\"#bd3786\"],[0.5555555555555556,\"#d8576b\"],[0.6666666666666666,\"#ed7953\"],[0.7777777777777778,\"#fb9f3a\"],[0.8888888888888888,\"#fdca26\"],[1.0,\"#f0f921\"]],\"type\":\"histogram2dcontour\"}],\"histogram2d\":[{\"colorbar\":{\"outlinewidth\":0,\"ticks\":\"\"},\"colorscale\":[[0.0,\"#0d0887\"],[0.1111111111111111,\"#46039f\"],[0.2222222222222222,\"#7201a8\"],[0.3333333333333333,\"#9c179e\"],[0.4444444444444444,\"#bd3786\"],[0.5555555555555556,\"#d8576b\"],[0.6666666666666666,\"#ed7953\"],[0.7777777777777778,\"#fb9f3a\"],[0.8888888888888888,\"#fdca26\"],[1.0,\"#f0f921\"]],\"type\":\"histogram2d\"}],\"histogram\":[{\"marker\":{\"pattern\":{\"fillmode\":\"overlay\",\"size\":10,\"solidity\":0.2}},\"type\":\"histogram\"}],\"mesh3d\":[{\"colorbar\":{\"outlinewidth\":0,\"ticks\":\"\"},\"type\":\"mesh3d\"}],\"parcoords\":[{\"line\":{\"colorbar\":{\"outlinewidth\":0,\"ticks\":\"\"}},\"type\":\"parcoords\"}],\"pie\":[{\"automargin\":true,\"type\":\"pie\"}],\"scatter3d\":[{\"line\":{\"colorbar\":{\"outlinewidth\":0,\"ticks\":\"\"}},\"marker\":{\"colorbar\":{\"outlinewidth\":0,\"ticks\":\"\"}},\"type\":\"scatter3d\"}],\"scattercarpet\":[{\"marker\":{\"colorbar\":{\"outlinewidth\":0,\"ticks\":\"\"}},\"type\":\"scattercarpet\"}],\"scattergeo\":[{\"marker\":{\"colorbar\":{\"outlinewidth\":0,\"ticks\":\"\"}},\"type\":\"scattergeo\"}],\"scattergl\":[{\"marker\":{\"colorbar\":{\"outlinewidth\":0,\"ticks\":\"\"}},\"type\":\"scattergl\"}],\"scattermapbox\":[{\"marker\":{\"colorbar\":{\"outlinewidth\":0,\"ticks\":\"\"}},\"type\":\"scattermapbox\"}],\"scatterpolargl\":[{\"marker\":{\"colorbar\":{\"outlinewidth\":0,\"ticks\":\"\"}},\"type\":\"scatterpolargl\"}],\"scatterpolar\":[{\"marker\":{\"colorbar\":{\"outlinewidth\":0,\"ticks\":\"\"}},\"type\":\"scatterpolar\"}],\"scatter\":[{\"fillpattern\":{\"fillmode\":\"overlay\",\"size\":10,\"solidity\":0.2},\"type\":\"scatter\"}],\"scatterternary\":[{\"marker\":{\"colorbar\":{\"outlinewidth\":0,\"ticks\":\"\"}},\"type\":\"scatterternary\"}],\"surface\":[{\"colorbar\":{\"outlinewidth\":0,\"ticks\":\"\"},\"colorscale\":[[0.0,\"#0d0887\"],[0.1111111111111111,\"#46039f\"],[0.2222222222222222,\"#7201a8\"],[0.3333333333333333,\"#9c179e\"],[0.4444444444444444,\"#bd3786\"],[0.5555555555555556,\"#d8576b\"],[0.6666666666666666,\"#ed7953\"],[0.7777777777777778,\"#fb9f3a\"],[0.8888888888888888,\"#fdca26\"],[1.0,\"#f0f921\"]],\"type\":\"surface\"}],\"table\":[{\"cells\":{\"fill\":{\"color\":\"#EBF0F8\"},\"line\":{\"color\":\"white\"}},\"header\":{\"fill\":{\"color\":\"#C8D4E3\"},\"line\":{\"color\":\"white\"}},\"type\":\"table\"}]},\"layout\":{\"annotationdefaults\":{\"arrowcolor\":\"#2a3f5f\",\"arrowhead\":0,\"arrowwidth\":1},\"autotypenumbers\":\"strict\",\"coloraxis\":{\"colorbar\":{\"outlinewidth\":0,\"ticks\":\"\"}},\"colorscale\":{\"diverging\":[[0,\"#8e0152\"],[0.1,\"#c51b7d\"],[0.2,\"#de77ae\"],[0.3,\"#f1b6da\"],[0.4,\"#fde0ef\"],[0.5,\"#f7f7f7\"],[0.6,\"#e6f5d0\"],[0.7,\"#b8e186\"],[0.8,\"#7fbc41\"],[0.9,\"#4d9221\"],[1,\"#276419\"]],\"sequential\":[[0.0,\"#0d0887\"],[0.1111111111111111,\"#46039f\"],[0.2222222222222222,\"#7201a8\"],[0.3333333333333333,\"#9c179e\"],[0.4444444444444444,\"#bd3786\"],[0.5555555555555556,\"#d8576b\"],[0.6666666666666666,\"#ed7953\"],[0.7777777777777778,\"#fb9f3a\"],[0.8888888888888888,\"#fdca26\"],[1.0,\"#f0f921\"]],\"sequentialminus\":[[0.0,\"#0d0887\"],[0.1111111111111111,\"#46039f\"],[0.2222222222222222,\"#7201a8\"],[0.3333333333333333,\"#9c179e\"],[0.4444444444444444,\"#bd3786\"],[0.5555555555555556,\"#d8576b\"],[0.6666666666666666,\"#ed7953\"],[0.7777777777777778,\"#fb9f3a\"],[0.8888888888888888,\"#fdca26\"],[1.0,\"#f0f921\"]]},\"colorway\":[\"#636efa\",\"#EF553B\",\"#00cc96\",\"#ab63fa\",\"#FFA15A\",\"#19d3f3\",\"#FF6692\",\"#B6E880\",\"#FF97FF\",\"#FECB52\"],\"font\":{\"color\":\"#2a3f5f\"},\"geo\":{\"bgcolor\":\"white\",\"lakecolor\":\"white\",\"landcolor\":\"white\",\"showlakes\":true,\"showland\":true,\"subunitcolor\":\"#C8D4E3\"},\"hoverlabel\":{\"align\":\"left\"},\"hovermode\":\"closest\",\"mapbox\":{\"style\":\"light\"},\"paper_bgcolor\":\"white\",\"plot_bgcolor\":\"white\",\"polar\":{\"angularaxis\":{\"gridcolor\":\"#EBF0F8\",\"linecolor\":\"#EBF0F8\",\"ticks\":\"\"},\"bgcolor\":\"white\",\"radialaxis\":{\"gridcolor\":\"#EBF0F8\",\"linecolor\":\"#EBF0F8\",\"ticks\":\"\"}},\"scene\":{\"xaxis\":{\"backgroundcolor\":\"white\",\"gridcolor\":\"#DFE8F3\",\"gridwidth\":2,\"linecolor\":\"#EBF0F8\",\"showbackground\":true,\"ticks\":\"\",\"zerolinecolor\":\"#EBF0F8\"},\"yaxis\":{\"backgroundcolor\":\"white\",\"gridcolor\":\"#DFE8F3\",\"gridwidth\":2,\"linecolor\":\"#EBF0F8\",\"showbackground\":true,\"ticks\":\"\",\"zerolinecolor\":\"#EBF0F8\"},\"zaxis\":{\"backgroundcolor\":\"white\",\"gridcolor\":\"#DFE8F3\",\"gridwidth\":2,\"linecolor\":\"#EBF0F8\",\"showbackground\":true,\"ticks\":\"\",\"zerolinecolor\":\"#EBF0F8\"}},\"shapedefaults\":{\"line\":{\"color\":\"#2a3f5f\"}},\"ternary\":{\"aaxis\":{\"gridcolor\":\"#DFE8F3\",\"linecolor\":\"#A2B1C6\",\"ticks\":\"\"},\"baxis\":{\"gridcolor\":\"#DFE8F3\",\"linecolor\":\"#A2B1C6\",\"ticks\":\"\"},\"bgcolor\":\"white\",\"caxis\":{\"gridcolor\":\"#DFE8F3\",\"linecolor\":\"#A2B1C6\",\"ticks\":\"\"}},\"title\":{\"x\":0.05},\"xaxis\":{\"automargin\":true,\"gridcolor\":\"#EBF0F8\",\"linecolor\":\"#EBF0F8\",\"ticks\":\"\",\"title\":{\"standoff\":15},\"zerolinecolor\":\"#EBF0F8\",\"zerolinewidth\":2},\"yaxis\":{\"automargin\":true,\"gridcolor\":\"#EBF0F8\",\"linecolor\":\"#EBF0F8\",\"ticks\":\"\",\"title\":{\"standoff\":15},\"zerolinecolor\":\"#EBF0F8\",\"zerolinewidth\":2}}},\"title\":{\"font\":{\"size\":24},\"text\":\"Age Distribution (KDE)\",\"x\":0.5},\"showlegend\":false},                        {\"responsive\": true}                    ).then(function(){\n",
       "                            \n",
       "var gd = document.getElementById('30ea366c-708a-4e2a-a031-8277cb70cfd8');\n",
       "var x = new MutationObserver(function (mutations, observer) {{\n",
       "        var display = window.getComputedStyle(gd).display;\n",
       "        if (!display || display === 'none') {{\n",
       "            console.log([gd, 'removed!']);\n",
       "            Plotly.purge(gd);\n",
       "            observer.disconnect();\n",
       "        }}\n",
       "}});\n",
       "\n",
       "// Listen for the removal of the full notebook cells\n",
       "var notebookContainer = gd.closest('#notebook-container');\n",
       "if (notebookContainer) {{\n",
       "    x.observe(notebookContainer, {childList: true});\n",
       "}}\n",
       "\n",
       "// Listen for the clearing of the current output cell\n",
       "var outputEl = gd.closest('.output');\n",
       "if (outputEl) {{\n",
       "    x.observe(outputEl, {childList: true});\n",
       "}}\n",
       "\n",
       "                        })                };                });            </script>        </div>"
      ]
     },
     "metadata": {},
     "output_type": "display_data"
    }
   ],
   "source": [
    "\n",
    "hist_data = [df['Age']]\n",
    "group_labels = ['Age']\n",
    "\n",
    "fig = ff.create_distplot(hist_data, group_labels, show_hist=False, show_rug=False)\n",
    "\n",
    "# Customize the plot\n",
    "#fig.update_traces(line=dict(color='royalblue', width=2))\n",
    "fig.update_layout(\n",
    "    title=dict(text='Age Distribution (KDE)', x=0.5, font=dict(size=24)),\n",
    "    xaxis=dict(title='Age', title_font=dict(size=18), tickfont=dict(size=14)),\n",
    "    yaxis=dict(title='Density', title_font=dict(size=18), tickfont=dict(size=14)),\n",
    "    template='plotly_white',\n",
    "    showlegend=False\n",
    ")\n",
    "\n",
    "fig.show()"
   ]
  },
  {
   "cell_type": "code",
   "execution_count": 9,
   "id": "14a6f59d",
   "metadata": {
    "execution": {
     "iopub.execute_input": "2023-04-17T10:49:44.837283Z",
     "iopub.status.busy": "2023-04-17T10:49:44.836856Z",
     "iopub.status.idle": "2023-04-17T10:49:45.005040Z",
     "shell.execute_reply": "2023-04-17T10:49:45.003956Z"
    },
    "papermill": {
     "duration": 0.195281,
     "end_time": "2023-04-17T10:49:45.009389",
     "exception": false,
     "start_time": "2023-04-17T10:49:44.814108",
     "status": "completed"
    },
    "tags": []
   },
   "outputs": [
    {
     "data": {
      "text/html": [
       "<div>                            <div id=\"d267eda6-ad92-40af-9c4b-11b1ed040113\" class=\"plotly-graph-div\" style=\"height:525px; width:100%;\"></div>            <script type=\"text/javascript\">                require([\"plotly\"], function(Plotly) {                    window.PLOTLYENV=window.PLOTLYENV || {};                                    if (document.getElementById(\"d267eda6-ad92-40af-9c4b-11b1ed040113\")) {                    Plotly.newPlot(                        \"d267eda6-ad92-40af-9c4b-11b1ed040113\",                        [{\"mode\":\"lines\",\"name\":\"Normal_Weight\",\"x\":[14.0,14.047047047047046,14.094094094094094,14.14114114114114,14.188188188188189,14.235235235235235,14.282282282282281,14.32932932932933,14.376376376376376,14.423423423423424,14.47047047047047,14.517517517517518,14.564564564564565,14.611611611611611,14.65865865865866,14.705705705705705,14.752752752752754,14.7997997997998,14.846846846846846,14.893893893893894,14.94094094094094,14.987987987987989,15.035035035035035,15.082082082082081,15.12912912912913,15.176176176176176,15.223223223223224,15.27027027027027,15.317317317317318,15.364364364364365,15.411411411411411,15.458458458458459,15.505505505505505,15.552552552552552,15.5995995995996,15.646646646646646,15.693693693693694,15.74074074074074,15.787787787787789,15.834834834834835,15.881881881881881,15.92892892892893,15.975975975975976,16.023023023023022,16.07007007007007,16.117117117117118,16.164164164164163,16.21121121121121,16.25825825825826,16.305305305305303,16.35235235235235,16.3993993993994,16.446446446446448,16.493493493493492,16.54054054054054,16.58758758758759,16.634634634634637,16.68168168168168,16.72872872872873,16.775775775775777,16.822822822822822,16.86986986986987,16.916916916916918,16.963963963963963,17.01101101101101,17.05805805805806,17.105105105105103,17.15215215215215,17.1991991991992,17.246246246246248,17.293293293293292,17.34034034034034,17.38738738738739,17.434434434434436,17.48148148148148,17.52852852852853,17.575575575575577,17.62262262262262,17.66966966966967,17.716716716716718,17.763763763763762,17.81081081081081,17.85785785785786,17.904904904904903,17.95195195195195,17.998998998999,18.046046046046047,18.093093093093092,18.14014014014014,18.187187187187188,18.234234234234236,18.28128128128128,18.32832832832833,18.375375375375377,18.42242242242242,18.46946946946947,18.516516516516518,18.563563563563562,18.61061061061061,18.65765765765766,18.704704704704703,18.75175175175175,18.7987987987988,18.845845845845844,18.892892892892892,18.93993993993994,18.986986986986988,19.034034034034036,19.08108108108108,19.12812812812813,19.175175175175177,19.22222222222222,19.26926926926927,19.316316316316318,19.363363363363362,19.41041041041041,19.45745745745746,19.504504504504503,19.55155155155155,19.5985985985986,19.645645645645644,19.69269269269269,19.73973973973974,19.786786786786788,19.833833833833836,19.88088088088088,19.92792792792793,19.974974974974977,20.02202202202202,20.06906906906907,20.116116116116117,20.163163163163162,20.21021021021021,20.25725725725726,20.304304304304303,20.35135135135135,20.3983983983984,20.445445445445444,20.49249249249249,20.53953953953954,20.586586586586588,20.633633633633636,20.68068068068068,20.72772772772773,20.774774774774777,20.82182182182182,20.86886886886887,20.915915915915917,20.962962962962962,21.01001001001001,21.057057057057058,21.104104104104103,21.15115115115115,21.1981981981982,21.245245245245243,21.29229229229229,21.33933933933934,21.386386386386388,21.433433433433436,21.48048048048048,21.52752752752753,21.574574574574577,21.62162162162162,21.66866866866867,21.715715715715717,21.762762762762762,21.80980980980981,21.856856856856858,21.903903903903903,21.95095095095095,21.997997997998,22.045045045045043,22.092092092092095,22.13913913913914,22.186186186186184,22.233233233233236,22.28028028028028,22.32732732732733,22.374374374374376,22.42142142142142,22.46846846846847,22.515515515515517,22.56256256256256,22.60960960960961,22.656656656656658,22.703703703703702,22.75075075075075,22.7977977977978,22.844844844844843,22.891891891891895,22.93893893893894,22.985985985985984,23.033033033033036,23.08008008008008,23.127127127127128,23.174174174174176,23.22122122122122,23.26826826826827,23.315315315315317,23.36236236236236,23.40940940940941,23.456456456456458,23.503503503503502,23.55055055055055,23.5975975975976,23.644644644644643,23.69169169169169,23.73873873873874,23.785785785785784,23.832832832832835,23.87987987987988,23.926926926926928,23.973973973973976,24.02102102102102,24.06806806806807,24.115115115115117,24.16216216216216,24.20920920920921,24.256256256256258,24.303303303303302,24.35035035035035,24.3973973973974,24.444444444444443,24.49149149149149,24.53853853853854,24.585585585585584,24.632632632632635,24.67967967967968,24.726726726726728,24.773773773773776,24.82082082082082,24.86786786786787,24.914914914914917,24.96196196196196,25.00900900900901,25.056056056056057,25.103103103103102,25.15015015015015,25.197197197197198,25.244244244244243,25.29129129129129,25.33833833833834,25.385385385385383,25.432432432432435,25.47947947947948,25.526526526526524,25.573573573573576,25.62062062062062,25.66766766766767,25.714714714714717,25.76176176176176,25.80880880880881,25.855855855855857,25.902902902902902,25.94994994994995,25.996996996996998,26.044044044044043,26.09109109109109,26.13813813813814,26.185185185185183,26.232232232232235,26.27927927927928,26.326326326326324,26.373373373373376,26.42042042042042,26.46746746746747,26.514514514514516,26.56156156156156,26.60860860860861,26.655655655655657,26.7027027027027,26.74974974974975,26.796796796796798,26.843843843843842,26.89089089089089,26.93793793793794,26.984984984984983,27.032032032032035,27.07907907907908,27.126126126126124,27.173173173173176,27.22022022022022,27.26726726726727,27.314314314314316,27.36136136136136,27.40840840840841,27.455455455455457,27.5025025025025,27.54954954954955,27.596596596596598,27.643643643643642,27.69069069069069,27.73773773773774,27.784784784784783,27.831831831831835,27.87887887887888,27.925925925925924,27.972972972972975,28.02002002002002,28.067067067067068,28.114114114114116,28.16116116116116,28.20820820820821,28.255255255255257,28.3023023023023,28.34934934934935,28.396396396396398,28.443443443443442,28.49049049049049,28.53753753753754,28.584584584584583,28.631631631631635,28.67867867867868,28.725725725725724,28.772772772772775,28.81981981981982,28.866866866866868,28.913913913913916,28.96096096096096,29.00800800800801,29.055055055055057,29.1021021021021,29.14914914914915,29.196196196196198,29.243243243243242,29.29029029029029,29.33733733733734,29.384384384384383,29.431431431431434,29.47847847847848,29.525525525525524,29.572572572572575,29.61961961961962,29.666666666666668,29.713713713713716,29.76076076076076,29.80780780780781,29.854854854854857,29.9019019019019,29.94894894894895,29.995995995995997,30.043043043043042,30.09009009009009,30.137137137137138,30.184184184184186,30.23123123123123,30.27827827827828,30.325325325325327,30.37237237237237,30.41941941941942,30.466466466466468,30.513513513513512,30.56056056056056,30.60760760760761,30.654654654654657,30.7017017017017,30.74874874874875,30.795795795795797,30.842842842842842,30.88988988988989,30.936936936936938,30.983983983983986,31.03103103103103,31.07807807807808,31.125125125125127,31.17217217217217,31.21921921921922,31.266266266266268,31.313313313313312,31.36036036036036,31.40740740740741,31.454454454454456,31.5015015015015,31.54854854854855,31.595595595595597,31.64264264264264,31.68968968968969,31.736736736736738,31.783783783783786,31.83083083083083,31.87787787787788,31.924924924924927,31.97197197197197,32.01901901901902,32.06606606606607,32.113113113113116,32.16016016016016,32.207207207207205,32.254254254254256,32.3013013013013,32.34834834834835,32.3953953953954,32.44244244244244,32.489489489489486,32.53653653653654,32.58358358358359,32.630630630630634,32.67767767767768,32.72472472472472,32.77177177177177,32.81881881881882,32.86586586586587,32.912912912912915,32.95995995995996,33.007007007007005,33.054054054054056,33.1011011011011,33.14814814814815,33.1951951951952,33.24224224224224,33.289289289289286,33.33633633633634,33.38338338338338,33.430430430430434,33.47747747747748,33.52452452452452,33.57157157157157,33.61861861861862,33.66566566566567,33.712712712712715,33.75975975975976,33.806806806806804,33.853853853853856,33.9009009009009,33.94794794794795,33.994994994995,34.04204204204204,34.089089089089086,34.13613613613614,34.18318318318318,34.230230230230234,34.27727727727728,34.32432432432432,34.37137137137137,34.41841841841842,34.46546546546547,34.512512512512515,34.55955955955956,34.606606606606604,34.653653653653656,34.7007007007007,34.74774774774775,34.7947947947948,34.84184184184184,34.888888888888886,34.93593593593594,34.98298298298298,35.030030030030034,35.07707707707708,35.12412412412412,35.17117117117117,35.21821821821822,35.26526526526527,35.312312312312315,35.35935935935936,35.406406406406404,35.453453453453456,35.5005005005005,35.54754754754755,35.5945945945946,35.64164164164164,35.688688688688686,35.73573573573574,35.78278278278278,35.82982982982983,35.87687687687688,35.92392392392392,35.97097097097097,36.01801801801802,36.06506506506507,36.112112112112115,36.15915915915916,36.206206206206204,36.253253253253256,36.3003003003003,36.34734734734735,36.394394394394396,36.44144144144144,36.488488488488485,36.53553553553554,36.58258258258258,36.62962962962963,36.67667667667668,36.72372372372372,36.77077077077077,36.81781781781782,36.86486486486487,36.911911911911915,36.95895895895896,37.006006006006004,37.05305305305305,37.1001001001001,37.14714714714715,37.194194194194196,37.24124124124124,37.288288288288285,37.33533533533534,37.38238238238238,37.42942942942943,37.47647647647648,37.52352352352352,37.57057057057057,37.61761761761762,37.66466466466467,37.711711711711715,37.75875875875876,37.805805805805804,37.85285285285285,37.8998998998999,37.94694694694695,37.993993993993996,38.04104104104104,38.088088088088085,38.13513513513514,38.18218218218218,38.22922922922923,38.27627627627628,38.32332332332332,38.37037037037037,38.41741741741742,38.46446446446447,38.511511511511515,38.55855855855856,38.605605605605604,38.65265265265265,38.6996996996997,38.74674674674675,38.793793793793796,38.84084084084084,38.887887887887885,38.93493493493494,38.98198198198198,39.02902902902903,39.07607607607608,39.12312312312312,39.17017017017017,39.21721721721722,39.26426426426427,39.311311311311314,39.35835835835836,39.4054054054054,39.45245245245245,39.4994994994995,39.54654654654655,39.593593593593596,39.64064064064064,39.687687687687685,39.73473473473474,39.78178178178178,39.82882882882883,39.87587587587588,39.92292292292292,39.969969969969966,40.01701701701702,40.06406406406407,40.111111111111114,40.15815815815816,40.2052052052052,40.25225225225225,40.2992992992993,40.34634634634635,40.393393393393396,40.44044044044044,40.487487487487485,40.53453453453454,40.58158158158158,40.62862862862863,40.67567567567568,40.72272272272272,40.769769769769766,40.81681681681682,40.86386386386387,40.910910910910914,40.95795795795796,41.005005005005,41.05205205205205,41.0990990990991,41.14614614614615,41.193193193193196,41.24024024024024,41.287287287287285,41.334334334334336,41.38138138138138,41.42842842842843,41.47547547547548,41.52252252252252,41.569569569569566,41.61661661661662,41.66366366366367,41.710710710710714,41.75775775775776,41.8048048048048,41.85185185185185,41.8988988988989,41.94594594594595,41.992992992992995,42.04004004004004,42.087087087087085,42.134134134134136,42.18118118118118,42.22822822822823,42.27527527527528,42.32232232232232,42.369369369369366,42.41641641641642,42.46346346346347,42.510510510510514,42.55755755755756,42.6046046046046,42.65165165165165,42.6986986986987,42.74574574574575,42.792792792792795,42.83983983983984,42.886886886886884,42.933933933933936,42.98098098098098,43.02802802802803,43.07507507507508,43.12212212212212,43.169169169169166,43.21621621621622,43.26326326326327,43.310310310310314,43.35735735735736,43.4044044044044,43.45145145145145,43.4984984984985,43.54554554554555,43.592592592592595,43.63963963963964,43.686686686686684,43.733733733733736,43.78078078078078,43.82782782782783,43.87487487487488,43.92192192192192,43.968968968968966,44.01601601601602,44.06306306306307,44.110110110110114,44.15715715715716,44.2042042042042,44.25125125125125,44.2982982982983,44.34534534534535,44.392392392392395,44.43943943943944,44.486486486486484,44.533533533533536,44.58058058058058,44.62762762762763,44.67467467467468,44.72172172172172,44.768768768768766,44.81581581581582,44.86286286286287,44.90990990990991,44.95695695695696,45.004004004004,45.05105105105105,45.0980980980981,45.14514514514515,45.192192192192195,45.23923923923924,45.286286286286284,45.333333333333336,45.38038038038038,45.42742742742743,45.474474474474476,45.52152152152152,45.568568568568566,45.61561561561562,45.66266266266267,45.70970970970971,45.75675675675676,45.8038038038038,45.85085085085085,45.8978978978979,45.94494494494495,45.991991991991995,46.03903903903904,46.086086086086084,46.133133133133136,46.18018018018018,46.227227227227225,46.274274274274276,46.32132132132132,46.36836836836837,46.41541541541542,46.46246246246246,46.50950950950951,46.55655655655656,46.6036036036036,46.650650650650654,46.6976976976977,46.74474474474474,46.791791791791795,46.83883883883884,46.885885885885884,46.932932932932935,46.97997997997998,47.027027027027025,47.074074074074076,47.12112112112112,47.16816816816817,47.21521521521522,47.26226226226226,47.30930930930931,47.35635635635636,47.4034034034034,47.450450450450454,47.4974974974975,47.54454454454454,47.591591591591595,47.63863863863864,47.685685685685684,47.732732732732735,47.77977977977978,47.826826826826824,47.873873873873876,47.92092092092092,47.96796796796797,48.01501501501502,48.06206206206206,48.10910910910911,48.15615615615616,48.2032032032032,48.250250250250254,48.2972972972973,48.34434434434434,48.391391391391394,48.43843843843844,48.48548548548548,48.532532532532535,48.57957957957958,48.626626626626624,48.673673673673676,48.72072072072072,48.76776776776777,48.81481481481482,48.86186186186186,48.90890890890891,48.95595595595596,49.003003003003,49.050050050050054,49.0970970970971,49.14414414414414,49.191191191191194,49.23823823823824,49.28528528528528,49.332332332332335,49.37937937937938,49.426426426426424,49.473473473473476,49.52052052052052,49.56756756756757,49.61461461461462,49.66166166166166,49.70870870870871,49.75575575575576,49.8028028028028,49.84984984984985,49.8968968968969,49.94394394394394,49.990990990990994,50.03803803803804,50.08508508508508,50.132132132132135,50.17917917917918,50.226226226226224,50.273273273273276,50.32032032032032,50.36736736736737,50.414414414414416,50.46146146146146,50.50850850850851,50.55555555555556,50.6026026026026,50.64964964964965,50.6966966966967,50.74374374374374,50.790790790790794,50.83783783783784,50.88488488488488,50.931931931931935,50.97897897897898,51.026026026026024,51.073073073073076,51.12012012012012,51.16716716716717,51.214214214214216,51.26126126126126,51.30830830830831,51.35535535535536,51.4024024024024,51.44944944944945,51.4964964964965,51.54354354354354,51.590590590590594,51.63763763763764,51.68468468468468,51.731731731731735,51.77877877877878,51.825825825825824,51.872872872872875,51.91991991991992,51.966966966966964,52.014014014014016,52.06106106106106,52.10810810810811,52.15515515515516,52.2022022022022,52.24924924924925,52.2962962962963,52.34334334334334,52.390390390390394,52.43743743743744,52.48448448448448,52.531531531531535,52.57857857857858,52.625625625625624,52.672672672672675,52.71971971971972,52.766766766766764,52.813813813813816,52.86086086086086,52.90790790790791,52.95495495495496,53.002002002002,53.04904904904905,53.0960960960961,53.14314314314314,53.190190190190194,53.23723723723724,53.28428428428428,53.331331331331334,53.37837837837838,53.42542542542542,53.472472472472475,53.51951951951952,53.566566566566564,53.613613613613616,53.66066066066066,53.70770770770771,53.75475475475476,53.8018018018018,53.84884884884885,53.8958958958959,53.94294294294294,53.98998998998999,54.03703703703704,54.08408408408408,54.131131131131134,54.17817817817818,54.22522522522522,54.272272272272275,54.31931931931932,54.366366366366364,54.413413413413416,54.46046046046046,54.50750750750751,54.55455455455456,54.6016016016016,54.64864864864865,54.6956956956957,54.74274274274274,54.78978978978979,54.83683683683684,54.88388388388388,54.930930930930934,54.97797797797798,55.02502502502502,55.072072072072075,55.11911911911912,55.166166166166164,55.213213213213216,55.26026026026026,55.30730730730731,55.354354354354356,55.4014014014014,55.44844844844845,55.4954954954955,55.54254254254254,55.58958958958959,55.63663663663664,55.68368368368368,55.730730730730734,55.77777777777778,55.82482482482482,55.871871871871875,55.91891891891892,55.965965965965964,56.013013013013015,56.06006006006006,56.10710710710711,56.154154154154156,56.2012012012012,56.24824824824825,56.2952952952953,56.34234234234234,56.38938938938939,56.43643643643644,56.48348348348348,56.530530530530534,56.57757757757758,56.62462462462462,56.671671671671675,56.71871871871872,56.765765765765764,56.812812812812815,56.85985985985986,56.90690690690691,56.953953953953956,57.001001001001,57.04804804804805,57.0950950950951,57.14214214214214,57.18918918918919,57.23623623623624,57.28328328328328,57.330330330330334,57.37737737737738,57.42442442442442,57.471471471471475,57.51851851851852,57.565565565565564,57.612612612612615,57.65965965965966,57.70670670670671,57.753753753753756,57.8008008008008,57.84784784784785,57.8948948948949,57.94194194194194,57.98898898898899,58.03603603603604,58.08308308308308,58.130130130130134,58.17717717717718,58.22422422422422,58.271271271271274,58.31831831831832,58.36536536536536,58.412412412412415,58.45945945945946,58.50650650650651,58.553553553553556,58.6006006006006,58.64764764764765,58.6946946946947,58.74174174174174,58.78878878878879,58.83583583583584,58.88288288288288,58.92992992992993,58.97697697697698,59.02402402402402,59.071071071071074,59.11811811811812,59.16516516516516,59.212212212212215,59.25925925925926,59.306306306306304,59.353353353353356,59.4004004004004,59.44744744744745,59.4944944944945,59.54154154154154,59.58858858858859,59.63563563563564,59.68268268268268,59.72972972972973,59.77677677677678,59.82382382382382,59.870870870870874,59.91791791791792,59.96496496496496,60.012012012012015,60.05905905905906,60.106106106106104,60.153153153153156,60.2002002002002,60.24724724724725,60.294294294294296,60.34134134134134,60.38838838838839,60.43543543543544,60.48248248248248,60.52952952952953,60.57657657657658,60.62362362362362,60.670670670670674,60.71771771771772,60.76476476476476,60.811811811811815,60.85885885885886,60.905905905905904,60.952952952952955,61.0],\"y\":[0.0028169574277160593,0.002971364530165347,0.0031366824807552303,0.0033138510076782092,0.0035038562000851126,0.0037077280877436587,0.003926537845169409,0.004161394647799846,0.0044134422124157986,0.004683855057962531,0.004973834526060407,0.005284604602749066,0.005617407584285219,0.005973499630078505,0.0063541462450641,0.006760617731971401,0.007194184651083811,0.007656113321238816,0.008147661391063377,0.00867007350388612,0.009224577073525714,0.009812378181376587,0.010434657598057671,0.011092566925541465,0.011787224848313613,0.012519713474949316,0.01329107474470752,0.014102306867558607,0.014954360760657953,0.01584813643985191,0.016784479321521783,0.017764176388090958,0.018787952169977397,0.01985646449777657,0.0209702999810813,0.022129969174643584,0.023335901398578454,0.024588439186955746,0.025887832348413898,0.027234231633209524,0.028627682013298326,0.0300681155954524,0.03155534420181839,0.033089051667508175,0.034668785920501426,0.03629395092499284,0.03796379858508183,0.039677420720923125,0.04143374124388071,0.04323150867037537,0.04506928912568856,0.04694545999857727,0.04885820441477887,0.0508055067020943,0.052785149021319436,0.05479470933566819,0.05683156088627234,0.0588928733326491,0.06097561570470525,0.06307656129678772,0.06519229461464654,0.06731922046308675,0.06945357523571181,0.07159144043898476,0.07372875845110806,0.07586135048255355,0.07798493666995653,0.08009515819919605,0.08218760131739944,0.08425782305823538,0.08630137847059897,0.08831384910878133,0.09029087251276048,0.09222817238133733,0.09412158911890568,0.09596711041929078,0.09776090153784385,0.09949933489600161,0.1011790186613415,0.10279682395061326,0.10434991031347247,0.10583574917057252,0.10725214490080254,0.10859725329873388,0.10986959715396592,0.11106807873870601,0.11219198902760773,0.11324101351438927,0.1142152345316231,0.11511513002323369,0.11594156876235356,0.11669580204977385,0.1173794519695391,0.1179944963174811,0.11854325035536017,0.11902834557689422,0.1194527057024014,0.11981952014532837,0.12013221521670361,0.12039442335233945,0.12060995066241904,0.12078274311417393,0.12091685166569666,0.12101639667288921,0.12108553189251298,0.12112840840227819,0.12114913875470444,0.12115176167485783,0.12114020760394852,0.12111826538082711,0.12108955034237838,0.12105747411148879,0.12102521632802998,0.12099569856399611,0.12097156064874941,0.12095513961401738,0.12094845145088154,0.12095317585226341,0.12097064409423906,0.12100183018763781,0.12104734540771857,0.12110743628409537,0.12118198610528919,0.12127051996246975,0.12137221332489542,0.12148590410557392,0.12161010813974528,0.12174303796141907,0.12188262472453945,0.12202654307612325,0.12217223874926586,0.12231695860510512,0.12245778281519534,0.12259165884026776,0.1227154368286774,0.12282590602884934,0.12291983178567074,0.12299399267154897,0.12304521728976105,0.12307042028125685,0.12306663706668819,0.12303105686372962,0.12296105353574398,0.12285421385175305,0.1227083627693054,0.12252158539103143,0.12229224529177678,0.122018998965815,0.12170080620170724,0.12133693625514114,0.12092696975626817,0.12047079635664168,0.11996860819025623,0.11942088929248344,0.11882840118793504,0.11819216492269403,0.1175134398761139,0.11679369974152114,0.11603460611241151,0.11523798015013821,0.11440577283967086,0.11354003436128157,0.11264288311728203,0.11171647495410197,0.11076297311087877,0.10978451940662308,0.10878320714911029,0.1077610562108075,0.106719990670804,0.1056618193681949,0.1045882196524727,0.10350072455166193,0.10240071351042192,0.10128940677957617,0.10016786346699957,0.09903698318884742,0.09789751119132639,0.0967500467478038,0.09559505457544278,0.09443287896081844,0.09326376023619544,0.09208785320819605,0.09090524710916421,0.08971598661912454,0.08852009349321839,0.08731758832591249,0.08610851198908995,0.08489294629606149,0.08367103346708164,0.0824429940034849,0.08120914261632314,0.07996990190036903,0.07872581349457353,0.07747754652437541,0.07622590317839442,0.07497182133090433,0.07371637418068454,0.07246076693524292,0.07120633062584933,0.06995451319217354,0.06870686802452335,0.06746504019602892,0.06623075065561458,0.06500577868484314,0.06379194294712875,0.0625910814761398,0.061405030961340555,0.060235605692545796,0.059084576522268104,0.05795365019493007,0.05684444937599968,0.05575849369253915,0.05469718207008059,0.053661776619958114,0.0526533882970507,0.05167296451113608,0.05072127883664775,0.04979892292630289,0.0489063006947849,0.04804362480011809,0.04721091541328293,0.0464080012316787,0.04563452265979887,0.044889937051290865,0.044173525881032544,0.043484403693939425,0.042821528659328464,0.04218371454570828,0.04156964392088096,0.04097788237609893,0.040406893570503706,0.03985505489294476,0.03932067354223034,0.038802002833515106,0.03829725854752028,0.037804635150245555,0.037322321723281975,0.036848517458490236,0.036381446585235136,0.0359193726131805,0.03546061178866514,0.03500354567745065,0.034546632801092415,0.03408841926801936,0.03362754835351513,0.033162768995113216,0.032692943181273054,0.03221705222169246,0.03173420189712818,0.031243626495228195,0.030744691746649826,0.030236896682691604,0.029719874441922957,0.02919339205884189,0.028657349272592465,0.028111776398210293,0.027556831306860638,0.02699279556507492,0.026420069786201233,0.02583916825004382,0.02525071284918731,0.024655426422586862,0.024054125538774753,0.023447712792484827,0.02283716867948468,0.022223543115113605,0.02160794666224688,0.020991541534274606,0.020375532438125638,0.019761157321402156,0.01914967808633486,0.0185423713315535,0.01794051918060111,0.01734540025374745,0.01675828083704328,0.01618040629971205,0.015612992807977781,0.015057219380324071,0.014514220325994559,0.013985078105364744,0.01347081664762009,0.01297239515806338,0.012490702444272821,0.012026551787363898,0.01158067638164201,0.011153725363071852,0.010746260444125383,0.010358753169720437,0.009991582806067411,0.009645034871269857,0.009319300313424811,0.009014475338715055,0.008730561888523652,0.008467468760918749,0.008225013367926774,0.008002924115831249,0.007800843391311489,0.007618331131593925,0.00745486895196449,0.007309864799046352,0.00718265809324222,0.007072525318771152,0.006978686014878249,0.00690030911717525,0.006836519593787604,0.006786405317146066,0.006749024108989984,0.006723410893535987,0.006708584891916713,0.00670355678999341,0.0067073358115482705,0.006718936629737602,0.0067373860515420915,0.00676172941280912,0.006791036625312777,0.006824407822027767,0.006860978552453131,0.00689992448624433,0.0069404655905106975,0.006981869753783997,0.007023455837717359,0.007064596145886224,0.007104718307466712,0.007143306581903956,0.0071799025987802695,0.007214105554800571,0.007245571896969409,0.007274014527501371,0.00729920157166551,0.007320954754494328,0.007339147436015613,0.007353702357314807,0.007364589151270864,0.007371821672211624,0.007375455198011688,0.007375583556339417,0.007372336223905117,0.007365875443744215,0.007356393400886651,0.007344109491330753,0.007329267713184946,0.0073121342023068185,0.007292994927912022,0.007272153556596878,0.007249929486186264,0.00722665604394414,0.00720267883712072,0.007178354237722436,0.007154047977909483,0.007130133827695072,0.0071069923227510745,0.007085009507219835,0.007064575654578175,0.00704608392885137,0.007029928948879074,0.0070165052199043865,0.007006205399483853,0.006999418368569185,0.006996527083530826,0.006997906190800702,0.0070039193925970356,0.007014916559733984,0.007031230595661522,0.007053174064460836,0.007081035604354743,0.007115076157185291,0.007155525053056949,0.007202575997734611,0.007256383018209027,0.007317056428891391,0.007384658886973162,0.007459201610402884,0.007540640835513687,0.007628874593445205,0.007723739885010544,0.007825010332482039,0.007932394383844039,0.008045534140372847,0.008164004871966826,0.008287315276525313,0.008414908529959348,0.008546164162250005,0.008680400782527032,0.008816879662632627,0.008954809174306655,0.00909335006025132,0.009231621504197037,0.009368707950005968,0.00950366660513355,0.00963553554973846,0.009763342359703546,0.009886113140101389,0.01000288185549022,0.010112699835105909,0.010214645324742975,0.010307832953063539,0.010391422978369846,0.010464630182599891,0.01052673228248508,0.010577077733416332,0.010615092809517099,0.010640287853586531,0.010652262602767385,0.010650710509781407,0.010635421995088065,0.010606286582055972,0.010563293884856167,0.010506533436941167,0.010436193366301014,0.010352557941821562,0.010256004032654632,0.010146996539200903,0.010026082869785145,0.00989388655108176,0.009751100072575765,0.009598477075608373,0.009436824005700837,0.00926699135275577,0.009089864607346761,0.008906355062609252,0.00871739059028295,0.008523906516312007,0.008326836716217792,0.008127105043390037,0.007925617194699157,0.0077232531076501946,0.00752085997192374,0.007319245925855615,0.007119174495459656,0.006921359820275543,0.006726462696887696,0.0065350874576680165,0.006347779689375648,0.006165024783916429,0.005987247302005306,0.005814811119844432,0.005648020319351474,0.005487120774040907,0.005332302375435584,0.005183701838897607,0.005041406023019295,0.004905455693180022,0.004775849657508694,0.0046525492022239994,0.004535482753076794,0.004424550690293921,0.004319630245922061,0.004220580414687018,0.004127246812316799,0.004039466418622215,0.0039570721463968615,0.0038798971813008283,0.003807779042258633,0.003740563316468117,0.0036781070278354955,0.0036202816024854052,0.0035669753999191998,0.003518095783396229,0.0034735707081865364,0.0034333498114915047,0.0033974049930580747,0.003365730480831642,0.0033383423814100288,0.0033152777205817685,0.0032965929848547057,0.003282362180597513,0.0032726744332070637,0.003267631154549184,0.003267342812754884,0.0032719253442326087,0.0032814962534095044,0.0032961704511586245,0.003316055888011048,0.0033412490429885686,0.0033718303331139437,0.003407859512247072,0.0034493711307412404,0.0034963701294012306,0.0035488276422477065,0.003606677082554025,0.0036698105854401602,0.0037380758779201793,0.0038112736436604513,0.003889155444799095,0.003971422257008514,0.004057723666591488,0.004147657769851662,0.004240771805369153,0.004336563539266375,0.004434483412222562,0.004533937445067867,0.004634290887461139,0.004734872581651787,0.0048349800008809125,0.004933884909834789,0.00503083958297313,0.005125083505761993,0.005215850474082195,0.005302375998583283,0.00538390491371035,0.005459699085724115,0.0055290451104061345,0.005591261889402229,0.005645707974376342,0.005691788570354326,0.005728962093817561,0.005756746187202189,0.005774723099371449,0.005782544351214227,0.00577993461660414,0.00576669476131735,0.005742703995912029,0.005707921112753076,0.005662384792039893,0.005606212976571059,0.005539601329760874,0.005462820805818544,0.005376214374728501,0.005280192957467881,0.005175230638522699,0.005061859233007536,0.004940662294375771,0.004812268655688419,0.004677345602588197,0.004536591779441962,0.0043907299315516886,0.004240499585915226,0.004086649770805959,0.00392993187053581,0.0037710927063021207,0.0036108679271576205,0.003449975787072518,0.00328911137498237,0.0031289413548568736,0.0029700992624058643,0.0028131813942931993,0.002658743314877179,0.0025072969947581253,0.0023593085849898596,0.00221519682088999,0.0020753320401273915,0.0019400357913154252,0.0018095810018126624,0.0016841926669171525,0.0015640490171970774,0.0014492831163657152,0.001339984838889605,0.0012362031744002292,0.0011379488049240943,0.0010451969008945957,0.0009578900827882865,0.0008759414969467227,0.0007992379566060609,0.0007276431022496405,0.0006610005390140388,0.0005991369129015014,0.0005418648918696881,0.0004889860223741256,0.0004402934365268253,0.0003955743896115059,0.00035461261217550395,0.00031719046522522593,0.0002830908911217517,0.0002520991565524625,0.00022400438740196693,0.0001986008984310448,0.00017568932337599114,0.0001550775533937,0.0001365814936992572,0.00012002564978149752,0.00010524355575218988,0.00009207805820786035,0.00008038146948509382,0.00007001560440000956,0.00006085171451222095,0.00005277033367625264,0.000045661048172994404,0.000039422204083762215,0.00003396056381238304,0.000029190922807338848,0.000025035696615052297,0.000021424487433130557,0.000018293638352358382,0.000015585782498985435,0.000013249393332122755,0.000011238341429487432,9.511462220286435e-6,8.032138305805904e-6,6.767899253003302e-6,5.6900410584419075e-6,4.773266861627096e-6,3.995349938764481e-6,3.3368195292142832e-6,2.7806696352680846e-6,2.3120905880967142e-6,1.9182228848252444e-6,1.587932569127715e-6,1.3116072455742032e-6,1.0809716810854734e-6,8.889218500831803e-7,7.293762181620145e-7,5.971430274289673e-7,4.878023403713198e-7,3.976016138691369e-7,3.233636067402224e-7,2.624054693643113e-7,2.124679192308761e-7,1.7165346883746265e-7,1.383727397588242e-7,1.1129796680293481e-7,8.932286720283251e-8,7.152812031380138e-8,5.715177213278849e-8,4.5563945228029464e-8,3.624529768563284e-8,2.876873396819166e-8,2.2783925828953982e-8,1.8004252465986945e-8,1.4195815883620817e-8,1.116822999665875e-8,8.76692048418261e-9,6.866706947828109e-9,5.366469768699754e-9,4.184731429506388e-9,3.256006232452477e-9,2.527793564655444e-9,1.9581084072144074e-9,1.5134589116935977e-9,1.1671948288483946e-9,8.981626058983505e-10,6.896132922029433e-10,5.283182138503449e-10,4.038548831993155e-10,3.0803197024887203e-10,2.344275322714589e-10,1.7801921351506298e-10,1.3488890957420448e-10,1.0198754845194683e-10,7.69482662900671e-11,5.7938432025339665e-11,4.354277268158918e-11,3.267133068155382e-11,2.4487198813599304e-11,1.8349972010061537e-11,1.3771665882510273e-11,1.0382512197517137e-11,7.904578340068423e-12,6.13159419541423e-12,4.91372505037265e-12,4.1463192923268235e-12,3.7618985607841684e-12,3.724857207329519e-12,4.028507412429831e-12,4.694254767681307e-12,5.772824273633385e-12,7.34758557778239e-12,9.540155550045013e-12,1.2518592502161962e-11,1.650864616151494e-11,2.1808697928887753e-11,2.880922460539971e-11,3.8017854131905714e-11,5.009136350329098e-11,6.587630780976814e-11,8.646037784639206e-11,1.1323707634920358e-10,1.479868962818466e-10,1.9297889782248943e-10,2.5109743569962935e-10,3.25999810315158e-10,4.2231183310088246e-10,5.45869740895088e-10,7.040186018578959e-10,9.059793667711706e-10,1.1632990789800534e-9,1.490401512546862e-9,1.905258714480711e-9,2.430207640289847e-9,3.0929403533093527e-9,3.927701171004179e-9,4.976729751529171e-9,6.291995487880601e-9,7.937275780888457e-9,9.990638859213245e-9,1.2547400862311969e-8,1.5723636950720406e-8,1.966033729485806e-8,2.4528310940973245e-8,3.053395376225137e-8,3.7926010949995375e-8,4.70034797279466e-8,5.812481408747956e-8,7.171861020284603e-8,8.82959686013505e-8,1.0846474688064274e-7,1.329459344640331e-7,1.6259239816925663e-7,1.984102637586404e-7,2.415832135734172e-7,2.934999931724896e-7,3.557854298399231e-7,4.3033527204218735e-7,5.193551604541858e-7,6.254040369886203e-7,7.514422872286827e-7,9.008848925786219e-7,1.0776598400531709e-6,1.2862719986381791e-6,1.5318726202712472e-6,1.8203345594478647e-6,2.15833322705133e-6,2.553433200141007e-6,3.01418029918807e-6,3.550198816906598e-6,4.17229343795497e-6,4.892555226290698e-6,5.724470877160396e-6,6.683034234376688e-6,7.784858862004249e-6,9.048290234755905e-6,0.000010493515875843041,0.000012142671527999799,0.000014019941196870116,0.000016151648660615816,0.00001856633780094813,0.00002129483888491486,0.0000243703177205507,0.000027828304430305765,0.00003170669844187266,0.000036045746194920176,0.00004088798801270576,0.000046278170597987986,0.00005226312169134893,0.000058891583584663717,0.00006621400241999908,0.00007428227053076622,0.00008314941950212402,0.00009286926214452159,0.00010349598218921379,0.00011508367122660378,0.00012768581321403162,0.0001413547177734982,0.00015614090447285813,0.00017209244132515529,0.00018925424183551356,0.00020766732605625855,0.00022736805225910517,0.00024838732697601216,0.000270749802273165,0.0002944730701797765,0.0003195668651673377,0.0003460322864376546,0.00037386105250165387,0.00040303480108802066,0.0004335244477852239,0.00046528961696912127,0.0004982781584800837,0.0005324257631714696,0.0005676556898434981,0.0006038786151948927,0.0006409926172685096,0.0006788833014405381,0.0007174240763168596,0.0007564765849729375,0.0007958912948291487,0.0008355082471223963,0.000875157964454583,0.0009146625123108005,0.00095383670779196,0.000992489466149361,0.001030425273095432,0.0010674457683507005,0.0011033514235278118,0.0011379432953028022,0.0011710248329336518,0.0012024037176048272,0.001231893709845701,0.0012593164804276785,0.0012845033997175319,0.0013072972604731773,0.0013275539095242278,0.001345143764684071,0.0013599531945842807,0.001371885740887528,0.001380863164493157,0.0013868262998627519,0.0013897357044157354,0.0013895720930236512,0.0013863365509072228,0.001380050521648227,0.0013707555705014575,0.0013585129266615826,0.0013434028115366962,0.0013255235633378686,0.0013049905713481437,0.0012819350360265085,0.0012565025735799147,0.0012288516857542702,0.0011991521173168858,0.0011675831250010792,0.0011343316825405162,0.0010995906468289922,0.0010635569102032728,0.0010264295633738145,0.000988408092642216,0.0009496906337746707,0.0009104723032840342,0.0008709436259529861,0.0008312890752556459,0.0007916857409563408,0.0007523021356370367,0.000713297149284571,0.0006748191584096154,0.0006370052935256957,0.0005999808662379409,0.0005638589547247721,0.0005287401440832092,0.0004947124158855718,0.00046185117939264906,0.0004302194352095617,0.0003998680607721023,0.0003708362059241627,0.0003431517859948325,0.0003168320592043246,0.0002918842749136156,0.00026830637917060003,0.00024608776417799815,0.00022521004869451114,0.00020564787695688904,0.00018736972445006642,0.00017033869972867425,0.00015451333247721669,0.0001398483390605944,0.00012629535793404935,0.00011380364842597511,0.00010232074755438216,0.00009179308066618522,0.00008216652277821674,0.00007338690853334783,0.00006540048965034428,0.000058154339630806835,0.00005159670628263798,0.0000456773133212964,0.00004034761291456427,0.00003556099154309124,0.000031272931959039104,0.000027441134341908566,0.000024025599979120793,0.000020988680945087087,0.0000182950993235492,0.00001591193952167315,0.000013808617168933987,0.000011956827987722451,0.00001033047987423252,8.905611245737885e-6,7.660298501712539e-6,6.574555218723974e-6,5.630225459369948e-6,4.810873329839383e-6,4.101670674320655e-6,3.4892845520750946e-6,2.961765908456242e-6,2.5084406276557853e-6,2.1198039449784238e-6,1.7874190018580285e-6,1.5038201488685833e-6,1.2624214414006283e-6,1.0574306297335933e-6,8.837688198023745e-7,7.369958725753561e-7,6.13241517894657e-7,5.091420819321057e-7,4.2178266498888575e-7,3.486445570075194e-7,2.8755764060477536e-7,2.366575043877887e-7,1.943469715058944e-7,1.5926173857833625e-7,1.3023981714563014e-7,1.0629447251702878e-7,8.659036231396101e-8,7.042258822244701e-8,5.719838864803318e-8,4.6421216399553487e-8,3.767696359732436e-8,3.062211518858553e-8,2.4973632331720576e-8,2.050038714015854e-8,1.701599059471614e-8,1.437287564868174e-8,1.2457517535381086e-8,1.1186692970697482e-8,1.0504699297660505e-8,1.0381473660434217e-8,1.0811571065901278e-8,1.181397876139291e-8,1.343276281200328e-8,1.5738561194349753e-8,1.8830956231182123e-8,2.28417778628784e-8,2.793940816458134e-8,3.433417672811964e-8,4.228495606464324e-8,5.2107086040075146e-8,6.418177648048232e-8,7.896715737628692e-8,9.701116641113662e-8,1.1896648361381976e-7,1.456077424753124e-7,1.778512655003331e-7,2.167775893968249e-7,2.636570603761795e-7,3.199787926709942e-7,3.8748329260335475e-7,4.681990554826788e-7,5.644834423048704e-7,6.790681366012055e-7,8.151094676990001e-7,9.76243863892147e-7,1.1666486663169393e-6,1.3911084903999291e-6,1.6550872653098308e-6,1.9648060116687695e-6,2.327326332706782e-6,2.7506394930543295e-6,3.243760841630649e-6,3.816829200006121e-6,4.481210684906006e-6,5.249606263269671e-6,6.1361621509963944e-6,7.1565819632113755e-6,8.328239306164834e-6,9.670289270912561e-6,0.000011203777049603789,0.000012951741650083986,0.000014939312437903227,0.000017193795991765214,0.00001974475052471216,0.000022624044905367296,0.000025865899118469033,0.00002950690283933673,0.00003358600867087155,0.00003814449651257923,0.00004322590550735134,0.000048875930051669944,0.00005514227646660955,0.00006207447711788317,0.00006972365904979538,0.00007814226456588294,0.00008738372165208969,0.00009750206269903661,0.00010855149063849371,0.00012058589236361196,0.0001336583001485056,0.00014782030271325936,0.00016312140858545552,0.00017960836547635368,0.00019732444050321485,0.00021630866723062713,0.0002365950666523262,0.00025821185036758716,0.0002811806152974923,0.00030551554030988106,0.0003312225960495163,0.0003582987800739728,0.00038673139004828075,0.0004164973482255659,0.0004475625907115878,0.0004798815350563914,0.0005133966395162688,0.0005480380668697947,0.0005837234649420767,0.0006203578749868119,0.0006578337777978405,0.000696031285877638,0.000734818488193748,0.0007740519520264899,0.0008135773841793586,0.0008532304514207749,0.0008928377574920846,0.0009322179713960461,0.0009711830990211821,0.0010095398875131759,0.0010470913492286633,0.0010836383896548859,0.0011189815214062478,0.0011529226443681689,0.001185266870300987,0.0012158243687869685,0.0012444122103418575,0.0012708561818520134,0.0012949925492638438,0.001316669742659909,0.001335749939513037,0.0013521105230122836,0.0013656453938897203,0.001376266116121933,0.0013839028792019654,0.0013885052623350005,0.0013900427888551652],\"type\":\"scatter\"},{\"mode\":\"lines\",\"name\":\"Overweight_Level_I\",\"x\":[14.0,14.047047047047046,14.094094094094094,14.14114114114114,14.188188188188189,14.235235235235235,14.282282282282281,14.32932932932933,14.376376376376376,14.423423423423424,14.47047047047047,14.517517517517518,14.564564564564565,14.611611611611611,14.65865865865866,14.705705705705705,14.752752752752754,14.7997997997998,14.846846846846846,14.893893893893894,14.94094094094094,14.987987987987989,15.035035035035035,15.082082082082081,15.12912912912913,15.176176176176176,15.223223223223224,15.27027027027027,15.317317317317318,15.364364364364365,15.411411411411411,15.458458458458459,15.505505505505505,15.552552552552552,15.5995995995996,15.646646646646646,15.693693693693694,15.74074074074074,15.787787787787789,15.834834834834835,15.881881881881881,15.92892892892893,15.975975975975976,16.023023023023022,16.07007007007007,16.117117117117118,16.164164164164163,16.21121121121121,16.25825825825826,16.305305305305303,16.35235235235235,16.3993993993994,16.446446446446448,16.493493493493492,16.54054054054054,16.58758758758759,16.634634634634637,16.68168168168168,16.72872872872873,16.775775775775777,16.822822822822822,16.86986986986987,16.916916916916918,16.963963963963963,17.01101101101101,17.05805805805806,17.105105105105103,17.15215215215215,17.1991991991992,17.246246246246248,17.293293293293292,17.34034034034034,17.38738738738739,17.434434434434436,17.48148148148148,17.52852852852853,17.575575575575577,17.62262262262262,17.66966966966967,17.716716716716718,17.763763763763762,17.81081081081081,17.85785785785786,17.904904904904903,17.95195195195195,17.998998998999,18.046046046046047,18.093093093093092,18.14014014014014,18.187187187187188,18.234234234234236,18.28128128128128,18.32832832832833,18.375375375375377,18.42242242242242,18.46946946946947,18.516516516516518,18.563563563563562,18.61061061061061,18.65765765765766,18.704704704704703,18.75175175175175,18.7987987987988,18.845845845845844,18.892892892892892,18.93993993993994,18.986986986986988,19.034034034034036,19.08108108108108,19.12812812812813,19.175175175175177,19.22222222222222,19.26926926926927,19.316316316316318,19.363363363363362,19.41041041041041,19.45745745745746,19.504504504504503,19.55155155155155,19.5985985985986,19.645645645645644,19.69269269269269,19.73973973973974,19.786786786786788,19.833833833833836,19.88088088088088,19.92792792792793,19.974974974974977,20.02202202202202,20.06906906906907,20.116116116116117,20.163163163163162,20.21021021021021,20.25725725725726,20.304304304304303,20.35135135135135,20.3983983983984,20.445445445445444,20.49249249249249,20.53953953953954,20.586586586586588,20.633633633633636,20.68068068068068,20.72772772772773,20.774774774774777,20.82182182182182,20.86886886886887,20.915915915915917,20.962962962962962,21.01001001001001,21.057057057057058,21.104104104104103,21.15115115115115,21.1981981981982,21.245245245245243,21.29229229229229,21.33933933933934,21.386386386386388,21.433433433433436,21.48048048048048,21.52752752752753,21.574574574574577,21.62162162162162,21.66866866866867,21.715715715715717,21.762762762762762,21.80980980980981,21.856856856856858,21.903903903903903,21.95095095095095,21.997997997998,22.045045045045043,22.092092092092095,22.13913913913914,22.186186186186184,22.233233233233236,22.28028028028028,22.32732732732733,22.374374374374376,22.42142142142142,22.46846846846847,22.515515515515517,22.56256256256256,22.60960960960961,22.656656656656658,22.703703703703702,22.75075075075075,22.7977977977978,22.844844844844843,22.891891891891895,22.93893893893894,22.985985985985984,23.033033033033036,23.08008008008008,23.127127127127128,23.174174174174176,23.22122122122122,23.26826826826827,23.315315315315317,23.36236236236236,23.40940940940941,23.456456456456458,23.503503503503502,23.55055055055055,23.5975975975976,23.644644644644643,23.69169169169169,23.73873873873874,23.785785785785784,23.832832832832835,23.87987987987988,23.926926926926928,23.973973973973976,24.02102102102102,24.06806806806807,24.115115115115117,24.16216216216216,24.20920920920921,24.256256256256258,24.303303303303302,24.35035035035035,24.3973973973974,24.444444444444443,24.49149149149149,24.53853853853854,24.585585585585584,24.632632632632635,24.67967967967968,24.726726726726728,24.773773773773776,24.82082082082082,24.86786786786787,24.914914914914917,24.96196196196196,25.00900900900901,25.056056056056057,25.103103103103102,25.15015015015015,25.197197197197198,25.244244244244243,25.29129129129129,25.33833833833834,25.385385385385383,25.432432432432435,25.47947947947948,25.526526526526524,25.573573573573576,25.62062062062062,25.66766766766767,25.714714714714717,25.76176176176176,25.80880880880881,25.855855855855857,25.902902902902902,25.94994994994995,25.996996996996998,26.044044044044043,26.09109109109109,26.13813813813814,26.185185185185183,26.232232232232235,26.27927927927928,26.326326326326324,26.373373373373376,26.42042042042042,26.46746746746747,26.514514514514516,26.56156156156156,26.60860860860861,26.655655655655657,26.7027027027027,26.74974974974975,26.796796796796798,26.843843843843842,26.89089089089089,26.93793793793794,26.984984984984983,27.032032032032035,27.07907907907908,27.126126126126124,27.173173173173176,27.22022022022022,27.26726726726727,27.314314314314316,27.36136136136136,27.40840840840841,27.455455455455457,27.5025025025025,27.54954954954955,27.596596596596598,27.643643643643642,27.69069069069069,27.73773773773774,27.784784784784783,27.831831831831835,27.87887887887888,27.925925925925924,27.972972972972975,28.02002002002002,28.067067067067068,28.114114114114116,28.16116116116116,28.20820820820821,28.255255255255257,28.3023023023023,28.34934934934935,28.396396396396398,28.443443443443442,28.49049049049049,28.53753753753754,28.584584584584583,28.631631631631635,28.67867867867868,28.725725725725724,28.772772772772775,28.81981981981982,28.866866866866868,28.913913913913916,28.96096096096096,29.00800800800801,29.055055055055057,29.1021021021021,29.14914914914915,29.196196196196198,29.243243243243242,29.29029029029029,29.33733733733734,29.384384384384383,29.431431431431434,29.47847847847848,29.525525525525524,29.572572572572575,29.61961961961962,29.666666666666668,29.713713713713716,29.76076076076076,29.80780780780781,29.854854854854857,29.9019019019019,29.94894894894895,29.995995995995997,30.043043043043042,30.09009009009009,30.137137137137138,30.184184184184186,30.23123123123123,30.27827827827828,30.325325325325327,30.37237237237237,30.41941941941942,30.466466466466468,30.513513513513512,30.56056056056056,30.60760760760761,30.654654654654657,30.7017017017017,30.74874874874875,30.795795795795797,30.842842842842842,30.88988988988989,30.936936936936938,30.983983983983986,31.03103103103103,31.07807807807808,31.125125125125127,31.17217217217217,31.21921921921922,31.266266266266268,31.313313313313312,31.36036036036036,31.40740740740741,31.454454454454456,31.5015015015015,31.54854854854855,31.595595595595597,31.64264264264264,31.68968968968969,31.736736736736738,31.783783783783786,31.83083083083083,31.87787787787788,31.924924924924927,31.97197197197197,32.01901901901902,32.06606606606607,32.113113113113116,32.16016016016016,32.207207207207205,32.254254254254256,32.3013013013013,32.34834834834835,32.3953953953954,32.44244244244244,32.489489489489486,32.53653653653654,32.58358358358359,32.630630630630634,32.67767767767768,32.72472472472472,32.77177177177177,32.81881881881882,32.86586586586587,32.912912912912915,32.95995995995996,33.007007007007005,33.054054054054056,33.1011011011011,33.14814814814815,33.1951951951952,33.24224224224224,33.289289289289286,33.33633633633634,33.38338338338338,33.430430430430434,33.47747747747748,33.52452452452452,33.57157157157157,33.61861861861862,33.66566566566567,33.712712712712715,33.75975975975976,33.806806806806804,33.853853853853856,33.9009009009009,33.94794794794795,33.994994994995,34.04204204204204,34.089089089089086,34.13613613613614,34.18318318318318,34.230230230230234,34.27727727727728,34.32432432432432,34.37137137137137,34.41841841841842,34.46546546546547,34.512512512512515,34.55955955955956,34.606606606606604,34.653653653653656,34.7007007007007,34.74774774774775,34.7947947947948,34.84184184184184,34.888888888888886,34.93593593593594,34.98298298298298,35.030030030030034,35.07707707707708,35.12412412412412,35.17117117117117,35.21821821821822,35.26526526526527,35.312312312312315,35.35935935935936,35.406406406406404,35.453453453453456,35.5005005005005,35.54754754754755,35.5945945945946,35.64164164164164,35.688688688688686,35.73573573573574,35.78278278278278,35.82982982982983,35.87687687687688,35.92392392392392,35.97097097097097,36.01801801801802,36.06506506506507,36.112112112112115,36.15915915915916,36.206206206206204,36.253253253253256,36.3003003003003,36.34734734734735,36.394394394394396,36.44144144144144,36.488488488488485,36.53553553553554,36.58258258258258,36.62962962962963,36.67667667667668,36.72372372372372,36.77077077077077,36.81781781781782,36.86486486486487,36.911911911911915,36.95895895895896,37.006006006006004,37.05305305305305,37.1001001001001,37.14714714714715,37.194194194194196,37.24124124124124,37.288288288288285,37.33533533533534,37.38238238238238,37.42942942942943,37.47647647647648,37.52352352352352,37.57057057057057,37.61761761761762,37.66466466466467,37.711711711711715,37.75875875875876,37.805805805805804,37.85285285285285,37.8998998998999,37.94694694694695,37.993993993993996,38.04104104104104,38.088088088088085,38.13513513513514,38.18218218218218,38.22922922922923,38.27627627627628,38.32332332332332,38.37037037037037,38.41741741741742,38.46446446446447,38.511511511511515,38.55855855855856,38.605605605605604,38.65265265265265,38.6996996996997,38.74674674674675,38.793793793793796,38.84084084084084,38.887887887887885,38.93493493493494,38.98198198198198,39.02902902902903,39.07607607607608,39.12312312312312,39.17017017017017,39.21721721721722,39.26426426426427,39.311311311311314,39.35835835835836,39.4054054054054,39.45245245245245,39.4994994994995,39.54654654654655,39.593593593593596,39.64064064064064,39.687687687687685,39.73473473473474,39.78178178178178,39.82882882882883,39.87587587587588,39.92292292292292,39.969969969969966,40.01701701701702,40.06406406406407,40.111111111111114,40.15815815815816,40.2052052052052,40.25225225225225,40.2992992992993,40.34634634634635,40.393393393393396,40.44044044044044,40.487487487487485,40.53453453453454,40.58158158158158,40.62862862862863,40.67567567567568,40.72272272272272,40.769769769769766,40.81681681681682,40.86386386386387,40.910910910910914,40.95795795795796,41.005005005005,41.05205205205205,41.0990990990991,41.14614614614615,41.193193193193196,41.24024024024024,41.287287287287285,41.334334334334336,41.38138138138138,41.42842842842843,41.47547547547548,41.52252252252252,41.569569569569566,41.61661661661662,41.66366366366367,41.710710710710714,41.75775775775776,41.8048048048048,41.85185185185185,41.8988988988989,41.94594594594595,41.992992992992995,42.04004004004004,42.087087087087085,42.134134134134136,42.18118118118118,42.22822822822823,42.27527527527528,42.32232232232232,42.369369369369366,42.41641641641642,42.46346346346347,42.510510510510514,42.55755755755756,42.6046046046046,42.65165165165165,42.6986986986987,42.74574574574575,42.792792792792795,42.83983983983984,42.886886886886884,42.933933933933936,42.98098098098098,43.02802802802803,43.07507507507508,43.12212212212212,43.169169169169166,43.21621621621622,43.26326326326327,43.310310310310314,43.35735735735736,43.4044044044044,43.45145145145145,43.4984984984985,43.54554554554555,43.592592592592595,43.63963963963964,43.686686686686684,43.733733733733736,43.78078078078078,43.82782782782783,43.87487487487488,43.92192192192192,43.968968968968966,44.01601601601602,44.06306306306307,44.110110110110114,44.15715715715716,44.2042042042042,44.25125125125125,44.2982982982983,44.34534534534535,44.392392392392395,44.43943943943944,44.486486486486484,44.533533533533536,44.58058058058058,44.62762762762763,44.67467467467468,44.72172172172172,44.768768768768766,44.81581581581582,44.86286286286287,44.90990990990991,44.95695695695696,45.004004004004,45.05105105105105,45.0980980980981,45.14514514514515,45.192192192192195,45.23923923923924,45.286286286286284,45.333333333333336,45.38038038038038,45.42742742742743,45.474474474474476,45.52152152152152,45.568568568568566,45.61561561561562,45.66266266266267,45.70970970970971,45.75675675675676,45.8038038038038,45.85085085085085,45.8978978978979,45.94494494494495,45.991991991991995,46.03903903903904,46.086086086086084,46.133133133133136,46.18018018018018,46.227227227227225,46.274274274274276,46.32132132132132,46.36836836836837,46.41541541541542,46.46246246246246,46.50950950950951,46.55655655655656,46.6036036036036,46.650650650650654,46.6976976976977,46.74474474474474,46.791791791791795,46.83883883883884,46.885885885885884,46.932932932932935,46.97997997997998,47.027027027027025,47.074074074074076,47.12112112112112,47.16816816816817,47.21521521521522,47.26226226226226,47.30930930930931,47.35635635635636,47.4034034034034,47.450450450450454,47.4974974974975,47.54454454454454,47.591591591591595,47.63863863863864,47.685685685685684,47.732732732732735,47.77977977977978,47.826826826826824,47.873873873873876,47.92092092092092,47.96796796796797,48.01501501501502,48.06206206206206,48.10910910910911,48.15615615615616,48.2032032032032,48.250250250250254,48.2972972972973,48.34434434434434,48.391391391391394,48.43843843843844,48.48548548548548,48.532532532532535,48.57957957957958,48.626626626626624,48.673673673673676,48.72072072072072,48.76776776776777,48.81481481481482,48.86186186186186,48.90890890890891,48.95595595595596,49.003003003003,49.050050050050054,49.0970970970971,49.14414414414414,49.191191191191194,49.23823823823824,49.28528528528528,49.332332332332335,49.37937937937938,49.426426426426424,49.473473473473476,49.52052052052052,49.56756756756757,49.61461461461462,49.66166166166166,49.70870870870871,49.75575575575576,49.8028028028028,49.84984984984985,49.8968968968969,49.94394394394394,49.990990990990994,50.03803803803804,50.08508508508508,50.132132132132135,50.17917917917918,50.226226226226224,50.273273273273276,50.32032032032032,50.36736736736737,50.414414414414416,50.46146146146146,50.50850850850851,50.55555555555556,50.6026026026026,50.64964964964965,50.6966966966967,50.74374374374374,50.790790790790794,50.83783783783784,50.88488488488488,50.931931931931935,50.97897897897898,51.026026026026024,51.073073073073076,51.12012012012012,51.16716716716717,51.214214214214216,51.26126126126126,51.30830830830831,51.35535535535536,51.4024024024024,51.44944944944945,51.4964964964965,51.54354354354354,51.590590590590594,51.63763763763764,51.68468468468468,51.731731731731735,51.77877877877878,51.825825825825824,51.872872872872875,51.91991991991992,51.966966966966964,52.014014014014016,52.06106106106106,52.10810810810811,52.15515515515516,52.2022022022022,52.24924924924925,52.2962962962963,52.34334334334334,52.390390390390394,52.43743743743744,52.48448448448448,52.531531531531535,52.57857857857858,52.625625625625624,52.672672672672675,52.71971971971972,52.766766766766764,52.813813813813816,52.86086086086086,52.90790790790791,52.95495495495496,53.002002002002,53.04904904904905,53.0960960960961,53.14314314314314,53.190190190190194,53.23723723723724,53.28428428428428,53.331331331331334,53.37837837837838,53.42542542542542,53.472472472472475,53.51951951951952,53.566566566566564,53.613613613613616,53.66066066066066,53.70770770770771,53.75475475475476,53.8018018018018,53.84884884884885,53.8958958958959,53.94294294294294,53.98998998998999,54.03703703703704,54.08408408408408,54.131131131131134,54.17817817817818,54.22522522522522,54.272272272272275,54.31931931931932,54.366366366366364,54.413413413413416,54.46046046046046,54.50750750750751,54.55455455455456,54.6016016016016,54.64864864864865,54.6956956956957,54.74274274274274,54.78978978978979,54.83683683683684,54.88388388388388,54.930930930930934,54.97797797797798,55.02502502502502,55.072072072072075,55.11911911911912,55.166166166166164,55.213213213213216,55.26026026026026,55.30730730730731,55.354354354354356,55.4014014014014,55.44844844844845,55.4954954954955,55.54254254254254,55.58958958958959,55.63663663663664,55.68368368368368,55.730730730730734,55.77777777777778,55.82482482482482,55.871871871871875,55.91891891891892,55.965965965965964,56.013013013013015,56.06006006006006,56.10710710710711,56.154154154154156,56.2012012012012,56.24824824824825,56.2952952952953,56.34234234234234,56.38938938938939,56.43643643643644,56.48348348348348,56.530530530530534,56.57757757757758,56.62462462462462,56.671671671671675,56.71871871871872,56.765765765765764,56.812812812812815,56.85985985985986,56.90690690690691,56.953953953953956,57.001001001001,57.04804804804805,57.0950950950951,57.14214214214214,57.18918918918919,57.23623623623624,57.28328328328328,57.330330330330334,57.37737737737738,57.42442442442442,57.471471471471475,57.51851851851852,57.565565565565564,57.612612612612615,57.65965965965966,57.70670670670671,57.753753753753756,57.8008008008008,57.84784784784785,57.8948948948949,57.94194194194194,57.98898898898899,58.03603603603604,58.08308308308308,58.130130130130134,58.17717717717718,58.22422422422422,58.271271271271274,58.31831831831832,58.36536536536536,58.412412412412415,58.45945945945946,58.50650650650651,58.553553553553556,58.6006006006006,58.64764764764765,58.6946946946947,58.74174174174174,58.78878878878879,58.83583583583584,58.88288288288288,58.92992992992993,58.97697697697698,59.02402402402402,59.071071071071074,59.11811811811812,59.16516516516516,59.212212212212215,59.25925925925926,59.306306306306304,59.353353353353356,59.4004004004004,59.44744744744745,59.4944944944945,59.54154154154154,59.58858858858859,59.63563563563564,59.68268268268268,59.72972972972973,59.77677677677678,59.82382382382382,59.870870870870874,59.91791791791792,59.96496496496496,60.012012012012015,60.05905905905906,60.106106106106104,60.153153153153156,60.2002002002002,60.24724724724725,60.294294294294296,60.34134134134134,60.38838838838839,60.43543543543544,60.48248248248248,60.52952952952953,60.57657657657658,60.62362362362362,60.670670670670674,60.71771771771772,60.76476476476476,60.811811811811815,60.85885885885886,60.905905905905904,60.952952952952955,61.0],\"y\":[0.0014663595891445094,0.0016184572843033092,0.0017828732856157116,0.0019602160203602884,0.0021510852335012093,0.0023560679648670702,0.0025757344588428527,0.002810634058722667,0.0030612911417481157,0.0033282011539528212,0.003611826806123749,0.003912594493359173,0.0042308910007534785,0.004567060556591508,0.004921402292031922,0.005294168162568515,0.005685561381576331,0.006095735410001872,0.006524793538798905,0.006972789092131267,0.007439726269778175,0.00792556163673977,0.008430206256914185,0.00895352845611409,0.00949535718782228,0.01005548596319347,0.01063367729513558,0.011229667595105628,0.011843172450786152,0.01247389220330667,0.01312151773438993,0.013785736366921406,0.014466237777203144,0.015162719813644919,0.015874894115093744,0.01660249142238473,0.01734526647916538,0.018103002422522177,0.01887551457044901,0.019662653521609195,0.020464307493067612,0.02128040383352326,0.02211090966285924,0.022955831603308535,0.02381521458295354,0.02468913970834521,0.025577721219441404,0.026481102556532143,0.02739945158498642,0.02833295503928367,0.02928181226251982,0.030246228331151002,0.03122640666693378,0.03222254124856536,0.03323480854425777,0.034263359293255746,0.03530831026899077,0.03636973615910046,0.03744766169792034,0.03854205418526095,0.039652816521408056,0.04077978088240335,0.041922703151928586,0.04308125821666472,0.04425503622106495,0.04544353986520981,0.046646182816099425,0.04786228928855441,0.049091094837107975,0.050331748385082205,0.05158331550168859,0.05284478292265349,0.05411506429473372,0.05539300710969281,0.05667740077901879,0.057966985786931415,0.05926046384616035,0.060556508968602846,0.06185377935132474,0.06315092996746231,0.06444662574137468,0.0657395551779354,0.06702844430703028,0.06831207079624246,0.06958927807723862,0.07085898932464711,0.0721202211201978,0.07337209662970828,0.07461385811620257,0.07584487860921703,0.07706467254832204,0.078272905218297,0.07946940079443443,0.08065414881943908,0.08182730893849921,0.08298921372669242,0.0841403694532268,0.08528145464024182,0.08641331629035044,0.08753696367691124,0.08865355961425009,0.08976440915178938,0.09087094566625288,0.09197471435956583,0.09307735320664602,0.09418057143647866,0.09528612567138398,0.09639579389245945,0.09751134744332814,0.09863452132857445,0.09976698310690778,0.10091030072110245,0.10206590964623236,0.10323507977353637,0.10441888247853788,0.10561815834766926,0.10683348605676718,0.10806515290649493,0.10931312752333933,0.11057703522951164,0.11185613657066563,0.11314930946624367,0.11445503541363505,0.11577139013414522,0.11709603899639087,0.11842623749186357,0.11975883696857612,0.12109029575322078,0.12241669571104209,0.1237337642073412,0.1250369013464502,0.12632121227498683,0.1275815442479325,0.12881252807034674,0.1300086234461361,0.13116416769011943,0.13227342719218088,0.13333065096432456,0.13433012555428092,0.13526623057405868,0.1361334940696699,0.1369266469496488,0.13764067569549138,0.13827087259683388,0.13881288278774206,0.13926274740763067,0.13961694226993057,0.13987241149283577,0.14002659562775632,0.14007745391095439,0.14002348036042342,0.1398637135414304,0.13959773992831104,0.13922569089481582,0.13874823346868673,0.13816655508590192,0.13748234267434456,0.13669775648368593,0.13581539915630372,0.13483828060180464,0.13376977929381506,0.1326136006514953,0.1313737331988496,0.130054403212222,0.12866002857029157,0.12719517251165283,0.1256644979832994,0.12407272322976985,0.12242457922842417,0.12072476952246543,0.11897793294139736,0.11718860962995786,0.11536121073304344,0.11349999200701318,0.11160903154909492,0.10969221175770914,0.107753205559057,0.10579546686075406,0.10382222512292062,0.10183648387214513,0.09984102292509316,0.09783840403720649,0.0958309796483054,0.09382090436171164,0.09181014876670247,0.08980051519600393,0.08779365500026601,0.08579108691992259,0.08379421614099772,0.08180435363465316,0.079822735400009,0.07785054125508922,0.07588891285088331,0.07393897061757367,0.07200182938894631,0.0700786124901067,0.06817046411381833,0.06627855985132156,0.06440411528350688,0.06254839257708487,0.06071270506731032,0.05889841984327093,0.057106958383302445,0.0553397953164084,0.05359845541034062,0.051884508908141384,0.05019956535234582,0.04854526604977154,0.046923275339945204,0.04533527083697421,0.04378293281823635,0.0422679329339647,0.04079192240996812,0.03935651991163913,0.037963299231474026,0.03661377695487698,0.03530940025034828,0.03405153492065216,0.03284145384141307,0.031680325903127145,0.030569205561961237,0.029509023094117594,0.02850057563814117,0.027544519099369575,0.02664136098087617,0.02579145419574691,0.024994991906340167,0.024252003427343845,0.023562351220842822,0.022925729003299283,0.022341660976204897,0.02180950218419233,0.02132843999654681,0.020897496700318475,0.020515533185593952,0.0201812536959553,0.019893211609764375,0.019649816210687485,0.019449340398897643,0.019289929287700465,0.019169609624031293,0.01908629996538838,0.019037821540458192,0.019021909715944026,0.019036225988049604,0.019078370413730207,0.01914589439424179,0.019236313721721836,0.01934712179852302,0.01947580293879214,0.01961984566229198,0.019776755891677596,0.019944069966268452,0.02011936738778586,0.020300283216409483,0.02048452003880472,0.02066985943341493,0.020854172862174544,0.021035431921863947,0.021211717892523265,0.021381230524611477,0.021542296010948335,0.02169337409388875,0.021833064262660358,0.0219601110003823,0.022073408045032133,0.022172001633551697,0.022255092703514924,0.022322038032308103,0.02237235029973776,0.02240569706637293,0.022421898666870492,0.022420925024967033,0.022402891404869167,0.022368053122302927,0.022316799247575465,0.022249645342474436,0.022167225282695262,0.022070282227515697,0.021959658808550747,0.02183628661943286,0.021701175097891014,0.02155539990089607,0.02140009088188472,0.021236419786522662,0.021065587789641314,0.02088881300082674,0.02070731806931112,0.02052231802026757,0.020335008454158428,0.020146554238320208,0.01995807881547579,0.019770654247298868,0.01958529210258121,0.019402935289033266,0.01922445091544316,0.019050624256976213,0.018882153881071263,0.018719647974914853,0.018563621898143926,0.01841449696658693,0.018272600454779145,0.018138166787089127,0.018011339869866968,0.017892176500430436,0.01778065077325919,0.017676659389783207,0.017580027765875344,0.017490516820852443,0.017407830323623197,0.01733162266574966,0.01726150692772209,0.017197063103684795,0.017137846351258722,0.01708339513683604,0.017033239152748923,0.016986906890823102,0.01694393276684392,0.016903863702165452,0.016866265081772146,0.016830726022321742,0.01679686389870154,0.01676432809312157,0.01673280294642929,0.01670200990681128,0.01667170888608718,0.016641698848061846,0.016611817666650725,0.01658194130347923,0.016551982365173367,0.01652188810944112,0.01649163797617022,0.01646124072503672,0.016430731264498698,0.016400167258526187,0.016369625597039656,0.016339198813851746,0.0163089915320699,0.016279117011521915,0.016249693866031745,0.01622084301044664,0.016192684888444633,0.016165337022539476,0.016138911917593937,0.016113515338786372,0.01608924497457869,0.016066189485045963,0.016044427926163205,0.01602402953149676,0.016005053824415565,0.015987551026561825,0.015971562722062106,0.01595712273189852,0.015944258149096537,0.015932990482961026,0.01592333685952671,0.015915311225677353,0.015908925505973788,0.01590419066408556,0.015901117624699545,0.01589971801681839,0.01590000470529201,0.01590199208410477,0.015905696112210207,0.015911134080375144,0.015918324105386857,0.015927284355916976,0.015938032022109447,0.01595058204843224,0.01596494565628491,0.015981128689167404,0.01599912981872631,0.016018938654583363,0.01604053380441665,0.016063880933224826,0.01608893087200581,0.016115617826186594,0.016143857733059323,0.016173546815218758,0.016204560373615808,0.016236751859413978,0.01626995225844958,0.01630396981588116,0.01633859012169734,0.016373576570293136,0.016408671199485515,0.01644359590629662,0.016478054028768344,0.016511732275161707,0.01654430297432768,0.016575426613974785,0.01660475462717386,0.01663193238187668,0.01665660232361333,0.01667840721798664,0.01669699343718565,0.016712014233556168,0.016723132943332147,0.016730026064952545,0.01673238615894163,0.01672992452007241,0.016722373577379775,0.016709488983444463,0.016691051361103455,0.016666867683210115,0.01663677226910223,0.016600627389862434,0.016558323483078462,0.0165097789864417,0.016454939807956474,0.016393778458581247,0.016326292880595415,0.01625250501170369,0.01617245913069794,0.016086220035244087,0.015993871105936516,0.015895512313062007,0.015791258223477447,0.015681236064587212,0.015565583900600269,0.015444448973075871,0.015317986253281209,0.015186357248167696,0.015049729094935325,0.014908273971333527,0.014762168840203765,0.014611595537484527,0.01445674120317701,0.014297799044816827,0.014134969413044327,0.013968461159133857,0.013798493235068134,0.013625296488142556,0.01344911559438138,0.013270211068437548,0.013088861282318863,0.012905364421393955,0.012720040303818824,0.012533231988890661,0.01234530710095236,0.012156658798374926,0.01196770632182798,0.011778895062476494,0.011590696098824186,0.011403605160547045,0.011218140988660726,0.011034843073550871,0.010854268765535378,0.01067698976646988,0.010503588025164653,0.010334651073759455,0.010170766856382778,0.010012518115087786,0.009860476410887454,0.009715195869394358,0.00957720675080902,0.00944700895252041,0.00932506555913662,0.00921179655914328,0.00910757284942462,0.009012710648453574,0.008927466435995506,0.008852032531656652,0.008786533416585245,0.00873102289219596,0.008685482157092387,0.008649818868612477,0.008623867238879713,0.008607389197210758,0.008600076631553454,0.008601554701687103,0.008611386196610579,0.00862907688829501,0.008654081814212247,0.008685812402192027,0.008723644333623434,0.008766926025186974,0.008814987595543807,0.008867150172034925,0.008922735383726269,0.00898107488129381,0.00904151972142783,0.009103449453743511,0.009166280751636939,0.009229475435079456,0.00929254774288853,0.009355070724372047,0.009416681635179296,0.009477086239409752,0.009536061939188697,0.009593459673628946,0.009649204550944169,0.009703295200017123,0.009755801850503697,0.009806863173109333,0.009856681933560698,0.009905519534578728,0.009953689539433971,0.010001550288063031,0.010049496731922566,0.010097951626479643,0.010147356230269966,0.010198160666641035,0.010250814108545319,0.010305754948028167,0.010363401110404588,0.010424140668631923,0.010488322906218721,0.010556249967368857,0.010628169221197858,0.010704266453069544,0.010784659980707482,0.01086939577608532,0.01095844365655382,0.01105169459058421,0.011148959145261051,0.011249967084589392,0.011354368110124309,0.011461733718681196,0.011571560136218108,0.011683272272623188,0.011796228629280552,0.011909727080073504,0.012023011437013419,0.01213527870401071,0.012245686916444653,0.01235336346011184,0.012457413760773823,0.012556930234785893,0.012651001392047277,0.012738720984623836,0.012819197097696602,0.012891561083817739,0.012954976246636999,0.013008646186131586,0.013051822723769658,0.01308381333281968,0.013103988006053186,0.013111785500268992,0.01310671890430427,0.013088380484424312,0.01305644576815436,0.013010676834707096,0.012950924787161937,0.012877131388473987,0.012789329850249989,0.01268764477005402,0.012572291219822415,0.012443572994807535,0.012301880039352609,0.012147685072740388,0.011981539445353693,0.011804068262425691,0.011615964819703372,0.011417984402352727,0.011210937505324734,0.010995682540092318,0.010773118099053595,0.010544174854857856,0.01030980717732154,0.01007098455532449,0.009828682914977072,0.009583875928293085,0.00933752640846524,0.009090577888507109,0.008843946479406076,0.008598513101948639,0.008355116182994005,0.008114544902158424,0.007877533068655886,0.007644753700459184,0.007416814369087329,0.007194253363298759,0.006977536713923464,0.006767056110170472,0.006563127725199082,0.0063659919557596785,0.0061758140675271436,0.005992685724606719,0.005816627368839273,0.005647591402211759,0.005485466114126528,0.005330080284724137,0.005181208386088665,0.005038576295174116,0.0049018674258209305,0.004770729182405045,0.004644779634555667,0.004523614311040969,0.004406813011358167,0.004293946535746965,0.004184583238206024,0.004078295312528561,0.003974664728253911,0.0038732887415940777,0.0037737849156529515,0.0036757955944072694,0.003578991785742735,0.003483076420109098,0.003387786962844032,0.003292897369687326,0.003198219386244661,0.0031036032029513596,0.003008937487241564,0.002914148823970501,0.0028192006035204316,0.002724091404318807,0.002628852922615948,0.002533547507241595,0.0024382653606473334,0.002343121469837292,0.0022482523318107144,0.002153812537932381,0.0020599712802795707,0.001966908840576554,0.001874813118927241,0.0017838762553164587,0.0016942913919023063,0.00160624961860841,0.0015199371385871143,0.001435532683910181,0.0013532052054903625,0.0012731118548825545,0.0011953962693816234,0.001120187165841206,0.0010475972429849604,0.0009777223867562632,0.0009106411685262704,0.0008464146218089302,0.0007850862795546095,0.0007266824511355936,0.000671212715805099,0.0006186706077011098,0.0005690344663593649,0.000522268426165683,0.0004783235181779083,0.0004371388582333024,0.00039864289617594394,0.0003627547023310353,0.00032938526895924113,0.0002984388062817472,0.00026981401471482344,0.00024340531713156345,0.00021910403722191798,0.0001967995122980366,0.0001763801311427544,0.00015773428968291167,0.00014075125935029528,0.00012532196494113265,0.00011133967057661636,0.00009870057398413312,0.0000873043107495013,0.00007705437142814837,0.00006785843544571903,0.00005962862656906312,0.00005228169539298434,0.00004573913477641269,0.00003992723448579678,0.00003477708147779895,0.00003022451229329885,0.000026210023956741865,0.000022678649595840394,0.000019579804733268355,0.000016867109870591747,0.000014498194600835858,0.000012434488064301903,0.00001064100011586238,9.086097112977838e-6,7.741275772620705e-6,6.580938091275592e-6,5.5821698827935914e-6,4.724525070350336e-6,3.9898174758860425e-6,3.361921486803225e-6,2.826582647759552e-6,2.371238926526768e-6,1.984853137565169e-6,1.6577567749054881e-6,1.3815053062044786e-6,1.1487448109932495e-6,9.530897063146885e-7,7.890111900007181e-7,6.517359434217721e-7,5.371545691923443e-7,4.4173919254214637e-7,3.624696253890625e-7,2.967674771851923e-7,2.424375940698896e-7,1.9761621562492503e-7,1.6072525462351686e-7,1.3043212781641022e-7,1.0561459341508712e-7,8.533008211199858e-8,6.878904200680308e-8,5.5331852649222095e-8,4.4408898694759913e-8,3.5563428686547616e-8,2.8416858653228447e-8,2.265621310424827e-8,1.8023427277514347e-8,1.4306263914516787e-8,1.133062525231707e-8,8.954066248102348e-9,7.060338265580747e-9,5.5548135752800044e-9,4.360660111323362e-9,3.4156530717091596e-9,2.6695252538430142e-9,2.0817716020716284e-9,1.6198354372993382e-9,1.257614372224026e-9,9.742331210874039e-10,7.530384190858663e-10,5.807781977789342e-10,4.469331364785873e-10,3.4317383563725104e-10,2.629212383762229e-10,2.009916536553774e-10,1.5331089373273404e-10,1.1668470563008924e-10,8.861491933620547e-11,6.715261480905779e-11,5.078117870493138e-11,3.83234267991101e-11,2.88680499009042e-11,2.171153491608025e-11,1.6312448933086525e-11,1.2255578866567425e-11,9.223914558569266e-12,6.976868288722858e-12,5.333454496146597e-12,4.159423832952608e-12,3.3575670349049245e-12,2.8605863434092033e-12,2.6260837317494737e-12,2.633343189275115e-12,2.8816950832559287e-12,3.3903497284795145e-12,4.199679831571026e-12,5.374022219288528e-12,7.0061628670543e-12,9.223770433976822e-12,1.219815723710436e-11,1.6155878227604915e-11,2.1393834028511355e-11,2.8298730208975206e-11,3.7371969444879895e-11,4.9261324996138555e-11,6.480107339717167e-11,8.506266346838859e-11,1.114184817118247e-10,1.4562185706659532e-10,1.8990714958428285e-10,2.471146093514688e-10,3.208456985407555e-10,4.1565576880330733e-10,5.372924099766709e-10,6.929894698305618e-10,8.918287279815196e-10,1.1451835340859107e-9,1.4672614391781602e-9,1.875766011982273e-9,2.3927016956161615e-9,3.045349784361384e-9,3.867448448080812e-9,4.9006152685077635e-9,6.196057042949467e-9,7.816618722187216e-9,9.839231343065048e-9,1.2357827749889558e-8,1.5486804821681624e-8,1.9365121872323697e-8,2.4161136889966613e-8,3.0078295332602036e-8,3.736180027481908e-8,4.630640775156148e-8,5.7265507075257345e-8,7.066166257577744e-8,8.699881043891667e-8,1.0687632184983051e-7,1.310051611676575e-7,1.6022638497664043e-7,1.9553224410628346e-7,2.3809016553054367e-7,2.89269903793038e-7,3.5067416151533554e-7,4.2417298478574455e-7,5.119422408571311e-7,6.165064815728872e-7,7.407864851761696e-7,8.881517504518202e-7,1.0624781892597835e-6,1.268211225169949e-6,1.5104344558149208e-6,1.7949439734862536e-6,2.12832836121765e-6,2.518054289041756e-6,2.972557526355211e-6,3.50133906066828e-6,4.1150658700126156e-6,4.825675735839057e-6,5.646485305654156e-6,6.5923004206816055e-6,7.679527514795987e-6,8.92628466873632e-6,0.000010352510670682597,0.000011980070193885529,0.000013832852958088822,0.000015936864498611987,0.00001832030593056704,0.000021013639871825352,0.00002404963948375465,0.00002746341741077042,0.00003129243125612141,0.00003557646213026542,0.00004035756275799805,0.00004567997163948606,0.000051589989836715404,0.00005813581710821625,0.00006536734434820384,0.00007333589960750985,0.00008209394538749613,0.0000916947254076308,0.00010219185965392537,0.00011363888721806857,0.00012608875723260857,0.0001395932690903396,0.00015420246409755846,0.00016996397173981147,0.00018692231482130486,0.00020511817885807674,0.00022458765224120963,0.0002453614448176355,0.00026746409363835876,0.0002909131656716306,0.0003157184682445451,0.0003418812788329203,0.000369393606538706,0.00039823749814926475,0.0004283844020378948,0.00045979460331683526,0.0004924167435718266,0.0005261874381742621,0.0005610310035710106,0.0005968593060855346,0.0006335717426251162,0.000671055362283036,0.000709185136161134,0.0007478243808358208,0.00078682533877258,0.0008260299166906223,0.0008652705804274928,0.000904371402294236,0.0009431492542917836,0.0009814151379291159,0.0010189756387960214,0.0010556344915524955,0.0010911942386580863,0.0011254579640312767,0.001158231080952321,0.0011893231519509763,0.001218549717194921,0.0012457341070515034,0.0012707092140638507,0.0012933191995815128,0.0013134211107278053,0.001330886384271655,0.0013456022152928257,0.00135747277026787,0.0013664202263319264,0.0013723856209516146,0.001375329499031784,0.001375232347520863,0.001372094810817582,0.001365937683652482,0.0013568016815541915,0.0013447469924449463,0.0013298526162738799,0.0013122155028240019,0.0012919495008563034,0.001269184134523628,0.001244063225446064,0.0012167433809434545,0.0011873923706330794,0.0011561874148945002,0.0011233134095609036,0.0010889611116097332,0.0010533253105969357,0.0010166030101202658,0.0009789916427286696,0.0009406873404460721,0.0009018832814848173,0.0008627681318296742,0.0008235245982255189,0.0007843281067515056,0.0007453456186660254,0.0007067345926149103,0.0006686420996638652,0.0006312040949990288,0.000594544847585691,0.0005587765266314649,0.0005239989414079506,0.000490299428879667,0.0004577528817011014,0.00042642190749571195,0.00039635710894112876,0.0003675974730634998,0.0003401708572949419,0.0003140945592689322,0.0002893759570119933,0.0002660132061234404,0.00024399598070087072,0.00022330624514708446,0.00020391904456058303,0.0001858033021404907,0.00016892261290122457,0.00015323602396408398,0.000138698792744869,0.00012526311546167182,0.00011287881951915633,0.00010149401446132789,0.0000910556973020928,0.00008151030912235797,0.00007280424084753883,0.00006488428707616392,0.00005769804770763836,0.00005119427790701147,0.00004532318764118401,0.000040036692621257976,0.00003528861898909255,0.000031034864493944815,0.000027233519220477446,0.000023844949157341554,0.000020831846041853228,0.000018159246988101524,0.000015794527410818982,0.000013707370703633318,0.00001186971802628787,0.000010255701409383465,8.841563205266135e-6,7.6055647076584085e-6,6.527886537784666e-6,5.5905231577457195e-6,4.777173628813661e-6,4.073130488463937e-6,3.46516837992906e-6,2.9414338357328473e-6,2.491337395199904e-6,2.105449027802228e-6,1.7753976412624277e-6,1.4937752768222372e-6,1.254046434751808e-6,1.0504628312891488e-6,8.77983763634064e-7,7.322021519262543e-7,6.092762355865593e-7,5.058668250566063e-7,4.1907994774710173e-7,3.4641467770053877e-7,2.8571590082973425e-7,2.351317403279622e-7,1.9307534868431029e-7,1.581907624393337e-7,1.2932251219954e-7,1.0548868238443945e-7,8.585712168128147e-8,6.972451529748669e-8,5.649804299187421e-8,4.567936179272007e-8,3.685066862953289e-8,2.9662615263117344e-8,2.3823865429835338e-8,1.9092101636015562e-8,1.526630623609999e-8,1.218015805886766e-8,9.696401724122675e-9,7.702061783222888e-9,6.104387830657965e-9,4.827429717732383e-9,3.809153931431715e-9,2.999023085153248e-9,2.355970326474595e-9,1.8467093391741159e-9,1.4443285523085059e-9,1.1271252261291544e-9,8.776413257714914e-10,6.81868584334171e-10,5.285949630895131e-10,4.088689031145503e-10,3.155613924263768e-10,2.430090055504118e-10,1.8672376452157773e-10,1.4315797376252049e-10,1.0951414401391471e-10,8.359178612804147e-11,6.366426344861443e-11,4.838007695072549e-11,3.668395166297555e-11,2.7753923836436393e-11,2.0951320171804446e-11],\"type\":\"scatter\"},{\"mode\":\"lines\",\"name\":\"Overweight_Level_II\",\"x\":[14.0,14.047047047047046,14.094094094094094,14.14114114114114,14.188188188188189,14.235235235235235,14.282282282282281,14.32932932932933,14.376376376376376,14.423423423423424,14.47047047047047,14.517517517517518,14.564564564564565,14.611611611611611,14.65865865865866,14.705705705705705,14.752752752752754,14.7997997997998,14.846846846846846,14.893893893893894,14.94094094094094,14.987987987987989,15.035035035035035,15.082082082082081,15.12912912912913,15.176176176176176,15.223223223223224,15.27027027027027,15.317317317317318,15.364364364364365,15.411411411411411,15.458458458458459,15.505505505505505,15.552552552552552,15.5995995995996,15.646646646646646,15.693693693693694,15.74074074074074,15.787787787787789,15.834834834834835,15.881881881881881,15.92892892892893,15.975975975975976,16.023023023023022,16.07007007007007,16.117117117117118,16.164164164164163,16.21121121121121,16.25825825825826,16.305305305305303,16.35235235235235,16.3993993993994,16.446446446446448,16.493493493493492,16.54054054054054,16.58758758758759,16.634634634634637,16.68168168168168,16.72872872872873,16.775775775775777,16.822822822822822,16.86986986986987,16.916916916916918,16.963963963963963,17.01101101101101,17.05805805805806,17.105105105105103,17.15215215215215,17.1991991991992,17.246246246246248,17.293293293293292,17.34034034034034,17.38738738738739,17.434434434434436,17.48148148148148,17.52852852852853,17.575575575575577,17.62262262262262,17.66966966966967,17.716716716716718,17.763763763763762,17.81081081081081,17.85785785785786,17.904904904904903,17.95195195195195,17.998998998999,18.046046046046047,18.093093093093092,18.14014014014014,18.187187187187188,18.234234234234236,18.28128128128128,18.32832832832833,18.375375375375377,18.42242242242242,18.46946946946947,18.516516516516518,18.563563563563562,18.61061061061061,18.65765765765766,18.704704704704703,18.75175175175175,18.7987987987988,18.845845845845844,18.892892892892892,18.93993993993994,18.986986986986988,19.034034034034036,19.08108108108108,19.12812812812813,19.175175175175177,19.22222222222222,19.26926926926927,19.316316316316318,19.363363363363362,19.41041041041041,19.45745745745746,19.504504504504503,19.55155155155155,19.5985985985986,19.645645645645644,19.69269269269269,19.73973973973974,19.786786786786788,19.833833833833836,19.88088088088088,19.92792792792793,19.974974974974977,20.02202202202202,20.06906906906907,20.116116116116117,20.163163163163162,20.21021021021021,20.25725725725726,20.304304304304303,20.35135135135135,20.3983983983984,20.445445445445444,20.49249249249249,20.53953953953954,20.586586586586588,20.633633633633636,20.68068068068068,20.72772772772773,20.774774774774777,20.82182182182182,20.86886886886887,20.915915915915917,20.962962962962962,21.01001001001001,21.057057057057058,21.104104104104103,21.15115115115115,21.1981981981982,21.245245245245243,21.29229229229229,21.33933933933934,21.386386386386388,21.433433433433436,21.48048048048048,21.52752752752753,21.574574574574577,21.62162162162162,21.66866866866867,21.715715715715717,21.762762762762762,21.80980980980981,21.856856856856858,21.903903903903903,21.95095095095095,21.997997997998,22.045045045045043,22.092092092092095,22.13913913913914,22.186186186186184,22.233233233233236,22.28028028028028,22.32732732732733,22.374374374374376,22.42142142142142,22.46846846846847,22.515515515515517,22.56256256256256,22.60960960960961,22.656656656656658,22.703703703703702,22.75075075075075,22.7977977977978,22.844844844844843,22.891891891891895,22.93893893893894,22.985985985985984,23.033033033033036,23.08008008008008,23.127127127127128,23.174174174174176,23.22122122122122,23.26826826826827,23.315315315315317,23.36236236236236,23.40940940940941,23.456456456456458,23.503503503503502,23.55055055055055,23.5975975975976,23.644644644644643,23.69169169169169,23.73873873873874,23.785785785785784,23.832832832832835,23.87987987987988,23.926926926926928,23.973973973973976,24.02102102102102,24.06806806806807,24.115115115115117,24.16216216216216,24.20920920920921,24.256256256256258,24.303303303303302,24.35035035035035,24.3973973973974,24.444444444444443,24.49149149149149,24.53853853853854,24.585585585585584,24.632632632632635,24.67967967967968,24.726726726726728,24.773773773773776,24.82082082082082,24.86786786786787,24.914914914914917,24.96196196196196,25.00900900900901,25.056056056056057,25.103103103103102,25.15015015015015,25.197197197197198,25.244244244244243,25.29129129129129,25.33833833833834,25.385385385385383,25.432432432432435,25.47947947947948,25.526526526526524,25.573573573573576,25.62062062062062,25.66766766766767,25.714714714714717,25.76176176176176,25.80880880880881,25.855855855855857,25.902902902902902,25.94994994994995,25.996996996996998,26.044044044044043,26.09109109109109,26.13813813813814,26.185185185185183,26.232232232232235,26.27927927927928,26.326326326326324,26.373373373373376,26.42042042042042,26.46746746746747,26.514514514514516,26.56156156156156,26.60860860860861,26.655655655655657,26.7027027027027,26.74974974974975,26.796796796796798,26.843843843843842,26.89089089089089,26.93793793793794,26.984984984984983,27.032032032032035,27.07907907907908,27.126126126126124,27.173173173173176,27.22022022022022,27.26726726726727,27.314314314314316,27.36136136136136,27.40840840840841,27.455455455455457,27.5025025025025,27.54954954954955,27.596596596596598,27.643643643643642,27.69069069069069,27.73773773773774,27.784784784784783,27.831831831831835,27.87887887887888,27.925925925925924,27.972972972972975,28.02002002002002,28.067067067067068,28.114114114114116,28.16116116116116,28.20820820820821,28.255255255255257,28.3023023023023,28.34934934934935,28.396396396396398,28.443443443443442,28.49049049049049,28.53753753753754,28.584584584584583,28.631631631631635,28.67867867867868,28.725725725725724,28.772772772772775,28.81981981981982,28.866866866866868,28.913913913913916,28.96096096096096,29.00800800800801,29.055055055055057,29.1021021021021,29.14914914914915,29.196196196196198,29.243243243243242,29.29029029029029,29.33733733733734,29.384384384384383,29.431431431431434,29.47847847847848,29.525525525525524,29.572572572572575,29.61961961961962,29.666666666666668,29.713713713713716,29.76076076076076,29.80780780780781,29.854854854854857,29.9019019019019,29.94894894894895,29.995995995995997,30.043043043043042,30.09009009009009,30.137137137137138,30.184184184184186,30.23123123123123,30.27827827827828,30.325325325325327,30.37237237237237,30.41941941941942,30.466466466466468,30.513513513513512,30.56056056056056,30.60760760760761,30.654654654654657,30.7017017017017,30.74874874874875,30.795795795795797,30.842842842842842,30.88988988988989,30.936936936936938,30.983983983983986,31.03103103103103,31.07807807807808,31.125125125125127,31.17217217217217,31.21921921921922,31.266266266266268,31.313313313313312,31.36036036036036,31.40740740740741,31.454454454454456,31.5015015015015,31.54854854854855,31.595595595595597,31.64264264264264,31.68968968968969,31.736736736736738,31.783783783783786,31.83083083083083,31.87787787787788,31.924924924924927,31.97197197197197,32.01901901901902,32.06606606606607,32.113113113113116,32.16016016016016,32.207207207207205,32.254254254254256,32.3013013013013,32.34834834834835,32.3953953953954,32.44244244244244,32.489489489489486,32.53653653653654,32.58358358358359,32.630630630630634,32.67767767767768,32.72472472472472,32.77177177177177,32.81881881881882,32.86586586586587,32.912912912912915,32.95995995995996,33.007007007007005,33.054054054054056,33.1011011011011,33.14814814814815,33.1951951951952,33.24224224224224,33.289289289289286,33.33633633633634,33.38338338338338,33.430430430430434,33.47747747747748,33.52452452452452,33.57157157157157,33.61861861861862,33.66566566566567,33.712712712712715,33.75975975975976,33.806806806806804,33.853853853853856,33.9009009009009,33.94794794794795,33.994994994995,34.04204204204204,34.089089089089086,34.13613613613614,34.18318318318318,34.230230230230234,34.27727727727728,34.32432432432432,34.37137137137137,34.41841841841842,34.46546546546547,34.512512512512515,34.55955955955956,34.606606606606604,34.653653653653656,34.7007007007007,34.74774774774775,34.7947947947948,34.84184184184184,34.888888888888886,34.93593593593594,34.98298298298298,35.030030030030034,35.07707707707708,35.12412412412412,35.17117117117117,35.21821821821822,35.26526526526527,35.312312312312315,35.35935935935936,35.406406406406404,35.453453453453456,35.5005005005005,35.54754754754755,35.5945945945946,35.64164164164164,35.688688688688686,35.73573573573574,35.78278278278278,35.82982982982983,35.87687687687688,35.92392392392392,35.97097097097097,36.01801801801802,36.06506506506507,36.112112112112115,36.15915915915916,36.206206206206204,36.253253253253256,36.3003003003003,36.34734734734735,36.394394394394396,36.44144144144144,36.488488488488485,36.53553553553554,36.58258258258258,36.62962962962963,36.67667667667668,36.72372372372372,36.77077077077077,36.81781781781782,36.86486486486487,36.911911911911915,36.95895895895896,37.006006006006004,37.05305305305305,37.1001001001001,37.14714714714715,37.194194194194196,37.24124124124124,37.288288288288285,37.33533533533534,37.38238238238238,37.42942942942943,37.47647647647648,37.52352352352352,37.57057057057057,37.61761761761762,37.66466466466467,37.711711711711715,37.75875875875876,37.805805805805804,37.85285285285285,37.8998998998999,37.94694694694695,37.993993993993996,38.04104104104104,38.088088088088085,38.13513513513514,38.18218218218218,38.22922922922923,38.27627627627628,38.32332332332332,38.37037037037037,38.41741741741742,38.46446446446447,38.511511511511515,38.55855855855856,38.605605605605604,38.65265265265265,38.6996996996997,38.74674674674675,38.793793793793796,38.84084084084084,38.887887887887885,38.93493493493494,38.98198198198198,39.02902902902903,39.07607607607608,39.12312312312312,39.17017017017017,39.21721721721722,39.26426426426427,39.311311311311314,39.35835835835836,39.4054054054054,39.45245245245245,39.4994994994995,39.54654654654655,39.593593593593596,39.64064064064064,39.687687687687685,39.73473473473474,39.78178178178178,39.82882882882883,39.87587587587588,39.92292292292292,39.969969969969966,40.01701701701702,40.06406406406407,40.111111111111114,40.15815815815816,40.2052052052052,40.25225225225225,40.2992992992993,40.34634634634635,40.393393393393396,40.44044044044044,40.487487487487485,40.53453453453454,40.58158158158158,40.62862862862863,40.67567567567568,40.72272272272272,40.769769769769766,40.81681681681682,40.86386386386387,40.910910910910914,40.95795795795796,41.005005005005,41.05205205205205,41.0990990990991,41.14614614614615,41.193193193193196,41.24024024024024,41.287287287287285,41.334334334334336,41.38138138138138,41.42842842842843,41.47547547547548,41.52252252252252,41.569569569569566,41.61661661661662,41.66366366366367,41.710710710710714,41.75775775775776,41.8048048048048,41.85185185185185,41.8988988988989,41.94594594594595,41.992992992992995,42.04004004004004,42.087087087087085,42.134134134134136,42.18118118118118,42.22822822822823,42.27527527527528,42.32232232232232,42.369369369369366,42.41641641641642,42.46346346346347,42.510510510510514,42.55755755755756,42.6046046046046,42.65165165165165,42.6986986986987,42.74574574574575,42.792792792792795,42.83983983983984,42.886886886886884,42.933933933933936,42.98098098098098,43.02802802802803,43.07507507507508,43.12212212212212,43.169169169169166,43.21621621621622,43.26326326326327,43.310310310310314,43.35735735735736,43.4044044044044,43.45145145145145,43.4984984984985,43.54554554554555,43.592592592592595,43.63963963963964,43.686686686686684,43.733733733733736,43.78078078078078,43.82782782782783,43.87487487487488,43.92192192192192,43.968968968968966,44.01601601601602,44.06306306306307,44.110110110110114,44.15715715715716,44.2042042042042,44.25125125125125,44.2982982982983,44.34534534534535,44.392392392392395,44.43943943943944,44.486486486486484,44.533533533533536,44.58058058058058,44.62762762762763,44.67467467467468,44.72172172172172,44.768768768768766,44.81581581581582,44.86286286286287,44.90990990990991,44.95695695695696,45.004004004004,45.05105105105105,45.0980980980981,45.14514514514515,45.192192192192195,45.23923923923924,45.286286286286284,45.333333333333336,45.38038038038038,45.42742742742743,45.474474474474476,45.52152152152152,45.568568568568566,45.61561561561562,45.66266266266267,45.70970970970971,45.75675675675676,45.8038038038038,45.85085085085085,45.8978978978979,45.94494494494495,45.991991991991995,46.03903903903904,46.086086086086084,46.133133133133136,46.18018018018018,46.227227227227225,46.274274274274276,46.32132132132132,46.36836836836837,46.41541541541542,46.46246246246246,46.50950950950951,46.55655655655656,46.6036036036036,46.650650650650654,46.6976976976977,46.74474474474474,46.791791791791795,46.83883883883884,46.885885885885884,46.932932932932935,46.97997997997998,47.027027027027025,47.074074074074076,47.12112112112112,47.16816816816817,47.21521521521522,47.26226226226226,47.30930930930931,47.35635635635636,47.4034034034034,47.450450450450454,47.4974974974975,47.54454454454454,47.591591591591595,47.63863863863864,47.685685685685684,47.732732732732735,47.77977977977978,47.826826826826824,47.873873873873876,47.92092092092092,47.96796796796797,48.01501501501502,48.06206206206206,48.10910910910911,48.15615615615616,48.2032032032032,48.250250250250254,48.2972972972973,48.34434434434434,48.391391391391394,48.43843843843844,48.48548548548548,48.532532532532535,48.57957957957958,48.626626626626624,48.673673673673676,48.72072072072072,48.76776776776777,48.81481481481482,48.86186186186186,48.90890890890891,48.95595595595596,49.003003003003,49.050050050050054,49.0970970970971,49.14414414414414,49.191191191191194,49.23823823823824,49.28528528528528,49.332332332332335,49.37937937937938,49.426426426426424,49.473473473473476,49.52052052052052,49.56756756756757,49.61461461461462,49.66166166166166,49.70870870870871,49.75575575575576,49.8028028028028,49.84984984984985,49.8968968968969,49.94394394394394,49.990990990990994,50.03803803803804,50.08508508508508,50.132132132132135,50.17917917917918,50.226226226226224,50.273273273273276,50.32032032032032,50.36736736736737,50.414414414414416,50.46146146146146,50.50850850850851,50.55555555555556,50.6026026026026,50.64964964964965,50.6966966966967,50.74374374374374,50.790790790790794,50.83783783783784,50.88488488488488,50.931931931931935,50.97897897897898,51.026026026026024,51.073073073073076,51.12012012012012,51.16716716716717,51.214214214214216,51.26126126126126,51.30830830830831,51.35535535535536,51.4024024024024,51.44944944944945,51.4964964964965,51.54354354354354,51.590590590590594,51.63763763763764,51.68468468468468,51.731731731731735,51.77877877877878,51.825825825825824,51.872872872872875,51.91991991991992,51.966966966966964,52.014014014014016,52.06106106106106,52.10810810810811,52.15515515515516,52.2022022022022,52.24924924924925,52.2962962962963,52.34334334334334,52.390390390390394,52.43743743743744,52.48448448448448,52.531531531531535,52.57857857857858,52.625625625625624,52.672672672672675,52.71971971971972,52.766766766766764,52.813813813813816,52.86086086086086,52.90790790790791,52.95495495495496,53.002002002002,53.04904904904905,53.0960960960961,53.14314314314314,53.190190190190194,53.23723723723724,53.28428428428428,53.331331331331334,53.37837837837838,53.42542542542542,53.472472472472475,53.51951951951952,53.566566566566564,53.613613613613616,53.66066066066066,53.70770770770771,53.75475475475476,53.8018018018018,53.84884884884885,53.8958958958959,53.94294294294294,53.98998998998999,54.03703703703704,54.08408408408408,54.131131131131134,54.17817817817818,54.22522522522522,54.272272272272275,54.31931931931932,54.366366366366364,54.413413413413416,54.46046046046046,54.50750750750751,54.55455455455456,54.6016016016016,54.64864864864865,54.6956956956957,54.74274274274274,54.78978978978979,54.83683683683684,54.88388388388388,54.930930930930934,54.97797797797798,55.02502502502502,55.072072072072075,55.11911911911912,55.166166166166164,55.213213213213216,55.26026026026026,55.30730730730731,55.354354354354356,55.4014014014014,55.44844844844845,55.4954954954955,55.54254254254254,55.58958958958959,55.63663663663664,55.68368368368368,55.730730730730734,55.77777777777778,55.82482482482482,55.871871871871875,55.91891891891892,55.965965965965964,56.013013013013015,56.06006006006006,56.10710710710711,56.154154154154156,56.2012012012012,56.24824824824825,56.2952952952953,56.34234234234234,56.38938938938939,56.43643643643644,56.48348348348348,56.530530530530534,56.57757757757758,56.62462462462462,56.671671671671675,56.71871871871872,56.765765765765764,56.812812812812815,56.85985985985986,56.90690690690691,56.953953953953956,57.001001001001,57.04804804804805,57.0950950950951,57.14214214214214,57.18918918918919,57.23623623623624,57.28328328328328,57.330330330330334,57.37737737737738,57.42442442442442,57.471471471471475,57.51851851851852,57.565565565565564,57.612612612612615,57.65965965965966,57.70670670670671,57.753753753753756,57.8008008008008,57.84784784784785,57.8948948948949,57.94194194194194,57.98898898898899,58.03603603603604,58.08308308308308,58.130130130130134,58.17717717717718,58.22422422422422,58.271271271271274,58.31831831831832,58.36536536536536,58.412412412412415,58.45945945945946,58.50650650650651,58.553553553553556,58.6006006006006,58.64764764764765,58.6946946946947,58.74174174174174,58.78878878878879,58.83583583583584,58.88288288288288,58.92992992992993,58.97697697697698,59.02402402402402,59.071071071071074,59.11811811811812,59.16516516516516,59.212212212212215,59.25925925925926,59.306306306306304,59.353353353353356,59.4004004004004,59.44744744744745,59.4944944944945,59.54154154154154,59.58858858858859,59.63563563563564,59.68268268268268,59.72972972972973,59.77677677677678,59.82382382382382,59.870870870870874,59.91791791791792,59.96496496496496,60.012012012012015,60.05905905905906,60.106106106106104,60.153153153153156,60.2002002002002,60.24724724724725,60.294294294294296,60.34134134134134,60.38838838838839,60.43543543543544,60.48248248248248,60.52952952952953,60.57657657657658,60.62362362362362,60.670670670670674,60.71771771771772,60.76476476476476,60.811811811811815,60.85885885885886,60.905905905905904,60.952952952952955,61.0],\"y\":[0.00008620009648572466,0.00009970525082903413,0.00011509877895743628,0.00013260801935203992,0.0001524822648983103,0.0001749941576034308,0.00020044108168621531,0.00022914654230025167,0.00026146151591202084,0.0002977657571549285,0.0003384690458343301,0.0003840123566849357,0.00043486893349695295,0.0004915452483473075,0.000554581825912212,0.0006245539122119876,0.0007020719666609378,0.0007877819559764565,0.0008823654283531294,0.0009865393463383769,0.0011010556570652326,0.0012267005789129387,0.0013642935842836672,0.0015146860590127638,0.0016787596199758256,0.001857424073729147,0.0020516150005279155,0.002262290949820593,0.0024904302353299197,0.0027370273201139544,0.0030030887845694985,0.0032896288732116004,0.003597664619250951,0.003928210549514549,0.004282272976124937,0.0046608438855847934,0.005064894440511888,0.005495368114235223,0.005953173483794293,0.006439176712557557,0.006954193759672327,0.007498982359829851,0.00807423382332402,0.008680564713028239,0.009318508461616259,0.009988506999015767,0.010690902466569384,0.011425929100559283,0.01219370537346278,0.012994226486395519,0.01382735731047353,0.014692825878116315,0.015590217527445901,0.01651896980371889,0.017478368221011287,0.018467542985017453,0.019485466773674662,0.020530953666331068,0.021602659304239363,0.022699082355289165,0.023818567344096944,0.024959308894947217,0.026119357419715723,0.027296626266002617,0.028488900322485078,0.029693846059188997,0.030909022960363935,0.03213189628719336,0.033359851087111835,0.03459020734640306,0.035820236163434396,0.037047176801755254,0.03826825446571055,0.03948069862664731,0.04068176171547056,0.04186873798760315,0.04303898235955653,0.044189929012485286,0.04531910955744639,0.046424170559633174,0.047502890224613625,0.04855319405844627,0.049573169325377996,0.05056107814133931,0.05151536905845018,0.05243468701480967,0.05331788154467353,0.05416401316625498,0.054972357887427034,0.055742409793096144,0.056473881701591136,0.05716670390055143,0.05782102099525222,0.058437186923590005,0.05901575821188522,0.059557485563898636,0.0600633038918406,0.0605343209125596,0.0609718044443806,0.06137716855024515,0.06175195868090175,0.06209783597790906,0.062416560900355134,0.06270997634146931,0.06297999040200362,0.06322855898639104,0.06345766838561373,0.06366931800740394,0.06386550341016857,0.06404819979191909,0.0642193460796389,0.06438082975802494,0.06453447256945073,0.06468201720928482,0.06482511513247327,0.06496531557837062,0.06510405591125225,0.06524265336364096,0.06538229825840686,0.06552404877357217,0.06566882730068732,0.06581741843354923,0.06597046860884496,0.06612848740400244,0.06629185048018237,0.06646080413996146,0.06663547145005716,0.06681585985945479,0.06700187022292267,0.06719330711922013,0.06738989033281921,0.06759126734788828,0.06779702668412518,0.06800671188615968,0.06821983596211505,0.06843589605300515,0.06865438810334093,0.06887482129512357,0.06909673200260812,0.06931969702427475,0.06954334585154365,0.06976737174118612,0.06999154137021477,0.07021570286833845,0.07043979204377188,0.07066383664315434,0.07088795851525947,0.07111237358074654,0.07133738954589516,0.07156340133655457,0.07179088426875627,0.07202038501387699,0.072252510458104,0.07248791459742784,0.0727272836496243,0.07297131960282063,0.07322072245542498,0.07347617143363831,0.07373830549968262,0.07400770348561653,0.07428486420352835,0.07457018689257473,0.0748639523663487,0.07516630522021148,0.07547723744743898,0.07579657379533473,0.0761239591680932,0.07645884835251505,0.076800498306182,0.07714796320601237,0.07750009240906304,0.0778555314278228,0.07821272597005127,0.0785699290395056,0.07892521103970289,0.07927647276931425,0.07962146114597815,0.07995778744630017,0.08028294780463409,0.08059434567281624,0.08088931590819028,0.08116515012881104,0.08141912295310974,0.08164851872711736,0.08185065833573306,0.08202292569568846,0.08216279353667523,0.08226784809336722,0.08233581235439066,0.08236456754412486,0.08235217254883752,0.08229688103934417,0.08219715608712493,0.08205168211870886,0.08185937410309929,0.0816193839179222,0.08133110389087438,0.08099416756269134,0.08060844776542447,0.08017405215419222,0.07969131637099972,0.0791607950548644,0.07858325094279185,0.07795964233051522,0.07729110918003426,0.07657895817268545,0.07582464701153359,0.07502976827555491,0.07419603312044046,0.07332525510730678,0.07241933442160058,0.07148024272062498,0.0705100088199659,0.06951070539751167,0.06848443685943285,0.06743332847628751,0.06635951686016413,0.06526514181634561,0.06415233956618205,0.06302323730246279,0.06187994900540977,0.0607245724170706,0.05955918704504525,0.05838585304363092,0.05720661080206047,0.056023481055883624,0.05483846532890464,0.05365354650959259,0.05247068936751519,0.05129184082203507,0.050118929787043034,0.04895386643157508,0.04779854071641021,0.046654820090655934,0.04552454625935024,0.0444095309626661,0.04331155073862496,0.04223234067369748,0.041173587178480936,0.040136919858053004,0.03912390257786975,0.03813602385545783,0.03717468673496615,0.03624119832518813,0.03533675920146023,0.03446245288724935,0.03361923564195899,0.03280792678711782,0.03202919980348625,0.03128357442663329,0.03057140995820511,0.029892899994581397,0.029248068754150296,0.02863676915941262,0.02805868280100993,0.02751332187816614,0.027000033174574715,0.02651800409120869,0.02606627071866006,0.025643727892260933,0.025249141134252577,0.024881160349484056,0.024538335105404253,0.024219131294203212,0.023921948945633625,0.02364514093395699,0.023387032302145776,0.02314593991146331,0.022920192115118594,0.02270814815114332,0.022508216952030147,0.02231887507697925,0.022138683486677847,0.02196630290007587,0.02180050749724635,0.021640196761564062,0.021484405287550617,0.021332310417051675,0.02118323760523632,0.021036663458352704,0.020892216426475155,0.020749675175694662,0.0206089647045809,0.020470150308376588,0.02033342953057768,0.02019912227454896,0.020067659277017376,0.019939569170139226,0.019815464378904562,0.01969602611562261,0.019581988742888922,0.01947412378071555,0.01937322383239923,0.019280086697401982,0.01919549992822307,0.019120226072366634,0.019054988820450324,0.01900046025781329,0.018957249390252586,0.018925892085374946,0.018906842540179873,0.018900466353581197,0.018907035250323084,0.018926723470821676,0.01895960581054142,0.019005657263174047,0.019064754194717717,0.01913667695101029,0.019221113779793256,0.019317665930300404,0.019425853778918555,0.01954512381883152,0.019674856344787457,0.019814373661231684,0.019962948642904873,0.020119813481437075,0.02028416845926022,0.02045519060294938,0.020632042081553243,0.02081387823118594,0.020999855104619495,0.021189136463452884,0.021380900150078597,0.021574343796700264,0.021768689848548062,0.021963189897774002,0.02215712834284253,0.02234982540515577,0.02254063954983444,0.02272896937070453,0.02291425501035664,0.023095979194455142,0.02327366796516451,0.02344689120150005,0.0236152630146613,0.0237784421039265,0.023936132153640304,0.02408808234435217,0.02423408804142491,0.024373991712767686,0.024507684113954122,0.024635105764265898,0.02475624872148129,0.024871158646885917,0.024979937135432232,0.02508274426959999,0.025179801339740227,0.02527139365888689,0.025357873386608203,0.0254396622647702,0.025517254158450423,0.025591217287952106,0.02566219603316825,0.025730912189628898,0.025798165556590494,0.025864833741537172,0.025931871072512016,0.026000306519717437,0.026071240540681946,0.026145840778849475,0.026225336563413287,0.026311012178305903,0.02640419889010892,0.02650626574782692,0.026618609191560984,0.026742641531584697,0.026879778383695773,0.027031425170465494,0.02719896282057792,0.02738373281938124,0.02758702178254161,0.027810045740862856,0.02805393433750084,0.028319715148626468,0.028608298344782845,0.02892046191255322,0.029256837654569014,0.02961789818032047,0.030003945090733255,0.030415098546167325,0.03085128839063506,0.03131224698489555,0.03179750387806275,0.032306382421905,0.03283799840460461,0.03339126075194594,0.03396487431425899,0.034557344727572874,0.035166985307897275,0.03579192590893592,0.03643012364638785,0.03707937536680888,0.0377373317162553,0.03840151264397754,0.03906932415961978,0.039738076148928506,0.04040500104304445,0.04106727313011504,0.041722028295216644,0.042366383975307384,0.04299745911999473,0.04361239395604598,0.04420836936350723,0.04478262568368752,0.045332480793721805,0.04585534729855262,0.0463487487085449,0.046810334489163136,0.04723789388776241,0.047629368461236714,0.04798286324662175,0.04829665653449404,0.04856920822184159,0.04879916673679818,0.048985374542049785,0.04912687223672558,0.049222901288082335,0.04927290543428953,0.04927653080808878,0.049233624838138215,0.04914423399048701,0.04900860041701515,0.04882715758089157,0.04860052493131191,0.04832950170109509,0.04801505990128526,0.04765833658683331,0.04726062546685904,0.04682336793199511,0.046348143569992124,0.045836660239190766,0.045290743767677805,0.04471232734401426,0.04410344066334437,0.04346619889051898,0.042802791499588946,0.04211547104664153,0.04140654193051167,0.04067834919334786,0.03993326741040522,0.03917368971576619,0.03840201700796691,0.03762064737676113,0.036831965789507225,0.03603833407294041,0.035242081223428035,0.03444549407622585,0.033650808361785814,0.03286020017484607,0.03207577787986467,0.03129957447436248,0.030533540429931883,0.029779537029013363,0.029039330214056167,0.028314584964322206,0.027606860214332247,0.026917604326751287,0.02624815113132178,0.025599716540219253,0.02497339574888845,0.024370161029945443,0.023790860126084477,0.023236215246035804,0.022706822665480124,0.02220315293238918,0.021725551673547606,0.021274240995996653,0.02084932147387116,0.020450774707588416,0.02007846643865167,0.019732150199501426,0.01941147147395877,0.019115972339925683,0.0188450965622234,0.018598195099843732,0.0183745319885383,0.018173290556661458,0.01799357992957944,0.017834441775832356,0.01769485724662811,0.01757375405920644,0.01747001367415766,0.017382478516919694,0.01730995919440815,0.017251241659038227,0.017205094274227915,0.01717027473780149,0.01714553682246373,0.017129636895639892,0.017121340184390668,0.017119426754749693,0.01712269717861196,0.01712997786515436,0.017140126037625807,0.017152034340135937,0.01716463506274701,0.017176903976681188,0.017187863774763036,0.01719658711528695,0.017202199270326856,0.017203880382067112,0.01720086733304316,0.01719245523823485,0.017177998568772612,0.017156911918617738,0.017128670426975405,0.01709280987042763,0.01704892643984255,0.01699667621805819,0.016935774375168123,0.01686599409896442,0.016787165278739052,0.016699172961210065,0.016601955597824472,0.016495503103103624,0.016379854744017482,0.016255096880609804,0.016121360578225087,0.015978819111703443,0.015827685381792637,0.015668209263780167,0.01550067490793975,0.015325398010835939,0.0151427230758071,0.014953020680070714,0.014756684764858002,0.014554129963798196,0.01434578898345008,0.01413211004843334,0.013913554422064758,0.013690594011778797,0.013463709066930554,0.013233385974871453,0.01300011515948028,0.012764389084652649,0.012526700363629586,0.012287539973505623,0.01204739557282571,0.011806749918878673,0.011566079380148203,0.011325852538400285,0.011086528874092474,0.010848557528187256,0.010612376133056137,0.010378409704969118,0.010147069590683492,0.009918752460872768,0.009693839343561399,0.009472694691355001,0.00925566547705596,0.009043080313227874,0.008835248592390687,0.008632459645782475,0.00843498191998116,0.008243062172121866,0.008056924685940757,0.00787677051239785,0.0077027767401441835,0.007535095802573745,0.007373854829600302,0.007219155053592347,0.007071071280049747,0.00692965143458139,0.00679491619851361,0.0066668587459927375,0.0065454445957216206,0.006430611590462919,0.006322270017139086,0.006220302879748442,0.006124566336394423,0.006034890310493127,0.005951079284694374,0.005872913284237065,0.005800149054387864,0.005732521434311227,0.005669744927227013,0.005611515464070341,0.005557512355126094,0.005507400421315791,0.005460832294022291,0.005417450869601774,0.0053768919021052654,0.005338786715267454,0.0053027650125665364,0.005268457762159609,0.005235500131793948,0.005203534447416177,0.005172213148174533,0.005141201709851099,0.005110181508478872,0.005078852595993401,0.0050469363602321515,0.005014178042410608,0.004980349086349868,0.004945249295176937,0.004908708772931969,0.004870589630459477,0.004830787437092854,0.004789232401922819,0.0047458902708312906,0.004700762927934251,0.0046538886925758865,0.004605342305520973,0.004555234600477913,0.004503711859530607,0.004450954853449868,0.00439717757018562,0.004342625637107703,0.004287574444767081,0.0042323269820978195,0.0041772113950822596,0.004122578282968659,0.004068797748173892,0.004016256218033786,0.003965353058588989,0.003916497002618101,0.0038701024161525263,0.003826585429721263,0.003786359962565254,0.0037498336700088103,0.0037174038460516573,0.003689453315013197,0.0036663463476790275,0.0036484246388198086,0.0036360033841232485,0.003629367495445161,0.003628767993790496,0.0036344186195253216,0.0036464926989448424,0.0036651203054355115,0.0036903857520340687,0.0037223254501743777,0.0037609261668097795,0.0038061237089001138,0.0038578020604717405,0.003915792993121144,0.0039798761659816835,0.0040497797258644,0.004125181412590419,0.004205710168538143,0.00429094824522971,0.004380433793482969,0.00447366391736956,0.0045700981660628534,0.0046691624317473255,0.004770253216208605,0.004872742223640027,0.004975981232686902,0.005079307196894417,0.005182047519604232,0.005283525447018518,0.005383065521661092,0.005479999037836295,0.005573669440924285,0.005663437613438792,0.005748686992680309,0.005828828467491386,0.005903305004996756,0.005971595962208425,0.006033221041904935,0.00608774385715586,0.006134775074151772,0.006173975108511801,0.006205056355868873,0.006227784943175316,0.006241981992733471,0.006247524396351199,0.006244345102174083,0.0062324329215921155,0.006211831868107769,0.0061826400441481345,0.00614500809548374,0.006099137256169498,0.006045277009752927,0.005983722394912108,0.0059148109857137185,0.005838919578348173,0.005756460617536511,0.005667878396849356,0.005573645067966958,0.005474256494475152,0.005370227986166494,0.005262089950023364,0.005150383494119776,0.00503565602060346,0.004918456843712438,0.004799332868439817,0.00467882436497351,0.004557460873389816,0.004435757272249251,0.0043142100437021,0.004193293766436499,0.004073457866262162,0.003955123652295392,0.003838681664573702,0.0037244893564634895,0.003612869132425034,0.003504106758564356,0.00339845015993987,0.003296108614823907,0.0031972523520757165,0.0031020125535027874,0.0030104817586239837,0.002922714664661155,0.0028387293099426704,0.002758508624278738,0.002682002325343696,0.0026091291357548813,0.002539779291455743,0.0024738173082704466,0.0024110849701754417,0.0023514044999997943,0.0022945818709807727,0.0022404102159156317,0.002188673289604028,0.002139148939893006,0.0020916125429312885,0.002045840359209421,0.0020016127685903483,0.001958717344791495,0.001916951732621297,0.0018761262946438133,0.0018360664977794742,0.001796615014573071,0.001757633518388636,0.001719004156539908,0.00168063069024312,0.0016424392951971604,0.0016043790214660516,0.001566421916075421,0.0015285628162598629,0.0014908188255406548,0.001453228488710373,0.001415850685300958,0.0013787632641732487,0.001342061444458924,0.0013058560101921488,0.0012702713275813862,0.0012354432149952895,0.0012015166963851348,0.001168643669062948,0.0011369805165298901,0.0011066856964418574,0.0010779173328497014,0.0010508308406061392,0.0010255766083368996,0.0010022977646767213,0.0009811280506172525,0.0009621898188465866,0.0009455921789177123,0.0009314293050003055,0.0009197789208759404,0.0009107009747540037,0.0009042365144322478,0.0009004067713136138,0.0008992124598262546,0.0009006332968786478,0.0009046277441141603,0.0009111329739045392,0.0009200650582327115,0.000931319377854195,0.0009447712473861387,0.0009602767502471278,0.0009776737756559243,0.000996783248192456,0.0010174105387326378,0.0010393470438977669,0.0010623719195209816,0.001086253952044152,0.0011107535502397493,0.0011356248382282676,0.0011606178294607263,0.0011854806601883838,0.001209961859979672,0.0012338126360994252,0.001256789148069421,0.001278654748509914,0.001299182166445361,0.001318155609663776,0.0013353727634627863,0.0013506466642045623,0.0013638074275360748,0.0013747038129028122,0.0013832046080766555,0.0013891998198069368,0.0013926016593543635,0.0013933453145395219,0.0013913895029823518,0.001386716804372154,0.0013793337728297802,0.0013692708336415155,0.0013565819717929663,0.0013413442227449193,0.001323656978707599,0.0013036411262229547,0.0012814380330992815,0.0012572084046073835,0.0012311310302980914,0.0012034014438017425,0.0011742305184951282,0.0011438430219540476,0.001112476151645223,0.0010803780733557736,0.001047806482428579,0.001015027205995817,0.0009823128621192188,0.0009499415891017909,0.0009181958552890395,0.0008873613564927348,0.0008577260048172947,0.000829579009224364,0.0008032100447143247,0.0007789085036150583,0.0007569628192306204,0.0007376598490947145,0.0007212843023736887,0.0007081181936434505,0.0006984403033902546,0.0006925256242157044,0.0006906447709111453,0.0006930633323452039,0.0007000411435091121,0.0007118314571034751,0.0007286799957305223,0.0007508238680673858,0.0007784903353143141,0.0008118954176991522,0.0008512423348241848,0.0008967197780981603,0.0009485000183280349,0.001006736856661267,0.0010715634323715227,0.0011430899063589535,0.0012214010445747714,0.0013065537307581528,0.001398574442767285,0.0014974567312710128,0.001603158743522357,0.0017156008382426396,0.0018346633401961612,0.0019601844847339216,0.0020919586033456027,0.0022297346010139445,0.002373214774867425,0.0025220540212462553,0.0026758594748274023,0.002834190618917597,0.002996559900458258,0.003162433876764781,0.003331234913634772,0.0035023434463209604,0.0036751008061141443,0.003848812606074253,0.004022752669955714,0.004196167478785114,0.004368281100056031,0.00453830055530707,0.004705421573144547,0.0048688346667521715,0.005027731467779151,0.005181311242386585,0.00532878751030549,0.005469394684145545,0.005602394643991751,0.00572708316160235,0.0058427960893160085,0.005948915231090792,0.006044873816901225,0.006130161506950876,0.006204328858717966,0.006266991197615225,0.0063178318408601,0.006356604633839724,0.00638313576862182,0.006397324865099124,0.00639914530634161,0.0063886438308467805,0.006365939395304085,0.0063312213320125404,0.006284746835012089,0.006226837818126088,0.006157877196304485,0.006078304648768079,0.005988611928375298,0.005889337786285652,0.005781062584328829,0.005664402669487727,0.005540004585580361,0.005408539196618489,0.00527069579449772,0.005127176260726753,0.004978689347939948,0.004825945142088035,0.004669649760605775,0.00451050033565998,0.004349180324941123,0.004186355185530407,0.004022668439298667,0.0038587381512214633,0.0036951538350548513,0.0035324737941316614,0.0033712228987153245,0.0032118907954744513,0.0030549305392925316,0.002900757632857868,0.0027497494553265344,0.002602245057838499,0.00245854530080053,0.0023189133056184972,0.002183575191946685,0.0020527210704908154,0.0019265062609111754,0.0018050527043764171,0.0016884505407636472,0.001576759821327698,0.0014700123288176568,0.0013682134784405644,0.0012713442747070377,0.001179363300987769,0.0010922087205130042,0.001009800269515452,0.0009320412252106658,0.0008588203332920989,0.0007900136815625029,0.0007254865082050572,0.0006650949349964937,0.0006086876174671965,0.000556107305609384,0.0005071923102168185,0.00046177787130551186,0.00041969742631381147,0.00038078377691267736,0.0003448701542773152,0.0003117911835824899,0.00028138374929176884,0.00025348776352092915,0.00022794684037319042,0.0002046088796749302,0.00018332656399059827,0.0001639577731696704,0.00014636592098203025,0.0001304202186358058,0.00011599587014751184,0.00010297420465288964,0.00009124275081187539,0.00008069525847634645,0.00007123167275857684,0.00006275806556530772,0.0000551865295504802,0.000048435039293015225,0.00004242728432798894,0.00003709247845417672,0.000032365149512043004,0.00002818491357768257,0.00002449623725397024,0.00002124819146411978,0.000018394199868745178,0.00001589178473911489,0.000013702312830104593,0.000011790743509662123,0.000010125381120513682,8.677633277124393e-6,7.4217765390132115e-6,6.334730652569494e-6,5.395842319278268e-6,4.586679230134658e-6,3.890834905085877e-6,3.2937446932862524e-6,2.782513125150374e-6,2.3457526607376474e-6,1.9734337506634308e-6,1.6567460150636676e-6,1.3879702524595111e-6,1.160360912812546e-6,9.680386066293308e-7,8.058921735442759e-7,6.69489798181028e-7,5.549986370207987e-7,4.5911240622260045e-7,3.7898637558199005e-7,3.1217921685008766e-7,2.566011642754186e-7,2.1046796035181422e-7,1.7226007930703452e-7,1.4068674388092685e-7,1.1465427653967275e-7,9.323835366898583e-8,7.565975978914367e-8,6.126326783737738e-8,4.9499300554650344e-8,3.9908056564660426e-8,3.210581249237268e-8,2.5773139158823386e-8,2.0644795295092413e-8,1.650108618663982e-8,1.3160497086228688e-8,1.047343206032959e-8,8.316908138999159e-9,6.590072232711539e-9,5.210424297012387e-9],\"type\":\"scatter\"},{\"mode\":\"lines\",\"name\":\"Obesity_Type_I\",\"x\":[14.0,14.047047047047046,14.094094094094094,14.14114114114114,14.188188188188189,14.235235235235235,14.282282282282281,14.32932932932933,14.376376376376376,14.423423423423424,14.47047047047047,14.517517517517518,14.564564564564565,14.611611611611611,14.65865865865866,14.705705705705705,14.752752752752754,14.7997997997998,14.846846846846846,14.893893893893894,14.94094094094094,14.987987987987989,15.035035035035035,15.082082082082081,15.12912912912913,15.176176176176176,15.223223223223224,15.27027027027027,15.317317317317318,15.364364364364365,15.411411411411411,15.458458458458459,15.505505505505505,15.552552552552552,15.5995995995996,15.646646646646646,15.693693693693694,15.74074074074074,15.787787787787789,15.834834834834835,15.881881881881881,15.92892892892893,15.975975975975976,16.023023023023022,16.07007007007007,16.117117117117118,16.164164164164163,16.21121121121121,16.25825825825826,16.305305305305303,16.35235235235235,16.3993993993994,16.446446446446448,16.493493493493492,16.54054054054054,16.58758758758759,16.634634634634637,16.68168168168168,16.72872872872873,16.775775775775777,16.822822822822822,16.86986986986987,16.916916916916918,16.963963963963963,17.01101101101101,17.05805805805806,17.105105105105103,17.15215215215215,17.1991991991992,17.246246246246248,17.293293293293292,17.34034034034034,17.38738738738739,17.434434434434436,17.48148148148148,17.52852852852853,17.575575575575577,17.62262262262262,17.66966966966967,17.716716716716718,17.763763763763762,17.81081081081081,17.85785785785786,17.904904904904903,17.95195195195195,17.998998998999,18.046046046046047,18.093093093093092,18.14014014014014,18.187187187187188,18.234234234234236,18.28128128128128,18.32832832832833,18.375375375375377,18.42242242242242,18.46946946946947,18.516516516516518,18.563563563563562,18.61061061061061,18.65765765765766,18.704704704704703,18.75175175175175,18.7987987987988,18.845845845845844,18.892892892892892,18.93993993993994,18.986986986986988,19.034034034034036,19.08108108108108,19.12812812812813,19.175175175175177,19.22222222222222,19.26926926926927,19.316316316316318,19.363363363363362,19.41041041041041,19.45745745745746,19.504504504504503,19.55155155155155,19.5985985985986,19.645645645645644,19.69269269269269,19.73973973973974,19.786786786786788,19.833833833833836,19.88088088088088,19.92792792792793,19.974974974974977,20.02202202202202,20.06906906906907,20.116116116116117,20.163163163163162,20.21021021021021,20.25725725725726,20.304304304304303,20.35135135135135,20.3983983983984,20.445445445445444,20.49249249249249,20.53953953953954,20.586586586586588,20.633633633633636,20.68068068068068,20.72772772772773,20.774774774774777,20.82182182182182,20.86886886886887,20.915915915915917,20.962962962962962,21.01001001001001,21.057057057057058,21.104104104104103,21.15115115115115,21.1981981981982,21.245245245245243,21.29229229229229,21.33933933933934,21.386386386386388,21.433433433433436,21.48048048048048,21.52752752752753,21.574574574574577,21.62162162162162,21.66866866866867,21.715715715715717,21.762762762762762,21.80980980980981,21.856856856856858,21.903903903903903,21.95095095095095,21.997997997998,22.045045045045043,22.092092092092095,22.13913913913914,22.186186186186184,22.233233233233236,22.28028028028028,22.32732732732733,22.374374374374376,22.42142142142142,22.46846846846847,22.515515515515517,22.56256256256256,22.60960960960961,22.656656656656658,22.703703703703702,22.75075075075075,22.7977977977978,22.844844844844843,22.891891891891895,22.93893893893894,22.985985985985984,23.033033033033036,23.08008008008008,23.127127127127128,23.174174174174176,23.22122122122122,23.26826826826827,23.315315315315317,23.36236236236236,23.40940940940941,23.456456456456458,23.503503503503502,23.55055055055055,23.5975975975976,23.644644644644643,23.69169169169169,23.73873873873874,23.785785785785784,23.832832832832835,23.87987987987988,23.926926926926928,23.973973973973976,24.02102102102102,24.06806806806807,24.115115115115117,24.16216216216216,24.20920920920921,24.256256256256258,24.303303303303302,24.35035035035035,24.3973973973974,24.444444444444443,24.49149149149149,24.53853853853854,24.585585585585584,24.632632632632635,24.67967967967968,24.726726726726728,24.773773773773776,24.82082082082082,24.86786786786787,24.914914914914917,24.96196196196196,25.00900900900901,25.056056056056057,25.103103103103102,25.15015015015015,25.197197197197198,25.244244244244243,25.29129129129129,25.33833833833834,25.385385385385383,25.432432432432435,25.47947947947948,25.526526526526524,25.573573573573576,25.62062062062062,25.66766766766767,25.714714714714717,25.76176176176176,25.80880880880881,25.855855855855857,25.902902902902902,25.94994994994995,25.996996996996998,26.044044044044043,26.09109109109109,26.13813813813814,26.185185185185183,26.232232232232235,26.27927927927928,26.326326326326324,26.373373373373376,26.42042042042042,26.46746746746747,26.514514514514516,26.56156156156156,26.60860860860861,26.655655655655657,26.7027027027027,26.74974974974975,26.796796796796798,26.843843843843842,26.89089089089089,26.93793793793794,26.984984984984983,27.032032032032035,27.07907907907908,27.126126126126124,27.173173173173176,27.22022022022022,27.26726726726727,27.314314314314316,27.36136136136136,27.40840840840841,27.455455455455457,27.5025025025025,27.54954954954955,27.596596596596598,27.643643643643642,27.69069069069069,27.73773773773774,27.784784784784783,27.831831831831835,27.87887887887888,27.925925925925924,27.972972972972975,28.02002002002002,28.067067067067068,28.114114114114116,28.16116116116116,28.20820820820821,28.255255255255257,28.3023023023023,28.34934934934935,28.396396396396398,28.443443443443442,28.49049049049049,28.53753753753754,28.584584584584583,28.631631631631635,28.67867867867868,28.725725725725724,28.772772772772775,28.81981981981982,28.866866866866868,28.913913913913916,28.96096096096096,29.00800800800801,29.055055055055057,29.1021021021021,29.14914914914915,29.196196196196198,29.243243243243242,29.29029029029029,29.33733733733734,29.384384384384383,29.431431431431434,29.47847847847848,29.525525525525524,29.572572572572575,29.61961961961962,29.666666666666668,29.713713713713716,29.76076076076076,29.80780780780781,29.854854854854857,29.9019019019019,29.94894894894895,29.995995995995997,30.043043043043042,30.09009009009009,30.137137137137138,30.184184184184186,30.23123123123123,30.27827827827828,30.325325325325327,30.37237237237237,30.41941941941942,30.466466466466468,30.513513513513512,30.56056056056056,30.60760760760761,30.654654654654657,30.7017017017017,30.74874874874875,30.795795795795797,30.842842842842842,30.88988988988989,30.936936936936938,30.983983983983986,31.03103103103103,31.07807807807808,31.125125125125127,31.17217217217217,31.21921921921922,31.266266266266268,31.313313313313312,31.36036036036036,31.40740740740741,31.454454454454456,31.5015015015015,31.54854854854855,31.595595595595597,31.64264264264264,31.68968968968969,31.736736736736738,31.783783783783786,31.83083083083083,31.87787787787788,31.924924924924927,31.97197197197197,32.01901901901902,32.06606606606607,32.113113113113116,32.16016016016016,32.207207207207205,32.254254254254256,32.3013013013013,32.34834834834835,32.3953953953954,32.44244244244244,32.489489489489486,32.53653653653654,32.58358358358359,32.630630630630634,32.67767767767768,32.72472472472472,32.77177177177177,32.81881881881882,32.86586586586587,32.912912912912915,32.95995995995996,33.007007007007005,33.054054054054056,33.1011011011011,33.14814814814815,33.1951951951952,33.24224224224224,33.289289289289286,33.33633633633634,33.38338338338338,33.430430430430434,33.47747747747748,33.52452452452452,33.57157157157157,33.61861861861862,33.66566566566567,33.712712712712715,33.75975975975976,33.806806806806804,33.853853853853856,33.9009009009009,33.94794794794795,33.994994994995,34.04204204204204,34.089089089089086,34.13613613613614,34.18318318318318,34.230230230230234,34.27727727727728,34.32432432432432,34.37137137137137,34.41841841841842,34.46546546546547,34.512512512512515,34.55955955955956,34.606606606606604,34.653653653653656,34.7007007007007,34.74774774774775,34.7947947947948,34.84184184184184,34.888888888888886,34.93593593593594,34.98298298298298,35.030030030030034,35.07707707707708,35.12412412412412,35.17117117117117,35.21821821821822,35.26526526526527,35.312312312312315,35.35935935935936,35.406406406406404,35.453453453453456,35.5005005005005,35.54754754754755,35.5945945945946,35.64164164164164,35.688688688688686,35.73573573573574,35.78278278278278,35.82982982982983,35.87687687687688,35.92392392392392,35.97097097097097,36.01801801801802,36.06506506506507,36.112112112112115,36.15915915915916,36.206206206206204,36.253253253253256,36.3003003003003,36.34734734734735,36.394394394394396,36.44144144144144,36.488488488488485,36.53553553553554,36.58258258258258,36.62962962962963,36.67667667667668,36.72372372372372,36.77077077077077,36.81781781781782,36.86486486486487,36.911911911911915,36.95895895895896,37.006006006006004,37.05305305305305,37.1001001001001,37.14714714714715,37.194194194194196,37.24124124124124,37.288288288288285,37.33533533533534,37.38238238238238,37.42942942942943,37.47647647647648,37.52352352352352,37.57057057057057,37.61761761761762,37.66466466466467,37.711711711711715,37.75875875875876,37.805805805805804,37.85285285285285,37.8998998998999,37.94694694694695,37.993993993993996,38.04104104104104,38.088088088088085,38.13513513513514,38.18218218218218,38.22922922922923,38.27627627627628,38.32332332332332,38.37037037037037,38.41741741741742,38.46446446446447,38.511511511511515,38.55855855855856,38.605605605605604,38.65265265265265,38.6996996996997,38.74674674674675,38.793793793793796,38.84084084084084,38.887887887887885,38.93493493493494,38.98198198198198,39.02902902902903,39.07607607607608,39.12312312312312,39.17017017017017,39.21721721721722,39.26426426426427,39.311311311311314,39.35835835835836,39.4054054054054,39.45245245245245,39.4994994994995,39.54654654654655,39.593593593593596,39.64064064064064,39.687687687687685,39.73473473473474,39.78178178178178,39.82882882882883,39.87587587587588,39.92292292292292,39.969969969969966,40.01701701701702,40.06406406406407,40.111111111111114,40.15815815815816,40.2052052052052,40.25225225225225,40.2992992992993,40.34634634634635,40.393393393393396,40.44044044044044,40.487487487487485,40.53453453453454,40.58158158158158,40.62862862862863,40.67567567567568,40.72272272272272,40.769769769769766,40.81681681681682,40.86386386386387,40.910910910910914,40.95795795795796,41.005005005005,41.05205205205205,41.0990990990991,41.14614614614615,41.193193193193196,41.24024024024024,41.287287287287285,41.334334334334336,41.38138138138138,41.42842842842843,41.47547547547548,41.52252252252252,41.569569569569566,41.61661661661662,41.66366366366367,41.710710710710714,41.75775775775776,41.8048048048048,41.85185185185185,41.8988988988989,41.94594594594595,41.992992992992995,42.04004004004004,42.087087087087085,42.134134134134136,42.18118118118118,42.22822822822823,42.27527527527528,42.32232232232232,42.369369369369366,42.41641641641642,42.46346346346347,42.510510510510514,42.55755755755756,42.6046046046046,42.65165165165165,42.6986986986987,42.74574574574575,42.792792792792795,42.83983983983984,42.886886886886884,42.933933933933936,42.98098098098098,43.02802802802803,43.07507507507508,43.12212212212212,43.169169169169166,43.21621621621622,43.26326326326327,43.310310310310314,43.35735735735736,43.4044044044044,43.45145145145145,43.4984984984985,43.54554554554555,43.592592592592595,43.63963963963964,43.686686686686684,43.733733733733736,43.78078078078078,43.82782782782783,43.87487487487488,43.92192192192192,43.968968968968966,44.01601601601602,44.06306306306307,44.110110110110114,44.15715715715716,44.2042042042042,44.25125125125125,44.2982982982983,44.34534534534535,44.392392392392395,44.43943943943944,44.486486486486484,44.533533533533536,44.58058058058058,44.62762762762763,44.67467467467468,44.72172172172172,44.768768768768766,44.81581581581582,44.86286286286287,44.90990990990991,44.95695695695696,45.004004004004,45.05105105105105,45.0980980980981,45.14514514514515,45.192192192192195,45.23923923923924,45.286286286286284,45.333333333333336,45.38038038038038,45.42742742742743,45.474474474474476,45.52152152152152,45.568568568568566,45.61561561561562,45.66266266266267,45.70970970970971,45.75675675675676,45.8038038038038,45.85085085085085,45.8978978978979,45.94494494494495,45.991991991991995,46.03903903903904,46.086086086086084,46.133133133133136,46.18018018018018,46.227227227227225,46.274274274274276,46.32132132132132,46.36836836836837,46.41541541541542,46.46246246246246,46.50950950950951,46.55655655655656,46.6036036036036,46.650650650650654,46.6976976976977,46.74474474474474,46.791791791791795,46.83883883883884,46.885885885885884,46.932932932932935,46.97997997997998,47.027027027027025,47.074074074074076,47.12112112112112,47.16816816816817,47.21521521521522,47.26226226226226,47.30930930930931,47.35635635635636,47.4034034034034,47.450450450450454,47.4974974974975,47.54454454454454,47.591591591591595,47.63863863863864,47.685685685685684,47.732732732732735,47.77977977977978,47.826826826826824,47.873873873873876,47.92092092092092,47.96796796796797,48.01501501501502,48.06206206206206,48.10910910910911,48.15615615615616,48.2032032032032,48.250250250250254,48.2972972972973,48.34434434434434,48.391391391391394,48.43843843843844,48.48548548548548,48.532532532532535,48.57957957957958,48.626626626626624,48.673673673673676,48.72072072072072,48.76776776776777,48.81481481481482,48.86186186186186,48.90890890890891,48.95595595595596,49.003003003003,49.050050050050054,49.0970970970971,49.14414414414414,49.191191191191194,49.23823823823824,49.28528528528528,49.332332332332335,49.37937937937938,49.426426426426424,49.473473473473476,49.52052052052052,49.56756756756757,49.61461461461462,49.66166166166166,49.70870870870871,49.75575575575576,49.8028028028028,49.84984984984985,49.8968968968969,49.94394394394394,49.990990990990994,50.03803803803804,50.08508508508508,50.132132132132135,50.17917917917918,50.226226226226224,50.273273273273276,50.32032032032032,50.36736736736737,50.414414414414416,50.46146146146146,50.50850850850851,50.55555555555556,50.6026026026026,50.64964964964965,50.6966966966967,50.74374374374374,50.790790790790794,50.83783783783784,50.88488488488488,50.931931931931935,50.97897897897898,51.026026026026024,51.073073073073076,51.12012012012012,51.16716716716717,51.214214214214216,51.26126126126126,51.30830830830831,51.35535535535536,51.4024024024024,51.44944944944945,51.4964964964965,51.54354354354354,51.590590590590594,51.63763763763764,51.68468468468468,51.731731731731735,51.77877877877878,51.825825825825824,51.872872872872875,51.91991991991992,51.966966966966964,52.014014014014016,52.06106106106106,52.10810810810811,52.15515515515516,52.2022022022022,52.24924924924925,52.2962962962963,52.34334334334334,52.390390390390394,52.43743743743744,52.48448448448448,52.531531531531535,52.57857857857858,52.625625625625624,52.672672672672675,52.71971971971972,52.766766766766764,52.813813813813816,52.86086086086086,52.90790790790791,52.95495495495496,53.002002002002,53.04904904904905,53.0960960960961,53.14314314314314,53.190190190190194,53.23723723723724,53.28428428428428,53.331331331331334,53.37837837837838,53.42542542542542,53.472472472472475,53.51951951951952,53.566566566566564,53.613613613613616,53.66066066066066,53.70770770770771,53.75475475475476,53.8018018018018,53.84884884884885,53.8958958958959,53.94294294294294,53.98998998998999,54.03703703703704,54.08408408408408,54.131131131131134,54.17817817817818,54.22522522522522,54.272272272272275,54.31931931931932,54.366366366366364,54.413413413413416,54.46046046046046,54.50750750750751,54.55455455455456,54.6016016016016,54.64864864864865,54.6956956956957,54.74274274274274,54.78978978978979,54.83683683683684,54.88388388388388,54.930930930930934,54.97797797797798,55.02502502502502,55.072072072072075,55.11911911911912,55.166166166166164,55.213213213213216,55.26026026026026,55.30730730730731,55.354354354354356,55.4014014014014,55.44844844844845,55.4954954954955,55.54254254254254,55.58958958958959,55.63663663663664,55.68368368368368,55.730730730730734,55.77777777777778,55.82482482482482,55.871871871871875,55.91891891891892,55.965965965965964,56.013013013013015,56.06006006006006,56.10710710710711,56.154154154154156,56.2012012012012,56.24824824824825,56.2952952952953,56.34234234234234,56.38938938938939,56.43643643643644,56.48348348348348,56.530530530530534,56.57757757757758,56.62462462462462,56.671671671671675,56.71871871871872,56.765765765765764,56.812812812812815,56.85985985985986,56.90690690690691,56.953953953953956,57.001001001001,57.04804804804805,57.0950950950951,57.14214214214214,57.18918918918919,57.23623623623624,57.28328328328328,57.330330330330334,57.37737737737738,57.42442442442442,57.471471471471475,57.51851851851852,57.565565565565564,57.612612612612615,57.65965965965966,57.70670670670671,57.753753753753756,57.8008008008008,57.84784784784785,57.8948948948949,57.94194194194194,57.98898898898899,58.03603603603604,58.08308308308308,58.130130130130134,58.17717717717718,58.22422422422422,58.271271271271274,58.31831831831832,58.36536536536536,58.412412412412415,58.45945945945946,58.50650650650651,58.553553553553556,58.6006006006006,58.64764764764765,58.6946946946947,58.74174174174174,58.78878878878879,58.83583583583584,58.88288288288288,58.92992992992993,58.97697697697698,59.02402402402402,59.071071071071074,59.11811811811812,59.16516516516516,59.212212212212215,59.25925925925926,59.306306306306304,59.353353353353356,59.4004004004004,59.44744744744745,59.4944944944945,59.54154154154154,59.58858858858859,59.63563563563564,59.68268268268268,59.72972972972973,59.77677677677678,59.82382382382382,59.870870870870874,59.91791791791792,59.96496496496496,60.012012012012015,60.05905905905906,60.106106106106104,60.153153153153156,60.2002002002002,60.24724724724725,60.294294294294296,60.34134134134134,60.38838838838839,60.43543543543544,60.48248248248248,60.52952952952953,60.57657657657658,60.62362362362362,60.670670670670674,60.71771771771772,60.76476476476476,60.811811811811815,60.85885885885886,60.905905905905904,60.952952952952955,61.0],\"y\":[0.0009246969412792041,0.0009853678609360406,0.0010489045507116753,0.0011154372598288784,0.0011851152270990122,0.0012581097278735695,0.0013346173347115132,0.0014148633792861116,0.0014991055993279299,0.0015876379504582213,0.0016807945586208863,0.0017789537844787556,0.0018825423666142327,0.0019920396056825134,0.0021079815468218245,0.0022309651126609,0.0023616521342049186,0.00250077322177118,0.0026491314130327776,0.0028076055301751042,0.002977153173251077,0.0031588132721233034,0.0033537081150119864,0.0035630447677447497,0.0037881157944642486,0.004030299187944781,0.004291057415965645,0.004571935489562982,0.004874557959623941,0.005200624750390811,0.005551905742200866,0.005930234021393141,0.006337497722947684,0.006775630401246659,0.007246599876499755,0.007752395518963966,0.008295013950172523,0.008876443159988713,0.009498645060369015,0.01016353652114953,0.010872968959798581,0.01162870658563181,0.012432403429141963,0.013285579318461289,0.014189594997038936,0.015145626608812027,0.016154639808885693,0.01721736378826178,0.0183342655297822,0.019505524638377847,0.020731009111138215,0.022010252430885596,0.023342432380040752,0.024726351978920612,0.026160422953515686,0.02764265213172088,0.029170631153511064,0.030741529859221715,0.03235209369095995,0.03399864540500093,0.035677091348173415,0.03738293249903516,0.03911128041558366,0.040856878166199366,0.04261412625035236,0.04437711344146141,0.04613965240741077,0.04789531988603447,0.049637501114845675,0.05135943813797462,0.05305428154026744,0.05471514509040328,0.05633516271320307,0.057907547157496755,0.05942564968129082,0.060883020041704095,0.062273466054136355,0.06359111197414927,0.06483045495704204,0.06598641886427582,0.06705440471267514,0.06803033710137121,0.06891070600208081,0.06969260335963591,0.07037375402062519,0.0709525405871147,0.07142802187819892,0.07179994477297476,0.07206874930251292,0.07223556695382083,0.07230221224375538,0.07227116771350317,0.07214556258298066,0.07192914538765263,0.07162625099638936,0.07124176247684567,0.07078106833349869,0.07025001569204799,0.06965486004180779,0.06900221217497067,0.06829898297773085,0.06755232673395427,0.06676958359734583,0.06595822187383803,0.06512578073286257,0.06427981393525721,0.06342783512786303,0.0625772652114766,0.06173538224092499,0.06090927426474258,0.060105795458434905,0.059331525850597214,0.058592734886257464,0.057895349017575974,0.05724492345920727,0.05664661819484738,0.05610517827320378,0.055624918386253004,0.05520971168034237,0.054862982711611955,0.05458770442135737,0.05438639897424791,0.054261142272615255,0.05421357193317222,0.05424489848829327,0.0543559195521922,0.054547036672781,0.054818274572530565,0.05516930246618747,0.05559945712966596,0.05610776738286746,0.05669297963967867,0.057353584171053656,0.05808784172224205,0.058893810122975905,0.05976937053028045,0.0607122529476694,0.06172006067236236,0.06279029333398545,0.06392036820443667,0.06510763947938042,0.06634941525744116,0.06764297197365776,0.06898556607919627,0.0703744427995401,0.07180684184822189,0.0732800000222003,0.07479115065776629,0.07633751998178223,0.0779163204512245,0.07952474123375605,0.08115993604212876,0.08281900859480416,0.08449899603285604,0.086196850678047,0.08790942056740925,0.08963342924479226,0.09136545532822142,0.09310191240249675,0.09483902980831552,0.09657283491112063,0.09829913743443905,0.10001351643280562,0.10171131045823478,0.10338761144136818,0.10503726276402087,0.10665486194410168,0.1082347682874606,0.10977111578491873,0.11125783144759013,0.11268865918104255,0.11405718920026743,0.11535689288468245,0.11658116286732505,0.11772335804696664,0.11877685310834106,0.11973509203602455,0.12059164501393414,0.12134026801706954,0.12197496432683537,0.12249004713796237,0.12288020237532638,0.12314055080406108,0.12326670849745729,0.12325484472498836,0.12310173633765024,0.12280481775984708,0.12236222574582832,0.12177283812350233,0.12103630582823165,0.12015307762254608,0.11912441700278141,0.11795241090857939,0.11663996997357377,0.11519082018321619,0.11360948593584627,0.111901264633409,0.11007219305592553,0.10812900589659516,0.10607908694979636,0.10393041355012946,0.10169149495512485,0.09937130544562006,0.09697921298483764,0.09452490432889024,0.0920183075171864,0.08946951269077405,0.08688869219025634,0.08428602087282518,0.08167159756130841,0.07905536849761208,0.0764470536203702,0.07385607642305077,0.07129149807646949,0.06876195641988757,0.0662756103400397,0.06384008996893617,0.06146245304138714,0.05914914766322941,0.05690598165316653,0.05473809853611484,0.05264996018542469,0.050645336036226334,0.048727298723342034,0.0468982259352074,0.04515980822053088,0.043513062437057305,0.04195835049181817,0.040495402989427436,0.03912334737899057,0.0378407401705535,0.03664560277818273,0.03553546053822817,0.03450738444727298,0.033558035164342005,0.0326837088252909,0.03188038422356469,0.03114377092015147,0.030469357856127272,0.029852462053450726,0.029288277003322115,0.028771920356361527,0.028298480544987386,0.027863061985720455,0.027460828527680708,0.027087044833497075,0.026737115400161677,0.026406620950322146,0.02609135194907591,0.025787339027704984,0.025490880123909192,0.02519856417804423,0.02490729125645831,0.02461428900622314,0.024317125380031435,0.02401371760559204,0.023702337410086382,0.023381612546741502,0.02305052470690665,0.02270840393660124,0.022354919710919935,0.02199006885229683,0.021614160508986718,0.021227798437704542,0.020831860858690206,0.020427478172169368,0.020016008841898015,0.01959901376395999,0.019178229447064668,0.018755540334175848,0.018332950594421252,0.01791255570896155,0.017496514165076693,0.017087019559380773,0.016686273394197274,0.01629645883111066,0.015919715643016263,0.015558116581134072,0.015213645346942676,0.014888176331367456,0.014583456255343059,0.014301087817562341,0.014042515427302475,0.013809013073115094,0.013601674352240904,0.013421404661200407,0.013268915525366578,0.013144721024632872,0.013049136253689675,0.012982277738961968,0.012944065719977188,0.012934228190745274,0.012952306586590948,0.01299766299363739,0.0130694887516541,0.013166814316087643,0.013288520241615904,0.013433349147319208,0.013599918522394441,0.013786734231080032,0.013992204575998991,0.014214654780322435,0.01445234175097893,0.014703468987469888,0.014966201503716981,0.015238680633750485,0.015519038595952508,0.01580541269505473,0.016095959046193185,0.01638886571110134,0.016682365143035633,0.016974745844317858,0.01726436314849442,0.017549649048072984,0.017829120998583928,0.018101389640344596,0.018365165390676758,0.0186192638714073,0.01886261014912037,0.019094241778730578,0.01931331065431904,0.01951908368463182,0.019710942324052676,0.019888381002876526,0.020051004513305087,0.02019852441933966,0.02033075456961182,0.020447605801880778,0.02054907993627572,0.020635263161228056,0.020706318921296724,0.02076248041958588,0.020804042849224935,0.020831355468295624,0.020844813630723654,0.020844850882034176,0.020831931223575774,0.02080654164197856,0.020769184992353192,0.020720373314275467,0.020660621649082014,0.020590442415693626,0.020510340390263008,0.02042080832272059,0.020322323210898545,0.020215343240719115,0.02010030538905174,0.019977623674535545,0.019847688031171505,0.019710863769881074,0.01956749158479344,0.01941788805375588,0.019262346576671405,0.019101138690740007,0.01893451569860496,0.018762710543759848,0.01858593986734164,0.018404406181594363,0.018218300097682213,0.018027802549187906,0.017833086957267555,0.01763432128905973,0.017431669967299335,0.017225295596042616,0.01701536047479764,0.016802027880988158,0.01658546310835293,0.016365834256491633,0.016143312774063657,0.015918073765035165,0.01569029607367309,0.015460162169604481,0.015227857859052209,0.014993571852281673,0.014757495220237848,0.014519820775312293,0.014280742412106553,0.014040454443975404,0.013799150970053898,0.01355702530545001,0.013314269504380628,0.0130710740023329,0.012827627398946793,0.012584116398348095,0.012340725918252318,0.012097639373430507,0.011855039133232478,0.011613107146942723,0.011372025724935833,0.011131978458058566,0.01089315125251705,0.01065573345293169,0.010419919022236874,0.010185907743875204,0.00995390640933325,0.009724129952567578,0.009496802492329651,0.009272158243836637,0.009050442262675717,0.008831910986243058,0.008616832541388729,0.008405486791192778,0.008198165098876069,0.00799516979263547,0.007796813321597595,0.0076034170999517954,0.007415310043531027,0.007232826810485795,0.007056305765093358,0.006886086690982821,0.00672250828697965,0.006565905485206843,0.006416606636871751,0.006274930616165107,0.006141183896771848,0.006015657658517544,0.0058986249835607275,0.005790338202206829,0.0056910264478217615,0.005600893478433574,0.005520115819439048,0.0054488412774094976,0.0053871878693787225,0.005335243205286829,0.0052930643535607,0.00526067821127617,0.00523808239112655,0.005225246627698706,0.005222114695521888,0.005228606821208093,0.005244622561955936,0.005270044112948182,0.0053047399969444456,0.005348569080847072,0.0054013848563864925,0.005463039915493874,0.005533390545549842,0.005612301365637565,0.0056996499222756935,0.005795331161926767,0.005899261697898909,0.006011383791081423,0.006131668967248466,0.006260121198364033,0.006396779581334432,0.006541720454863714,0.006695058903329311,0.006856949605746878,0.007027586997756407,0.007207204724946612,0.00739607437654025,0.007594503499292583,0.0078028329022102405,0.008021433273183368,0.008250701138667268,0.008491054206978332,0.008742926144444227,0.009006760841439901,0.009283006232152877,0.009572107737673132,0.00987450140665182,0.01019060683128829,0.010520819918795273,0.010865505599777189,0.01122499055518718,0.01159955604276885,0.011989430902221144,0.012394784815839395,0.012815721898187513,0.013252274684548855,0.01370439858358839,0.014171966854942377,0.014654766167427483,0.015152492788306087,0.01566474944863835,0.016191042924248895,0.016730782366268425,0.01728327840962014,0.01784774308220256,0.018423290531879587,0.01900893858270144,0.019603611126037496,0.020206141346445116,0.020815275776130415,0.021429679165707493,0.022047940152640954,0.022668577702214594,0.023290048289128,0.023910753780874667,0.02452904997694039,0.02514325575063131,0.02575166273305235,0.026352545471522784,0.026944171987624915,0.027524814653281278,0.02809276129687249,0.028646326445608133,0.02918386260529594,0.02970377147448748,0.03020451498685184,0.030684626073712556,0.031142719038065547,0.03157749943222287,0.031987773333541566,0.032372455916569814,0.03273057922537328,0.03306129905676949,0.03336390087364721,0.033637804677364276,0.03388256877928135,0.03409789242362976,0.034283617226926806,0.034439727412832244,0.03456634883543658,0.0346637467982467,0.03473232269032306,0.03477260947488169,0.03478526607895563,0.0347710707451931,0.034730913418346165,0.034665787249294915,0.03457677930842151,0.03446506060767332,0.034331875536669755,0.03417853082267098,0.03400638412713687,0.033816832393004634,0.033611300056748436,0.03339122723787303,0.033158058015833235,0.03291322890060056,0.03265815759837001,0.03239423216836033,0.03212280066046289,0.03184516131679401,0.031562553413131175,0.0312761488089012,0.030987044266941082,0.030696254596759107,0.030404706667553943,0.03011323432985435,0.029822574277337397,0.029533362873191048,0.02924613395828376,0.02896131765137997,0.028679240144654797,0.02840012449078216,0.02812409237085785,0.027851166825336723,0.027581275922987432,0.027314257335580502,0.027049863778623978,0.026787769270969836,0.026527576158559454,0.026268822840024825,0.026010992124385388,0.02575352014377909,0.025495805737156055,0.02523722021427293,0.02497711740330226,0.024714843880060462,0.024449749272415455,0.02418119653001244,0.02390857204719215,0.023631295526004892,0.023348829466652964,0.023060688174610742,0.02276644617714245,0.0224657459469768,0.022158304837518697,0.021843921142121366,0.021522479199542456,0.021193953478649004,0.020858411587564036,0.020516016165598103,0.020167025630256304,0.019811793766144524,0.019450768157460083,0.019084487480683542,0.018713577688836067,0.01833874713295911,0.017960780680065857,0.017580532899467167,0.017198920400873372,0.01681691341783271,0.016435526738721767,0.01605581009454477,0.015678838118125617,0.015305699992863407,0.014937488911041458,0.014575291461783615,0.014220177067192344,0.013873187582089759,0.013535327168240447,0.013207552548118678,0.012890763736360096,0.012585795339195682,0.012293408503589145,0.012014283588679415,0.011749013622652186,0.011498098598497264,0.011261940652417441,0.011040840159070496,0.010834992768472633,0.010644487400359497,0.010469305203159638,0.010309319476533489,0.010164296548685675,0.010033897592376993,0.009917681356726363,0.00981510778547293,0.009725542486325959,0.009648262010318275,0.009582459894654076,0.009527253417359204,0.009481691007066608,0.00944476024648025,0.009415396403441828,0.00939249141909035,0.009374903278369423,0.009361465684154099,0.009350997952587037,0.009342315043916555,0.009334237640302532,0.009325602179798944,0.009315270754144357,0.009302140777196252,0.009285154330946501,0.009263307097140456,0.009235656784689007,0.009201330966370231,0.009159534242819806,0.009109554657523857,0.009050769293453066,0.008982648990075021,0.00890476212868593,0.008816777444216523,0.008718465832763107,0.008609701135914328,0.008490459895312693,0.008360820083600822,0.008220958830741535,0.008071149177442909,0.007911755899824494,0.007743230461309112,0.007566105158783543,0.007380986540134905,0.007188548179149264,0.006989522901285431,0.006784694559873459,0.006574889466732085,0.006360967583977476,0.006143813584879124,0.005924327891005669,0.005703417790640304,0.005481988739602247,0.00526093594029902,0.005041136288189379,0.004823440767021432,0.004608667365406331,0.004397594577692636,0.004190955541926036,0.003989432857126255,0.0037936541113934826,0.003604188141678504,0.0034215420356003374,0.003246158875651969,0.0030784162166545104,0.0029186252785369394,0.0027670308285459126,0.002623811719908777,0.0024890820478492234,0.0023628928787167093,0.0022452345038532374,0.002136039166668188,0.0020351842091928846,0.0019424955830896421,0.0018577516696292465,0.0017806873534511743,0.0017109982958952495,0.001648345355252566,0.0015923591033362918,0.0015426443902273022,0.0014987849118193127,0.0014603477377916835,0.0014268877608015402,0.001397952030945469,0.0013730839428394905,0.0013518272459588786,0.0013337298521317546,0.001318347417265839,0.0013052466774896633,0.0012940085228975993,0.0012842307949999937,0.0012755307967959534,0.001267547507112634,0.0012599434934978935,0.0012524065205202974,0.001244650852828139,0.0012364182547525235,0.0012274786906100311,0.0012176307321672992,0.0012067016819669583,0.001194547423373418,0.0011810520102642434,0.001166127011252382,0.0011497106251567883,0.0011317665861223438,0.0011122828783020247,0.0010912702813316002,0.0010687607689273168,0.0010448057837996547,0.001019474412682737,0.0009928514856150572,0.0009650356236624376,0.0009361372590430544,0.0009062766510966,0.000875581920740997,0.0008441871249909681,0.0008122303917898015,0.0007798521338507237,0.0007471933584429327,0.0007143940881203595,0.0006815919053120779,0.0006489206315073536,0.0006165091495140821,0.0005844803749837175,0.0005529503811173013,0.000522027678231992,0.0004918126477096924,0.0004623971278007521,0.00043386414684438355,0.00040628779771677916,0.00037973324574821365,0.0003542568609762226,0.00032990646443346226,0.0003067216772116451,0.0002847343602982033,0.00026396913264627663,0.00024444395460472085,0.00022617076369245805,0.0002091561497371565,0.0001934020565971786,0.0001789064980302613,0.00016566427574512017,0.00015366768825466904,0.0001429072198236628,0.00013337219955220525,0.00012505142144356924,0.00011793371715547984,0.00011200847401582029,0.00010726609178583925,0.00010369837256771795,0.00010129883917219196,0.00010006297818132878,0.00009998840485854612,0.00010107494797137027,0.00010332465350212499,0.00010674170712843988,0.00011133227626036847,0.00011710427332516088,0.0001240670428951341,0.000132230976158475,0.00014160705713604964,0.00015220634594651037,0.00016403940531260224,0.00017711567737712858,0.00019144281874884338,0.0002070260025158442,0.00022386719673424905,0.00024196442960845791,0.0002613110522098897,0.000281895010116817,0.0003036981357805552,0.0003266954737146536,0.0003508546507464989,0.0003761353035476073,0.0004024885754554541,0.0004298566942029752,0.0004581726415722303,0.0004873599251804057,0.0005173324615872035,0.0005479945786852939,0.0005792411439078675,0.0006109578231718317,0.0006430214736896678,0.0006753006718509532,0.0007076563753235599,0.0007399427163871494,0.0007720079213245898,0.0008036953484997812,0.0008348446355852762,0.0008652929443144435,0.0008948762891641407,0.0009234309345696546,0.0009507948436755047,0.000976809160272964,0.0010013197045034992,0.001024178462146908,0.0010452450468882413,0.0010643881148869369,0.001081486711265132,0.0010964315287927615,0.0011091260600697209,0.0011194876258764374,0.0011274482640624061,0.0011329554653387735,0.001135972744599881,0.0011364800388776147,0.0011344739256842753,0.001129967658272605,0.0011229910171814317,0.0011135899802856588,0.001101826216373991,0.0010877764099812533,0.0010715314277517734,0.0010531953389568674,0.0010328843048885653,0.0010107253536650602,0.000986855058479274,0.0009614181384759558,0.0009345660022386489,0.0009064552542974052,0.0008772461851309809,0.0008471012648414287,0.0008161836600401118,0.0007846557925243124,0.0007526779570718177,0.0007204070141715156,0.0006879951717789883,0.000655588868280275,0.0006233277668075403,0.000591343868923168,0.0005597607535188806,0.0005286929446075919,0.0004982454095601165,0.00046851318729562404,0.00043958114400859035,0.0004115238522372029,0.0003844055874746202,0.0003582804351154955,0.0003331924993314578,0.0003091762044906114,0.0002862566789818313,0.0002644502107744487,0.00024376476373261875,0.0002242005436012138,0.0002057506026738932,0.00018840147242687829,0.00017213381383534171,0.00015692307566215243,0.000142740151698598,0.00012955202872100814,0.00011732241778294679,0.00010601236236719105,0.00009558081785377082,0.00008598519769971098,0.00007718188265421971,0.0000691266902335986,0.0000617753025387734,0.00005508365130292078,0.000049008259797655376,0.000043506541896233486,0.00003853705918600211,0.00003405973753709101,0.000030036044968886557,0.000026429133011046388,0.00002320394403400321,0.000020327287228683577,0.000017767886051357232,0.00001549640002273176,0.000013485423786840849,0.000011709466301643229,0.000010144912956416944,8.769973297873056e-6,7.564616904228034e-6,6.51049978074904e-6,5.59088346762902e-6,4.7905488571263695e-6,4.095706516831331e-6,3.493905114221403e-6,2.973939338312779e-6,2.525758520514477e-6,2.140376971510865e-6,1.8097868763080515e-6,1.526874427116603e-6,1.2853397246626581e-6,1.07962084352313e-6,9.048223364744871e-7,7.566483466040763e-7,6.313404037391095e-7,5.256199030487361e-7,4.366351977355446e-7,3.61913183678191e-7,2.993152107435939e-7,2.469971222254518e-7,2.0337319942711518e-7,1.6708377173317386e-7,1.369662425750292e-7,1.1202927749983015e-7,9.142990116879052e-8,7.445325467550416e-8,6.049477229797529e-8,4.9044546969749077e-8,3.9673665745391744e-8,3.202230979274992e-8,2.578942749518646e-8,2.072380369021861e-8,1.661636257353074e-8,1.3293556088633574e-8,1.0611703488018915e-8,8.452161027208171e-9,6.717213318284773e-9,5.3265896418009885e-9,4.214519444963822e-9,3.3272513162286476e-9,2.620968920113469e-9,2.0600457170105226e-9,1.6155878102951242e-9,1.2642209964922621e-9,9.87084090172697e-10,7.689959047264932e-10,5.977679468491574e-10,4.63638980962753e-10,3.5881119384128956e-10,2.7707079181142055e-10,2.134785431080856e-10,1.6411808342684462e-10,1.2589177731376752e-10,9.635561218596436e-11,7.358603234770532e-11,5.607283070018243e-11,4.2633235854542576e-11,3.234318869297487e-11,2.4482518654223032e-11,1.8491326866769747e-11,1.393537881643629e-11,1.0478719239069816e-11,7.862059956577252e-12,5.885769098676318e-12,4.396517553990164e-12,3.276824064575954e-12,2.436891309339759e-12,1.8082476767877374e-12,1.3388082945243681e-12,9.890485140305514e-13,7.290469831040738e-13,5.362066075212818e-13,3.935025286620202e-13,2.8813871532178114e-13,2.1052051580998038e-13,1.534708707730889e-13,1.1163392920194135e-13,8.102241550283846e-14,5.867497105926583e-14,4.239740770648275e-14,3.0567818410178134e-14,2.1990155879749726e-14,1.57845023093387e-14,1.1305042515579123e-14,8.078899931656918e-15,5.7606432351885195e-15,4.0985331510913135e-15,2.909542107577699e-15,2.0609125468144946e-15,1.4565761735912857e-15,1.0271776514946296e-15,7.227642183103358e-16,5.074420442252741e-16,3.554798382294437e-16,2.484747267456813e-16,1.7329586149023293e-16,1.2059599440932135e-16,8.373678768836023e-17,5.8014750901887e-17,4.010507096351727e-17,2.7662973984464477e-17,1.9038694687086493e-17,1.3074171946709299e-17,8.958389419319263e-18,6.124694119418262e-18,4.178088092814858e-18,2.8438684498397716e-18,1.9314351712261004e-18,1.3088488324673291e-18,8.849883754344463e-19,5.970687816975049e-19,4.01929501366349e-19,2.6996914195014306e-19,1.8093271080679387e-19,1.209925906305313e-19,8.07307864623952e-20,5.374750549793629e-20,3.570394165873818e-20,2.3665339406224753e-20,1.5651214108755756e-20,1.0328138417496526e-20,6.800405166933327e-21,4.467723109208054e-21,2.9287104192788907e-21],\"type\":\"scatter\"},{\"mode\":\"lines\",\"name\":\"Insufficient_Weight\",\"x\":[14.0,14.047047047047046,14.094094094094094,14.14114114114114,14.188188188188189,14.235235235235235,14.282282282282281,14.32932932932933,14.376376376376376,14.423423423423424,14.47047047047047,14.517517517517518,14.564564564564565,14.611611611611611,14.65865865865866,14.705705705705705,14.752752752752754,14.7997997997998,14.846846846846846,14.893893893893894,14.94094094094094,14.987987987987989,15.035035035035035,15.082082082082081,15.12912912912913,15.176176176176176,15.223223223223224,15.27027027027027,15.317317317317318,15.364364364364365,15.411411411411411,15.458458458458459,15.505505505505505,15.552552552552552,15.5995995995996,15.646646646646646,15.693693693693694,15.74074074074074,15.787787787787789,15.834834834834835,15.881881881881881,15.92892892892893,15.975975975975976,16.023023023023022,16.07007007007007,16.117117117117118,16.164164164164163,16.21121121121121,16.25825825825826,16.305305305305303,16.35235235235235,16.3993993993994,16.446446446446448,16.493493493493492,16.54054054054054,16.58758758758759,16.634634634634637,16.68168168168168,16.72872872872873,16.775775775775777,16.822822822822822,16.86986986986987,16.916916916916918,16.963963963963963,17.01101101101101,17.05805805805806,17.105105105105103,17.15215215215215,17.1991991991992,17.246246246246248,17.293293293293292,17.34034034034034,17.38738738738739,17.434434434434436,17.48148148148148,17.52852852852853,17.575575575575577,17.62262262262262,17.66966966966967,17.716716716716718,17.763763763763762,17.81081081081081,17.85785785785786,17.904904904904903,17.95195195195195,17.998998998999,18.046046046046047,18.093093093093092,18.14014014014014,18.187187187187188,18.234234234234236,18.28128128128128,18.32832832832833,18.375375375375377,18.42242242242242,18.46946946946947,18.516516516516518,18.563563563563562,18.61061061061061,18.65765765765766,18.704704704704703,18.75175175175175,18.7987987987988,18.845845845845844,18.892892892892892,18.93993993993994,18.986986986986988,19.034034034034036,19.08108108108108,19.12812812812813,19.175175175175177,19.22222222222222,19.26926926926927,19.316316316316318,19.363363363363362,19.41041041041041,19.45745745745746,19.504504504504503,19.55155155155155,19.5985985985986,19.645645645645644,19.69269269269269,19.73973973973974,19.786786786786788,19.833833833833836,19.88088088088088,19.92792792792793,19.974974974974977,20.02202202202202,20.06906906906907,20.116116116116117,20.163163163163162,20.21021021021021,20.25725725725726,20.304304304304303,20.35135135135135,20.3983983983984,20.445445445445444,20.49249249249249,20.53953953953954,20.586586586586588,20.633633633633636,20.68068068068068,20.72772772772773,20.774774774774777,20.82182182182182,20.86886886886887,20.915915915915917,20.962962962962962,21.01001001001001,21.057057057057058,21.104104104104103,21.15115115115115,21.1981981981982,21.245245245245243,21.29229229229229,21.33933933933934,21.386386386386388,21.433433433433436,21.48048048048048,21.52752752752753,21.574574574574577,21.62162162162162,21.66866866866867,21.715715715715717,21.762762762762762,21.80980980980981,21.856856856856858,21.903903903903903,21.95095095095095,21.997997997998,22.045045045045043,22.092092092092095,22.13913913913914,22.186186186186184,22.233233233233236,22.28028028028028,22.32732732732733,22.374374374374376,22.42142142142142,22.46846846846847,22.515515515515517,22.56256256256256,22.60960960960961,22.656656656656658,22.703703703703702,22.75075075075075,22.7977977977978,22.844844844844843,22.891891891891895,22.93893893893894,22.985985985985984,23.033033033033036,23.08008008008008,23.127127127127128,23.174174174174176,23.22122122122122,23.26826826826827,23.315315315315317,23.36236236236236,23.40940940940941,23.456456456456458,23.503503503503502,23.55055055055055,23.5975975975976,23.644644644644643,23.69169169169169,23.73873873873874,23.785785785785784,23.832832832832835,23.87987987987988,23.926926926926928,23.973973973973976,24.02102102102102,24.06806806806807,24.115115115115117,24.16216216216216,24.20920920920921,24.256256256256258,24.303303303303302,24.35035035035035,24.3973973973974,24.444444444444443,24.49149149149149,24.53853853853854,24.585585585585584,24.632632632632635,24.67967967967968,24.726726726726728,24.773773773773776,24.82082082082082,24.86786786786787,24.914914914914917,24.96196196196196,25.00900900900901,25.056056056056057,25.103103103103102,25.15015015015015,25.197197197197198,25.244244244244243,25.29129129129129,25.33833833833834,25.385385385385383,25.432432432432435,25.47947947947948,25.526526526526524,25.573573573573576,25.62062062062062,25.66766766766767,25.714714714714717,25.76176176176176,25.80880880880881,25.855855855855857,25.902902902902902,25.94994994994995,25.996996996996998,26.044044044044043,26.09109109109109,26.13813813813814,26.185185185185183,26.232232232232235,26.27927927927928,26.326326326326324,26.373373373373376,26.42042042042042,26.46746746746747,26.514514514514516,26.56156156156156,26.60860860860861,26.655655655655657,26.7027027027027,26.74974974974975,26.796796796796798,26.843843843843842,26.89089089089089,26.93793793793794,26.984984984984983,27.032032032032035,27.07907907907908,27.126126126126124,27.173173173173176,27.22022022022022,27.26726726726727,27.314314314314316,27.36136136136136,27.40840840840841,27.455455455455457,27.5025025025025,27.54954954954955,27.596596596596598,27.643643643643642,27.69069069069069,27.73773773773774,27.784784784784783,27.831831831831835,27.87887887887888,27.925925925925924,27.972972972972975,28.02002002002002,28.067067067067068,28.114114114114116,28.16116116116116,28.20820820820821,28.255255255255257,28.3023023023023,28.34934934934935,28.396396396396398,28.443443443443442,28.49049049049049,28.53753753753754,28.584584584584583,28.631631631631635,28.67867867867868,28.725725725725724,28.772772772772775,28.81981981981982,28.866866866866868,28.913913913913916,28.96096096096096,29.00800800800801,29.055055055055057,29.1021021021021,29.14914914914915,29.196196196196198,29.243243243243242,29.29029029029029,29.33733733733734,29.384384384384383,29.431431431431434,29.47847847847848,29.525525525525524,29.572572572572575,29.61961961961962,29.666666666666668,29.713713713713716,29.76076076076076,29.80780780780781,29.854854854854857,29.9019019019019,29.94894894894895,29.995995995995997,30.043043043043042,30.09009009009009,30.137137137137138,30.184184184184186,30.23123123123123,30.27827827827828,30.325325325325327,30.37237237237237,30.41941941941942,30.466466466466468,30.513513513513512,30.56056056056056,30.60760760760761,30.654654654654657,30.7017017017017,30.74874874874875,30.795795795795797,30.842842842842842,30.88988988988989,30.936936936936938,30.983983983983986,31.03103103103103,31.07807807807808,31.125125125125127,31.17217217217217,31.21921921921922,31.266266266266268,31.313313313313312,31.36036036036036,31.40740740740741,31.454454454454456,31.5015015015015,31.54854854854855,31.595595595595597,31.64264264264264,31.68968968968969,31.736736736736738,31.783783783783786,31.83083083083083,31.87787787787788,31.924924924924927,31.97197197197197,32.01901901901902,32.06606606606607,32.113113113113116,32.16016016016016,32.207207207207205,32.254254254254256,32.3013013013013,32.34834834834835,32.3953953953954,32.44244244244244,32.489489489489486,32.53653653653654,32.58358358358359,32.630630630630634,32.67767767767768,32.72472472472472,32.77177177177177,32.81881881881882,32.86586586586587,32.912912912912915,32.95995995995996,33.007007007007005,33.054054054054056,33.1011011011011,33.14814814814815,33.1951951951952,33.24224224224224,33.289289289289286,33.33633633633634,33.38338338338338,33.430430430430434,33.47747747747748,33.52452452452452,33.57157157157157,33.61861861861862,33.66566566566567,33.712712712712715,33.75975975975976,33.806806806806804,33.853853853853856,33.9009009009009,33.94794794794795,33.994994994995,34.04204204204204,34.089089089089086,34.13613613613614,34.18318318318318,34.230230230230234,34.27727727727728,34.32432432432432,34.37137137137137,34.41841841841842,34.46546546546547,34.512512512512515,34.55955955955956,34.606606606606604,34.653653653653656,34.7007007007007,34.74774774774775,34.7947947947948,34.84184184184184,34.888888888888886,34.93593593593594,34.98298298298298,35.030030030030034,35.07707707707708,35.12412412412412,35.17117117117117,35.21821821821822,35.26526526526527,35.312312312312315,35.35935935935936,35.406406406406404,35.453453453453456,35.5005005005005,35.54754754754755,35.5945945945946,35.64164164164164,35.688688688688686,35.73573573573574,35.78278278278278,35.82982982982983,35.87687687687688,35.92392392392392,35.97097097097097,36.01801801801802,36.06506506506507,36.112112112112115,36.15915915915916,36.206206206206204,36.253253253253256,36.3003003003003,36.34734734734735,36.394394394394396,36.44144144144144,36.488488488488485,36.53553553553554,36.58258258258258,36.62962962962963,36.67667667667668,36.72372372372372,36.77077077077077,36.81781781781782,36.86486486486487,36.911911911911915,36.95895895895896,37.006006006006004,37.05305305305305,37.1001001001001,37.14714714714715,37.194194194194196,37.24124124124124,37.288288288288285,37.33533533533534,37.38238238238238,37.42942942942943,37.47647647647648,37.52352352352352,37.57057057057057,37.61761761761762,37.66466466466467,37.711711711711715,37.75875875875876,37.805805805805804,37.85285285285285,37.8998998998999,37.94694694694695,37.993993993993996,38.04104104104104,38.088088088088085,38.13513513513514,38.18218218218218,38.22922922922923,38.27627627627628,38.32332332332332,38.37037037037037,38.41741741741742,38.46446446446447,38.511511511511515,38.55855855855856,38.605605605605604,38.65265265265265,38.6996996996997,38.74674674674675,38.793793793793796,38.84084084084084,38.887887887887885,38.93493493493494,38.98198198198198,39.02902902902903,39.07607607607608,39.12312312312312,39.17017017017017,39.21721721721722,39.26426426426427,39.311311311311314,39.35835835835836,39.4054054054054,39.45245245245245,39.4994994994995,39.54654654654655,39.593593593593596,39.64064064064064,39.687687687687685,39.73473473473474,39.78178178178178,39.82882882882883,39.87587587587588,39.92292292292292,39.969969969969966,40.01701701701702,40.06406406406407,40.111111111111114,40.15815815815816,40.2052052052052,40.25225225225225,40.2992992992993,40.34634634634635,40.393393393393396,40.44044044044044,40.487487487487485,40.53453453453454,40.58158158158158,40.62862862862863,40.67567567567568,40.72272272272272,40.769769769769766,40.81681681681682,40.86386386386387,40.910910910910914,40.95795795795796,41.005005005005,41.05205205205205,41.0990990990991,41.14614614614615,41.193193193193196,41.24024024024024,41.287287287287285,41.334334334334336,41.38138138138138,41.42842842842843,41.47547547547548,41.52252252252252,41.569569569569566,41.61661661661662,41.66366366366367,41.710710710710714,41.75775775775776,41.8048048048048,41.85185185185185,41.8988988988989,41.94594594594595,41.992992992992995,42.04004004004004,42.087087087087085,42.134134134134136,42.18118118118118,42.22822822822823,42.27527527527528,42.32232232232232,42.369369369369366,42.41641641641642,42.46346346346347,42.510510510510514,42.55755755755756,42.6046046046046,42.65165165165165,42.6986986986987,42.74574574574575,42.792792792792795,42.83983983983984,42.886886886886884,42.933933933933936,42.98098098098098,43.02802802802803,43.07507507507508,43.12212212212212,43.169169169169166,43.21621621621622,43.26326326326327,43.310310310310314,43.35735735735736,43.4044044044044,43.45145145145145,43.4984984984985,43.54554554554555,43.592592592592595,43.63963963963964,43.686686686686684,43.733733733733736,43.78078078078078,43.82782782782783,43.87487487487488,43.92192192192192,43.968968968968966,44.01601601601602,44.06306306306307,44.110110110110114,44.15715715715716,44.2042042042042,44.25125125125125,44.2982982982983,44.34534534534535,44.392392392392395,44.43943943943944,44.486486486486484,44.533533533533536,44.58058058058058,44.62762762762763,44.67467467467468,44.72172172172172,44.768768768768766,44.81581581581582,44.86286286286287,44.90990990990991,44.95695695695696,45.004004004004,45.05105105105105,45.0980980980981,45.14514514514515,45.192192192192195,45.23923923923924,45.286286286286284,45.333333333333336,45.38038038038038,45.42742742742743,45.474474474474476,45.52152152152152,45.568568568568566,45.61561561561562,45.66266266266267,45.70970970970971,45.75675675675676,45.8038038038038,45.85085085085085,45.8978978978979,45.94494494494495,45.991991991991995,46.03903903903904,46.086086086086084,46.133133133133136,46.18018018018018,46.227227227227225,46.274274274274276,46.32132132132132,46.36836836836837,46.41541541541542,46.46246246246246,46.50950950950951,46.55655655655656,46.6036036036036,46.650650650650654,46.6976976976977,46.74474474474474,46.791791791791795,46.83883883883884,46.885885885885884,46.932932932932935,46.97997997997998,47.027027027027025,47.074074074074076,47.12112112112112,47.16816816816817,47.21521521521522,47.26226226226226,47.30930930930931,47.35635635635636,47.4034034034034,47.450450450450454,47.4974974974975,47.54454454454454,47.591591591591595,47.63863863863864,47.685685685685684,47.732732732732735,47.77977977977978,47.826826826826824,47.873873873873876,47.92092092092092,47.96796796796797,48.01501501501502,48.06206206206206,48.10910910910911,48.15615615615616,48.2032032032032,48.250250250250254,48.2972972972973,48.34434434434434,48.391391391391394,48.43843843843844,48.48548548548548,48.532532532532535,48.57957957957958,48.626626626626624,48.673673673673676,48.72072072072072,48.76776776776777,48.81481481481482,48.86186186186186,48.90890890890891,48.95595595595596,49.003003003003,49.050050050050054,49.0970970970971,49.14414414414414,49.191191191191194,49.23823823823824,49.28528528528528,49.332332332332335,49.37937937937938,49.426426426426424,49.473473473473476,49.52052052052052,49.56756756756757,49.61461461461462,49.66166166166166,49.70870870870871,49.75575575575576,49.8028028028028,49.84984984984985,49.8968968968969,49.94394394394394,49.990990990990994,50.03803803803804,50.08508508508508,50.132132132132135,50.17917917917918,50.226226226226224,50.273273273273276,50.32032032032032,50.36736736736737,50.414414414414416,50.46146146146146,50.50850850850851,50.55555555555556,50.6026026026026,50.64964964964965,50.6966966966967,50.74374374374374,50.790790790790794,50.83783783783784,50.88488488488488,50.931931931931935,50.97897897897898,51.026026026026024,51.073073073073076,51.12012012012012,51.16716716716717,51.214214214214216,51.26126126126126,51.30830830830831,51.35535535535536,51.4024024024024,51.44944944944945,51.4964964964965,51.54354354354354,51.590590590590594,51.63763763763764,51.68468468468468,51.731731731731735,51.77877877877878,51.825825825825824,51.872872872872875,51.91991991991992,51.966966966966964,52.014014014014016,52.06106106106106,52.10810810810811,52.15515515515516,52.2022022022022,52.24924924924925,52.2962962962963,52.34334334334334,52.390390390390394,52.43743743743744,52.48448448448448,52.531531531531535,52.57857857857858,52.625625625625624,52.672672672672675,52.71971971971972,52.766766766766764,52.813813813813816,52.86086086086086,52.90790790790791,52.95495495495496,53.002002002002,53.04904904904905,53.0960960960961,53.14314314314314,53.190190190190194,53.23723723723724,53.28428428428428,53.331331331331334,53.37837837837838,53.42542542542542,53.472472472472475,53.51951951951952,53.566566566566564,53.613613613613616,53.66066066066066,53.70770770770771,53.75475475475476,53.8018018018018,53.84884884884885,53.8958958958959,53.94294294294294,53.98998998998999,54.03703703703704,54.08408408408408,54.131131131131134,54.17817817817818,54.22522522522522,54.272272272272275,54.31931931931932,54.366366366366364,54.413413413413416,54.46046046046046,54.50750750750751,54.55455455455456,54.6016016016016,54.64864864864865,54.6956956956957,54.74274274274274,54.78978978978979,54.83683683683684,54.88388388388388,54.930930930930934,54.97797797797798,55.02502502502502,55.072072072072075,55.11911911911912,55.166166166166164,55.213213213213216,55.26026026026026,55.30730730730731,55.354354354354356,55.4014014014014,55.44844844844845,55.4954954954955,55.54254254254254,55.58958958958959,55.63663663663664,55.68368368368368,55.730730730730734,55.77777777777778,55.82482482482482,55.871871871871875,55.91891891891892,55.965965965965964,56.013013013013015,56.06006006006006,56.10710710710711,56.154154154154156,56.2012012012012,56.24824824824825,56.2952952952953,56.34234234234234,56.38938938938939,56.43643643643644,56.48348348348348,56.530530530530534,56.57757757757758,56.62462462462462,56.671671671671675,56.71871871871872,56.765765765765764,56.812812812812815,56.85985985985986,56.90690690690691,56.953953953953956,57.001001001001,57.04804804804805,57.0950950950951,57.14214214214214,57.18918918918919,57.23623623623624,57.28328328328328,57.330330330330334,57.37737737737738,57.42442442442442,57.471471471471475,57.51851851851852,57.565565565565564,57.612612612612615,57.65965965965966,57.70670670670671,57.753753753753756,57.8008008008008,57.84784784784785,57.8948948948949,57.94194194194194,57.98898898898899,58.03603603603604,58.08308308308308,58.130130130130134,58.17717717717718,58.22422422422422,58.271271271271274,58.31831831831832,58.36536536536536,58.412412412412415,58.45945945945946,58.50650650650651,58.553553553553556,58.6006006006006,58.64764764764765,58.6946946946947,58.74174174174174,58.78878878878879,58.83583583583584,58.88288288288288,58.92992992992993,58.97697697697698,59.02402402402402,59.071071071071074,59.11811811811812,59.16516516516516,59.212212212212215,59.25925925925926,59.306306306306304,59.353353353353356,59.4004004004004,59.44744744744745,59.4944944944945,59.54154154154154,59.58858858858859,59.63563563563564,59.68268268268268,59.72972972972973,59.77677677677678,59.82382382382382,59.870870870870874,59.91791791791792,59.96496496496496,60.012012012012015,60.05905905905906,60.106106106106104,60.153153153153156,60.2002002002002,60.24724724724725,60.294294294294296,60.34134134134134,60.38838838838839,60.43543543543544,60.48248248248248,60.52952952952953,60.57657657657658,60.62362362362362,60.670670670670674,60.71771771771772,60.76476476476476,60.811811811811815,60.85885885885886,60.905905905905904,60.952952952952955,61.0],\"y\":[0.0017263706680975934,0.001924600600664731,0.0021420955959658644,0.0023803209266406384,0.0026408114925609944,0.002925171248310625,0.0032350722142246223,0.0035722530435965765,0.003938517119233634,0.004335730153324444,0.004765817265602424,0.005230759516069885,0.00573258987012338,0.006273388575822985,0.006855277935302675,0.0074804164549651005,0.008150992362152524,0.008869216479479754,0.009637314451945355,0.010457518326333102,0.011332057487261515,0.012263148959524175,0.013252987092070276,0.014303732645055542,0.01541750130780344,0.01659635168220412,0.01784227277294199,0.019157171032939454,0.020542857019395205,0.022001031722733017,0.02353327263750868,0.02514101965079563,0.026825560829634512,0.02858801819474632,0.030429333572747942,0.032350254623500434,0.03435132114295532,0.03643285174479351,0.03859493102638038,0.04083739732593623,0.04315983117844318,0.04556154457767219,0.048041571150770346,0.05059865735025373,0.053231254765933725,0.055937513656350635,0.05871527779572218,0.06156208072827292,0.06447514351703973,0.06745137406895403,0.07048736811203936,0.07357941189398291,0.07672348666401303,0.07991527499192305,0.08315016896907516,0.08642328032622608,0.08972945249194966,0.0930632746031108,0.0964190974653254,0.09979105144640565,0.10317306626945429,0.10655889265468695,0.10994212573999869,0.11331623019011736,0.1166745668829972,0.12001042104005792,0.12331703164442545,0.12658762196866324,0.12981543101126736,0.13299374561965346,0.13611593305719552,0.1391754737535723,0.14216599396175947,0.1450812980321021,0.14791540000444497,0.1506625542139018,0.15331728460478566,0.1558744124509495,0.15832908218949382,0.16067678508868585,0.1629133804898756,0.16503511438729826,0.16703863513842465,0.1689210061308193,0.1706797152686375,0.17231268118239282,0.17381825610869212,0.1751952254316046,0.17644280392307493,0.17756062876574485,0.17854874948641103,0.17940761497159396,0.1801380577770141,0.1807412759797047,0.18121881285398733,0.1815725346801027,0.18180460701625514,0.1819174697807997,0.18191381150106842,0.18179654308842869,0.1815687714960907,0.1812337736064562,0.1807949706792227,0.18025590367003042,0.17962020970286763,0.1788915999483409,0.17807383912479607,0.17717072680110627,0.17618608063942764,0.1751237216742012,0.1739874616810037,0.17278109264646216,0.17150837830900015,0.17017304770062244,0.16877879058287087,0.16732925463628173,0.1658280442326153,0.16427872059329904,0.16268480311650674,0.16104977163913642,0.15937706938894752,0.15767010637647036,0.15593226297579205,0.15416689344793094,0.15237732917013483,0.15056688134843932,0.14873884300928022,0.1468964900879231,0.1450430814568181,0.14318185776485562,0.14131603898849618,0.13944882062699038,0.13758336850604305,0.13572281218634194,0.13387023700502088,0.1320286748085406,0.13020109346425926,0.12839038526449162,0.12659935436080938,0.12483070338719483,0.12308701944834838,0.12137075966352462,0.11968423646679872,0.11802960287151774,0.11640883790989376,0.11482373245847942,0.1132758756566049,0.1117666421182857,0.11029718012859434,0.10886840100368658,0.10748096977964101,0.1061352973796383,0.10483153439195565,0.10356956657324483,0.10234901217293751,0.10116922115562522,0.1000292763792517,0.09892799676810092,0.0978639425010934,0.09683542221788577,0.0958405022279011,0.09487701769061611,0.0939425857192919,0.09303462034479378,0.09215034926114746,0.09128683225993062,0.09044098124650805,0.08960958171729251,0.0887893155636686,0.08797678505496727,0.08716853783975087,0.08636109279194894,0.0855509665158883,0.08473470031235868,0.08390888739653665,0.08307020014819272,0.08221541716535648,0.08134144988476821,0.08044536852642638,0.07952442711554547,0.07857608733375625,0.07759804095261781,0.07658823060680783,0.07554486867202516,0.07446645402378209,0.07335178646809215,0.07219997865365002,0.07101046529729876,0.069783009580476,0.06851770660345333,0.06721498381643949,0.065875598381431,0.06450063145566902,0.06309147942602,0.061649842162959635,0.06017770840237376,0.05867733840231928,0.05715124405951571,0.05560216670584079,0.05403305283778836,0.05244702806102133,0.05084736955713215,0.04923747740005179,0.047620845064686335,0.046001029480005604,0.044381620982735154,0.04276621352591339,0.04115837548887137,0.039561621421889286,0.03797938504010191,0.03641499375762791,0.034871645024822706,0.03335238469969084,0.03186008764939274,0.030397440740327627,0.028966928336079962,0.027570820382521923,0.026211163119218752,0.02488977241691397,0.02360822970282109,0.022367880399613946,0.02116983477077941,0.020014971035090118,0.018903940586690766,0.017837175135054218,0.016814895561091194,0.015837122272149583,0.014903686829495787,0.01401424461714729,0.013168288320425856,0.012365161986110524,0.011604075443304142,0.01088411887469176,0.010204277341398144,0.009563445080652828,0.008960439413527635,0.008394014119573643,0.00786287215584829,0.007365677619046085,0.0069010668708232555,0.006467658767490082,0.00606406395565875,0.005688893214822417,0.005340764845915038,0.0050183111213966975,0.00472018382713383,0.004445058939145782,0.0041916404890662735,0.003958663680869606,0.0037448973280396775,0.003549145684936812,0.0033702497487355454,0.003207088109062212,0.003058577421501849,0.00292367257862847,0.0028013666483232822,0.00269069064408325,0.002590713185983835,0.0025005401041655,0.0024193140293652187,0.0023462140073211694,0.002280455166040366,0.0022212884571163917,0.0021680004846981924,0.002119913428487472,0.0020763850604273056,0.002036808848648694,0.002000614136863653,0.0019672663828068505,0.0019362674355805336,0.0019071558288867845,0.0018795070651365948,0.0018529338643038537,0.0018270863511081138,0.0018016521546222472,0.001776356395639934,0.0017509615390404268,0.001725267090858587,0.0016991091227228485,0.001672359609661048,0.0016449255708952588,0.001616748007052207,0.001587800631106236,0.0015580883942545424,0.0015276458117126075,0.0014965350970306407,0.0014648441169027172,0.0014326841815050766,0.00140018768811851,0.0013675056381177195,0.0013348050493302848,0.0013022662872635717,0.0012700803397690868,0.0012384460603683555,0.0012075674057207802,0.001177650692595667,0.0011489018992507875,0.0011215240353530565,0.0010957146035417023,0.0010716631744733455,0.0010495490957378867,0.0010295393534370649,0.0010117866035059377,0.000996427388066889,0.000983580550260415,0.0009733458591232277,0.0009658028541947483,0.0009610099176444824,0.0009590035798282762,0.0009597980623051725,0.0009633850604769813,0.0009697337661440557,0.000978791128399579,0.0009904823494007705,0.0010047116096549855,0.0010213630155359887,0.0010403017597982098,0.0010613754838870683,0.0010844158288571164,0.0011092401597181762,0.0011356534460496706,0.0011634502797776278,0.0011924170091248234,0.0012223339659560603,0.001252977762084358,0.00128412362862163,0.001315547771191831,0.0013470297128209286,0.001378354595619663,0.0014093154120235637,0.001439715136390525,0.001469368728209097,0.001498104979070603,0.0015257681769210705,0.0015522195629446966,0.0015773385587378853,0.001601023744198985,0.0016231935697600325,0.0016437867901876442,0.0016627626111336523,0.001680100543864805,0.0016957999680771527,0.001709879407328887,0.001722375526321788,0.001733341863938149,0.0017428473205047506,0.0017509744221154376,0.001757817388907042,0.0017634800378610032,0.0017680735539120122,0.0017717141658096568,0.0017745207652338617,0.0017766125090554184,0.0017781064453176636,0.0017791152034679644,0.00177974478857574,0.0017800925177415842,0.001780245134649508,0.001780277135276767,0.001780249334203948,0.0017802076968262263,0.0017801824581328922,0.0017801875436839261,0.0017802203030676592,0.0017802615605766868,0.0017802759821984766,0.0017802127523946394,0.0017800065486483624,0.0017795787965010723,0.0017788391828795725,0.0017776874010282866,0.001776015096392393,0.0017737079794211763,0.0017706480685353214,0.0017667160244747887,0.0017617935359444214,0.0017557657159179988,0.001748523468147042,0.0017399657843308958,0.0017300019340084113,0.0017185535114829474,0.001705556306933266,0.0016909619722239994,0.0016747394557325031,0.0016568761846688445,0.0016373789777921154,0.0016162746760267806,0.0015936104831642906,0.0015694540135064903,0.001543893047881765,0.001517035003860684,0.0014890061301423602,0.001459950438910401,0.0014300283934151011,0.001399415371082048,0.0013682999250456535,0.0013368818691387194,0.0013053702130275662,0.001273980975368527,0.0012429349035881223,0.001212455129177549,0.001182764787271082,0.0011540846287832341,0.0011266306525514235,0.0011006117838125765,0.0010762276239787763,0.001053666295113731,0.0010331024007918656,0.001014695123186581,0.0009985864743200035,0.0009848997174466841,0.0009737379725644866,0.0009651830180694551,0.0009592942986131188,0.0009561081472910551,0.0009556372283953279,0.0009578702051016354,0.0009627716346312966,0.0009702820916229828,0.0009803185186619495,0.0009927748011375472,0.0010075225618257255,0.001024412168816532,0.0010432739486243422,0.001063919594531346,0.0010861437584273976,0.0011097258126313257,0.0011344317664241598,0.0011600163203130099,0.0011862250393988767,0.0012127966256706463,0.0012394652676217008,0.0012659630443191334,0.0012920223599826937,0.001317378384287186,0.0013417714730212056,0.0013649495434487876,0.0013866703787557325,0.0014067038363418005,0.0014248339354595938,0.001440860800809603,0.001454602440179648,0.001465896336057849,0.0014746008333352116,0.0014805963077210071,0.0014837861022880179,0.0014840972226028918,0.0014814807841305117,0.0014759122089747308,0.001467391172471019,0.0014559413036154686,0.001441609646733679,0.0014244658950962202,0.0014046014103099894,0.001382128044195316,0.0013571767824402873,0.0013298962315552746,0.0013004509724890124,0.0012690198056773288,0.0012357939132517522,0.0012009749646212202,0.0011647731916516867,0.0011274054592097813,0.001089093355923761,0.001050061328672496,0.001010534882575918,0.0009707388661696339,0.0009308958590530556,0.0008912246766582822,0.0008519390039571073,0.0008132461669676989,0.0007753460479058374,0.0007384301468120315,0.0007026807895385967,0.0006682704791604384,0.0006353613852359299,0.0006041049629417967,0.0005746416919827901,0.0005471009233726137,0.0005216008207269406,0.0004982483816260683,0.00047713952390800136,0.00045835922144912714,0.0004419816740765723,0.00042807049672429013,0.00041667891377525286,0.0004078499457001374,0.00040161657657637517,0.00039800189281272044,0.0003970191853705025,0.00039867200991617,0.00040295420161007354,0.00040984984358048015,0.00041933319049531064,0.00043136855097211153,0.0004459101348052558,0.00046290187308585106,0.0004822772211944498,0.0005039589563133682,0.0005278589824923617,0.0005538781573727796,0.0005819061554005352,0.0006118213827147543,0.0006434909588705786,0.0006767707801339817,0.00071150567827381,0.0007475296875807107,0.0007846664312816468,0.0008227296366178145,0.000861523785646917,0.0009008449063591001,0.0009404815060071602,0.0009802156457000503,0.0010198241523529954,0.0010590799610898944,0.0010977535782195698,0.0011356146520219439,0.001172433635849991,0.0012079835255403306,0.0012420416508910376,0.0012743914990634966,0.0013048245462453161,0.0013331420728140682,0.0013591569365993287,0.001382695278675957,0.0014035981364466106,0.0014217229395879463,0.0014369448657330715,0.0014491580345219145,0.0014582765208405709,0.0014642351706490094,0.001466990205714076,0.0014665196067636093,0.001462823267993234,0.0014559229194210813,0.0014458618172243317,0.0014327042058311968,0.0014165345591089144,0.0013974566114104453,0.0013755921924519898,0.0013510798829273255,0.0013240735103672878,0.0012947405069757677,0.0012632601529785378,0.0012298217303791082,0.001194622612908277,0.0011578663183733073,0.001119760549561025,0.0010805152493402912,0.0010403406946650551,0.0009994456528319758,0.0009580356216345584,0.0009163111730262006,0.0008744664176073511,0.0008326876047433763,0.0007911518704564754,0.0007500261424760974,0.0007094662090354765,0.0006696159552233305,0.0006306067679927171,0.0005925571083422623,0.0005555722467621323,0.0005197441558164011,0.00048515155174595585,0.0004518600752464401,0.00041992260012171863,0.0003893796573451656,0.0003602599611830581,0.00033258102344307645,0.0003063498415987218,0.0002815636464925392,0.00025821069551953604,0.00023627109761428965,0.00021571765698579667,0.00019651672333541727,0.00017862903722621606,0.00016201056031722933,0.0001466132813040595,0.000132385989589079,0.00011927500991332012,0.00010722489239234131,0.00009617905358705416,0.00008608036538733526,0.00007687168957359949,0.00006849635693498962,0.00006089859075065707,0.000054023875274530325,0.00004781927059795938,0.00004223367589593533,0.00003721804359048976,0.00003272554739115976,0.000028711707500577008,0.000025134476508541545,0.000021954289646923088,0.000019134083147907396,0.000016639284447756803,0.000014437777916095023,0.000012499849675657749,0.000010798114918331296,9.30743092880329e-6,8.00479880547785e-6,6.869256627215919e-6,5.881766560986806e-6,5.025098146075552e-6,4.283709730655246e-6,3.6436297811764667e-6,3.0923395381857044e-6,2.6186582571822354e-6,2.2126320525313624e-6,1.8654271581831307e-6,1.5692282322939012e-6,1.3171421645479659e-6,1.1031076952815545e-6,9.218110242595992e-7,7.686074736319891e-7,6.394491734072518e-7,5.308186577155605e-7,4.396681950124659e-7,3.6336462391891103e-7,2.9963942725215037e-7,2.4654374861155686e-7,2.0240803728263536e-7,1.6580599689758346e-7,1.3552250998499106e-7,1.1052521307962026e-7,8.993940436013134e-8,7.302597685199385e-8,5.916208419095745e-8,4.782426200899321e-8,3.8573745500908094e-8,3.104374207507226e-8,2.4928436696934275e-8,1.997352619602261e-8,1.596809710069482e-8,1.273767923474885e-8,1.0138324163206353e-8,8.051573472068066e-9,6.38019671630668e-9,5.0445926184528426e-9,3.979759726188083e-9,3.132754246940889e-9,2.460563197065106e-9,1.9283303751568895e-9,1.5078810475840938e-9,1.1764986815975965e-9,9.159136447370051e-10,7.114695784276054e-10,5.514382189542314e-10,4.264578495085815e-10,3.2907438948299376e-10,2.5336742508228444e-10,1.9464631818190798e-10,1.4920395339898585e-10,1.1411774725594988e-10,8.708929422221737e-11,6.631550391201842e-11,5.038532903161204e-11,3.8197227895633333e-11,2.8893377682001624e-11,2.1807380692684615e-11,1.642280807963555e-11,1.2340423157415514e-11,9.252336266425642e-12,6.921679509763856e-12,5.166664801187588e-12,3.8481129291013015e-12,2.859723554437345e-12,2.1205036203834838e-12,1.5688907625760348e-12,1.1582041467196321e-12,8.531320290985938e-13,6.270267952818876e-13,4.598272192608469e-13,3.36466610124242e-13,2.45656348294352e-13,1.7895866554304252e-13,1.3008169746180387e-13,9.434488950965874e-14,6.827461924081701e-14,4.929909141938834e-14,3.5518716658800424e-14,2.5533734484907743e-14,1.83151353386035e-14,1.3108247967332723e-14,9.3609060449969e-15,6.670061621047783e-15,4.742207225577076e-15,3.3641080139954706e-15,2.3812119706251765e-15,1.6817634303344444e-15,1.1851422310408727e-15,8.333256796160324e-16,5.846524558782709e-16,4.0927904868492892e-16,2.8587749652827974e-16,1.992412001490343e-16,1.3855335606213343e-16,9.613768772710914e-17,6.655934154082341e-17,4.597937708787122e-17,3.169245421563522e-17,2.1796531114630326e-17,1.4957451863835175e-17,1.0241570710796423e-17,6.997038180414379e-18,4.7698051864649316e-18,3.244335518276093e-18,2.2018594968227606e-18,1.4910498594596435e-18,1.007473082321971e-18,6.792246813614859e-19,4.569116040576353e-19,3.0668295478264033e-19,2.053930820446216e-19,1.372526399784874e-19,9.151542971995359e-20,6.088448851656195e-20,4.0416408871960154e-20,2.6769946597305384e-20,1.769196245714432e-20,1.166657118521757e-20,7.676251289997963e-21,5.039574309546126e-21,3.301241113944832e-21,2.15774122428548e-21,1.407214153837608e-21,9.157137853121586e-22,5.945632085196862e-22,3.8519002587782433e-22,2.489950745114638e-22,1.6059987441144508e-22,1.0335663663473465e-22,6.636976153981914e-23,4.2524661774360654e-23,2.71863059950443e-23,1.734196300352558e-23,1.1037863826146209e-23,7.00987914125577e-24,4.441961096066516e-24,2.808521111137308e-24,1.7718190094011956e-24,1.115320648983964e-24,7.005172766685632e-25,4.390122920825025e-25,2.745195207583887e-25,1.7128073013421272e-25,1.06630759123547e-25,6.623617095344049e-26,4.1053166215565224e-26,2.5388486906713825e-26,1.5666273413885802e-26,9.645690144702485e-27,5.925699628416548e-27,3.632324852463387e-27,2.2216132286717326e-27,1.3557853763890862e-27,8.255666860942947e-28,5.015937263308454e-28,3.0408202875757323e-28,1.839365914135501e-28,1.110156576844051e-28,6.68557953874933e-29,4.0172846539260824e-29,2.4086010614263775e-29,1.440906707226807e-29,8.60093319395956e-30,5.12264202124484e-30,3.0442559458152036e-30,1.8051239985742173e-30,1.0680009501851368e-30,6.304852923045602e-31,3.7137870952419105e-31,2.1827186914640256e-31,1.2800214696698777e-31,7.489890398013116e-32,4.372928666434225e-32,2.54746394036124e-32,1.4807523119980926e-32,8.588068810131203e-33,4.969896373614086e-33,2.8697090893699412e-33,1.6533588905491713e-33,9.504627888986315e-34,5.451823963159439e-34,3.1202346234392964e-34,1.7818510650956234e-34,1.0152997335464533e-34,5.772392653953287e-35,3.274584338236695e-35,1.8535112111362795e-35,1.0468223250503042e-35,5.899150237100913e-36,3.31699379677475e-36,1.8609666222205964e-36,1.041768520823681e-36,5.818922840839599e-37,3.2430428622203627e-37,1.8034391805903988e-37,1.0006657484047484e-37,5.540070489079848e-38,3.0604146219522457e-38,1.6868791405171273e-38,9.277402298439435e-39,5.091051999044549e-39,2.7875803739003734e-39,1.5229511928674008e-39,8.302010809697083e-40,4.515640146796217e-40,2.4507221636202226e-40,1.3271119299093932e-40,7.170670223547297e-41,3.8659004686618567e-41,2.0796023953085025e-41,1.1162170997759247e-41,5.977997865472903e-42,3.194490212119575e-42,1.7032801683127798e-42,9.061692898335006e-43,4.810290575942805e-43,2.5478391424926634e-43,1.3465156984735053e-43,7.100510248028317e-44,3.7359961326654307e-44,1.9613811597219414e-44,1.0274396048854666e-44,5.370185995071567e-45,2.8006644235578308e-45,1.457375765903747e-45,7.566947735684165e-46,3.920203815463439e-46,2.0264471492574482e-46,1.0452029771240171e-46,5.37903928948881e-47,2.762151636159807e-47,1.4152365588650037e-47,7.235179046793791e-48,3.690695785428317e-48,1.8784772369862615e-48,9.53986758087518e-49,4.8341205696306855e-49,2.444169563377508e-49,1.233059140929151e-49,6.206906515671167e-50,3.1174911092394905e-50,1.5623342898671306e-50,7.812345248830296e-51,3.897872351160957e-51,1.9404949612827062e-51,9.639092503071446e-52,4.777475830847667e-52,2.362650982285859e-52,1.1658411102702888e-52,5.740079160845178e-53,2.8199091706470176e-53,1.3822642630769371e-53,6.76060810764062e-54,3.299279934411581e-54,1.6065390688986924e-54,7.8055253605756e-55,3.78400506142851e-55,1.830374682517704e-55,8.834195651332103e-56,4.254345422151435e-56,2.044265059139851e-56,9.801225576984513e-57,4.6888062316051423e-57,2.2381176305374042e-57,1.0659633009607485e-57,5.065709950817833e-58,2.4020227041550988e-58,1.1364559805679136e-58,5.364964476793383e-59,2.527084737802643e-59,1.1877129203582757e-59,5.569829215429161e-60,2.6062195527384853e-60,1.2167989895980439e-60,5.668464146630088e-61,2.6348184117106853e-61,1.2220098230767713e-61,5.655062723437169e-62,2.611192426771976e-62,1.2030371831169526e-62,5.53041784972846e-63,2.536737695365213e-63,1.1609991486021117e-63,5.301844206437899e-64,2.415798707113244e-64,1.0983310186915589e-64,4.982467509156849e-65,2.2552486087975734e-65,1.0185517369904064e-65,4.5899767511405275e-66,2.0638427292166877e-66,9.259369934126595e-67,4.145004375032357e-67,1.8514298988837066e-67,8.251412039397384e-68,3.669340360010947e-68,1.6281201195447132e-68,7.208146592622098e-69,3.1841938516484207e-69,1.4035054727126647e-69,6.172590176102759e-70,2.7086912079844595e-70,1.1860152539888492e-70,5.181550954976998e-71,2.2587491065983424e-71,9.824601327064548e-72,4.263837063647259e-72,1.846396577857238e-72,7.977890930832681e-73,3.4394573187027314e-73,1.479552827758646e-73,6.3505267552015234e-74,2.7197422362510036e-74,1.1622096127499474e-74,4.955413533935546e-75,2.1082109461301896e-75,8.949256320376178e-76,3.7905179031029565e-76,1.6019497138274695e-76,6.755195589518187e-77,2.842272406540248e-77,1.1932520565021215e-77,4.998473639245655e-78,2.089206375826063e-78,8.712925505794981e-79,3.6256458569235713e-79,1.5053777172908577e-79,6.236548546494422e-80,2.577993709197725e-80,1.063305648835181e-80,4.375957655117606e-81,1.796912055653007e-81,7.362397404724646e-82,3.0098885255673524e-82,1.2277792479905613e-82,4.997224814023888e-83,2.029439966828179e-83,8.223605188902346e-84,3.324964530514139e-84,1.3413759132049754e-84,5.399489639753547e-85,2.168670853972071e-85,8.691070948040959e-86,3.475294952377536e-86,1.3865922414643994e-86,5.520069986094655e-87,2.1926995324107495e-87,8.690652522535305e-88,3.436880007122464e-88,1.3561729428067393e-88,5.339548099635625e-89,2.0976481944313433e-89,8.222417487000556e-90,3.2159191164064457e-90,1.2550164908510956e-90,4.886888942605395e-91,1.8986907233807548e-91,7.360625288113733e-92,2.847173364532593e-92,1.0988839666602066e-92,4.231832634573724e-93,1.6260872772252705e-93,6.234447070296634e-94,2.3850130210304167e-94,9.10379120322021e-95,3.467308981686626e-95,1.3176544179670438e-95,4.996308224271489e-96,1.890321370005163e-96,7.136097705522525e-97,2.6879714596541133e-97,1.0102462349254679e-97,3.788510976222233e-98,1.4175832762055536e-98,5.292578815325964e-99,1.9716272370380245e-99,7.328599792497003e-100,2.7180405068467755e-100,1.0058415351387761e-100,3.714000243947104e-101,1.368336816886854e-101,5.030171806472375e-102,1.8450636251415502e-102,6.752717744137353e-103,2.4659517181241543e-103,8.985231335830386e-104,3.266725772404614e-104,1.1850449299566394e-104,4.289391394565381e-105,1.5491563718619912e-105,5.582562077192073e-106,2.0072921507106383e-106,7.201555856912505e-107,2.5779874724688162e-107,9.208184099549027e-108,3.281753117243671e-108,1.1670152767739718e-108],\"type\":\"scatter\"},{\"mode\":\"lines\",\"name\":\"Obesity_Type_II\",\"x\":[14.0,14.047047047047046,14.094094094094094,14.14114114114114,14.188188188188189,14.235235235235235,14.282282282282281,14.32932932932933,14.376376376376376,14.423423423423424,14.47047047047047,14.517517517517518,14.564564564564565,14.611611611611611,14.65865865865866,14.705705705705705,14.752752752752754,14.7997997997998,14.846846846846846,14.893893893893894,14.94094094094094,14.987987987987989,15.035035035035035,15.082082082082081,15.12912912912913,15.176176176176176,15.223223223223224,15.27027027027027,15.317317317317318,15.364364364364365,15.411411411411411,15.458458458458459,15.505505505505505,15.552552552552552,15.5995995995996,15.646646646646646,15.693693693693694,15.74074074074074,15.787787787787789,15.834834834834835,15.881881881881881,15.92892892892893,15.975975975975976,16.023023023023022,16.07007007007007,16.117117117117118,16.164164164164163,16.21121121121121,16.25825825825826,16.305305305305303,16.35235235235235,16.3993993993994,16.446446446446448,16.493493493493492,16.54054054054054,16.58758758758759,16.634634634634637,16.68168168168168,16.72872872872873,16.775775775775777,16.822822822822822,16.86986986986987,16.916916916916918,16.963963963963963,17.01101101101101,17.05805805805806,17.105105105105103,17.15215215215215,17.1991991991992,17.246246246246248,17.293293293293292,17.34034034034034,17.38738738738739,17.434434434434436,17.48148148148148,17.52852852852853,17.575575575575577,17.62262262262262,17.66966966966967,17.716716716716718,17.763763763763762,17.81081081081081,17.85785785785786,17.904904904904903,17.95195195195195,17.998998998999,18.046046046046047,18.093093093093092,18.14014014014014,18.187187187187188,18.234234234234236,18.28128128128128,18.32832832832833,18.375375375375377,18.42242242242242,18.46946946946947,18.516516516516518,18.563563563563562,18.61061061061061,18.65765765765766,18.704704704704703,18.75175175175175,18.7987987987988,18.845845845845844,18.892892892892892,18.93993993993994,18.986986986986988,19.034034034034036,19.08108108108108,19.12812812812813,19.175175175175177,19.22222222222222,19.26926926926927,19.316316316316318,19.363363363363362,19.41041041041041,19.45745745745746,19.504504504504503,19.55155155155155,19.5985985985986,19.645645645645644,19.69269269269269,19.73973973973974,19.786786786786788,19.833833833833836,19.88088088088088,19.92792792792793,19.974974974974977,20.02202202202202,20.06906906906907,20.116116116116117,20.163163163163162,20.21021021021021,20.25725725725726,20.304304304304303,20.35135135135135,20.3983983983984,20.445445445445444,20.49249249249249,20.53953953953954,20.586586586586588,20.633633633633636,20.68068068068068,20.72772772772773,20.774774774774777,20.82182182182182,20.86886886886887,20.915915915915917,20.962962962962962,21.01001001001001,21.057057057057058,21.104104104104103,21.15115115115115,21.1981981981982,21.245245245245243,21.29229229229229,21.33933933933934,21.386386386386388,21.433433433433436,21.48048048048048,21.52752752752753,21.574574574574577,21.62162162162162,21.66866866866867,21.715715715715717,21.762762762762762,21.80980980980981,21.856856856856858,21.903903903903903,21.95095095095095,21.997997997998,22.045045045045043,22.092092092092095,22.13913913913914,22.186186186186184,22.233233233233236,22.28028028028028,22.32732732732733,22.374374374374376,22.42142142142142,22.46846846846847,22.515515515515517,22.56256256256256,22.60960960960961,22.656656656656658,22.703703703703702,22.75075075075075,22.7977977977978,22.844844844844843,22.891891891891895,22.93893893893894,22.985985985985984,23.033033033033036,23.08008008008008,23.127127127127128,23.174174174174176,23.22122122122122,23.26826826826827,23.315315315315317,23.36236236236236,23.40940940940941,23.456456456456458,23.503503503503502,23.55055055055055,23.5975975975976,23.644644644644643,23.69169169169169,23.73873873873874,23.785785785785784,23.832832832832835,23.87987987987988,23.926926926926928,23.973973973973976,24.02102102102102,24.06806806806807,24.115115115115117,24.16216216216216,24.20920920920921,24.256256256256258,24.303303303303302,24.35035035035035,24.3973973973974,24.444444444444443,24.49149149149149,24.53853853853854,24.585585585585584,24.632632632632635,24.67967967967968,24.726726726726728,24.773773773773776,24.82082082082082,24.86786786786787,24.914914914914917,24.96196196196196,25.00900900900901,25.056056056056057,25.103103103103102,25.15015015015015,25.197197197197198,25.244244244244243,25.29129129129129,25.33833833833834,25.385385385385383,25.432432432432435,25.47947947947948,25.526526526526524,25.573573573573576,25.62062062062062,25.66766766766767,25.714714714714717,25.76176176176176,25.80880880880881,25.855855855855857,25.902902902902902,25.94994994994995,25.996996996996998,26.044044044044043,26.09109109109109,26.13813813813814,26.185185185185183,26.232232232232235,26.27927927927928,26.326326326326324,26.373373373373376,26.42042042042042,26.46746746746747,26.514514514514516,26.56156156156156,26.60860860860861,26.655655655655657,26.7027027027027,26.74974974974975,26.796796796796798,26.843843843843842,26.89089089089089,26.93793793793794,26.984984984984983,27.032032032032035,27.07907907907908,27.126126126126124,27.173173173173176,27.22022022022022,27.26726726726727,27.314314314314316,27.36136136136136,27.40840840840841,27.455455455455457,27.5025025025025,27.54954954954955,27.596596596596598,27.643643643643642,27.69069069069069,27.73773773773774,27.784784784784783,27.831831831831835,27.87887887887888,27.925925925925924,27.972972972972975,28.02002002002002,28.067067067067068,28.114114114114116,28.16116116116116,28.20820820820821,28.255255255255257,28.3023023023023,28.34934934934935,28.396396396396398,28.443443443443442,28.49049049049049,28.53753753753754,28.584584584584583,28.631631631631635,28.67867867867868,28.725725725725724,28.772772772772775,28.81981981981982,28.866866866866868,28.913913913913916,28.96096096096096,29.00800800800801,29.055055055055057,29.1021021021021,29.14914914914915,29.196196196196198,29.243243243243242,29.29029029029029,29.33733733733734,29.384384384384383,29.431431431431434,29.47847847847848,29.525525525525524,29.572572572572575,29.61961961961962,29.666666666666668,29.713713713713716,29.76076076076076,29.80780780780781,29.854854854854857,29.9019019019019,29.94894894894895,29.995995995995997,30.043043043043042,30.09009009009009,30.137137137137138,30.184184184184186,30.23123123123123,30.27827827827828,30.325325325325327,30.37237237237237,30.41941941941942,30.466466466466468,30.513513513513512,30.56056056056056,30.60760760760761,30.654654654654657,30.7017017017017,30.74874874874875,30.795795795795797,30.842842842842842,30.88988988988989,30.936936936936938,30.983983983983986,31.03103103103103,31.07807807807808,31.125125125125127,31.17217217217217,31.21921921921922,31.266266266266268,31.313313313313312,31.36036036036036,31.40740740740741,31.454454454454456,31.5015015015015,31.54854854854855,31.595595595595597,31.64264264264264,31.68968968968969,31.736736736736738,31.783783783783786,31.83083083083083,31.87787787787788,31.924924924924927,31.97197197197197,32.01901901901902,32.06606606606607,32.113113113113116,32.16016016016016,32.207207207207205,32.254254254254256,32.3013013013013,32.34834834834835,32.3953953953954,32.44244244244244,32.489489489489486,32.53653653653654,32.58358358358359,32.630630630630634,32.67767767767768,32.72472472472472,32.77177177177177,32.81881881881882,32.86586586586587,32.912912912912915,32.95995995995996,33.007007007007005,33.054054054054056,33.1011011011011,33.14814814814815,33.1951951951952,33.24224224224224,33.289289289289286,33.33633633633634,33.38338338338338,33.430430430430434,33.47747747747748,33.52452452452452,33.57157157157157,33.61861861861862,33.66566566566567,33.712712712712715,33.75975975975976,33.806806806806804,33.853853853853856,33.9009009009009,33.94794794794795,33.994994994995,34.04204204204204,34.089089089089086,34.13613613613614,34.18318318318318,34.230230230230234,34.27727727727728,34.32432432432432,34.37137137137137,34.41841841841842,34.46546546546547,34.512512512512515,34.55955955955956,34.606606606606604,34.653653653653656,34.7007007007007,34.74774774774775,34.7947947947948,34.84184184184184,34.888888888888886,34.93593593593594,34.98298298298298,35.030030030030034,35.07707707707708,35.12412412412412,35.17117117117117,35.21821821821822,35.26526526526527,35.312312312312315,35.35935935935936,35.406406406406404,35.453453453453456,35.5005005005005,35.54754754754755,35.5945945945946,35.64164164164164,35.688688688688686,35.73573573573574,35.78278278278278,35.82982982982983,35.87687687687688,35.92392392392392,35.97097097097097,36.01801801801802,36.06506506506507,36.112112112112115,36.15915915915916,36.206206206206204,36.253253253253256,36.3003003003003,36.34734734734735,36.394394394394396,36.44144144144144,36.488488488488485,36.53553553553554,36.58258258258258,36.62962962962963,36.67667667667668,36.72372372372372,36.77077077077077,36.81781781781782,36.86486486486487,36.911911911911915,36.95895895895896,37.006006006006004,37.05305305305305,37.1001001001001,37.14714714714715,37.194194194194196,37.24124124124124,37.288288288288285,37.33533533533534,37.38238238238238,37.42942942942943,37.47647647647648,37.52352352352352,37.57057057057057,37.61761761761762,37.66466466466467,37.711711711711715,37.75875875875876,37.805805805805804,37.85285285285285,37.8998998998999,37.94694694694695,37.993993993993996,38.04104104104104,38.088088088088085,38.13513513513514,38.18218218218218,38.22922922922923,38.27627627627628,38.32332332332332,38.37037037037037,38.41741741741742,38.46446446446447,38.511511511511515,38.55855855855856,38.605605605605604,38.65265265265265,38.6996996996997,38.74674674674675,38.793793793793796,38.84084084084084,38.887887887887885,38.93493493493494,38.98198198198198,39.02902902902903,39.07607607607608,39.12312312312312,39.17017017017017,39.21721721721722,39.26426426426427,39.311311311311314,39.35835835835836,39.4054054054054,39.45245245245245,39.4994994994995,39.54654654654655,39.593593593593596,39.64064064064064,39.687687687687685,39.73473473473474,39.78178178178178,39.82882882882883,39.87587587587588,39.92292292292292,39.969969969969966,40.01701701701702,40.06406406406407,40.111111111111114,40.15815815815816,40.2052052052052,40.25225225225225,40.2992992992993,40.34634634634635,40.393393393393396,40.44044044044044,40.487487487487485,40.53453453453454,40.58158158158158,40.62862862862863,40.67567567567568,40.72272272272272,40.769769769769766,40.81681681681682,40.86386386386387,40.910910910910914,40.95795795795796,41.005005005005,41.05205205205205,41.0990990990991,41.14614614614615,41.193193193193196,41.24024024024024,41.287287287287285,41.334334334334336,41.38138138138138,41.42842842842843,41.47547547547548,41.52252252252252,41.569569569569566,41.61661661661662,41.66366366366367,41.710710710710714,41.75775775775776,41.8048048048048,41.85185185185185,41.8988988988989,41.94594594594595,41.992992992992995,42.04004004004004,42.087087087087085,42.134134134134136,42.18118118118118,42.22822822822823,42.27527527527528,42.32232232232232,42.369369369369366,42.41641641641642,42.46346346346347,42.510510510510514,42.55755755755756,42.6046046046046,42.65165165165165,42.6986986986987,42.74574574574575,42.792792792792795,42.83983983983984,42.886886886886884,42.933933933933936,42.98098098098098,43.02802802802803,43.07507507507508,43.12212212212212,43.169169169169166,43.21621621621622,43.26326326326327,43.310310310310314,43.35735735735736,43.4044044044044,43.45145145145145,43.4984984984985,43.54554554554555,43.592592592592595,43.63963963963964,43.686686686686684,43.733733733733736,43.78078078078078,43.82782782782783,43.87487487487488,43.92192192192192,43.968968968968966,44.01601601601602,44.06306306306307,44.110110110110114,44.15715715715716,44.2042042042042,44.25125125125125,44.2982982982983,44.34534534534535,44.392392392392395,44.43943943943944,44.486486486486484,44.533533533533536,44.58058058058058,44.62762762762763,44.67467467467468,44.72172172172172,44.768768768768766,44.81581581581582,44.86286286286287,44.90990990990991,44.95695695695696,45.004004004004,45.05105105105105,45.0980980980981,45.14514514514515,45.192192192192195,45.23923923923924,45.286286286286284,45.333333333333336,45.38038038038038,45.42742742742743,45.474474474474476,45.52152152152152,45.568568568568566,45.61561561561562,45.66266266266267,45.70970970970971,45.75675675675676,45.8038038038038,45.85085085085085,45.8978978978979,45.94494494494495,45.991991991991995,46.03903903903904,46.086086086086084,46.133133133133136,46.18018018018018,46.227227227227225,46.274274274274276,46.32132132132132,46.36836836836837,46.41541541541542,46.46246246246246,46.50950950950951,46.55655655655656,46.6036036036036,46.650650650650654,46.6976976976977,46.74474474474474,46.791791791791795,46.83883883883884,46.885885885885884,46.932932932932935,46.97997997997998,47.027027027027025,47.074074074074076,47.12112112112112,47.16816816816817,47.21521521521522,47.26226226226226,47.30930930930931,47.35635635635636,47.4034034034034,47.450450450450454,47.4974974974975,47.54454454454454,47.591591591591595,47.63863863863864,47.685685685685684,47.732732732732735,47.77977977977978,47.826826826826824,47.873873873873876,47.92092092092092,47.96796796796797,48.01501501501502,48.06206206206206,48.10910910910911,48.15615615615616,48.2032032032032,48.250250250250254,48.2972972972973,48.34434434434434,48.391391391391394,48.43843843843844,48.48548548548548,48.532532532532535,48.57957957957958,48.626626626626624,48.673673673673676,48.72072072072072,48.76776776776777,48.81481481481482,48.86186186186186,48.90890890890891,48.95595595595596,49.003003003003,49.050050050050054,49.0970970970971,49.14414414414414,49.191191191191194,49.23823823823824,49.28528528528528,49.332332332332335,49.37937937937938,49.426426426426424,49.473473473473476,49.52052052052052,49.56756756756757,49.61461461461462,49.66166166166166,49.70870870870871,49.75575575575576,49.8028028028028,49.84984984984985,49.8968968968969,49.94394394394394,49.990990990990994,50.03803803803804,50.08508508508508,50.132132132132135,50.17917917917918,50.226226226226224,50.273273273273276,50.32032032032032,50.36736736736737,50.414414414414416,50.46146146146146,50.50850850850851,50.55555555555556,50.6026026026026,50.64964964964965,50.6966966966967,50.74374374374374,50.790790790790794,50.83783783783784,50.88488488488488,50.931931931931935,50.97897897897898,51.026026026026024,51.073073073073076,51.12012012012012,51.16716716716717,51.214214214214216,51.26126126126126,51.30830830830831,51.35535535535536,51.4024024024024,51.44944944944945,51.4964964964965,51.54354354354354,51.590590590590594,51.63763763763764,51.68468468468468,51.731731731731735,51.77877877877878,51.825825825825824,51.872872872872875,51.91991991991992,51.966966966966964,52.014014014014016,52.06106106106106,52.10810810810811,52.15515515515516,52.2022022022022,52.24924924924925,52.2962962962963,52.34334334334334,52.390390390390394,52.43743743743744,52.48448448448448,52.531531531531535,52.57857857857858,52.625625625625624,52.672672672672675,52.71971971971972,52.766766766766764,52.813813813813816,52.86086086086086,52.90790790790791,52.95495495495496,53.002002002002,53.04904904904905,53.0960960960961,53.14314314314314,53.190190190190194,53.23723723723724,53.28428428428428,53.331331331331334,53.37837837837838,53.42542542542542,53.472472472472475,53.51951951951952,53.566566566566564,53.613613613613616,53.66066066066066,53.70770770770771,53.75475475475476,53.8018018018018,53.84884884884885,53.8958958958959,53.94294294294294,53.98998998998999,54.03703703703704,54.08408408408408,54.131131131131134,54.17817817817818,54.22522522522522,54.272272272272275,54.31931931931932,54.366366366366364,54.413413413413416,54.46046046046046,54.50750750750751,54.55455455455456,54.6016016016016,54.64864864864865,54.6956956956957,54.74274274274274,54.78978978978979,54.83683683683684,54.88388388388388,54.930930930930934,54.97797797797798,55.02502502502502,55.072072072072075,55.11911911911912,55.166166166166164,55.213213213213216,55.26026026026026,55.30730730730731,55.354354354354356,55.4014014014014,55.44844844844845,55.4954954954955,55.54254254254254,55.58958958958959,55.63663663663664,55.68368368368368,55.730730730730734,55.77777777777778,55.82482482482482,55.871871871871875,55.91891891891892,55.965965965965964,56.013013013013015,56.06006006006006,56.10710710710711,56.154154154154156,56.2012012012012,56.24824824824825,56.2952952952953,56.34234234234234,56.38938938938939,56.43643643643644,56.48348348348348,56.530530530530534,56.57757757757758,56.62462462462462,56.671671671671675,56.71871871871872,56.765765765765764,56.812812812812815,56.85985985985986,56.90690690690691,56.953953953953956,57.001001001001,57.04804804804805,57.0950950950951,57.14214214214214,57.18918918918919,57.23623623623624,57.28328328328328,57.330330330330334,57.37737737737738,57.42442442442442,57.471471471471475,57.51851851851852,57.565565565565564,57.612612612612615,57.65965965965966,57.70670670670671,57.753753753753756,57.8008008008008,57.84784784784785,57.8948948948949,57.94194194194194,57.98898898898899,58.03603603603604,58.08308308308308,58.130130130130134,58.17717717717718,58.22422422422422,58.271271271271274,58.31831831831832,58.36536536536536,58.412412412412415,58.45945945945946,58.50650650650651,58.553553553553556,58.6006006006006,58.64764764764765,58.6946946946947,58.74174174174174,58.78878878878879,58.83583583583584,58.88288288288288,58.92992992992993,58.97697697697698,59.02402402402402,59.071071071071074,59.11811811811812,59.16516516516516,59.212212212212215,59.25925925925926,59.306306306306304,59.353353353353356,59.4004004004004,59.44744744744745,59.4944944944945,59.54154154154154,59.58858858858859,59.63563563563564,59.68268268268268,59.72972972972973,59.77677677677678,59.82382382382382,59.870870870870874,59.91791791791792,59.96496496496496,60.012012012012015,60.05905905905906,60.106106106106104,60.153153153153156,60.2002002002002,60.24724724724725,60.294294294294296,60.34134134134134,60.38838838838839,60.43543543543544,60.48248248248248,60.52952952952953,60.57657657657658,60.62362362362362,60.670670670670674,60.71771771771772,60.76476476476476,60.811811811811815,60.85885885885886,60.905905905905904,60.952952952952955,61.0],\"y\":[1.4326425853286954e-10,1.8978412116370714e-10,2.508540099544312e-10,3.308425818826228e-10,4.3537246257665206e-10,5.716625415993201e-10,7.489585178292228e-10,9.790729848209458e-10,1.277061087470024e-9,1.6620634771025176e-9,2.158355109387085e-9,2.796646558768961e-9,3.615694180304793e-9,4.664286877758671e-9,6.0036907070595425e-9,7.710648357736326e-9,9.881049042801405e-9,1.2634405850551558e-8,1.61193025591606e-8,2.0520000702013572e-8,2.6064430735743643e-8,3.3033828957455935e-8,4.177432480461912e-8,5.271083181086977e-8,6.636365022888474e-8,8.336825058231652e-8,1.0449877553690492e-7,1.3069587277738583e-7,1.6309955423285584e-7,2.0308786706803956e-7,2.5232225924538466e-7,3.1280062685082563e-7,3.8691914120502515e-7,4.775440701976526e-7,5.880949290890134e-7,7.226404196313075e-7,8.860087407377436e-7,1.0839139765450132e-6,1.3231003855052404e-6,1.6115065234562219e-6,1.958451230186198e-6,2.3748435879189502e-6,2.873419015835938e-6,3.4690036910077327e-6,4.178809476099734e-6,5.0227614805343326e-6,6.0238602765385016e-6,7.2085806263776265e-6,8.607308343556994e-6,0.000010254816600220556,0.000012190782596963421,0.000014460345021699675,0.00001711470213373034,0.000020211749611393798,0.00002381675649164341,0.00002800307660443198,0.00003285289186285617,0.000038457982613245925,0.000044920518982438374,0.00005235386579048718,0.00006088339213801936,0.00007064727524453024,0.0000817972865279168,0.00009449954630178693,0.0001089352318559176,0.0001253012221116687,0.0001438106605480812,0.00016469341671965552,0.00018819642548186137,0.00021458388205607192,0.00024413727035595858,0.0002771552016170967,0.0003139530403758296,0.00035486229528648396,0.0004002297531981838,0.0004504163363806881,0.0005057956648327634,0.0005667523082580861,0.0006336797155746515,0.0007069778137429685,0.0007870502722530265,0.00087430143477919,0.0009691329252612237,0.0010719399419439155,0.0011831072596359595,0.0013030049675394064,0.0014319839773474948,0.0015703713437816684,0.0017184654472002152,0.0018765310952002273,0.0020447946070892946,0.0022234389515416366,0.002412599013500363,0.0026123570712565003,0.002822738568453398,0.003043708268359763,0.003275166878972745,0.003516948237217158,0.003768817138584041,0.0040304678949161865,0.00430152369764995,0.004581536856638919,0.004869989975742261,0.005166298115720934,0.005469811982747139,0.005779822167148935,0.006095564442066204,0.006416226115705884,0.0067409534141234725,0.007068859854199593,0.007399035549050188,0.007730557370828231,0.008062499879092959,0.008393946906973782,0.008724003682588606,0.009051809349901628,0.009376549741733837,0.00969747024823581,0.010013888617022047,0.010325207516550255,0.010630926692326318,0.010930654546220976,0.011224118972621447,0.011511177291263448,0.011791825125326085,0.01206620408456578,0.012334608126713349,0.012597488485822088,0.012855457073457345,0.013109288277216165,0.013359919100741365,0.01360844760978331,0.013856129669589549,0.014104373979635617,0.01435473543206895,0.014608906839940948,0.014868709100013148,0.01513607987242806,0.015413060875580078,0.015701783908974577,0.016004455729568323,0.016323341917996975,0.01666074988016984,0.017019011136970786,0.01740046306030618,0.017807430217564844,0.01824220548882113,0.018707031121955223,0.019204079890411507,0.01973543651672869,0.020303079522374604,0.020908863660934814,0.021554503087436082,0.022241555411606648,0.022971406777237666,0.023745258103518203,0.024564112617262053,0.02542876479726462,0.026339790843570708,0.027297540775068668,0.028302132248471067,0.029353446180259705,0.030451124240450517,0.03159456827297046,0.0327829416819446,0.03401517280623337,0.03528996028611123,0.03660578040608686,0.037960896376660114,0.03935336949539102,0.040781072104332614,0.04224170223685904,0.04373279982263776,0.04525176429529383,0.046795873423728644,0.048362303165517304,0.04994814831994355,0.05155044373949749,0.053166185842687556,0.05479235415827893,0.05642593262214089,0.058063930343111976,0.05970340155418819,0.061341464470060204,0.06297531878194414,0.06460226153571039,0.06621970115957405,0.06782516943299975,0.06941633121852284,0.07099099181279271,0.07254710181149966,0.07408275942464418,0.0755962102227818,0.07708584434099915,0.07855019121420397,0.079987911964162,0.08139778960463248,0.08277871727458236,0.08412968475051441,0.08544976352580613,0.08673809077717963,0.08799385256509289,0.0892162666352166,0.09040456520175359,0.09155797809960105,0.09267571669112187,0.09375695890417685,0.09480083576135208,0.09580641973608998,0.09677271523977975,0.09769865150583557,0.09858307809237937,0.09942476317579084,0.10022239475339655,0.10097458481652923,0.1016798764957591,0.10233675411980565,0.10294365606940274,0.10349899024882875,0.1040011519416226,0.10444854376501661,0.10483959739039603,0.1051727966559573,0.1054467016636088,0.10565997342567755,0.10581139860891366,0.10589991391403672,0.10592462962879155,0.10588485190150633,0.10578010330013829,0.1056101412483973,0.10537497396561325,0.10507487357929587,0.10471038612853094,0.10428233823110676,0.10379184024660935,0.10324028583036367,0.10262934783774288,0.10196097060392169,0.10123735868864678,0.10046096223869438,0.099634459180053,0.09876073450715979,0.0978428569862169,0.09688405363293073,0.09588768236104506,0.09485720322643959,0.09379614871146527,0.09270809350576356,0.09159662424276925,0.090465309645554,0.0893176715220837,0.08815715702863625,0.08698711259179433,0.0858107598448269,0.08463117389419748,0.0834512641874588,0.0822737582058031,0.08110118815415109,0.0799358807699133,0.0787799503194632,0.07763529479995082,0.07650359531422925,0.0753863185392873,0.07428472216436535,0.07319986313453626,0.07213260849953894,0.07108364863632599,0.07005351258754271,0.06904258523705813,0.06805112602772491,0.06707928891576552,0.06612714325027624,0.06519469526509984,0.06428190987337172,0.06338873246200147,0.06251511039373375,0.06166101393782615,0.06082645636623639,0.0600115129701063,0.05921633877079485,0.05844118472029844,0.05768641220727141,0.056952505706642585,0.056240083432767755,0.05554990587793604,0.05488288213969567,0.05424007396177495,0.05362269743430428,0.05303212231956073,0.05246986898963199,0.05193760298220117,0.0514371272002723,0.050970371801049685,0.05053938183850533,0.05014630274342954,0.04979336374399245,0.049482859349067154,0.04921712903568627,0.0489985353009855,0.04882944025762238,0.04871218096983887,0.04864904374473091,0.048642237609718614,0.048693867222283166,0.04880590547147388,0.048980166042109696,0.04921827622166763,0.04952165023621722,0.04989146340511467,0.050328627404235986,0.050833766924084055,0.05140719800194729,0.052048908296414766,0.05275853955782222,0.05353537252981634,0.05437831449526063,0.055285889654413736,0.056256232495086454,0.057287084283639655,0.058375792772773286,0.0595193151875605,0.06071422451569772,0.06195671909204227,0.06324263543182655,0.06456746423207442,0.06592636942718685,0.06731421015314147,0.06872556544546299,0.07015476146974926,0.07159590106020358,0.07304289532169574,0.07448949703442247,0.07592933558738187,0.07735595315755749,0.07876284184574917,0.08014348147742534,0.08149137777714875,0.08280010062827693,0.0840633221348647,0.0852748542101703,0.08642868542505366,0.08751901685996402,0.08854029671543123,0.0894872534480637,0.09035492721150759,0.09113869939477606,0.09183432006332903,0.09243793312171754,0.0929460990300619,0.09335581492042562,0.09366453197349692,0.09387016993076547,0.09397112863295778,0.09396629649209962,0.09385505582223337,0.09363728497266584,0.09331335722811862,0.09288413646170054,0.09235096955008512,0.09171567558458385,0.09098053193785587,0.09014825727262289,0.0892219916063271,0.08820527357345831,0.08710201505498512,0.08591647337151485,0.08465322126272458,0.08331711490017402,0.08191326020267055,0.08044697774315612,0.07892376655233661,0.07734926713726227,0.07572922404198401,0.07406944828212213,0.07237577998560124,0.0706540515676914,0.06891005175995017,0.06714949079979567,0.06537796707052242,0.06360093546081454,0.061823677688729185,0.06005127480810414,0.05828858208600342,0.05654020640865253,0.05481048634094456,0.053103474931669954,0.05142292532374313,0.049772279196253724,0.048154658034056615,0.046572857190878114,0.04502934268436386,0.043526250636171306,0.042065389247592795,0.04064824318135054,0.03927598020330651,0.037949459923890906,0.036669244468053676,0.035435610894370924,0.03424856517846205,0.033107857572874655,0.032012999154876626,0.03096327937485378,0.029957784421032613,0.028995416220737986,0.028074911904080607,0.027194863562608855,0.026353738142865655,0.02554989732267096,0.024781617226248866,0.024047107842793153,0.02334453202168019,0.022672023926179334,0.022027706836155406,0.02140971019886903,0.020816185835557246,0.020245323220055393,0.019695363754294613,0.019164613974143783,0.018651457627759025,0.018154366577411134,0.0176719104846847,0.017202765247991178,0.016745720170503662,0.016299683845879716,0.01586368875845607,0.015436894603896547,0.015018590345513153,0.014608195030554534,0.014205257399569451,0.013809454330439948,0.013420588166694808,0.013038582987197646,0.012663479881146153,0.0122954312984336,0.011934694550759729,0.011581624543352952,0.011236665820775838,0.010900344012978288,0.010573256769570659,0.010256064271209462,0.009949479407074868,0.009654257706717854,0.009371187113139327,0.009101077681912323,0.008844751288556227,0.00860303142331317,0.008376733149048465,0.00816665329429168,0.007973560949524054,0.007798188330784489,0.007641222070558113,0.0075032949917747584,0.0073849784166179185,0.007286775057725195,0.007209112535265932,0.007152337559281259,0.007116710812548636,0.0071024025650487715,0.007109489046825061,0.007137949601590186,0.007187664638808498,0.007258414397125821,0.007349878526897772,0.007461636494165063,0.007593168802730646,0.0077438590250174365,0.00791299662615664,0.008099780559313822,0.008303323603669217,0.008522657409809876,0.008756738210654695,0.009004453149530535,0.009264627170763918,0.009536030412272776,0.009817386034257842,0.010107378413333794,0.010404661627415615,0.010707868153496383,0.01101561769820807,0.01132652607982129,0.011639214080163492,0.01195231618584629,0.012264489140197423,0.01257442023036316,0.012880835238145037,0.013182505988169266,0.01347825743289378,0.013766974220587199,0.014047606699657628,0.014319176320419692,0.014580780403402183,0.014831596251465858,0.015070884591166915,0.015297992336798648,0.015512354678242586,0.01571349650101639,0.015901033153602716,0.01607467058318453,0.01623420486620847,0.016379521164700553,0.016510592142916815,0.01662747588171923,0.016730313330021458,0.016819325333779236,0.016894809283343245,0.016957135419608915,0.01700674283835956,0.017044135230584255,0.01706987639445602,0.017084585552169355,0.017088932502055662,0.01708363263343575,0.01706944182859368,0.017047151273208244,0.017017582193593398,0.016981580536301888,0.016940011603093403,0.016893754652024362,0.01684369747355028,0.01679073094908729,0.01673574359849955,0.01667961612248935,0.01662321594590201,0.016567391768510194,0.016512968130935272,0.01646074000496882,0.016411467419670957,0.01636587013720627,0.016324622395391918,0.016288347737324828,0.01625761395216032,0.01623292815505883,0.01621473203839874,0.016203397330500063,0.016199221502166,0.01620242376524851,0.0162131414110146,0.016231426539230622,0.016257243231428697,0.016290465223653666,0.01633087413496819,0.016378158307989887,0.016431912316634562,0.01649163719393849,0.0165567414292499,0.016626542779152095,0.016700270930181078,0.016777071043719383,0.016856008204423782,0.01693607278323769,0.017016186714557673,0.017095210674604195,0.01717195213466988,0.017245174248894393,0.017313605521785336,0.017375950186145902,0.01743089920766926,0.017477141818533833,0.01751337746919655,0.01753832807555935,0.017550750428087965,0.017549448620594217,0.01753328634952844,0.01750119893001075,0.01745220487266541,0.017385416865765762,0.017300052010355633,0.017195441161932536,0.017071037240943734,0.01692642238568153,0.016761313835029632,0.01657556844470363,0.016369185758887933,0.016142309579184718,0.015895227994196275,0.01562837185546372,0.015342311708453946,0.015037753210374255,0.014715531089347865,0.014376601721446941,0.014022034422817223,0.01365300157322493,0.013270767704432212,0.012876677701533801,0.01247214427747227,0.012058634890186293,0.011637658278061418,0.011210750792470343,0.01077946270617957,0.010345344673316395,0.009909934510545542,0.009474744460276912,0.009041249085350811,0.008610873931008293,0.008184985074376743,0.007764879664548796,0.007351777537983821,0.006946813974814283,0.006551033642095,0.00616538575048152,0.005790720431647894,0.005427786325299943,0.0050772293472413355,0.004739592593879625,0.004415317324071382,0.004104744946487613,0.0038081199298871603,0.0035255935449114333,0.0032572283393091516,0.0030030032438694383,0.002762819203741278,0.002536505229165481,0.002323824760824505,0.0021244822478750213,0.0019381298410937819,0.0017643741092469394,0.0016027826935768198,0.0014528908229771676,0.0013142076207771794,0.0011862221428684048,0.0010684090959765216,0.0009602341940131681,0.0008611591194611874,0.0007706460654922428,0.0006881618428490085,0.0006131815433276488,0.0005451917588757594,0.00048369336180295944,0.0004282038573350361,0.0003782593246982966,0.00033341596708713487,0.00029325129425160704,0.00025736496406561797,0.00022537931133495356,0.0001969395933251885,0.00017171398208672053,0.0001493933336905839,0.00012969076402925654,0.00011234105995037664,0.00009709995324641479,0.00008374328348768316,0.00007206607392451664,0.00006188154275835044,0.0000530200700475841,0.00004532813842391307,0.000038667263693986935,0.000032912929329613575,0.00002795353684088742,0.000023689382108305076,0.000020031665944152587,0.000016901545476646663,0.000014229231414109536,0.00001195313485773007,0.000010019066093305345,8.379486704143666e-6,6.992815405681692e-6,5.822787201414258e-6,4.837864791722715e-6,4.010700622909404e-6,3.3176475330094382e-6,2.738315622956756e-6,2.255172745337835e-6,1.8531858472080981e-6,1.5195003174620685e-6,1.2431544626701951e-6,1.0148262583603473e-6,8.266095863776936e-7,6.71817264928183e-7,5.448082987592436e-7,4.4083691604726513e-7,3.559211101824242e-7,2.8672856379959095e-7,2.3047799490881938e-7,1.84854127348308e-7,1.4793464719597854e-7,1.181276610034005e-7,9.411831905803077e-8,7.482340610006258e-8,5.93528321813885e-8,4.697707715903158e-8,3.709975344922944e-8,2.9234553147323057e-8,2.2985937642995543e-8,1.803301077279928e-8,1.4116090800428613e-8,1.1025562622533674e-8,8.59265013407052e-9,6.681800248008682e-9,5.184415252656681e-9,4.013709601926608e-9,3.1005014474996173e-9,2.3897787884573456e-9,1.8379055526894586e-9,1.410354718242429e-9,1.079874176423853e-9,8.250068375441966e-10,6.288998514855756e-10,4.783490880031917e-10,3.6303448903325327e-10,2.7490982676684593e-10,2.0771700497967806e-10,1.566005264534934e-10,1.178022895266855e-10,8.84206215855243e-11,6.622053536681116e-11,4.948471538576817e-11,3.689680034991141e-11,2.7450202477202182e-11,2.0377063175986416e-11,1.5093042801381267e-11,1.1154527195711278e-11,8.225544595817373e-12,6.052255707258587e-12,4.443334111595812e-12,3.2549157402720135e-12,2.3790829880134805e-12,1.7350759026267734e-12,1.26260177530026e-12,9.167550894484122e-13,6.641700179377952e-13,4.801138052184168e-13,3.462964973088521e-13,2.4922463564085884e-13,1.789669329681283e-13,1.2823115831502377e-13,9.167549612863933e-14,6.539610715066153e-14,4.654675819031096e-14,3.305718649806555e-14,2.3425088159489287e-14,1.656286528483874e-14,1.168499650232001e-14,8.225467264807469e-15,5.77738669970039e-15,4.048938282612527e-15,2.8313250468026015e-15,1.97550054136229e-15,1.3753189201855525e-15,9.553632231350607e-16,6.621744996490331e-16,4.579469929362251e-16,3.1600706544797603e-16,2.1757910768885738e-16,1.4947769854316073e-16,1.0246473526951936e-16,7.008276804388581e-17,4.78285122478876e-17,3.256876528313409e-17,2.2128629140575735e-17,1.5001908659820406e-17,1.0147926444971174e-17,6.849311038783229e-18,4.61270040544661e-18,3.0995766903004926e-18,2.078204593183173e-18,1.3903142947255183e-18,9.280608381903526e-19,6.181283672181811e-19,4.1078981690828313e-19,2.723951863057859e-19,1.8022621025093762e-19,1.189803476114464e-19,7.837386695709058e-20,5.151172275028073e-20,3.378155444590405e-20,2.210507225176345e-20,1.4432547669590998e-20,9.40227206326234e-21,6.111690832345973e-21,3.9639547523180844e-21,2.5652798365249414e-21,1.6564546595003833e-21,1.0672424798390328e-21,6.860968063528165e-22,4.400950007999188e-22,2.816736456731926e-22,1.7988076900283869e-22,1.146204202596478e-22,7.287490419533887e-23,4.623094126229446e-23,2.926349627764004e-23,1.8482402609167624e-23,1.1647410358338972e-23,7.323843621553233e-24,4.595020822950851e-24,2.876567963502604e-24,1.7968032683255504e-24,1.1198636597257588e-24,6.9641562647580515e-25,4.321261969089062e-25,2.6754165874206094e-25,1.652764464282298e-25,1.0187538167495904e-25,6.265651877179159e-26,3.845050113978218e-26,2.3543795516937875e-26,1.438433136810463e-26,8.768829188379147e-27,5.333745263609816e-27,3.237141313948197e-27,1.960332657053011e-27,1.1845042384267044e-27,7.141380787561764e-28,4.296021932354756e-28,2.57863287979778e-28,1.5443696878409907e-28,9.228938425041481e-29,5.502891554798696e-29,3.2739262066012504e-29,1.9435044721194352e-29,1.1511738830063922e-29,6.803541488053816e-30,4.01206418524011e-30,2.360692565703329e-30,1.3859568763642615e-30,8.118928704264166e-31,4.745549006902203e-31,2.7676611806397935e-31,1.6105644422318307e-31,9.351515870780381e-32,5.417820950285285e-32,3.1318864326996183e-32,1.8064505879186306e-32,1.0396445758526864e-32,5.970111211655185e-33,3.420729037890166e-33,1.955661342010734e-33,1.1155970352578421e-33,6.349796036007909e-34,3.606209248411654e-34,2.043528945656761e-34,1.1554452934005635e-34,6.518635618279564e-35,3.6694649688959165e-35,2.0610451695800202e-35,1.1550771609344424e-35,6.45911782242704e-36,3.6039116826708916e-36,2.0063827971910018e-36,1.1145310555603e-36,6.1774505255258054e-37,3.416371578916421e-37,1.8852096208252806e-37,1.037989397166871e-37,5.702494956835553e-38,3.125903919724717e-38,1.7097202789270149e-38,9.330678451062867e-39,5.080893668173868e-39,2.760614162229975e-39,1.4966148135033508e-39,8.095675462401825e-40,4.369531381672453e-40,2.3531811345834327e-40,1.264487602187779e-40,6.779731826144551e-41,3.6270135488378174e-41,1.9360856344116208e-41,1.031189944680351e-41,5.48013804722846e-42,2.905915959837638e-42,1.5374936257368725e-42,8.11675280712242e-43,4.275530787345723e-43,2.2471728463436377e-43,1.1784784383507979e-43,6.166596409912562e-44,3.219646066650228e-44,1.6772950360662675e-44,8.718655402416144e-45,4.521976345172741e-45,2.340161238614381e-45,1.2083757443961168e-45,6.225825425908363e-46,3.200594101131368e-46,1.6417347251467622e-46,8.402607746306231e-47,4.291053389056159e-47,2.186515035005006e-47,1.111679865842692e-47,5.639566655664209e-48,2.854634105351006e-48,1.4417630406787187e-48,7.265676352055914e-49,3.653397527755607e-49,1.832974970708487e-49,9.176030762589798e-50,4.583443783270144e-50,2.2843764756005255e-50,1.1360100443059148e-50,5.636835817515645e-51,2.7907910500111814e-51,1.3786625533295245e-51,6.795592989937614e-52,3.342223293594562e-52,1.6401451561496918e-52,8.0309668203095315e-53,3.923666617550305e-53,1.9127362533437777e-53,9.303723633736027e-54,4.515410463212679e-54,2.1866354805314822e-54,1.0565602519363515e-54,5.093905314042473e-55,2.4504519417364087e-55,1.17619744870711e-55,5.633171825290422e-56,2.691934483718957e-56,1.2835556274708979e-56,6.106658394971155e-57,2.8988869520828436e-57,1.373085732793717e-57,6.489373210437766e-58,3.060177167829192e-58,1.4398893230872833e-58,6.760057253587063e-59,3.166725059889088e-59,1.480161369686753e-59,6.903137024308799e-60,3.2123484242569424e-60,1.4915489711453338e-60,6.910207859173919e-61,3.194356825510194e-61,1.4733789657178149e-61,6.780851375674218e-62,3.1138142904832582e-62,1.426723817376388e-62,6.522676460561591e-63,2.975435119498902e-63,1.354296806349751e-63,6.150578217307429e-64,2.7871270046058622e-64,1.2601907703869492e-64,5.6853152562069305e-65,2.5592430399064926e-65,1.1494953846823006e-65,5.151594309597613e-66,2.303641000961014e-66,1.0278427251357638e-66,4.57590769200379e-67,2.032668540014349e-67,9.009373629645991e-68,3.984385513003071e-68,1.758194141530146e-68,7.741248819015201e-69,3.400900663140024e-69,1.4907869719178934e-69,6.52042573184471e-70,2.845607772305604e-70,1.2391185142932031e-70,5.383805670979464e-71,2.3340202896525705e-71,1.0096215233833239e-71,4.3576394668559847e-72,1.87664753550166e-72,8.064043314974524e-73,3.4574962107478265e-73,1.4791400474290305e-73,6.313869486931697e-74,2.689184671310639e-74,1.1428372187547084e-74,4.846038342834592e-75,2.0503501690822504e-75,8.655814738758867e-76,3.6460833187720304e-76,1.532441648882104e-76,6.426581606545292e-77,2.6891487666324572e-77,1.1227636721026577e-77,4.67735785193471e-78,1.9442475724890848e-78,8.06382798177684e-79,3.337103420323033e-79,1.3779605978792666e-79,5.677310596263645e-80,2.3339268024446873e-80,9.57349534158783e-81,3.918253688416069e-81,1.600122727384991e-81,6.520077506099225e-82,2.650885348742121e-82,1.0753946045162268e-82,4.35294804338335e-83,1.758076770509335e-83,7.084854076149044e-84,2.8488048867632734e-84,1.1429657682380416e-84,4.575541125983485e-85,1.8276390336071195e-85,7.284120278164103e-86,2.8966932935213624e-86,1.149387953783193e-86,4.550608675031613e-87,1.7976745145476814e-87,7.085840210441094e-88,2.7868293095774633e-88,1.0936241858853887e-88,4.282176511261042e-89,1.6730146561294804e-89],\"type\":\"scatter\"},{\"mode\":\"lines\",\"name\":\"Obesity_Type_III\",\"x\":[14.0,14.047047047047046,14.094094094094094,14.14114114114114,14.188188188188189,14.235235235235235,14.282282282282281,14.32932932932933,14.376376376376376,14.423423423423424,14.47047047047047,14.517517517517518,14.564564564564565,14.611611611611611,14.65865865865866,14.705705705705705,14.752752752752754,14.7997997997998,14.846846846846846,14.893893893893894,14.94094094094094,14.987987987987989,15.035035035035035,15.082082082082081,15.12912912912913,15.176176176176176,15.223223223223224,15.27027027027027,15.317317317317318,15.364364364364365,15.411411411411411,15.458458458458459,15.505505505505505,15.552552552552552,15.5995995995996,15.646646646646646,15.693693693693694,15.74074074074074,15.787787787787789,15.834834834834835,15.881881881881881,15.92892892892893,15.975975975975976,16.023023023023022,16.07007007007007,16.117117117117118,16.164164164164163,16.21121121121121,16.25825825825826,16.305305305305303,16.35235235235235,16.3993993993994,16.446446446446448,16.493493493493492,16.54054054054054,16.58758758758759,16.634634634634637,16.68168168168168,16.72872872872873,16.775775775775777,16.822822822822822,16.86986986986987,16.916916916916918,16.963963963963963,17.01101101101101,17.05805805805806,17.105105105105103,17.15215215215215,17.1991991991992,17.246246246246248,17.293293293293292,17.34034034034034,17.38738738738739,17.434434434434436,17.48148148148148,17.52852852852853,17.575575575575577,17.62262262262262,17.66966966966967,17.716716716716718,17.763763763763762,17.81081081081081,17.85785785785786,17.904904904904903,17.95195195195195,17.998998998999,18.046046046046047,18.093093093093092,18.14014014014014,18.187187187187188,18.234234234234236,18.28128128128128,18.32832832832833,18.375375375375377,18.42242242242242,18.46946946946947,18.516516516516518,18.563563563563562,18.61061061061061,18.65765765765766,18.704704704704703,18.75175175175175,18.7987987987988,18.845845845845844,18.892892892892892,18.93993993993994,18.986986986986988,19.034034034034036,19.08108108108108,19.12812812812813,19.175175175175177,19.22222222222222,19.26926926926927,19.316316316316318,19.363363363363362,19.41041041041041,19.45745745745746,19.504504504504503,19.55155155155155,19.5985985985986,19.645645645645644,19.69269269269269,19.73973973973974,19.786786786786788,19.833833833833836,19.88088088088088,19.92792792792793,19.974974974974977,20.02202202202202,20.06906906906907,20.116116116116117,20.163163163163162,20.21021021021021,20.25725725725726,20.304304304304303,20.35135135135135,20.3983983983984,20.445445445445444,20.49249249249249,20.53953953953954,20.586586586586588,20.633633633633636,20.68068068068068,20.72772772772773,20.774774774774777,20.82182182182182,20.86886886886887,20.915915915915917,20.962962962962962,21.01001001001001,21.057057057057058,21.104104104104103,21.15115115115115,21.1981981981982,21.245245245245243,21.29229229229229,21.33933933933934,21.386386386386388,21.433433433433436,21.48048048048048,21.52752752752753,21.574574574574577,21.62162162162162,21.66866866866867,21.715715715715717,21.762762762762762,21.80980980980981,21.856856856856858,21.903903903903903,21.95095095095095,21.997997997998,22.045045045045043,22.092092092092095,22.13913913913914,22.186186186186184,22.233233233233236,22.28028028028028,22.32732732732733,22.374374374374376,22.42142142142142,22.46846846846847,22.515515515515517,22.56256256256256,22.60960960960961,22.656656656656658,22.703703703703702,22.75075075075075,22.7977977977978,22.844844844844843,22.891891891891895,22.93893893893894,22.985985985985984,23.033033033033036,23.08008008008008,23.127127127127128,23.174174174174176,23.22122122122122,23.26826826826827,23.315315315315317,23.36236236236236,23.40940940940941,23.456456456456458,23.503503503503502,23.55055055055055,23.5975975975976,23.644644644644643,23.69169169169169,23.73873873873874,23.785785785785784,23.832832832832835,23.87987987987988,23.926926926926928,23.973973973973976,24.02102102102102,24.06806806806807,24.115115115115117,24.16216216216216,24.20920920920921,24.256256256256258,24.303303303303302,24.35035035035035,24.3973973973974,24.444444444444443,24.49149149149149,24.53853853853854,24.585585585585584,24.632632632632635,24.67967967967968,24.726726726726728,24.773773773773776,24.82082082082082,24.86786786786787,24.914914914914917,24.96196196196196,25.00900900900901,25.056056056056057,25.103103103103102,25.15015015015015,25.197197197197198,25.244244244244243,25.29129129129129,25.33833833833834,25.385385385385383,25.432432432432435,25.47947947947948,25.526526526526524,25.573573573573576,25.62062062062062,25.66766766766767,25.714714714714717,25.76176176176176,25.80880880880881,25.855855855855857,25.902902902902902,25.94994994994995,25.996996996996998,26.044044044044043,26.09109109109109,26.13813813813814,26.185185185185183,26.232232232232235,26.27927927927928,26.326326326326324,26.373373373373376,26.42042042042042,26.46746746746747,26.514514514514516,26.56156156156156,26.60860860860861,26.655655655655657,26.7027027027027,26.74974974974975,26.796796796796798,26.843843843843842,26.89089089089089,26.93793793793794,26.984984984984983,27.032032032032035,27.07907907907908,27.126126126126124,27.173173173173176,27.22022022022022,27.26726726726727,27.314314314314316,27.36136136136136,27.40840840840841,27.455455455455457,27.5025025025025,27.54954954954955,27.596596596596598,27.643643643643642,27.69069069069069,27.73773773773774,27.784784784784783,27.831831831831835,27.87887887887888,27.925925925925924,27.972972972972975,28.02002002002002,28.067067067067068,28.114114114114116,28.16116116116116,28.20820820820821,28.255255255255257,28.3023023023023,28.34934934934935,28.396396396396398,28.443443443443442,28.49049049049049,28.53753753753754,28.584584584584583,28.631631631631635,28.67867867867868,28.725725725725724,28.772772772772775,28.81981981981982,28.866866866866868,28.913913913913916,28.96096096096096,29.00800800800801,29.055055055055057,29.1021021021021,29.14914914914915,29.196196196196198,29.243243243243242,29.29029029029029,29.33733733733734,29.384384384384383,29.431431431431434,29.47847847847848,29.525525525525524,29.572572572572575,29.61961961961962,29.666666666666668,29.713713713713716,29.76076076076076,29.80780780780781,29.854854854854857,29.9019019019019,29.94894894894895,29.995995995995997,30.043043043043042,30.09009009009009,30.137137137137138,30.184184184184186,30.23123123123123,30.27827827827828,30.325325325325327,30.37237237237237,30.41941941941942,30.466466466466468,30.513513513513512,30.56056056056056,30.60760760760761,30.654654654654657,30.7017017017017,30.74874874874875,30.795795795795797,30.842842842842842,30.88988988988989,30.936936936936938,30.983983983983986,31.03103103103103,31.07807807807808,31.125125125125127,31.17217217217217,31.21921921921922,31.266266266266268,31.313313313313312,31.36036036036036,31.40740740740741,31.454454454454456,31.5015015015015,31.54854854854855,31.595595595595597,31.64264264264264,31.68968968968969,31.736736736736738,31.783783783783786,31.83083083083083,31.87787787787788,31.924924924924927,31.97197197197197,32.01901901901902,32.06606606606607,32.113113113113116,32.16016016016016,32.207207207207205,32.254254254254256,32.3013013013013,32.34834834834835,32.3953953953954,32.44244244244244,32.489489489489486,32.53653653653654,32.58358358358359,32.630630630630634,32.67767767767768,32.72472472472472,32.77177177177177,32.81881881881882,32.86586586586587,32.912912912912915,32.95995995995996,33.007007007007005,33.054054054054056,33.1011011011011,33.14814814814815,33.1951951951952,33.24224224224224,33.289289289289286,33.33633633633634,33.38338338338338,33.430430430430434,33.47747747747748,33.52452452452452,33.57157157157157,33.61861861861862,33.66566566566567,33.712712712712715,33.75975975975976,33.806806806806804,33.853853853853856,33.9009009009009,33.94794794794795,33.994994994995,34.04204204204204,34.089089089089086,34.13613613613614,34.18318318318318,34.230230230230234,34.27727727727728,34.32432432432432,34.37137137137137,34.41841841841842,34.46546546546547,34.512512512512515,34.55955955955956,34.606606606606604,34.653653653653656,34.7007007007007,34.74774774774775,34.7947947947948,34.84184184184184,34.888888888888886,34.93593593593594,34.98298298298298,35.030030030030034,35.07707707707708,35.12412412412412,35.17117117117117,35.21821821821822,35.26526526526527,35.312312312312315,35.35935935935936,35.406406406406404,35.453453453453456,35.5005005005005,35.54754754754755,35.5945945945946,35.64164164164164,35.688688688688686,35.73573573573574,35.78278278278278,35.82982982982983,35.87687687687688,35.92392392392392,35.97097097097097,36.01801801801802,36.06506506506507,36.112112112112115,36.15915915915916,36.206206206206204,36.253253253253256,36.3003003003003,36.34734734734735,36.394394394394396,36.44144144144144,36.488488488488485,36.53553553553554,36.58258258258258,36.62962962962963,36.67667667667668,36.72372372372372,36.77077077077077,36.81781781781782,36.86486486486487,36.911911911911915,36.95895895895896,37.006006006006004,37.05305305305305,37.1001001001001,37.14714714714715,37.194194194194196,37.24124124124124,37.288288288288285,37.33533533533534,37.38238238238238,37.42942942942943,37.47647647647648,37.52352352352352,37.57057057057057,37.61761761761762,37.66466466466467,37.711711711711715,37.75875875875876,37.805805805805804,37.85285285285285,37.8998998998999,37.94694694694695,37.993993993993996,38.04104104104104,38.088088088088085,38.13513513513514,38.18218218218218,38.22922922922923,38.27627627627628,38.32332332332332,38.37037037037037,38.41741741741742,38.46446446446447,38.511511511511515,38.55855855855856,38.605605605605604,38.65265265265265,38.6996996996997,38.74674674674675,38.793793793793796,38.84084084084084,38.887887887887885,38.93493493493494,38.98198198198198,39.02902902902903,39.07607607607608,39.12312312312312,39.17017017017017,39.21721721721722,39.26426426426427,39.311311311311314,39.35835835835836,39.4054054054054,39.45245245245245,39.4994994994995,39.54654654654655,39.593593593593596,39.64064064064064,39.687687687687685,39.73473473473474,39.78178178178178,39.82882882882883,39.87587587587588,39.92292292292292,39.969969969969966,40.01701701701702,40.06406406406407,40.111111111111114,40.15815815815816,40.2052052052052,40.25225225225225,40.2992992992993,40.34634634634635,40.393393393393396,40.44044044044044,40.487487487487485,40.53453453453454,40.58158158158158,40.62862862862863,40.67567567567568,40.72272272272272,40.769769769769766,40.81681681681682,40.86386386386387,40.910910910910914,40.95795795795796,41.005005005005,41.05205205205205,41.0990990990991,41.14614614614615,41.193193193193196,41.24024024024024,41.287287287287285,41.334334334334336,41.38138138138138,41.42842842842843,41.47547547547548,41.52252252252252,41.569569569569566,41.61661661661662,41.66366366366367,41.710710710710714,41.75775775775776,41.8048048048048,41.85185185185185,41.8988988988989,41.94594594594595,41.992992992992995,42.04004004004004,42.087087087087085,42.134134134134136,42.18118118118118,42.22822822822823,42.27527527527528,42.32232232232232,42.369369369369366,42.41641641641642,42.46346346346347,42.510510510510514,42.55755755755756,42.6046046046046,42.65165165165165,42.6986986986987,42.74574574574575,42.792792792792795,42.83983983983984,42.886886886886884,42.933933933933936,42.98098098098098,43.02802802802803,43.07507507507508,43.12212212212212,43.169169169169166,43.21621621621622,43.26326326326327,43.310310310310314,43.35735735735736,43.4044044044044,43.45145145145145,43.4984984984985,43.54554554554555,43.592592592592595,43.63963963963964,43.686686686686684,43.733733733733736,43.78078078078078,43.82782782782783,43.87487487487488,43.92192192192192,43.968968968968966,44.01601601601602,44.06306306306307,44.110110110110114,44.15715715715716,44.2042042042042,44.25125125125125,44.2982982982983,44.34534534534535,44.392392392392395,44.43943943943944,44.486486486486484,44.533533533533536,44.58058058058058,44.62762762762763,44.67467467467468,44.72172172172172,44.768768768768766,44.81581581581582,44.86286286286287,44.90990990990991,44.95695695695696,45.004004004004,45.05105105105105,45.0980980980981,45.14514514514515,45.192192192192195,45.23923923923924,45.286286286286284,45.333333333333336,45.38038038038038,45.42742742742743,45.474474474474476,45.52152152152152,45.568568568568566,45.61561561561562,45.66266266266267,45.70970970970971,45.75675675675676,45.8038038038038,45.85085085085085,45.8978978978979,45.94494494494495,45.991991991991995,46.03903903903904,46.086086086086084,46.133133133133136,46.18018018018018,46.227227227227225,46.274274274274276,46.32132132132132,46.36836836836837,46.41541541541542,46.46246246246246,46.50950950950951,46.55655655655656,46.6036036036036,46.650650650650654,46.6976976976977,46.74474474474474,46.791791791791795,46.83883883883884,46.885885885885884,46.932932932932935,46.97997997997998,47.027027027027025,47.074074074074076,47.12112112112112,47.16816816816817,47.21521521521522,47.26226226226226,47.30930930930931,47.35635635635636,47.4034034034034,47.450450450450454,47.4974974974975,47.54454454454454,47.591591591591595,47.63863863863864,47.685685685685684,47.732732732732735,47.77977977977978,47.826826826826824,47.873873873873876,47.92092092092092,47.96796796796797,48.01501501501502,48.06206206206206,48.10910910910911,48.15615615615616,48.2032032032032,48.250250250250254,48.2972972972973,48.34434434434434,48.391391391391394,48.43843843843844,48.48548548548548,48.532532532532535,48.57957957957958,48.626626626626624,48.673673673673676,48.72072072072072,48.76776776776777,48.81481481481482,48.86186186186186,48.90890890890891,48.95595595595596,49.003003003003,49.050050050050054,49.0970970970971,49.14414414414414,49.191191191191194,49.23823823823824,49.28528528528528,49.332332332332335,49.37937937937938,49.426426426426424,49.473473473473476,49.52052052052052,49.56756756756757,49.61461461461462,49.66166166166166,49.70870870870871,49.75575575575576,49.8028028028028,49.84984984984985,49.8968968968969,49.94394394394394,49.990990990990994,50.03803803803804,50.08508508508508,50.132132132132135,50.17917917917918,50.226226226226224,50.273273273273276,50.32032032032032,50.36736736736737,50.414414414414416,50.46146146146146,50.50850850850851,50.55555555555556,50.6026026026026,50.64964964964965,50.6966966966967,50.74374374374374,50.790790790790794,50.83783783783784,50.88488488488488,50.931931931931935,50.97897897897898,51.026026026026024,51.073073073073076,51.12012012012012,51.16716716716717,51.214214214214216,51.26126126126126,51.30830830830831,51.35535535535536,51.4024024024024,51.44944944944945,51.4964964964965,51.54354354354354,51.590590590590594,51.63763763763764,51.68468468468468,51.731731731731735,51.77877877877878,51.825825825825824,51.872872872872875,51.91991991991992,51.966966966966964,52.014014014014016,52.06106106106106,52.10810810810811,52.15515515515516,52.2022022022022,52.24924924924925,52.2962962962963,52.34334334334334,52.390390390390394,52.43743743743744,52.48448448448448,52.531531531531535,52.57857857857858,52.625625625625624,52.672672672672675,52.71971971971972,52.766766766766764,52.813813813813816,52.86086086086086,52.90790790790791,52.95495495495496,53.002002002002,53.04904904904905,53.0960960960961,53.14314314314314,53.190190190190194,53.23723723723724,53.28428428428428,53.331331331331334,53.37837837837838,53.42542542542542,53.472472472472475,53.51951951951952,53.566566566566564,53.613613613613616,53.66066066066066,53.70770770770771,53.75475475475476,53.8018018018018,53.84884884884885,53.8958958958959,53.94294294294294,53.98998998998999,54.03703703703704,54.08408408408408,54.131131131131134,54.17817817817818,54.22522522522522,54.272272272272275,54.31931931931932,54.366366366366364,54.413413413413416,54.46046046046046,54.50750750750751,54.55455455455456,54.6016016016016,54.64864864864865,54.6956956956957,54.74274274274274,54.78978978978979,54.83683683683684,54.88388388388388,54.930930930930934,54.97797797797798,55.02502502502502,55.072072072072075,55.11911911911912,55.166166166166164,55.213213213213216,55.26026026026026,55.30730730730731,55.354354354354356,55.4014014014014,55.44844844844845,55.4954954954955,55.54254254254254,55.58958958958959,55.63663663663664,55.68368368368368,55.730730730730734,55.77777777777778,55.82482482482482,55.871871871871875,55.91891891891892,55.965965965965964,56.013013013013015,56.06006006006006,56.10710710710711,56.154154154154156,56.2012012012012,56.24824824824825,56.2952952952953,56.34234234234234,56.38938938938939,56.43643643643644,56.48348348348348,56.530530530530534,56.57757757757758,56.62462462462462,56.671671671671675,56.71871871871872,56.765765765765764,56.812812812812815,56.85985985985986,56.90690690690691,56.953953953953956,57.001001001001,57.04804804804805,57.0950950950951,57.14214214214214,57.18918918918919,57.23623623623624,57.28328328328328,57.330330330330334,57.37737737737738,57.42442442442442,57.471471471471475,57.51851851851852,57.565565565565564,57.612612612612615,57.65965965965966,57.70670670670671,57.753753753753756,57.8008008008008,57.84784784784785,57.8948948948949,57.94194194194194,57.98898898898899,58.03603603603604,58.08308308308308,58.130130130130134,58.17717717717718,58.22422422422422,58.271271271271274,58.31831831831832,58.36536536536536,58.412412412412415,58.45945945945946,58.50650650650651,58.553553553553556,58.6006006006006,58.64764764764765,58.6946946946947,58.74174174174174,58.78878878878879,58.83583583583584,58.88288288288288,58.92992992992993,58.97697697697698,59.02402402402402,59.071071071071074,59.11811811811812,59.16516516516516,59.212212212212215,59.25925925925926,59.306306306306304,59.353353353353356,59.4004004004004,59.44744744744745,59.4944944944945,59.54154154154154,59.58858858858859,59.63563563563564,59.68268268268268,59.72972972972973,59.77677677677678,59.82382382382382,59.870870870870874,59.91791791791792,59.96496496496496,60.012012012012015,60.05905905905906,60.106106106106104,60.153153153153156,60.2002002002002,60.24724724724725,60.294294294294296,60.34134134134134,60.38838838838839,60.43543543543544,60.48248248248248,60.52952952952953,60.57657657657658,60.62362362362362,60.670670670670674,60.71771771771772,60.76476476476476,60.811811811811815,60.85885885885886,60.905905905905904,60.952952952952955,61.0],\"y\":[7.109479502903573e-6,8.577185066600665e-6,0.00001032530452683781,0.000012402597874873923,0.000014865337736798862,0.000017778285273194917,0.000021215760859943222,0.000025262813366273218,0.000030016491028616766,0.000035587215897416234,0.0000421002625926376,0.00004969734062840362,0.00005853827784689179,0.000068802800529192,0.0000806924035234606,0.00009443230125138304,0.00011027344773155498,0.0001284946108093193,0.0001494044826309461,0.0001733438050783901,0.00020068748543107518,0.00023184667399442845,0.0002672707718916576,0.00030744933372629346,0.0003529138264667815,0.000404239202769232,0.0004620452441345861,0.0005269976268930822,0.0005998086621268834,0.0006812376593876571,0.0007720908635469773,0.000873220914436015,0.0009855257801851547,0.00110994711745077,0.0012474680150905855,0.0013991100823791875,0.0015659298485804635,0.0017490144476297756,0.0019494765698164778,0.0021684486716583907,0.002407076445557326,0.002666511562217412,0.00294790371106575,0.00325239197687388,0.0035810956042431697,0.003935104215366544,0.00431546756026348,0.004723184892235032,0.0051591940743146,0.005624360534703494,0.006119466200273497,0.006645198546899219,0.007202139913362778,0.007790757231582686,0.008411392329725117,0.009064252966142902,0.009749404750902366,0.010466764107772725,0.011216092422917202,0.011996991517116778,0.012808900566251431,0.01365109458005031,0.014522684531999317,0.015422619213981883,0.01634968886801565,0.017302530624669618,0.018279635753789207,0.019279358708400557,0.020299927917581062,0.02133945825907352,0.02239596511794925,0.02346737991412521,0.024551566959403224,0.025646341484320524,0.026749488656808654,0.027858783398735532,0.028972010793080778,0.03008698686396044,0.03120157950402599,0.032313729319026645,0.03342147015745181,0.03452294909414388,0.03561644564040965,0.03670038995932818,0.03777337987340598,0.038834196462251204,0.03988181806025588,0.040915432478197025,0.04193444728774091,0.04293849802421381,0.043927454179924295,0.04490142287821496,0.04586075013664006,0.046806019646351185,0.04773804901392639,0.04865788343124438,0.04956678675880413,0.05046623002815012,0.05135787738966087,0.052243569553314786,0.05312530479183685,0.05400521759830921,0.05488555511374,0.05576865146408744,0.05665690017132974,0.05755272482851846,0.05845854825486558,0.05937676037315401,0.06030968507787945,0.061259546388353535,0.06222843420572971,0.06321827001626049,0.0642307729044637,0.065267426258486,0.06632944556514496,0.06741774770365484,0.06853292215340036,0.06967520453255191,0.07084445287989681,0.07204012708107686,0.0732612718228853,0.07450650343471442,0.0757740009441869,0.07706150163517515,0.0783663013505541,0.07968525972972244,0.08101481051234685,0.082350976976485,0.08368939251118858,0.08502532625246995,0.08635371363826393,0.08766919166405106,0.0889661385472958,0.0902387174374149,0.09148092374030083,0.09268663556326767,0.093849666729778,0.0949638217644197,0.09602295220809302,0.0970210135931731,0.09795212238822744,0.09881061221327941,0.0995910886291846,0.10028848181901855,0.10089809650508741,0.10141565848193322,0.1018373571928381,0.10215988383400035,0.10238046453554399,0.102496888240878,0.10250752898367321,0.10241136234417746,0.10220797595111075,0.10189757398143519,0.10148097569529729,0.10095960812672074,0.10033549312972188,0.09961122905419774,0.09878996739404852,0.09787538481096775,0.09687165099048241,0.09578339283113438,0.09461565550301364,0.09337386093806342,0.09206376433150928,0.09069140924171123,0.08926308187502449,0.08778526513366687,0.08626459298822897,0.0847078057137022,0.08312170649903415,0.08151311990635325,0.07988885261786463,0.07825565686676746,0.076620196904264,0.07498901880834943,0.07336852389225312,0.07176494592167877,0.07018433230068438,0.06863252933649085,0.06711517164394053,0.06563767570080989,0.06420523751576301,0.06282283432155654,0.0614952301568786,0.060226985151225924,0.059022468278153536,0.057885873293398594,0.05682123752568117,0.0558324631396901,0.05492334044320954,0.0540975727638486,0.05335880237608731,0.052710636916881784,0.05215667568888611,0.05170053521519863,0.051345873379694804,0.05109641146345105,0.05095595337186306,0.050928401339988334,0.051017767406736886,0.051228179962971944,0.051563884705559754,0.052029239369903585,0.05262870166837246,0.053366809931909676,0.05424815603732192,0.05527735030331784,0.056458978154015696,0.05779754847863309,0.05929743375929934,0.06096280219391523,0.0627975422056781,0.0648051799030137,0.06698879023033195,0.06935090272819461,0.0718934029975574,0.0746174311330599,0.07752327855088273,0.08061028478337796,0.08387673594144784,0.08731976665230591,0.09093526736118285,0.09471779893679272,0.09866051653903911,0.10275510469066412,0.10699172544021414,0.11135898141036722,0.11584389539287948,0.12043190797904935,0.12510689450411588,0.12985120233709221,0.13464570926747635,0.13946990343062526,0.14430198487929166,0.14911898855544595,0.15389692805003383,0.15861095916603926,0.16323556192904937,0.16774473932718315,0.17211223071672568,0.17631173750819246,0.1803171584581691,0.18410283164089125,0.1876437799680524,0.19091595696966276,0.1938964894490573,0.1965639135838127,0.1988984010641601,0.20088197194245638,0.20249869101080964,0.20373484472774764,0.20457909597486681,0.20502261423782803,0.20505917916536084,0.20468525586005623,0.2039000406868213,0.202705476841217,0.2011062393910603,0.19910968998139236,0.19672580186586014,0.19396705638710843,0.19084831246590603,0.1873866510650057,0.18360119696135085,0.1795129204822248,0.1751444221316797,0.17051970324845112,0.16566392599216848,0.16060316604944572,0.1553641614844145,0.14997406113047496,0.14446017583376305,0.1388497357170721,0.13316965644025908,0.12744631719534674,0.1217053528970005,0.11597146271946887,0.11026823679628403,0.1046180025465604,0.09904169172947368,0.09355872896369227,0.08818694208849122,0.08294249439468886,0.07783983842266881,0.07289169071696075,0.06810902664683834,0.06350109415397778,0.05907544507437444,0.05483798250432798,0.050793022540471584,0.04694336862196243,0.04329039663812491,0.03983414893602816,0.03657343536738863,0.03350593955046113,0.03062832858693241,0.027936364563034603,0.025425016274323853,0.023088569741063474,0.02092073622206144,0.01891475658522483,0.017063501049411033,0.015359563470821064,0.013795349504986785,0.012363158129489824,0.011055256160288233,0.009863945533822083,0.008781623256106092,0.007800834037414772,0.0069143157359457365,0.006115037825350063,0.0053962331790017954,0.00475142352831717,0.004174439003693855,0.003659432205207819,0.0032008872768750194,0.0027936244739364792,0.0024328007182885464,0.0021139066339749425,0.0018327605437273148,0.0015854998900663463,0.0013685705216124086,0.0011787142581218145,0.0010129551174281085,0.0008685845549117569,0.0007431460322489824,0.0006344191978047511,0.0005404039268419573,0.0004593044363197898,0.0003895136569485362,0.0003295980147602016,0.0002782827460502229,0.0002344378433697807,0.00019706470644398994,0.00016528355053230823,0.00013832160584737922,0.00011550212516804309,0.00009623420263982212,0.00008000339483564268,0.00006636312530880304,0.00005492684594775594,0.000045360922265186624,0.00003737820514212955,0.00003073224832063849,0.00002521212891776105,0.000020637827247483103,0.000016856122123311307,0.000013736958420597784,0.000011170244865476726,9.06304166046099e-6,7.337099543146493e-6,5.926714105562162e-6,4.776861592177295e-6,3.841584871903711e-6,3.082600782977383e-6,2.4681025296725237e-6,1.9717332267697574e-6,1.571709010753714e-6,1.2500723430004672e-6,9.920582036182691e-7,7.855578048745317e-7,6.206662348842631e-7,4.89302074080123e-7,3.8488851078308635e-7,3.020868223288032e-7,2.3657429096950052e-7,1.8485969683137603e-7,1.4413048215276105e-7,1.1212652099129285e-7,8.703616592791545e-8,6.741088735256588e-8,5.2095380813375113e-8,4.01705024057731e-8,3.09068095556216e-8,2.372684255270722e-8,1.8174587970808535e-8,1.3890825213317187e-8,1.0593277785198607e-8,8.060676852682829e-9,6.120000979290697e-9,4.636286847802686e-9,3.5045150161597585e-9,2.6431655708348176e-9,1.989113770948096e-9,1.4935978758156988e-9,1.1190424315869034e-9,8.365621696939513e-10,6.24005884111881e-10,4.644275148455886e-10,3.448942768124836e-10,2.55559965375165e-10,1.8894631970104348e-10,1.3938718085588132e-10,1.0259968084929148e-10,7.535428627357281e-11,5.522156170458107e-11,4.0378313834750507e-11,2.945957262744794e-11,2.1445860243418292e-11,1.5577553985243673e-11,1.128999685188859e-11,8.164453823035666e-12,5.891138213910582e-12,4.241407928280939e-12,3.0469100344669977e-12,2.1839765561039545e-12,1.5619785496928922e-12,1.1146561328102543e-12,7.936801227394428e-13,5.638827980099111e-13,3.9973385828270736e-13,2.8274294082592804e-13,1.9954982488761665e-13,1.4052373194582396e-13,9.873854922353425e-14,6.922493400799395e-14,4.842583299209975e-14,3.3801065412025e-14,2.354086507932214e-14,1.6358865639087876e-14,1.1342863092858047e-14,7.847492909317356e-15,5.4172379214437236e-15,3.731329687140561e-15,2.5644136030201523e-15,1.7585359649235682e-15,1.2032425222678325e-15,8.214739977415194e-16,5.595941989488937e-16,3.8035691691299484e-16,2.579575033266285e-16,1.7455960184543142e-16,1.1786315201500539e-16,7.94055924303147e-17,5.3378069076881835e-17,3.580250038752413e-17,2.39608701812326e-17,1.6000389069756043e-17,1.0660982461400921e-17,7.087656196310227e-18,4.701611986889938e-18,3.1119288205088193e-18,2.0551865642099213e-18,1.3542897035224213e-18,8.904522345942273e-19,5.841823163151768e-19,3.8240618788846743e-19,2.4976992434149513e-19,1.627773970698326e-19,1.0584900566485632e-19,6.867808731121401e-20,4.4461931573467124e-20,2.8720843187074544e-20,1.8511634670392707e-20,1.190504608600778e-20,7.639344866137976e-21,4.8912501682618414e-21,3.124800967039513e-21,1.991881827210123e-21,1.2669034033276593e-21,8.040113146959734e-22,5.09119278427306e-22,3.2167376957716655e-22,2.0279184123933393e-22,1.2756279671319422e-22,8.006382047511359e-23,5.0140344230199276e-23,3.1331200525083484e-23,1.953464326353772e-23,1.2152696628856137e-23,7.543598265441265e-24,4.6722187791995046e-24,2.887397077693306e-24,1.7804450629893988e-24,1.0954419443325854e-24,6.724947176041845e-25,4.119334998425273e-25,2.517700516817047e-25,1.535393682421839e-25,9.342737622004606e-26,5.672405617261502e-26,3.436363735284492e-26,2.0771587943290023e-26,1.2527920619143835e-26,7.539230298579892e-27,4.527033927482476e-27,2.7123092895509427e-27,1.6214493841108797e-27,9.671777640760547e-28,5.756359819125449e-28,3.4184425472822967e-28,2.0255704836536645e-28,1.1975817164504605e-28,7.064829357925879e-29,4.158502034949513e-29,2.442366770522406e-29,1.4312765936810296e-29,8.369027173827043e-30,4.8827569759369206e-30,2.8424573868194653e-30,1.6510549907970255e-30,9.56902823990949e-31,5.533664903080615e-31,3.192982945169449e-31,1.8383113280274707e-31,1.0560397124506476e-31,6.053132201953086e-32,3.46193404940185e-32,1.975586926092396e-32,1.1248956020163983e-32,6.39097349356337e-33,3.622934946751604e-33,2.0492397790583515e-33,1.1565482117739192e-33,6.512885263394935e-34,3.65950070615193e-34,2.0516768839541157e-34,1.14771700779331e-34,6.406183751177653e-35,3.567817963104211e-35,1.9826438442641584e-35,1.0993233337355571e-35,6.081978890901153e-36,3.357400051624448e-36,1.8492686150427113e-36,1.0163320643460826e-36,5.573268646276535e-37,3.0494607650548375e-37,1.6648489797898659e-37,9.069124431533243e-38,4.929406108044255e-38,2.6733914769333487e-38,1.44666922019215e-38,7.811144024942993e-39,4.208223252669711e-39,2.2621511504884034e-39,1.2133418853217635e-39,6.493569334451096e-40,3.4675481155728057e-40,1.847567150760438e-40,9.822379054136227e-41,5.210409653301598e-41,2.7578190777516446e-41,1.4564594419922084e-41,7.674847257366834e-42,4.035336992423802e-42,2.1170377305269012e-42,1.1081948044464563e-42,5.788184196545422e-43,3.0165275668862123e-43,1.568595539895628e-43,8.138668793272186e-44,4.2134175141609337e-44,2.176478288755719e-44,1.121793461246582e-44,5.769128217612818e-45,2.9603714009722827e-45,1.5157268041726688e-45,7.743447949725313e-46,3.9471766045295534e-46,2.0076012366940585e-46,1.0188425472276228e-46,5.159117430695947e-47,2.606648523746098e-47,1.3140995292463935e-47,6.610172085248155e-48,3.317691451655907e-48,1.6614908108321125e-48,8.302303691784651e-49,4.139405851009195e-49,2.0592834293440338e-49,1.0221931407157283e-49,5.062773774887452e-50,2.5019740625490187e-50,1.2337177307925897e-50,6.069983793621804e-51,2.979874533157305e-51,1.4596446760913684e-51,7.134031759924621e-52,3.479057857411588e-52,1.6928831640116094e-52,8.21922827615263e-53,3.981748461636733e-53,1.924665764805587e-53,9.282726258994819e-54,4.467190651827267e-54,2.1450239908305807e-54,1.027705171315116e-54,4.912964790940311e-55,2.343459668099625e-55,1.1153470866677017e-55,5.296650449868655e-56,2.5097548969844546e-56,1.1865882122542794e-56,5.597672308191985e-57,2.634836276209858e-57,1.2374809419383605e-57,5.7991204085066615e-58,2.711592693896582e-58,1.2651018937963726e-58,5.889321707209085e-59,2.7355444314346407e-59,1.2678298993524848e-59,5.86295995553029e-60,2.705276053096315e-60,1.2455035518052273e-60,5.7215944882008774e-61,2.6225748999581243e-61,1.1994370178806999e-61,5.473507505737811e-62,2.492256340811488e-62,1.1322919589335378e-62,5.132900652841994e-63,2.321699543126265e-63,1.04782292290962e-63,4.718549292400059e-64,2.1201560098748658e-64,9.505300785271767e-65,4.252091789501328e-65,1.897920949988895e-65,8.45263917632698e-66,3.756170200027853e-66,1.6654703952225027e-66,7.368299893176998e-67,3.252642944861357e-67,1.4326635504871047e-67,6.296377434465597e-68,2.761061102134082e-68,1.2080919860812125e-68,5.274274283365769e-69,2.2975456050489715e-69,9.98629272206056e-70,4.330949955657784e-70,1.8741345227130554e-70,8.092022429013265e-71,3.4861985417505946e-71,1.4986005160843951e-71,6.42774087729885e-72,2.7508668221165726e-72,1.1746797766811886e-72,5.005046774326524e-73,2.127823058644491e-73,9.026130394955043e-74,3.820378720780951e-74,1.6134293520306033e-74,6.798799150764438e-75,2.8585986967359577e-75,1.1992587425873028e-75,5.020087845300308e-76,2.096758741994424e-76,8.73824726772117e-77,3.633615079588729e-77,1.5076211814031395e-77,6.241432292405574e-78,2.578190588156234e-78,1.062635928379941e-78,4.370113277255714e-79,1.7932449444772837e-79,7.342183894388441e-80,2.9995052214448715e-80,1.2226797195995757e-80,4.972954858611698e-81,2.0181574581147778e-81,8.172111797111335e-82,3.301811480689965e-82,1.3310947458075463e-82,5.354320786317767e-83,2.149010446391478e-83,8.60619908290634e-84,3.4389271166472102e-84,1.3711130897984746e-84,5.454592415246015e-85,2.1651602902922004e-85,8.575442207506575e-86,3.388923125362352e-86,1.3363051194184146e-86,5.257608803228988e-87,2.0639996891522137e-87,8.084807952145301e-88,3.159864868810049e-88,1.2322704517161041e-88,4.794930105744864e-89,1.8616466324202277e-89,7.211920639231861e-90,2.787682770742395e-90,1.075163431476108e-90,4.137560340284187e-91,1.5887403217563883e-91,6.086956770472814e-92,2.3269456451004606e-92,8.875871007118475e-93,3.3781151332615745e-93,1.282852232149715e-93,4.860909585458384e-94,1.8377954584063758e-94,6.932909429503754e-95,2.6095919337521425e-95,9.800955059150398e-96,3.672847667429916e-96,1.3733339505946006e-96,5.123752210719459e-97,1.9073869317904926e-97,7.084810015085358e-98,2.6257679113975056e-98,9.71008846081218e-99,3.5828510871356006e-99,1.319085819723765e-99,4.845694911032173e-100,1.7761424924975013e-100,6.495884042097379e-101,2.370486273592926e-101,8.63128283169014e-102,3.1358261168174114e-102,1.1367561687853393e-102,4.111699701271802e-103,1.4839326108787895e-103,5.343744578904344e-104,1.920064976841437e-104,6.8837467142460275e-105,2.462479140944457e-105,8.789394557557704e-106,3.130286458263965e-106,1.112366564387601e-106,3.944123380201945e-107,1.3953777053611965e-107,4.9257434591686594e-108,1.734964211883024e-108,6.097446158705529e-109,2.138179440794663e-109,7.481334042904825e-110,2.611876666177243e-110,9.098399587770403e-111,3.1623946694193934e-111,1.0967454819396056e-111,3.7951973194675175e-112,1.3103930743807315e-112,4.5144779849858204e-113,1.5518588304592443e-113,5.322744330009849e-114,1.821619732482539e-114,6.220403542877958e-115,2.1194253275070792e-115,7.205371902857017e-116,2.4441812340887668e-116,8.272735344533893e-117,2.793853171157622e-117,9.414488899518196e-118,3.165400298249541e-118,1.061938220957815e-118,3.5547461056614416e-119,1.1872895463850947e-119,3.9567938394983224e-120,1.3157365026863376e-120,4.365491492136995e-121,1.4452270802772256e-121,4.773948801310358e-122,1.5734688346211813e-122,5.174605616240618e-123,1.6979898412533495e-123,5.5594476051345485e-124,1.8162135751675944e-124,5.920261842655176e-125,1.925544833006426e-125,6.24892160659695e-126,2.0234628712245823e-126,6.537687013105641e-127,2.1076171918225875e-127,6.779506189732357e-128,2.1759209448524913e-128,6.968300735387975e-129,2.2266367891902604e-129,7.099219381710266e-130,2.258450288759531e-130,7.168845093901411e-131,2.2705265182621206e-131,7.175343272999096e-132,2.262546475994568e-132,7.11854208735134e-133,2.2347210870276995e-133,6.999940023294895e-134,2.1877819386924543e-134,6.82264019185948e-135,2.1229493164024962e-135,6.591215411663339e-136,2.0418794892792625e-136,6.311512256106363e-137,1.9465944240473271e-137,5.990405783834382e-138,1.8393980890310125e-138,5.635519304068305e-139,1.722784177643429e-139,5.2549250853527375e-140,1.5993403916131131e-140,4.856842318372091e-141,1.4716543694913108e-141,4.449347913477641e-142,1.3422259483510807e-142,4.040113969011613e-143,1.2133897565703293e-143,3.63618318429653e-144,1.0872512251566485e-144,3.2437903633024246e-145,9.656380596404534e-146,2.8682347424354127e-146,8.500681240571223e-147,2.5138044597755334e-147,7.417336387993879e-148,2.183751319037805e-148,6.415006593974538e-149,1.8803112991956775e-149,5.499220407041101e-150,1.6047641690140118e-150,4.672615370950702e-151,1.357524166432958e-151,3.935263593307616e-152,1.1382530110027679e-152,3.2850539761913184e-153,9.459864889461115e-154,2.7181040607810054e-154,7.792663929509143e-155,2.2291769132053826e-155,6.362705877638879e-156,1.8120821457858828e-156,5.1493526659893744e-157,1.460044570741485e-157,4.130649191421615e-158,1.1660286827107354e-158,3.2842701748512206e-159,9.23011774327337e-160,2.5882983036221747e-160,7.242026942399618e-161,2.021830140723106e-161,5.632068377697166e-162,1.5654164491622886e-162,4.34140786879092e-163,1.2013512567295223e-163,3.317020433647231e-164,9.13829152623296e-165,2.5120055366121535e-165,6.889931399425415e-166,1.8855928609986838e-166,5.148961856340606e-167,1.4029110818079664e-167,3.8139881459886995e-168,1.0345875643398712e-168,2.8002312041668334e-169,7.562393117265362e-170,2.0378083165418216e-170,5.479060966121883e-171,1.469899551498637e-171,3.934666283037436e-172,1.0509132605124346e-172,2.800686914085127e-173,7.447336445836649e-174,1.975950715861641e-174,5.231063163931663e-175,1.3817915795152847e-175,3.641948845615435e-176,9.577758075085037e-177,2.5132321483388234e-177,6.580214816388345e-178,1.7190410949972395e-178,4.480961041418119e-179,1.1654530937782955e-179,3.0245248143380727e-180,7.831739378708355e-181,2.0234758405183157e-181,5.216467933468348e-182,1.341818522276572e-182,3.4438937550202958e-183,8.819509434901657e-184,2.2536051961092296e-184,5.7457928345486255e-185,1.4617086376364485e-185,3.710311608919498e-186,9.397204520302207e-187,2.3747926415022515e-187,5.988132922375196e-188,1.50659281353521e-188,3.782152820487217e-189,9.473729406853607e-190,2.367781380891866e-190,5.904742295335842e-191,1.4692612239490025e-191,3.6478402235008444e-192,9.036730289940772e-193,2.2337036563804e-193,5.509072802061654e-194,1.3557205837877727e-194,3.3288987816664477e-195,8.155859063325232e-196,1.9937814747759486e-196,4.863222306384249e-197,1.1836121380034617e-197,2.8743087697858823e-198,6.964599568358752e-199,1.6838275273330671e-199,4.061979998169177e-200,9.777249050141307e-201,2.348195746635923e-201,5.627177807061329e-202,1.345506193383907e-202,3.210106833063199e-203,7.641735346549363e-204,1.8151111371430178e-204,4.301829288762342e-205,1.0172831349116312e-205,2.4003205259688464e-206,5.6511307439948046e-207,1.3275173119643853e-207,3.1115999326220233e-208,7.277228896654295e-209,1.6981929719316176e-209,3.954091955288226e-210,9.186397054322832e-211,2.1295232306058543e-211,4.92559016585311e-212,1.1367707407917167e-212,2.6177382688347888e-213,6.014759670986358e-214,1.378951711211385e-214,3.154413037136112e-215,7.199905259716993e-216,1.6397352254775505e-216,3.726141927761253e-217,8.44858118121734e-218,1.9113793595240115e-218,4.314681316440907e-219,9.718277104715181e-220,2.1840800621508093e-220,4.897636538185195e-221,1.0958302179327528e-221,2.446463348682864e-222,5.449703538049343e-223,1.2112833929875124e-223,2.68631767990567e-224,5.944395540406036e-225,1.3124922597621893e-225,2.8915088374270357e-226,6.35610435661548e-227,1.3941074109327949e-227,3.050985717885008e-228,6.66227929754013e-229,1.4515908363052414e-229,3.1557625815699644e-230,6.845468064364155e-231,1.4816331862932248e-231,3.199756773732971e-232,6.894963304360989e-233,1.482469179299789e-233,3.180373374231277e-234,6.80783884605509e-235,1.4540493489270113e-235,3.098758619375564e-236,6.58923613184883e-237,1.398044890182433e-237,2.9596876731911363e-238,6.251861851899117e-239,1.317684944343743e-239,2.771102031145203e-240,5.81476505034207e-241,1.217448357556538e-241,2.5433588868689932e-242,5.301557391039634e-243,1.1026508319976285e-243,2.2882911120182604e-244,4.7383077003239e-245,9.789803345784441e-246,2.0181962638814195e-246,4.151371024107796e-247,8.52036938891104e-248,1.7448737897474015e-248,3.5654006271831404e-249,7.269279640195243e-250,1.4788125829505966e-250,3.001743787278686e-251,6.079569471612668e-252,1.2286006832946665e-252,2.4773501902657958e-253,4.984283909427558e-254,1.0005916280928647e-254,2.0042397877386752e-255,4.005725783542547e-256,7.98824680196313e-257,1.5894997152745578e-257,3.1557904428369668e-258,6.251648915714879e-259,1.2357190064530877e-259,2.4371574901524213e-260,4.796077409880636e-261,9.41732363741721e-262,1.8450474059018852e-262,3.6068350772201935e-263,7.035318475867798e-264,1.369241208452038e-264,2.658978845797754e-265,5.152150315222798e-266,9.96095298026475e-267,1.921551270949124e-267],\"type\":\"scatter\"}],                        {\"template\":{\"data\":{\"barpolar\":[{\"marker\":{\"line\":{\"color\":\"white\",\"width\":0.5},\"pattern\":{\"fillmode\":\"overlay\",\"size\":10,\"solidity\":0.2}},\"type\":\"barpolar\"}],\"bar\":[{\"error_x\":{\"color\":\"#2a3f5f\"},\"error_y\":{\"color\":\"#2a3f5f\"},\"marker\":{\"line\":{\"color\":\"white\",\"width\":0.5},\"pattern\":{\"fillmode\":\"overlay\",\"size\":10,\"solidity\":0.2}},\"type\":\"bar\"}],\"carpet\":[{\"aaxis\":{\"endlinecolor\":\"#2a3f5f\",\"gridcolor\":\"#C8D4E3\",\"linecolor\":\"#C8D4E3\",\"minorgridcolor\":\"#C8D4E3\",\"startlinecolor\":\"#2a3f5f\"},\"baxis\":{\"endlinecolor\":\"#2a3f5f\",\"gridcolor\":\"#C8D4E3\",\"linecolor\":\"#C8D4E3\",\"minorgridcolor\":\"#C8D4E3\",\"startlinecolor\":\"#2a3f5f\"},\"type\":\"carpet\"}],\"choropleth\":[{\"colorbar\":{\"outlinewidth\":0,\"ticks\":\"\"},\"type\":\"choropleth\"}],\"contourcarpet\":[{\"colorbar\":{\"outlinewidth\":0,\"ticks\":\"\"},\"type\":\"contourcarpet\"}],\"contour\":[{\"colorbar\":{\"outlinewidth\":0,\"ticks\":\"\"},\"colorscale\":[[0.0,\"#0d0887\"],[0.1111111111111111,\"#46039f\"],[0.2222222222222222,\"#7201a8\"],[0.3333333333333333,\"#9c179e\"],[0.4444444444444444,\"#bd3786\"],[0.5555555555555556,\"#d8576b\"],[0.6666666666666666,\"#ed7953\"],[0.7777777777777778,\"#fb9f3a\"],[0.8888888888888888,\"#fdca26\"],[1.0,\"#f0f921\"]],\"type\":\"contour\"}],\"heatmapgl\":[{\"colorbar\":{\"outlinewidth\":0,\"ticks\":\"\"},\"colorscale\":[[0.0,\"#0d0887\"],[0.1111111111111111,\"#46039f\"],[0.2222222222222222,\"#7201a8\"],[0.3333333333333333,\"#9c179e\"],[0.4444444444444444,\"#bd3786\"],[0.5555555555555556,\"#d8576b\"],[0.6666666666666666,\"#ed7953\"],[0.7777777777777778,\"#fb9f3a\"],[0.8888888888888888,\"#fdca26\"],[1.0,\"#f0f921\"]],\"type\":\"heatmapgl\"}],\"heatmap\":[{\"colorbar\":{\"outlinewidth\":0,\"ticks\":\"\"},\"colorscale\":[[0.0,\"#0d0887\"],[0.1111111111111111,\"#46039f\"],[0.2222222222222222,\"#7201a8\"],[0.3333333333333333,\"#9c179e\"],[0.4444444444444444,\"#bd3786\"],[0.5555555555555556,\"#d8576b\"],[0.6666666666666666,\"#ed7953\"],[0.7777777777777778,\"#fb9f3a\"],[0.8888888888888888,\"#fdca26\"],[1.0,\"#f0f921\"]],\"type\":\"heatmap\"}],\"histogram2dcontour\":[{\"colorbar\":{\"outlinewidth\":0,\"ticks\":\"\"},\"colorscale\":[[0.0,\"#0d0887\"],[0.1111111111111111,\"#46039f\"],[0.2222222222222222,\"#7201a8\"],[0.3333333333333333,\"#9c179e\"],[0.4444444444444444,\"#bd3786\"],[0.5555555555555556,\"#d8576b\"],[0.6666666666666666,\"#ed7953\"],[0.7777777777777778,\"#fb9f3a\"],[0.8888888888888888,\"#fdca26\"],[1.0,\"#f0f921\"]],\"type\":\"histogram2dcontour\"}],\"histogram2d\":[{\"colorbar\":{\"outlinewidth\":0,\"ticks\":\"\"},\"colorscale\":[[0.0,\"#0d0887\"],[0.1111111111111111,\"#46039f\"],[0.2222222222222222,\"#7201a8\"],[0.3333333333333333,\"#9c179e\"],[0.4444444444444444,\"#bd3786\"],[0.5555555555555556,\"#d8576b\"],[0.6666666666666666,\"#ed7953\"],[0.7777777777777778,\"#fb9f3a\"],[0.8888888888888888,\"#fdca26\"],[1.0,\"#f0f921\"]],\"type\":\"histogram2d\"}],\"histogram\":[{\"marker\":{\"pattern\":{\"fillmode\":\"overlay\",\"size\":10,\"solidity\":0.2}},\"type\":\"histogram\"}],\"mesh3d\":[{\"colorbar\":{\"outlinewidth\":0,\"ticks\":\"\"},\"type\":\"mesh3d\"}],\"parcoords\":[{\"line\":{\"colorbar\":{\"outlinewidth\":0,\"ticks\":\"\"}},\"type\":\"parcoords\"}],\"pie\":[{\"automargin\":true,\"type\":\"pie\"}],\"scatter3d\":[{\"line\":{\"colorbar\":{\"outlinewidth\":0,\"ticks\":\"\"}},\"marker\":{\"colorbar\":{\"outlinewidth\":0,\"ticks\":\"\"}},\"type\":\"scatter3d\"}],\"scattercarpet\":[{\"marker\":{\"colorbar\":{\"outlinewidth\":0,\"ticks\":\"\"}},\"type\":\"scattercarpet\"}],\"scattergeo\":[{\"marker\":{\"colorbar\":{\"outlinewidth\":0,\"ticks\":\"\"}},\"type\":\"scattergeo\"}],\"scattergl\":[{\"marker\":{\"colorbar\":{\"outlinewidth\":0,\"ticks\":\"\"}},\"type\":\"scattergl\"}],\"scattermapbox\":[{\"marker\":{\"colorbar\":{\"outlinewidth\":0,\"ticks\":\"\"}},\"type\":\"scattermapbox\"}],\"scatterpolargl\":[{\"marker\":{\"colorbar\":{\"outlinewidth\":0,\"ticks\":\"\"}},\"type\":\"scatterpolargl\"}],\"scatterpolar\":[{\"marker\":{\"colorbar\":{\"outlinewidth\":0,\"ticks\":\"\"}},\"type\":\"scatterpolar\"}],\"scatter\":[{\"fillpattern\":{\"fillmode\":\"overlay\",\"size\":10,\"solidity\":0.2},\"type\":\"scatter\"}],\"scatterternary\":[{\"marker\":{\"colorbar\":{\"outlinewidth\":0,\"ticks\":\"\"}},\"type\":\"scatterternary\"}],\"surface\":[{\"colorbar\":{\"outlinewidth\":0,\"ticks\":\"\"},\"colorscale\":[[0.0,\"#0d0887\"],[0.1111111111111111,\"#46039f\"],[0.2222222222222222,\"#7201a8\"],[0.3333333333333333,\"#9c179e\"],[0.4444444444444444,\"#bd3786\"],[0.5555555555555556,\"#d8576b\"],[0.6666666666666666,\"#ed7953\"],[0.7777777777777778,\"#fb9f3a\"],[0.8888888888888888,\"#fdca26\"],[1.0,\"#f0f921\"]],\"type\":\"surface\"}],\"table\":[{\"cells\":{\"fill\":{\"color\":\"#EBF0F8\"},\"line\":{\"color\":\"white\"}},\"header\":{\"fill\":{\"color\":\"#C8D4E3\"},\"line\":{\"color\":\"white\"}},\"type\":\"table\"}]},\"layout\":{\"annotationdefaults\":{\"arrowcolor\":\"#2a3f5f\",\"arrowhead\":0,\"arrowwidth\":1},\"autotypenumbers\":\"strict\",\"coloraxis\":{\"colorbar\":{\"outlinewidth\":0,\"ticks\":\"\"}},\"colorscale\":{\"diverging\":[[0,\"#8e0152\"],[0.1,\"#c51b7d\"],[0.2,\"#de77ae\"],[0.3,\"#f1b6da\"],[0.4,\"#fde0ef\"],[0.5,\"#f7f7f7\"],[0.6,\"#e6f5d0\"],[0.7,\"#b8e186\"],[0.8,\"#7fbc41\"],[0.9,\"#4d9221\"],[1,\"#276419\"]],\"sequential\":[[0.0,\"#0d0887\"],[0.1111111111111111,\"#46039f\"],[0.2222222222222222,\"#7201a8\"],[0.3333333333333333,\"#9c179e\"],[0.4444444444444444,\"#bd3786\"],[0.5555555555555556,\"#d8576b\"],[0.6666666666666666,\"#ed7953\"],[0.7777777777777778,\"#fb9f3a\"],[0.8888888888888888,\"#fdca26\"],[1.0,\"#f0f921\"]],\"sequentialminus\":[[0.0,\"#0d0887\"],[0.1111111111111111,\"#46039f\"],[0.2222222222222222,\"#7201a8\"],[0.3333333333333333,\"#9c179e\"],[0.4444444444444444,\"#bd3786\"],[0.5555555555555556,\"#d8576b\"],[0.6666666666666666,\"#ed7953\"],[0.7777777777777778,\"#fb9f3a\"],[0.8888888888888888,\"#fdca26\"],[1.0,\"#f0f921\"]]},\"colorway\":[\"#636efa\",\"#EF553B\",\"#00cc96\",\"#ab63fa\",\"#FFA15A\",\"#19d3f3\",\"#FF6692\",\"#B6E880\",\"#FF97FF\",\"#FECB52\"],\"font\":{\"color\":\"#2a3f5f\"},\"geo\":{\"bgcolor\":\"white\",\"lakecolor\":\"white\",\"landcolor\":\"white\",\"showlakes\":true,\"showland\":true,\"subunitcolor\":\"#C8D4E3\"},\"hoverlabel\":{\"align\":\"left\"},\"hovermode\":\"closest\",\"mapbox\":{\"style\":\"light\"},\"paper_bgcolor\":\"white\",\"plot_bgcolor\":\"white\",\"polar\":{\"angularaxis\":{\"gridcolor\":\"#EBF0F8\",\"linecolor\":\"#EBF0F8\",\"ticks\":\"\"},\"bgcolor\":\"white\",\"radialaxis\":{\"gridcolor\":\"#EBF0F8\",\"linecolor\":\"#EBF0F8\",\"ticks\":\"\"}},\"scene\":{\"xaxis\":{\"backgroundcolor\":\"white\",\"gridcolor\":\"#DFE8F3\",\"gridwidth\":2,\"linecolor\":\"#EBF0F8\",\"showbackground\":true,\"ticks\":\"\",\"zerolinecolor\":\"#EBF0F8\"},\"yaxis\":{\"backgroundcolor\":\"white\",\"gridcolor\":\"#DFE8F3\",\"gridwidth\":2,\"linecolor\":\"#EBF0F8\",\"showbackground\":true,\"ticks\":\"\",\"zerolinecolor\":\"#EBF0F8\"},\"zaxis\":{\"backgroundcolor\":\"white\",\"gridcolor\":\"#DFE8F3\",\"gridwidth\":2,\"linecolor\":\"#EBF0F8\",\"showbackground\":true,\"ticks\":\"\",\"zerolinecolor\":\"#EBF0F8\"}},\"shapedefaults\":{\"line\":{\"color\":\"#2a3f5f\"}},\"ternary\":{\"aaxis\":{\"gridcolor\":\"#DFE8F3\",\"linecolor\":\"#A2B1C6\",\"ticks\":\"\"},\"baxis\":{\"gridcolor\":\"#DFE8F3\",\"linecolor\":\"#A2B1C6\",\"ticks\":\"\"},\"bgcolor\":\"white\",\"caxis\":{\"gridcolor\":\"#DFE8F3\",\"linecolor\":\"#A2B1C6\",\"ticks\":\"\"}},\"title\":{\"x\":0.05},\"xaxis\":{\"automargin\":true,\"gridcolor\":\"#EBF0F8\",\"linecolor\":\"#EBF0F8\",\"ticks\":\"\",\"title\":{\"standoff\":15},\"zerolinecolor\":\"#EBF0F8\",\"zerolinewidth\":2},\"yaxis\":{\"automargin\":true,\"gridcolor\":\"#EBF0F8\",\"linecolor\":\"#EBF0F8\",\"ticks\":\"\",\"title\":{\"standoff\":15},\"zerolinecolor\":\"#EBF0F8\",\"zerolinewidth\":2}}},\"title\":{\"font\":{\"size\":24},\"text\":\"Age Distribution (KDE) by NObeyesdad\",\"x\":0.5},\"xaxis\":{\"title\":{\"text\":\"Age\",\"font\":{\"size\":18}},\"tickfont\":{\"size\":14}},\"yaxis\":{\"title\":{\"text\":\"Density\",\"font\":{\"size\":18}},\"tickfont\":{\"size\":14}},\"legend\":{\"font\":{\"size\":14},\"title\":{\"text\":\"NObeyesdad\"}}},                        {\"responsive\": true}                    ).then(function(){\n",
       "                            \n",
       "var gd = document.getElementById('d267eda6-ad92-40af-9c4b-11b1ed040113');\n",
       "var x = new MutationObserver(function (mutations, observer) {{\n",
       "        var display = window.getComputedStyle(gd).display;\n",
       "        if (!display || display === 'none') {{\n",
       "            console.log([gd, 'removed!']);\n",
       "            Plotly.purge(gd);\n",
       "            observer.disconnect();\n",
       "        }}\n",
       "}});\n",
       "\n",
       "// Listen for the removal of the full notebook cells\n",
       "var notebookContainer = gd.closest('#notebook-container');\n",
       "if (notebookContainer) {{\n",
       "    x.observe(notebookContainer, {childList: true});\n",
       "}}\n",
       "\n",
       "// Listen for the clearing of the current output cell\n",
       "var outputEl = gd.closest('.output');\n",
       "if (outputEl) {{\n",
       "    x.observe(outputEl, {childList: true});\n",
       "}}\n",
       "\n",
       "                        })                };                });            </script>        </div>"
      ]
     },
     "metadata": {},
     "output_type": "display_data"
    }
   ],
   "source": [
    "\n",
    "attributes = df['NObeyesdad'].unique()\n",
    "\n",
    "# Prepare the data\n",
    "kde_data = []\n",
    "for attr in attributes:\n",
    "    kde = neighbors.KernelDensity(kernel='gaussian', bandwidth=1)\n",
    "    data = df[df['NObeyesdad'] == attr]['Age'].values\n",
    "    kde.fit(data[:, np.newaxis])\n",
    "    X_plot = np.linspace(df['Age'].min(), df['Age'].max(), 1000)[:, np.newaxis]\n",
    "    log_dens = kde.score_samples(X_plot)\n",
    "    kde_data.append((attr,X_plot, np.exp(log_dens)))\n",
    "\n",
    "# Create the plot\n",
    "fig = go.Figure()\n",
    "\n",
    "for attr, X_plot, density in kde_data:\n",
    "    fig.add_trace(go.Scatter(x=X_plot[:, 0], y=density, mode='lines', name=attr))\n",
    "\n",
    "# Customize the plot\n",
    "fig.update_layout(\n",
    "    title=dict(text='Age Distribution (KDE) by NObeyesdad', x=0.5, font=dict(size=24)),\n",
    "    xaxis=dict(title='Age', title_font=dict(size=18), tickfont=dict(size=14)),\n",
    "    yaxis=dict(title='Density', title_font=dict(size=18), tickfont=dict(size=14)),\n",
    "    template='plotly_white',\n",
    "    legend=dict(title='NObeyesdad', font=dict(size=14))\n",
    ")\n",
    "\n",
    "fig.show()"
   ]
  },
  {
   "cell_type": "code",
   "execution_count": 10,
   "id": "0fe962e7",
   "metadata": {
    "execution": {
     "iopub.execute_input": "2023-04-17T10:49:45.061558Z",
     "iopub.status.busy": "2023-04-17T10:49:45.060191Z",
     "iopub.status.idle": "2023-04-17T10:49:45.339779Z",
     "shell.execute_reply": "2023-04-17T10:49:45.338429Z"
    },
    "papermill": {
     "duration": 0.308214,
     "end_time": "2023-04-17T10:49:45.342721",
     "exception": false,
     "start_time": "2023-04-17T10:49:45.034507",
     "status": "completed"
    },
    "tags": []
   },
   "outputs": [
    {
     "data": {
      "text/html": [
       "<div>                            <div id=\"5ef831d3-aef8-4317-b7c5-23db1f645925\" class=\"plotly-graph-div\" style=\"height:500px; width:800px;\"></div>            <script type=\"text/javascript\">                require([\"plotly\"], function(Plotly) {                    window.PLOTLYENV=window.PLOTLYENV || {};                                    if (document.getElementById(\"5ef831d3-aef8-4317-b7c5-23db1f645925\")) {                    Plotly.newPlot(                        \"5ef831d3-aef8-4317-b7c5-23db1f645925\",                        [{\"alignmentgroup\":\"True\",\"hovertemplate\":\"NObeyesdad=%{x}<br>Age=%{y}<extra></extra>\",\"legendgroup\":\"\",\"marker\":{\"color\":\"#2a9d8f\",\"size\":3},\"name\":\"\",\"notched\":false,\"offsetgroup\":\"\",\"orientation\":\"v\",\"showlegend\":false,\"x\":[\"Normal_Weight\",\"Normal_Weight\",\"Normal_Weight\",\"Overweight_Level_I\",\"Overweight_Level_II\",\"Normal_Weight\",\"Normal_Weight\",\"Normal_Weight\",\"Normal_Weight\",\"Normal_Weight\",\"Obesity_Type_I\",\"Overweight_Level_II\",\"Normal_Weight\",\"Obesity_Type_I\",\"Normal_Weight\",\"Normal_Weight\",\"Overweight_Level_II\",\"Obesity_Type_I\",\"Overweight_Level_II\",\"Overweight_Level_I\",\"Overweight_Level_II\",\"Obesity_Type_I\",\"Normal_Weight\",\"Obesity_Type_I\",\"Normal_Weight\",\"Normal_Weight\",\"Normal_Weight\",\"Normal_Weight\",\"Normal_Weight\",\"Normal_Weight\",\"Overweight_Level_I\",\"Overweight_Level_II\",\"Normal_Weight\",\"Overweight_Level_II\",\"Normal_Weight\",\"Overweight_Level_II\",\"Normal_Weight\",\"Normal_Weight\",\"Normal_Weight\",\"Overweight_Level_II\",\"Overweight_Level_I\",\"Normal_Weight\",\"Normal_Weight\",\"Normal_Weight\",\"Normal_Weight\",\"Overweight_Level_II\",\"Normal_Weight\",\"Normal_Weight\",\"Normal_Weight\",\"Normal_Weight\",\"Normal_Weight\",\"Normal_Weight\",\"Normal_Weight\",\"Normal_Weight\",\"Normal_Weight\",\"Normal_Weight\",\"Normal_Weight\",\"Normal_Weight\",\"Normal_Weight\",\"Insufficient_Weight\",\"Normal_Weight\",\"Normal_Weight\",\"Normal_Weight\",\"Normal_Weight\",\"Normal_Weight\",\"Overweight_Level_I\",\"Overweight_Level_II\",\"Obesity_Type_I\",\"Obesity_Type_II\",\"Normal_Weight\",\"Overweight_Level_II\",\"Insufficient_Weight\",\"Normal_Weight\",\"Normal_Weight\",\"Overweight_Level_II\",\"Insufficient_Weight\",\"Insufficient_Weight\",\"Overweight_Level_II\",\"Obesity_Type_I\",\"Normal_Weight\",\"Normal_Weight\",\"Overweight_Level_II\",\"Obesity_Type_I\",\"Insufficient_Weight\",\"Overweight_Level_II\",\"Normal_Weight\",\"Normal_Weight\",\"Overweight_Level_I\",\"Normal_Weight\",\"Overweight_Level_II\",\"Obesity_Type_II\",\"Normal_Weight\",\"Overweight_Level_I\",\"Normal_Weight\",\"Normal_Weight\",\"Normal_Weight\",\"Normal_Weight\",\"Insufficient_Weight\",\"Insufficient_Weight\",\"Normal_Weight\",\"Normal_Weight\",\"Normal_Weight\",\"Normal_Weight\",\"Normal_Weight\",\"Obesity_Type_I\",\"Normal_Weight\",\"Normal_Weight\",\"Overweight_Level_I\",\"Obesity_Type_I\",\"Obesity_Type_I\",\"Normal_Weight\",\"Normal_Weight\",\"Normal_Weight\",\"Normal_Weight\",\"Normal_Weight\",\"Normal_Weight\",\"Obesity_Type_I\",\"Overweight_Level_II\",\"Normal_Weight\",\"Overweight_Level_II\",\"Overweight_Level_I\",\"Overweight_Level_II\",\"Insufficient_Weight\",\"Normal_Weight\",\"Overweight_Level_II\",\"Overweight_Level_I\",\"Normal_Weight\",\"Normal_Weight\",\"Normal_Weight\",\"Overweight_Level_II\",\"Normal_Weight\",\"Normal_Weight\",\"Normal_Weight\",\"Normal_Weight\",\"Obesity_Type_I\",\"Overweight_Level_I\",\"Normal_Weight\",\"Obesity_Type_I\",\"Normal_Weight\",\"Normal_Weight\",\"Insufficient_Weight\",\"Normal_Weight\",\"Obesity_Type_I\",\"Overweight_Level_I\",\"Overweight_Level_I\",\"Overweight_Level_I\",\"Normal_Weight\",\"Obesity_Type_I\",\"Normal_Weight\",\"Obesity_Type_I\",\"Normal_Weight\",\"Normal_Weight\",\"Overweight_Level_I\",\"Overweight_Level_II\",\"Obesity_Type_I\",\"Normal_Weight\",\"Normal_Weight\",\"Normal_Weight\",\"Overweight_Level_I\",\"Overweight_Level_II\",\"Normal_Weight\",\"Overweight_Level_II\",\"Normal_Weight\",\"Normal_Weight\",\"Overweight_Level_II\",\"Obesity_Type_II\",\"Normal_Weight\",\"Overweight_Level_II\",\"Overweight_Level_I\",\"Overweight_Level_II\",\"Overweight_Level_II\",\"Normal_Weight\",\"Normal_Weight\",\"Normal_Weight\",\"Overweight_Level_I\",\"Normal_Weight\",\"Normal_Weight\",\"Normal_Weight\",\"Normal_Weight\",\"Overweight_Level_I\",\"Normal_Weight\",\"Normal_Weight\",\"Insufficient_Weight\",\"Overweight_Level_II\",\"Overweight_Level_I\",\"Overweight_Level_I\",\"Obesity_Type_I\",\"Obesity_Type_I\",\"Obesity_Type_I\",\"Normal_Weight\",\"Normal_Weight\",\"Overweight_Level_I\",\"Overweight_Level_I\",\"Normal_Weight\",\"Obesity_Type_I\",\"Overweight_Level_I\",\"Normal_Weight\",\"Obesity_Type_II\",\"Insufficient_Weight\",\"Normal_Weight\",\"Obesity_Type_I\",\"Obesity_Type_I\",\"Obesity_Type_III\",\"Obesity_Type_I\",\"Normal_Weight\",\"Obesity_Type_I\",\"Obesity_Type_I\",\"Normal_Weight\",\"Normal_Weight\",\"Normal_Weight\",\"Obesity_Type_II\",\"Normal_Weight\",\"Overweight_Level_II\",\"Normal_Weight\",\"Normal_Weight\",\"Normal_Weight\",\"Normal_Weight\",\"Overweight_Level_I\",\"Normal_Weight\",\"Overweight_Level_I\",\"Overweight_Level_I\",\"Overweight_Level_II\",\"Normal_Weight\",\"Normal_Weight\",\"Obesity_Type_I\",\"Obesity_Type_II\",\"Normal_Weight\",\"Normal_Weight\",\"Overweight_Level_II\",\"Obesity_Type_II\",\"Overweight_Level_I\",\"Normal_Weight\",\"Normal_Weight\",\"Overweight_Level_II\",\"Normal_Weight\",\"Normal_Weight\",\"Normal_Weight\",\"Normal_Weight\",\"Normal_Weight\",\"Normal_Weight\",\"Normal_Weight\",\"Overweight_Level_I\",\"Normal_Weight\",\"Overweight_Level_II\",\"Normal_Weight\",\"Insufficient_Weight\",\"Normal_Weight\",\"Normal_Weight\",\"Normal_Weight\",\"Overweight_Level_I\",\"Overweight_Level_II\",\"Overweight_Level_II\",\"Overweight_Level_II\",\"Normal_Weight\",\"Normal_Weight\",\"Overweight_Level_I\",\"Overweight_Level_II\",\"Obesity_Type_I\",\"Overweight_Level_II\",\"Obesity_Type_I\",\"Overweight_Level_I\",\"Overweight_Level_I\",\"Normal_Weight\",\"Insufficient_Weight\",\"Normal_Weight\",\"Insufficient_Weight\",\"Insufficient_Weight\",\"Overweight_Level_II\",\"Normal_Weight\",\"Normal_Weight\",\"Obesity_Type_I\",\"Normal_Weight\",\"Normal_Weight\",\"Normal_Weight\",\"Normal_Weight\",\"Normal_Weight\",\"Insufficient_Weight\",\"Normal_Weight\",\"Normal_Weight\",\"Insufficient_Weight\",\"Normal_Weight\",\"Normal_Weight\",\"Normal_Weight\",\"Normal_Weight\",\"Normal_Weight\",\"Obesity_Type_I\",\"Normal_Weight\",\"Normal_Weight\",\"Normal_Weight\",\"Normal_Weight\",\"Normal_Weight\",\"Insufficient_Weight\",\"Normal_Weight\",\"Normal_Weight\",\"Obesity_Type_I\",\"Normal_Weight\",\"Normal_Weight\",\"Overweight_Level_I\",\"Normal_Weight\",\"Overweight_Level_I\",\"Normal_Weight\",\"Normal_Weight\",\"Insufficient_Weight\",\"Normal_Weight\",\"Overweight_Level_I\",\"Obesity_Type_II\",\"Normal_Weight\",\"Normal_Weight\",\"Normal_Weight\",\"Normal_Weight\",\"Insufficient_Weight\",\"Normal_Weight\",\"Normal_Weight\",\"Normal_Weight\",\"Normal_Weight\",\"Normal_Weight\",\"Normal_Weight\",\"Normal_Weight\",\"Normal_Weight\",\"Overweight_Level_I\",\"Normal_Weight\",\"Normal_Weight\",\"Insufficient_Weight\",\"Normal_Weight\",\"Overweight_Level_I\",\"Normal_Weight\",\"Normal_Weight\",\"Overweight_Level_I\",\"Normal_Weight\",\"Obesity_Type_I\",\"Insufficient_Weight\",\"Normal_Weight\",\"Normal_Weight\",\"Normal_Weight\",\"Overweight_Level_I\",\"Insufficient_Weight\",\"Normal_Weight\",\"Normal_Weight\",\"Overweight_Level_I\",\"Insufficient_Weight\",\"Normal_Weight\",\"Normal_Weight\",\"Obesity_Type_I\",\"Normal_Weight\",\"Obesity_Type_III\",\"Normal_Weight\",\"Normal_Weight\",\"Overweight_Level_II\",\"Normal_Weight\",\"Obesity_Type_I\",\"Normal_Weight\",\"Normal_Weight\",\"Normal_Weight\",\"Normal_Weight\",\"Normal_Weight\",\"Overweight_Level_I\",\"Insufficient_Weight\",\"Normal_Weight\",\"Obesity_Type_II\",\"Normal_Weight\",\"Normal_Weight\",\"Obesity_Type_I\",\"Overweight_Level_I\",\"Normal_Weight\",\"Overweight_Level_I\",\"Normal_Weight\",\"Overweight_Level_II\",\"Overweight_Level_I\",\"Overweight_Level_II\",\"Overweight_Level_II\",\"Normal_Weight\",\"Overweight_Level_I\",\"Normal_Weight\",\"Normal_Weight\",\"Normal_Weight\",\"Overweight_Level_II\",\"Normal_Weight\",\"Normal_Weight\",\"Normal_Weight\",\"Normal_Weight\",\"Overweight_Level_II\",\"Normal_Weight\",\"Normal_Weight\",\"Obesity_Type_I\",\"Normal_Weight\",\"Normal_Weight\",\"Normal_Weight\",\"Obesity_Type_I\",\"Obesity_Type_I\",\"Overweight_Level_I\",\"Insufficient_Weight\",\"Insufficient_Weight\",\"Normal_Weight\",\"Overweight_Level_II\",\"Normal_Weight\",\"Insufficient_Weight\",\"Normal_Weight\",\"Normal_Weight\",\"Obesity_Type_II\",\"Normal_Weight\",\"Overweight_Level_I\",\"Normal_Weight\",\"Overweight_Level_II\",\"Obesity_Type_III\",\"Normal_Weight\",\"Overweight_Level_II\",\"Normal_Weight\",\"Overweight_Level_I\",\"Normal_Weight\",\"Normal_Weight\",\"Normal_Weight\",\"Overweight_Level_I\",\"Normal_Weight\",\"Overweight_Level_II\",\"Obesity_Type_I\",\"Normal_Weight\",\"Overweight_Level_I\",\"Overweight_Level_II\",\"Obesity_Type_I\",\"Obesity_Type_I\",\"Insufficient_Weight\",\"Insufficient_Weight\",\"Normal_Weight\",\"Overweight_Level_II\",\"Overweight_Level_I\",\"Normal_Weight\",\"Normal_Weight\",\"Normal_Weight\",\"Normal_Weight\",\"Normal_Weight\",\"Obesity_Type_I\",\"Normal_Weight\",\"Normal_Weight\",\"Normal_Weight\",\"Normal_Weight\",\"Overweight_Level_I\",\"Normal_Weight\",\"Normal_Weight\",\"Normal_Weight\",\"Normal_Weight\",\"Normal_Weight\",\"Normal_Weight\",\"Normal_Weight\",\"Insufficient_Weight\",\"Normal_Weight\",\"Normal_Weight\",\"Normal_Weight\",\"Overweight_Level_I\",\"Obesity_Type_II\",\"Normal_Weight\",\"Normal_Weight\",\"Normal_Weight\",\"Normal_Weight\",\"Normal_Weight\",\"Normal_Weight\",\"Normal_Weight\",\"Normal_Weight\",\"Normal_Weight\",\"Normal_Weight\",\"Overweight_Level_I\",\"Normal_Weight\",\"Obesity_Type_I\",\"Overweight_Level_II\",\"Normal_Weight\",\"Normal_Weight\",\"Normal_Weight\",\"Normal_Weight\",\"Normal_Weight\",\"Insufficient_Weight\",\"Insufficient_Weight\",\"Normal_Weight\",\"Obesity_Type_I\",\"Overweight_Level_II\",\"Normal_Weight\",\"Normal_Weight\",\"Overweight_Level_I\",\"Overweight_Level_I\",\"Normal_Weight\",\"Normal_Weight\",\"Normal_Weight\",\"Normal_Weight\",\"Normal_Weight\",\"Normal_Weight\",\"Overweight_Level_I\",\"Overweight_Level_II\",\"Normal_Weight\",\"Normal_Weight\",\"Obesity_Type_I\",\"Normal_Weight\",\"Normal_Weight\",\"Overweight_Level_II\",\"Normal_Weight\",\"Overweight_Level_II\",\"Normal_Weight\",\"Normal_Weight\",\"Normal_Weight\",\"Insufficient_Weight\",\"Normal_Weight\",\"Obesity_Type_III\",\"Obesity_Type_III\",\"Obesity_Type_III\",\"Obesity_Type_III\",\"Obesity_Type_III\",\"Obesity_Type_III\",\"Obesity_Type_III\",\"Obesity_Type_III\",\"Obesity_Type_III\",\"Insufficient_Weight\",\"Insufficient_Weight\",\"Insufficient_Weight\",\"Insufficient_Weight\",\"Insufficient_Weight\",\"Insufficient_Weight\",\"Insufficient_Weight\",\"Insufficient_Weight\",\"Insufficient_Weight\",\"Insufficient_Weight\",\"Insufficient_Weight\",\"Insufficient_Weight\",\"Insufficient_Weight\",\"Insufficient_Weight\",\"Insufficient_Weight\",\"Insufficient_Weight\",\"Insufficient_Weight\",\"Insufficient_Weight\",\"Insufficient_Weight\",\"Insufficient_Weight\",\"Insufficient_Weight\",\"Insufficient_Weight\",\"Insufficient_Weight\",\"Insufficient_Weight\",\"Insufficient_Weight\",\"Insufficient_Weight\",\"Insufficient_Weight\",\"Insufficient_Weight\",\"Insufficient_Weight\",\"Insufficient_Weight\",\"Insufficient_Weight\",\"Insufficient_Weight\",\"Insufficient_Weight\",\"Insufficient_Weight\",\"Insufficient_Weight\",\"Insufficient_Weight\",\"Insufficient_Weight\",\"Insufficient_Weight\",\"Insufficient_Weight\",\"Insufficient_Weight\",\"Insufficient_Weight\",\"Insufficient_Weight\",\"Insufficient_Weight\",\"Insufficient_Weight\",\"Insufficient_Weight\",\"Insufficient_Weight\",\"Insufficient_Weight\",\"Insufficient_Weight\",\"Insufficient_Weight\",\"Insufficient_Weight\",\"Insufficient_Weight\",\"Insufficient_Weight\",\"Insufficient_Weight\",\"Insufficient_Weight\",\"Insufficient_Weight\",\"Insufficient_Weight\",\"Insufficient_Weight\",\"Insufficient_Weight\",\"Insufficient_Weight\",\"Insufficient_Weight\",\"Insufficient_Weight\",\"Insufficient_Weight\",\"Insufficient_Weight\",\"Insufficient_Weight\",\"Insufficient_Weight\",\"Insufficient_Weight\",\"Insufficient_Weight\",\"Insufficient_Weight\",\"Insufficient_Weight\",\"Insufficient_Weight\",\"Insufficient_Weight\",\"Insufficient_Weight\",\"Insufficient_Weight\",\"Insufficient_Weight\",\"Insufficient_Weight\",\"Insufficient_Weight\",\"Insufficient_Weight\",\"Insufficient_Weight\",\"Insufficient_Weight\",\"Insufficient_Weight\",\"Insufficient_Weight\",\"Insufficient_Weight\",\"Insufficient_Weight\",\"Insufficient_Weight\",\"Insufficient_Weight\",\"Insufficient_Weight\",\"Insufficient_Weight\",\"Insufficient_Weight\",\"Insufficient_Weight\",\"Insufficient_Weight\",\"Insufficient_Weight\",\"Insufficient_Weight\",\"Insufficient_Weight\",\"Insufficient_Weight\",\"Insufficient_Weight\",\"Insufficient_Weight\",\"Insufficient_Weight\",\"Insufficient_Weight\",\"Insufficient_Weight\",\"Insufficient_Weight\",\"Insufficient_Weight\",\"Insufficient_Weight\",\"Insufficient_Weight\",\"Insufficient_Weight\",\"Insufficient_Weight\",\"Insufficient_Weight\",\"Insufficient_Weight\",\"Insufficient_Weight\",\"Insufficient_Weight\",\"Insufficient_Weight\",\"Insufficient_Weight\",\"Insufficient_Weight\",\"Insufficient_Weight\",\"Insufficient_Weight\",\"Insufficient_Weight\",\"Insufficient_Weight\",\"Insufficient_Weight\",\"Insufficient_Weight\",\"Insufficient_Weight\",\"Insufficient_Weight\",\"Insufficient_Weight\",\"Insufficient_Weight\",\"Insufficient_Weight\",\"Insufficient_Weight\",\"Insufficient_Weight\",\"Insufficient_Weight\",\"Insufficient_Weight\",\"Insufficient_Weight\",\"Insufficient_Weight\",\"Insufficient_Weight\",\"Insufficient_Weight\",\"Insufficient_Weight\",\"Insufficient_Weight\",\"Insufficient_Weight\",\"Insufficient_Weight\",\"Insufficient_Weight\",\"Insufficient_Weight\",\"Insufficient_Weight\",\"Insufficient_Weight\",\"Insufficient_Weight\",\"Insufficient_Weight\",\"Insufficient_Weight\",\"Insufficient_Weight\",\"Insufficient_Weight\",\"Insufficient_Weight\",\"Insufficient_Weight\",\"Insufficient_Weight\",\"Insufficient_Weight\",\"Insufficient_Weight\",\"Insufficient_Weight\",\"Insufficient_Weight\",\"Insufficient_Weight\",\"Insufficient_Weight\",\"Insufficient_Weight\",\"Insufficient_Weight\",\"Insufficient_Weight\",\"Insufficient_Weight\",\"Insufficient_Weight\",\"Insufficient_Weight\",\"Insufficient_Weight\",\"Insufficient_Weight\",\"Insufficient_Weight\",\"Insufficient_Weight\",\"Insufficient_Weight\",\"Insufficient_Weight\",\"Insufficient_Weight\",\"Insufficient_Weight\",\"Insufficient_Weight\",\"Insufficient_Weight\",\"Insufficient_Weight\",\"Insufficient_Weight\",\"Insufficient_Weight\",\"Insufficient_Weight\",\"Insufficient_Weight\",\"Insufficient_Weight\",\"Insufficient_Weight\",\"Insufficient_Weight\",\"Insufficient_Weight\",\"Insufficient_Weight\",\"Insufficient_Weight\",\"Insufficient_Weight\",\"Insufficient_Weight\",\"Insufficient_Weight\",\"Insufficient_Weight\",\"Insufficient_Weight\",\"Insufficient_Weight\",\"Insufficient_Weight\",\"Insufficient_Weight\",\"Insufficient_Weight\",\"Insufficient_Weight\",\"Insufficient_Weight\",\"Insufficient_Weight\",\"Insufficient_Weight\",\"Insufficient_Weight\",\"Insufficient_Weight\",\"Insufficient_Weight\",\"Insufficient_Weight\",\"Insufficient_Weight\",\"Insufficient_Weight\",\"Insufficient_Weight\",\"Insufficient_Weight\",\"Insufficient_Weight\",\"Insufficient_Weight\",\"Insufficient_Weight\",\"Insufficient_Weight\",\"Insufficient_Weight\",\"Insufficient_Weight\",\"Insufficient_Weight\",\"Insufficient_Weight\",\"Insufficient_Weight\",\"Insufficient_Weight\",\"Insufficient_Weight\",\"Insufficient_Weight\",\"Insufficient_Weight\",\"Insufficient_Weight\",\"Insufficient_Weight\",\"Insufficient_Weight\",\"Insufficient_Weight\",\"Insufficient_Weight\",\"Insufficient_Weight\",\"Insufficient_Weight\",\"Insufficient_Weight\",\"Insufficient_Weight\",\"Insufficient_Weight\",\"Insufficient_Weight\",\"Insufficient_Weight\",\"Insufficient_Weight\",\"Insufficient_Weight\",\"Insufficient_Weight\",\"Insufficient_Weight\",\"Insufficient_Weight\",\"Insufficient_Weight\",\"Insufficient_Weight\",\"Insufficient_Weight\",\"Insufficient_Weight\",\"Insufficient_Weight\",\"Insufficient_Weight\",\"Insufficient_Weight\",\"Overweight_Level_I\",\"Overweight_Level_I\",\"Overweight_Level_I\",\"Overweight_Level_I\",\"Overweight_Level_I\",\"Overweight_Level_I\",\"Overweight_Level_I\",\"Overweight_Level_I\",\"Overweight_Level_I\",\"Overweight_Level_I\",\"Overweight_Level_I\",\"Overweight_Level_I\",\"Overweight_Level_I\",\"Overweight_Level_I\",\"Overweight_Level_I\",\"Overweight_Level_I\",\"Overweight_Level_I\",\"Overweight_Level_I\",\"Overweight_Level_I\",\"Overweight_Level_I\",\"Overweight_Level_I\",\"Overweight_Level_I\",\"Overweight_Level_I\",\"Overweight_Level_I\",\"Overweight_Level_I\",\"Overweight_Level_I\",\"Overweight_Level_I\",\"Overweight_Level_I\",\"Overweight_Level_I\",\"Overweight_Level_I\",\"Overweight_Level_I\",\"Overweight_Level_I\",\"Overweight_Level_I\",\"Overweight_Level_I\",\"Overweight_Level_I\",\"Overweight_Level_I\",\"Overweight_Level_I\",\"Overweight_Level_I\",\"Overweight_Level_I\",\"Overweight_Level_I\",\"Overweight_Level_I\",\"Overweight_Level_I\",\"Overweight_Level_I\",\"Overweight_Level_I\",\"Overweight_Level_I\",\"Overweight_Level_I\",\"Overweight_Level_I\",\"Overweight_Level_I\",\"Overweight_Level_I\",\"Overweight_Level_I\",\"Overweight_Level_I\",\"Overweight_Level_I\",\"Overweight_Level_I\",\"Overweight_Level_I\",\"Overweight_Level_I\",\"Overweight_Level_I\",\"Overweight_Level_I\",\"Overweight_Level_I\",\"Overweight_Level_I\",\"Overweight_Level_I\",\"Overweight_Level_I\",\"Overweight_Level_I\",\"Overweight_Level_I\",\"Overweight_Level_I\",\"Overweight_Level_I\",\"Overweight_Level_I\",\"Overweight_Level_I\",\"Overweight_Level_I\",\"Overweight_Level_I\",\"Overweight_Level_I\",\"Overweight_Level_I\",\"Overweight_Level_I\",\"Overweight_Level_I\",\"Overweight_Level_I\",\"Overweight_Level_I\",\"Overweight_Level_I\",\"Overweight_Level_I\",\"Overweight_Level_I\",\"Overweight_Level_I\",\"Overweight_Level_I\",\"Overweight_Level_I\",\"Overweight_Level_I\",\"Overweight_Level_I\",\"Overweight_Level_I\",\"Overweight_Level_I\",\"Overweight_Level_I\",\"Overweight_Level_I\",\"Overweight_Level_I\",\"Overweight_Level_I\",\"Overweight_Level_I\",\"Overweight_Level_I\",\"Overweight_Level_I\",\"Overweight_Level_I\",\"Overweight_Level_I\",\"Overweight_Level_I\",\"Overweight_Level_I\",\"Overweight_Level_I\",\"Overweight_Level_I\",\"Overweight_Level_I\",\"Overweight_Level_I\",\"Overweight_Level_I\",\"Overweight_Level_I\",\"Overweight_Level_I\",\"Overweight_Level_I\",\"Overweight_Level_I\",\"Overweight_Level_I\",\"Overweight_Level_I\",\"Overweight_Level_I\",\"Overweight_Level_I\",\"Overweight_Level_I\",\"Overweight_Level_I\",\"Overweight_Level_I\",\"Overweight_Level_I\",\"Overweight_Level_I\",\"Overweight_Level_I\",\"Overweight_Level_I\",\"Overweight_Level_I\",\"Overweight_Level_I\",\"Overweight_Level_I\",\"Overweight_Level_I\",\"Overweight_Level_I\",\"Overweight_Level_I\",\"Overweight_Level_I\",\"Overweight_Level_I\",\"Overweight_Level_I\",\"Overweight_Level_I\",\"Overweight_Level_I\",\"Overweight_Level_I\",\"Overweight_Level_I\",\"Overweight_Level_I\",\"Overweight_Level_I\",\"Overweight_Level_I\",\"Overweight_Level_I\",\"Overweight_Level_I\",\"Overweight_Level_I\",\"Overweight_Level_I\",\"Overweight_Level_I\",\"Overweight_Level_I\",\"Overweight_Level_I\",\"Overweight_Level_I\",\"Overweight_Level_I\",\"Overweight_Level_I\",\"Overweight_Level_I\",\"Overweight_Level_I\",\"Overweight_Level_I\",\"Overweight_Level_I\",\"Overweight_Level_I\",\"Overweight_Level_I\",\"Overweight_Level_I\",\"Overweight_Level_I\",\"Overweight_Level_I\",\"Overweight_Level_I\",\"Overweight_Level_I\",\"Overweight_Level_I\",\"Overweight_Level_I\",\"Overweight_Level_I\",\"Overweight_Level_I\",\"Overweight_Level_I\",\"Overweight_Level_I\",\"Overweight_Level_I\",\"Overweight_Level_I\",\"Overweight_Level_I\",\"Overweight_Level_I\",\"Overweight_Level_I\",\"Overweight_Level_I\",\"Overweight_Level_I\",\"Overweight_Level_I\",\"Overweight_Level_I\",\"Overweight_Level_I\",\"Overweight_Level_I\",\"Overweight_Level_I\",\"Overweight_Level_I\",\"Overweight_Level_I\",\"Overweight_Level_I\",\"Overweight_Level_I\",\"Overweight_Level_I\",\"Overweight_Level_I\",\"Overweight_Level_I\",\"Overweight_Level_I\",\"Overweight_Level_I\",\"Overweight_Level_I\",\"Overweight_Level_I\",\"Overweight_Level_I\",\"Overweight_Level_I\",\"Overweight_Level_I\",\"Overweight_Level_I\",\"Overweight_Level_I\",\"Overweight_Level_I\",\"Overweight_Level_I\",\"Overweight_Level_I\",\"Overweight_Level_I\",\"Overweight_Level_I\",\"Overweight_Level_I\",\"Overweight_Level_I\",\"Overweight_Level_I\",\"Overweight_Level_I\",\"Overweight_Level_I\",\"Overweight_Level_I\",\"Overweight_Level_I\",\"Overweight_Level_I\",\"Overweight_Level_I\",\"Overweight_Level_I\",\"Overweight_Level_I\",\"Overweight_Level_I\",\"Overweight_Level_I\",\"Overweight_Level_I\",\"Overweight_Level_I\",\"Overweight_Level_I\",\"Overweight_Level_I\",\"Overweight_Level_I\",\"Overweight_Level_I\",\"Overweight_Level_I\",\"Overweight_Level_I\",\"Overweight_Level_I\",\"Overweight_Level_I\",\"Overweight_Level_I\",\"Overweight_Level_I\",\"Overweight_Level_I\",\"Overweight_Level_I\",\"Overweight_Level_I\",\"Overweight_Level_I\",\"Overweight_Level_I\",\"Overweight_Level_I\",\"Overweight_Level_I\",\"Overweight_Level_I\",\"Overweight_Level_I\",\"Overweight_Level_I\",\"Overweight_Level_I\",\"Overweight_Level_I\",\"Overweight_Level_I\",\"Overweight_Level_I\",\"Overweight_Level_I\",\"Overweight_Level_II\",\"Overweight_Level_II\",\"Overweight_Level_II\",\"Overweight_Level_II\",\"Overweight_Level_II\",\"Overweight_Level_II\",\"Overweight_Level_II\",\"Overweight_Level_II\",\"Overweight_Level_II\",\"Overweight_Level_II\",\"Overweight_Level_II\",\"Overweight_Level_II\",\"Overweight_Level_II\",\"Overweight_Level_II\",\"Overweight_Level_II\",\"Overweight_Level_II\",\"Overweight_Level_II\",\"Overweight_Level_II\",\"Overweight_Level_II\",\"Overweight_Level_II\",\"Overweight_Level_II\",\"Overweight_Level_II\",\"Overweight_Level_II\",\"Overweight_Level_II\",\"Overweight_Level_II\",\"Overweight_Level_II\",\"Overweight_Level_II\",\"Overweight_Level_II\",\"Overweight_Level_II\",\"Overweight_Level_II\",\"Overweight_Level_II\",\"Overweight_Level_II\",\"Overweight_Level_II\",\"Overweight_Level_II\",\"Overweight_Level_II\",\"Overweight_Level_II\",\"Overweight_Level_II\",\"Overweight_Level_II\",\"Overweight_Level_II\",\"Overweight_Level_II\",\"Overweight_Level_II\",\"Overweight_Level_II\",\"Overweight_Level_II\",\"Overweight_Level_II\",\"Overweight_Level_II\",\"Overweight_Level_II\",\"Overweight_Level_II\",\"Overweight_Level_II\",\"Overweight_Level_II\",\"Overweight_Level_II\",\"Overweight_Level_II\",\"Overweight_Level_II\",\"Overweight_Level_II\",\"Overweight_Level_II\",\"Overweight_Level_II\",\"Overweight_Level_II\",\"Overweight_Level_II\",\"Overweight_Level_II\",\"Overweight_Level_II\",\"Overweight_Level_II\",\"Overweight_Level_II\",\"Overweight_Level_II\",\"Overweight_Level_II\",\"Overweight_Level_II\",\"Overweight_Level_II\",\"Overweight_Level_II\",\"Overweight_Level_II\",\"Overweight_Level_II\",\"Overweight_Level_II\",\"Overweight_Level_II\",\"Overweight_Level_II\",\"Overweight_Level_II\",\"Overweight_Level_II\",\"Overweight_Level_II\",\"Overweight_Level_II\",\"Overweight_Level_II\",\"Overweight_Level_II\",\"Overweight_Level_II\",\"Overweight_Level_II\",\"Overweight_Level_II\",\"Overweight_Level_II\",\"Overweight_Level_II\",\"Overweight_Level_II\",\"Overweight_Level_II\",\"Overweight_Level_II\",\"Overweight_Level_II\",\"Overweight_Level_II\",\"Overweight_Level_II\",\"Overweight_Level_II\",\"Overweight_Level_II\",\"Overweight_Level_II\",\"Overweight_Level_II\",\"Overweight_Level_II\",\"Overweight_Level_II\",\"Overweight_Level_II\",\"Overweight_Level_II\",\"Overweight_Level_II\",\"Overweight_Level_II\",\"Overweight_Level_II\",\"Overweight_Level_II\",\"Overweight_Level_II\",\"Overweight_Level_II\",\"Overweight_Level_II\",\"Overweight_Level_II\",\"Overweight_Level_II\",\"Overweight_Level_II\",\"Overweight_Level_II\",\"Overweight_Level_II\",\"Overweight_Level_II\",\"Overweight_Level_II\",\"Overweight_Level_II\",\"Overweight_Level_II\",\"Overweight_Level_II\",\"Overweight_Level_II\",\"Overweight_Level_II\",\"Overweight_Level_II\",\"Overweight_Level_II\",\"Overweight_Level_II\",\"Overweight_Level_II\",\"Overweight_Level_II\",\"Overweight_Level_II\",\"Overweight_Level_II\",\"Overweight_Level_II\",\"Overweight_Level_II\",\"Overweight_Level_II\",\"Overweight_Level_II\",\"Overweight_Level_II\",\"Overweight_Level_II\",\"Overweight_Level_II\",\"Overweight_Level_II\",\"Overweight_Level_II\",\"Overweight_Level_II\",\"Overweight_Level_II\",\"Overweight_Level_II\",\"Overweight_Level_II\",\"Overweight_Level_II\",\"Overweight_Level_II\",\"Overweight_Level_II\",\"Overweight_Level_II\",\"Overweight_Level_II\",\"Overweight_Level_II\",\"Overweight_Level_II\",\"Overweight_Level_II\",\"Overweight_Level_II\",\"Overweight_Level_II\",\"Overweight_Level_II\",\"Overweight_Level_II\",\"Overweight_Level_II\",\"Overweight_Level_II\",\"Overweight_Level_II\",\"Overweight_Level_II\",\"Overweight_Level_II\",\"Overweight_Level_II\",\"Overweight_Level_II\",\"Overweight_Level_II\",\"Overweight_Level_II\",\"Overweight_Level_II\",\"Overweight_Level_II\",\"Overweight_Level_II\",\"Overweight_Level_II\",\"Overweight_Level_II\",\"Overweight_Level_II\",\"Overweight_Level_II\",\"Overweight_Level_II\",\"Overweight_Level_II\",\"Overweight_Level_II\",\"Overweight_Level_II\",\"Overweight_Level_II\",\"Overweight_Level_II\",\"Overweight_Level_II\",\"Overweight_Level_II\",\"Overweight_Level_II\",\"Overweight_Level_II\",\"Overweight_Level_II\",\"Overweight_Level_II\",\"Overweight_Level_II\",\"Overweight_Level_II\",\"Overweight_Level_II\",\"Overweight_Level_II\",\"Overweight_Level_II\",\"Overweight_Level_II\",\"Overweight_Level_II\",\"Overweight_Level_II\",\"Overweight_Level_II\",\"Overweight_Level_II\",\"Overweight_Level_II\",\"Overweight_Level_II\",\"Overweight_Level_II\",\"Overweight_Level_II\",\"Overweight_Level_II\",\"Overweight_Level_II\",\"Overweight_Level_II\",\"Overweight_Level_II\",\"Overweight_Level_II\",\"Overweight_Level_II\",\"Overweight_Level_II\",\"Overweight_Level_II\",\"Overweight_Level_II\",\"Overweight_Level_II\",\"Overweight_Level_II\",\"Overweight_Level_II\",\"Overweight_Level_II\",\"Overweight_Level_II\",\"Overweight_Level_II\",\"Overweight_Level_II\",\"Overweight_Level_II\",\"Overweight_Level_II\",\"Overweight_Level_II\",\"Overweight_Level_II\",\"Overweight_Level_II\",\"Overweight_Level_II\",\"Overweight_Level_II\",\"Overweight_Level_II\",\"Overweight_Level_II\",\"Overweight_Level_II\",\"Overweight_Level_II\",\"Overweight_Level_II\",\"Overweight_Level_II\",\"Overweight_Level_II\",\"Overweight_Level_II\",\"Overweight_Level_II\",\"Overweight_Level_II\",\"Overweight_Level_II\",\"Overweight_Level_II\",\"Overweight_Level_II\",\"Overweight_Level_II\",\"Overweight_Level_II\",\"Overweight_Level_II\",\"Overweight_Level_II\",\"Overweight_Level_II\",\"Overweight_Level_II\",\"Overweight_Level_II\",\"Obesity_Type_I\",\"Obesity_Type_I\",\"Obesity_Type_I\",\"Obesity_Type_I\",\"Obesity_Type_I\",\"Obesity_Type_I\",\"Obesity_Type_I\",\"Obesity_Type_I\",\"Obesity_Type_I\",\"Obesity_Type_I\",\"Obesity_Type_I\",\"Obesity_Type_I\",\"Obesity_Type_I\",\"Obesity_Type_I\",\"Obesity_Type_I\",\"Obesity_Type_I\",\"Obesity_Type_I\",\"Obesity_Type_I\",\"Obesity_Type_I\",\"Obesity_Type_I\",\"Obesity_Type_I\",\"Obesity_Type_I\",\"Obesity_Type_I\",\"Obesity_Type_I\",\"Obesity_Type_I\",\"Obesity_Type_I\",\"Obesity_Type_I\",\"Obesity_Type_I\",\"Obesity_Type_I\",\"Obesity_Type_I\",\"Obesity_Type_I\",\"Obesity_Type_I\",\"Obesity_Type_I\",\"Obesity_Type_I\",\"Obesity_Type_I\",\"Obesity_Type_I\",\"Obesity_Type_I\",\"Obesity_Type_I\",\"Obesity_Type_I\",\"Obesity_Type_I\",\"Obesity_Type_I\",\"Obesity_Type_I\",\"Obesity_Type_I\",\"Obesity_Type_I\",\"Obesity_Type_I\",\"Obesity_Type_I\",\"Obesity_Type_I\",\"Obesity_Type_I\",\"Obesity_Type_I\",\"Obesity_Type_I\",\"Obesity_Type_I\",\"Obesity_Type_I\",\"Obesity_Type_I\",\"Obesity_Type_I\",\"Obesity_Type_I\",\"Obesity_Type_I\",\"Obesity_Type_I\",\"Obesity_Type_I\",\"Obesity_Type_I\",\"Obesity_Type_I\",\"Obesity_Type_I\",\"Obesity_Type_I\",\"Obesity_Type_I\",\"Obesity_Type_I\",\"Obesity_Type_I\",\"Obesity_Type_I\",\"Obesity_Type_I\",\"Obesity_Type_I\",\"Obesity_Type_I\",\"Obesity_Type_I\",\"Obesity_Type_I\",\"Obesity_Type_I\",\"Obesity_Type_I\",\"Obesity_Type_I\",\"Obesity_Type_I\",\"Obesity_Type_I\",\"Obesity_Type_I\",\"Obesity_Type_I\",\"Obesity_Type_I\",\"Obesity_Type_I\",\"Obesity_Type_I\",\"Obesity_Type_I\",\"Obesity_Type_I\",\"Obesity_Type_I\",\"Obesity_Type_I\",\"Obesity_Type_I\",\"Obesity_Type_I\",\"Obesity_Type_I\",\"Obesity_Type_I\",\"Obesity_Type_I\",\"Obesity_Type_I\",\"Obesity_Type_I\",\"Obesity_Type_I\",\"Obesity_Type_I\",\"Obesity_Type_I\",\"Obesity_Type_I\",\"Obesity_Type_I\",\"Obesity_Type_I\",\"Obesity_Type_I\",\"Obesity_Type_I\",\"Obesity_Type_I\",\"Obesity_Type_I\",\"Obesity_Type_I\",\"Obesity_Type_I\",\"Obesity_Type_I\",\"Obesity_Type_I\",\"Obesity_Type_I\",\"Obesity_Type_I\",\"Obesity_Type_I\",\"Obesity_Type_I\",\"Obesity_Type_I\",\"Obesity_Type_I\",\"Obesity_Type_I\",\"Obesity_Type_I\",\"Obesity_Type_I\",\"Obesity_Type_I\",\"Obesity_Type_I\",\"Obesity_Type_I\",\"Obesity_Type_I\",\"Obesity_Type_I\",\"Obesity_Type_I\",\"Obesity_Type_I\",\"Obesity_Type_I\",\"Obesity_Type_I\",\"Obesity_Type_I\",\"Obesity_Type_I\",\"Obesity_Type_I\",\"Obesity_Type_I\",\"Obesity_Type_I\",\"Obesity_Type_I\",\"Obesity_Type_I\",\"Obesity_Type_I\",\"Obesity_Type_I\",\"Obesity_Type_I\",\"Obesity_Type_I\",\"Obesity_Type_I\",\"Obesity_Type_I\",\"Obesity_Type_I\",\"Obesity_Type_I\",\"Obesity_Type_I\",\"Obesity_Type_I\",\"Obesity_Type_I\",\"Obesity_Type_I\",\"Obesity_Type_I\",\"Obesity_Type_I\",\"Obesity_Type_I\",\"Obesity_Type_I\",\"Obesity_Type_I\",\"Obesity_Type_I\",\"Obesity_Type_I\",\"Obesity_Type_I\",\"Obesity_Type_I\",\"Obesity_Type_I\",\"Obesity_Type_I\",\"Obesity_Type_I\",\"Obesity_Type_I\",\"Obesity_Type_I\",\"Obesity_Type_I\",\"Obesity_Type_I\",\"Obesity_Type_I\",\"Obesity_Type_I\",\"Obesity_Type_I\",\"Obesity_Type_I\",\"Obesity_Type_I\",\"Obesity_Type_I\",\"Obesity_Type_I\",\"Obesity_Type_I\",\"Obesity_Type_I\",\"Obesity_Type_I\",\"Obesity_Type_I\",\"Obesity_Type_I\",\"Obesity_Type_I\",\"Obesity_Type_I\",\"Obesity_Type_I\",\"Obesity_Type_I\",\"Obesity_Type_I\",\"Obesity_Type_I\",\"Obesity_Type_I\",\"Obesity_Type_I\",\"Obesity_Type_I\",\"Obesity_Type_I\",\"Obesity_Type_I\",\"Obesity_Type_I\",\"Obesity_Type_I\",\"Obesity_Type_I\",\"Obesity_Type_I\",\"Obesity_Type_I\",\"Obesity_Type_I\",\"Obesity_Type_I\",\"Obesity_Type_I\",\"Obesity_Type_I\",\"Obesity_Type_I\",\"Obesity_Type_I\",\"Obesity_Type_I\",\"Obesity_Type_I\",\"Obesity_Type_I\",\"Obesity_Type_I\",\"Obesity_Type_I\",\"Obesity_Type_I\",\"Obesity_Type_I\",\"Obesity_Type_I\",\"Obesity_Type_I\",\"Obesity_Type_I\",\"Obesity_Type_I\",\"Obesity_Type_I\",\"Obesity_Type_I\",\"Obesity_Type_I\",\"Obesity_Type_I\",\"Obesity_Type_I\",\"Obesity_Type_I\",\"Obesity_Type_I\",\"Obesity_Type_I\",\"Obesity_Type_I\",\"Obesity_Type_I\",\"Obesity_Type_I\",\"Obesity_Type_I\",\"Obesity_Type_I\",\"Obesity_Type_I\",\"Obesity_Type_I\",\"Obesity_Type_I\",\"Obesity_Type_I\",\"Obesity_Type_I\",\"Obesity_Type_I\",\"Obesity_Type_I\",\"Obesity_Type_I\",\"Obesity_Type_I\",\"Obesity_Type_I\",\"Obesity_Type_I\",\"Obesity_Type_I\",\"Obesity_Type_I\",\"Obesity_Type_I\",\"Obesity_Type_I\",\"Obesity_Type_I\",\"Obesity_Type_I\",\"Obesity_Type_I\",\"Obesity_Type_I\",\"Obesity_Type_I\",\"Obesity_Type_I\",\"Obesity_Type_I\",\"Obesity_Type_I\",\"Obesity_Type_I\",\"Obesity_Type_I\",\"Obesity_Type_I\",\"Obesity_Type_I\",\"Obesity_Type_I\",\"Obesity_Type_I\",\"Obesity_Type_I\",\"Obesity_Type_I\",\"Obesity_Type_I\",\"Obesity_Type_I\",\"Obesity_Type_I\",\"Obesity_Type_I\",\"Obesity_Type_I\",\"Obesity_Type_I\",\"Obesity_Type_I\",\"Obesity_Type_I\",\"Obesity_Type_I\",\"Obesity_Type_I\",\"Obesity_Type_I\",\"Obesity_Type_I\",\"Obesity_Type_I\",\"Obesity_Type_I\",\"Obesity_Type_I\",\"Obesity_Type_I\",\"Obesity_Type_I\",\"Obesity_Type_I\",\"Obesity_Type_I\",\"Obesity_Type_I\",\"Obesity_Type_I\",\"Obesity_Type_I\",\"Obesity_Type_I\",\"Obesity_Type_I\",\"Obesity_Type_I\",\"Obesity_Type_I\",\"Obesity_Type_I\",\"Obesity_Type_I\",\"Obesity_Type_I\",\"Obesity_Type_I\",\"Obesity_Type_I\",\"Obesity_Type_I\",\"Obesity_Type_I\",\"Obesity_Type_I\",\"Obesity_Type_I\",\"Obesity_Type_I\",\"Obesity_Type_I\",\"Obesity_Type_I\",\"Obesity_Type_I\",\"Obesity_Type_I\",\"Obesity_Type_I\",\"Obesity_Type_I\",\"Obesity_Type_I\",\"Obesity_Type_I\",\"Obesity_Type_I\",\"Obesity_Type_I\",\"Obesity_Type_I\",\"Obesity_Type_I\",\"Obesity_Type_I\",\"Obesity_Type_I\",\"Obesity_Type_I\",\"Obesity_Type_I\",\"Obesity_Type_I\",\"Obesity_Type_I\",\"Obesity_Type_I\",\"Obesity_Type_I\",\"Obesity_Type_II\",\"Obesity_Type_II\",\"Obesity_Type_II\",\"Obesity_Type_II\",\"Obesity_Type_II\",\"Obesity_Type_II\",\"Obesity_Type_II\",\"Obesity_Type_II\",\"Obesity_Type_II\",\"Obesity_Type_II\",\"Obesity_Type_II\",\"Obesity_Type_II\",\"Obesity_Type_II\",\"Obesity_Type_II\",\"Obesity_Type_II\",\"Obesity_Type_II\",\"Obesity_Type_II\",\"Obesity_Type_II\",\"Obesity_Type_II\",\"Obesity_Type_II\",\"Obesity_Type_II\",\"Obesity_Type_II\",\"Obesity_Type_II\",\"Obesity_Type_II\",\"Obesity_Type_II\",\"Obesity_Type_II\",\"Obesity_Type_II\",\"Obesity_Type_II\",\"Obesity_Type_II\",\"Obesity_Type_II\",\"Obesity_Type_II\",\"Obesity_Type_II\",\"Obesity_Type_II\",\"Obesity_Type_II\",\"Obesity_Type_II\",\"Obesity_Type_II\",\"Obesity_Type_II\",\"Obesity_Type_II\",\"Obesity_Type_II\",\"Obesity_Type_II\",\"Obesity_Type_II\",\"Obesity_Type_II\",\"Obesity_Type_II\",\"Obesity_Type_II\",\"Obesity_Type_II\",\"Obesity_Type_II\",\"Obesity_Type_II\",\"Obesity_Type_II\",\"Obesity_Type_II\",\"Obesity_Type_II\",\"Obesity_Type_II\",\"Obesity_Type_II\",\"Obesity_Type_II\",\"Obesity_Type_II\",\"Obesity_Type_II\",\"Obesity_Type_II\",\"Obesity_Type_II\",\"Obesity_Type_II\",\"Obesity_Type_II\",\"Obesity_Type_II\",\"Obesity_Type_II\",\"Obesity_Type_II\",\"Obesity_Type_II\",\"Obesity_Type_II\",\"Obesity_Type_II\",\"Obesity_Type_II\",\"Obesity_Type_II\",\"Obesity_Type_II\",\"Obesity_Type_II\",\"Obesity_Type_II\",\"Obesity_Type_II\",\"Obesity_Type_II\",\"Obesity_Type_II\",\"Obesity_Type_II\",\"Obesity_Type_II\",\"Obesity_Type_II\",\"Obesity_Type_II\",\"Obesity_Type_II\",\"Obesity_Type_II\",\"Obesity_Type_II\",\"Obesity_Type_II\",\"Obesity_Type_II\",\"Obesity_Type_II\",\"Obesity_Type_II\",\"Obesity_Type_II\",\"Obesity_Type_II\",\"Obesity_Type_II\",\"Obesity_Type_II\",\"Obesity_Type_II\",\"Obesity_Type_II\",\"Obesity_Type_II\",\"Obesity_Type_II\",\"Obesity_Type_II\",\"Obesity_Type_II\",\"Obesity_Type_II\",\"Obesity_Type_II\",\"Obesity_Type_II\",\"Obesity_Type_II\",\"Obesity_Type_II\",\"Obesity_Type_II\",\"Obesity_Type_II\",\"Obesity_Type_II\",\"Obesity_Type_II\",\"Obesity_Type_II\",\"Obesity_Type_II\",\"Obesity_Type_II\",\"Obesity_Type_II\",\"Obesity_Type_II\",\"Obesity_Type_II\",\"Obesity_Type_II\",\"Obesity_Type_II\",\"Obesity_Type_II\",\"Obesity_Type_II\",\"Obesity_Type_II\",\"Obesity_Type_II\",\"Obesity_Type_II\",\"Obesity_Type_II\",\"Obesity_Type_II\",\"Obesity_Type_II\",\"Obesity_Type_II\",\"Obesity_Type_II\",\"Obesity_Type_II\",\"Obesity_Type_II\",\"Obesity_Type_II\",\"Obesity_Type_II\",\"Obesity_Type_II\",\"Obesity_Type_II\",\"Obesity_Type_II\",\"Obesity_Type_II\",\"Obesity_Type_II\",\"Obesity_Type_II\",\"Obesity_Type_II\",\"Obesity_Type_II\",\"Obesity_Type_II\",\"Obesity_Type_II\",\"Obesity_Type_II\",\"Obesity_Type_II\",\"Obesity_Type_II\",\"Obesity_Type_II\",\"Obesity_Type_II\",\"Obesity_Type_II\",\"Obesity_Type_II\",\"Obesity_Type_II\",\"Obesity_Type_II\",\"Obesity_Type_II\",\"Obesity_Type_II\",\"Obesity_Type_II\",\"Obesity_Type_II\",\"Obesity_Type_II\",\"Obesity_Type_II\",\"Obesity_Type_II\",\"Obesity_Type_II\",\"Obesity_Type_II\",\"Obesity_Type_II\",\"Obesity_Type_II\",\"Obesity_Type_II\",\"Obesity_Type_II\",\"Obesity_Type_II\",\"Obesity_Type_II\",\"Obesity_Type_II\",\"Obesity_Type_II\",\"Obesity_Type_II\",\"Obesity_Type_II\",\"Obesity_Type_II\",\"Obesity_Type_II\",\"Obesity_Type_II\",\"Obesity_Type_II\",\"Obesity_Type_II\",\"Obesity_Type_II\",\"Obesity_Type_II\",\"Obesity_Type_II\",\"Obesity_Type_II\",\"Obesity_Type_II\",\"Obesity_Type_II\",\"Obesity_Type_II\",\"Obesity_Type_II\",\"Obesity_Type_II\",\"Obesity_Type_II\",\"Obesity_Type_II\",\"Obesity_Type_II\",\"Obesity_Type_II\",\"Obesity_Type_II\",\"Obesity_Type_II\",\"Obesity_Type_II\",\"Obesity_Type_II\",\"Obesity_Type_II\",\"Obesity_Type_II\",\"Obesity_Type_II\",\"Obesity_Type_II\",\"Obesity_Type_II\",\"Obesity_Type_II\",\"Obesity_Type_II\",\"Obesity_Type_II\",\"Obesity_Type_II\",\"Obesity_Type_II\",\"Obesity_Type_II\",\"Obesity_Type_II\",\"Obesity_Type_II\",\"Obesity_Type_II\",\"Obesity_Type_II\",\"Obesity_Type_II\",\"Obesity_Type_II\",\"Obesity_Type_II\",\"Obesity_Type_II\",\"Obesity_Type_II\",\"Obesity_Type_II\",\"Obesity_Type_II\",\"Obesity_Type_II\",\"Obesity_Type_II\",\"Obesity_Type_II\",\"Obesity_Type_II\",\"Obesity_Type_II\",\"Obesity_Type_II\",\"Obesity_Type_II\",\"Obesity_Type_II\",\"Obesity_Type_II\",\"Obesity_Type_II\",\"Obesity_Type_II\",\"Obesity_Type_II\",\"Obesity_Type_II\",\"Obesity_Type_II\",\"Obesity_Type_II\",\"Obesity_Type_II\",\"Obesity_Type_II\",\"Obesity_Type_II\",\"Obesity_Type_II\",\"Obesity_Type_II\",\"Obesity_Type_II\",\"Obesity_Type_II\",\"Obesity_Type_II\",\"Obesity_Type_II\",\"Obesity_Type_II\",\"Obesity_Type_II\",\"Obesity_Type_II\",\"Obesity_Type_II\",\"Obesity_Type_II\",\"Obesity_Type_II\",\"Obesity_Type_II\",\"Obesity_Type_II\",\"Obesity_Type_II\",\"Obesity_Type_II\",\"Obesity_Type_II\",\"Obesity_Type_II\",\"Obesity_Type_II\",\"Obesity_Type_II\",\"Obesity_Type_II\",\"Obesity_Type_II\",\"Obesity_Type_II\",\"Obesity_Type_II\",\"Obesity_Type_II\",\"Obesity_Type_II\",\"Obesity_Type_II\",\"Obesity_Type_II\",\"Obesity_Type_II\",\"Obesity_Type_II\",\"Obesity_Type_II\",\"Obesity_Type_II\",\"Obesity_Type_II\",\"Obesity_Type_II\",\"Obesity_Type_II\",\"Obesity_Type_II\",\"Obesity_Type_II\",\"Obesity_Type_II\",\"Obesity_Type_II\",\"Obesity_Type_II\",\"Obesity_Type_II\",\"Obesity_Type_II\",\"Obesity_Type_II\",\"Obesity_Type_II\",\"Obesity_Type_II\",\"Obesity_Type_II\",\"Obesity_Type_II\",\"Obesity_Type_II\",\"Obesity_Type_II\",\"Obesity_Type_II\",\"Obesity_Type_II\",\"Obesity_Type_II\",\"Obesity_Type_II\",\"Obesity_Type_II\",\"Obesity_Type_II\",\"Obesity_Type_II\",\"Obesity_Type_II\",\"Obesity_Type_II\",\"Obesity_Type_II\",\"Obesity_Type_II\",\"Obesity_Type_II\",\"Obesity_Type_III\",\"Obesity_Type_III\",\"Obesity_Type_III\",\"Obesity_Type_III\",\"Obesity_Type_III\",\"Obesity_Type_III\",\"Obesity_Type_III\",\"Obesity_Type_III\",\"Obesity_Type_III\",\"Obesity_Type_III\",\"Obesity_Type_III\",\"Obesity_Type_III\",\"Obesity_Type_III\",\"Obesity_Type_III\",\"Obesity_Type_III\",\"Obesity_Type_III\",\"Obesity_Type_III\",\"Obesity_Type_III\",\"Obesity_Type_III\",\"Obesity_Type_III\",\"Obesity_Type_III\",\"Obesity_Type_III\",\"Obesity_Type_III\",\"Obesity_Type_III\",\"Obesity_Type_III\",\"Obesity_Type_III\",\"Obesity_Type_III\",\"Obesity_Type_III\",\"Obesity_Type_III\",\"Obesity_Type_III\",\"Obesity_Type_III\",\"Obesity_Type_III\",\"Obesity_Type_III\",\"Obesity_Type_III\",\"Obesity_Type_III\",\"Obesity_Type_III\",\"Obesity_Type_III\",\"Obesity_Type_III\",\"Obesity_Type_III\",\"Obesity_Type_III\",\"Obesity_Type_III\",\"Obesity_Type_III\",\"Obesity_Type_III\",\"Obesity_Type_III\",\"Obesity_Type_III\",\"Obesity_Type_III\",\"Obesity_Type_III\",\"Obesity_Type_III\",\"Obesity_Type_III\",\"Obesity_Type_III\",\"Obesity_Type_III\",\"Obesity_Type_III\",\"Obesity_Type_III\",\"Obesity_Type_III\",\"Obesity_Type_III\",\"Obesity_Type_III\",\"Obesity_Type_III\",\"Obesity_Type_III\",\"Obesity_Type_III\",\"Obesity_Type_III\",\"Obesity_Type_III\",\"Obesity_Type_III\",\"Obesity_Type_III\",\"Obesity_Type_III\",\"Obesity_Type_III\",\"Obesity_Type_III\",\"Obesity_Type_III\",\"Obesity_Type_III\",\"Obesity_Type_III\",\"Obesity_Type_III\",\"Obesity_Type_III\",\"Obesity_Type_III\",\"Obesity_Type_III\",\"Obesity_Type_III\",\"Obesity_Type_III\",\"Obesity_Type_III\",\"Obesity_Type_III\",\"Obesity_Type_III\",\"Obesity_Type_III\",\"Obesity_Type_III\",\"Obesity_Type_III\",\"Obesity_Type_III\",\"Obesity_Type_III\",\"Obesity_Type_III\",\"Obesity_Type_III\",\"Obesity_Type_III\",\"Obesity_Type_III\",\"Obesity_Type_III\",\"Obesity_Type_III\",\"Obesity_Type_III\",\"Obesity_Type_III\",\"Obesity_Type_III\",\"Obesity_Type_III\",\"Obesity_Type_III\",\"Obesity_Type_III\",\"Obesity_Type_III\",\"Obesity_Type_III\",\"Obesity_Type_III\",\"Obesity_Type_III\",\"Obesity_Type_III\",\"Obesity_Type_III\",\"Obesity_Type_III\",\"Obesity_Type_III\",\"Obesity_Type_III\",\"Obesity_Type_III\",\"Obesity_Type_III\",\"Obesity_Type_III\",\"Obesity_Type_III\",\"Obesity_Type_III\",\"Obesity_Type_III\",\"Obesity_Type_III\",\"Obesity_Type_III\",\"Obesity_Type_III\",\"Obesity_Type_III\",\"Obesity_Type_III\",\"Obesity_Type_III\",\"Obesity_Type_III\",\"Obesity_Type_III\",\"Obesity_Type_III\",\"Obesity_Type_III\",\"Obesity_Type_III\",\"Obesity_Type_III\",\"Obesity_Type_III\",\"Obesity_Type_III\",\"Obesity_Type_III\",\"Obesity_Type_III\",\"Obesity_Type_III\",\"Obesity_Type_III\",\"Obesity_Type_III\",\"Obesity_Type_III\",\"Obesity_Type_III\",\"Obesity_Type_III\",\"Obesity_Type_III\",\"Obesity_Type_III\",\"Obesity_Type_III\",\"Obesity_Type_III\",\"Obesity_Type_III\",\"Obesity_Type_III\",\"Obesity_Type_III\",\"Obesity_Type_III\",\"Obesity_Type_III\",\"Obesity_Type_III\",\"Obesity_Type_III\",\"Obesity_Type_III\",\"Obesity_Type_III\",\"Obesity_Type_III\",\"Obesity_Type_III\",\"Obesity_Type_III\",\"Obesity_Type_III\",\"Obesity_Type_III\",\"Obesity_Type_III\",\"Obesity_Type_III\",\"Obesity_Type_III\",\"Obesity_Type_III\",\"Obesity_Type_III\",\"Obesity_Type_III\",\"Obesity_Type_III\",\"Obesity_Type_III\",\"Obesity_Type_III\",\"Obesity_Type_III\",\"Obesity_Type_III\",\"Obesity_Type_III\",\"Obesity_Type_III\",\"Obesity_Type_III\",\"Obesity_Type_III\",\"Obesity_Type_III\",\"Obesity_Type_III\",\"Obesity_Type_III\",\"Obesity_Type_III\",\"Obesity_Type_III\",\"Obesity_Type_III\",\"Obesity_Type_III\",\"Obesity_Type_III\",\"Obesity_Type_III\",\"Obesity_Type_III\",\"Obesity_Type_III\",\"Obesity_Type_III\",\"Obesity_Type_III\",\"Obesity_Type_III\",\"Obesity_Type_III\",\"Obesity_Type_III\",\"Obesity_Type_III\",\"Obesity_Type_III\",\"Obesity_Type_III\",\"Obesity_Type_III\",\"Obesity_Type_III\",\"Obesity_Type_III\",\"Obesity_Type_III\",\"Obesity_Type_III\",\"Obesity_Type_III\",\"Obesity_Type_III\",\"Obesity_Type_III\",\"Obesity_Type_III\",\"Obesity_Type_III\",\"Obesity_Type_III\",\"Obesity_Type_III\",\"Obesity_Type_III\",\"Obesity_Type_III\",\"Obesity_Type_III\",\"Obesity_Type_III\",\"Obesity_Type_III\",\"Obesity_Type_III\",\"Obesity_Type_III\",\"Obesity_Type_III\",\"Obesity_Type_III\",\"Obesity_Type_III\",\"Obesity_Type_III\",\"Obesity_Type_III\",\"Obesity_Type_III\",\"Obesity_Type_III\",\"Obesity_Type_III\",\"Obesity_Type_III\",\"Obesity_Type_III\",\"Obesity_Type_III\",\"Obesity_Type_III\",\"Obesity_Type_III\",\"Obesity_Type_III\",\"Obesity_Type_III\",\"Obesity_Type_III\",\"Obesity_Type_III\",\"Obesity_Type_III\",\"Obesity_Type_III\",\"Obesity_Type_III\",\"Obesity_Type_III\",\"Obesity_Type_III\",\"Obesity_Type_III\",\"Obesity_Type_III\",\"Obesity_Type_III\",\"Obesity_Type_III\",\"Obesity_Type_III\",\"Obesity_Type_III\",\"Obesity_Type_III\",\"Obesity_Type_III\",\"Obesity_Type_III\",\"Obesity_Type_III\",\"Obesity_Type_III\",\"Obesity_Type_III\",\"Obesity_Type_III\",\"Obesity_Type_III\",\"Obesity_Type_III\",\"Obesity_Type_III\",\"Obesity_Type_III\",\"Obesity_Type_III\",\"Obesity_Type_III\",\"Obesity_Type_III\",\"Obesity_Type_III\",\"Obesity_Type_III\",\"Obesity_Type_III\",\"Obesity_Type_III\",\"Obesity_Type_III\",\"Obesity_Type_III\",\"Obesity_Type_III\",\"Obesity_Type_III\",\"Obesity_Type_III\",\"Obesity_Type_III\",\"Obesity_Type_III\",\"Obesity_Type_III\",\"Obesity_Type_III\",\"Obesity_Type_III\",\"Obesity_Type_III\",\"Obesity_Type_III\",\"Obesity_Type_III\",\"Obesity_Type_III\",\"Obesity_Type_III\",\"Obesity_Type_III\",\"Obesity_Type_III\",\"Obesity_Type_III\",\"Obesity_Type_III\",\"Obesity_Type_III\",\"Obesity_Type_III\",\"Obesity_Type_III\",\"Obesity_Type_III\",\"Obesity_Type_III\",\"Obesity_Type_III\",\"Obesity_Type_III\",\"Obesity_Type_III\",\"Obesity_Type_III\",\"Obesity_Type_III\",\"Obesity_Type_III\",\"Obesity_Type_III\",\"Obesity_Type_III\",\"Obesity_Type_III\",\"Obesity_Type_III\",\"Obesity_Type_III\",\"Obesity_Type_III\",\"Obesity_Type_III\",\"Obesity_Type_III\",\"Obesity_Type_III\",\"Obesity_Type_III\",\"Obesity_Type_III\",\"Obesity_Type_III\",\"Obesity_Type_III\",\"Obesity_Type_III\",\"Obesity_Type_III\",\"Obesity_Type_III\",\"Obesity_Type_III\",\"Obesity_Type_III\",\"Obesity_Type_III\",\"Obesity_Type_III\",\"Obesity_Type_III\",\"Obesity_Type_III\",\"Obesity_Type_III\",\"Obesity_Type_III\",\"Obesity_Type_III\",\"Obesity_Type_III\",\"Obesity_Type_III\",\"Obesity_Type_III\",\"Obesity_Type_III\",\"Obesity_Type_III\",\"Obesity_Type_III\",\"Obesity_Type_III\",\"Obesity_Type_III\"],\"x0\":\" \",\"xaxis\":\"x\",\"y\":[21,21,23,27,22,29,23,22,24,22,26,21,22,41,23,22,27,29,30,23,22,52,22,22,21,20,21,23,19,23,29,31,24,39,22,21,22,21,23,21,21,23,21,21,21,21,21,21,20,21,21,20,23,23,22,23,22,21,17,20,21,20,22,22,21,21,23,23,30,23,23,22,24,19,24,23,24,24,23,23,19,30,23,19,25,23,21,19,22,29,25,20,55,20,24,26,23,21,21,23,21,22,21,22,38,25,25,22,22,21,21,22,18,22,19,17,15,17,23,19,23,23,21,24,23,18,19,19,20,27,20,23,19,61,30,24,25,44,31,25,23,25,23,34,22,21,24,36,27,32,25,30,38,34,22,31,35,21,40,27,20,55,21,25,35,30,29,20,22,45,22,18,23,18,21,38,18,22,26,21,18,23,22,23,21,31,39,25,35,33,20,26,20,20,23,19,22,41,18,23,23,41,26,29,27,23,19,30,22,22,20,21,24,21,21,21,23,21,21,21,21,23,21,22,23,25,20,24,40,32,20,21,51,34,19,19,21,19,20,19,17,22,20,33,21,20,20,20,21,21,20,20,56,26,22,19,18,19,18,18,21,28,18,23,18,18,39,38,17,23,23,19,18,25,25,18,16,21,32,18,21,18,18,17,20,21,21,18,17,19,16,17,21,19,18,16,21,26,18,23,26,18,16,16,20,23,24,23,20,16,17,17,16,17,26,26,38,18,25,27,21,38,23,18,30,21,18,23,19,19,17,17,27,23,18,19,20,18,17,19,21,20,23,23,18,17,21,17,18,20,17,26,17,24,17,27,17,17,41,33,20,40,37,19,24,24,33,40,37,20,19,17,18,21,18,41,36,18,18,17,25,21,29,17,18,16,18,37,18,16,23,18,18,18,17,20,38,20,21,21,18,26,27,26,34,18,33,19,20,33,20,20,33,33,33,14,34,18,18,29,18,18,19,33,33,19,22,20,23,26,18,18,19,18,19,19,18,18,19,19,18,18,26,18,19,19,19,19,24,18,19,19,23,18,20,18,33,19,19,19,18,21,27,17,18,18,22,22,20,19,20,18,18,18,19,18,18,18,19,17,18,18,20,18,36,21,23,20,21,19,24,25,45,20,18,19,18,20,25,19,26,22,22,18,26,26,22,20,17,22,22,21,22,21,22,22,21,23,24,19,19,19,20,21,20,20,20,21,22,21,20,23,23,23,18,22,18,19,19,19,20,20,20,23,20,23,19,19,19,30,32,24,17,16,16,18,18,18,17,20,18,17,17,16,18,17,19,22,21,23,19,17,19,18,20,18,20,20,19,17,17,19,23,22,23,17,18,18,19,20,20,20,18,18,18,17,17,18,18,18,19,19,20,19,19,19,18,18,18,20,22,22,23,19,21,20,21,20,21,18,20,23,18,35,16,18,17,17,17,23,18,19,19,17,23,18,19,18,17,18,20,19,18,20,18,21,22,21,23,22,23,22,21,23,22,19,19,19,20,21,20,20,21,21,22,21,19,22,19,21,18,22,18,19,19,19,19,20,20,22,20,23,19,18,19,27,25,23,18,17,18,18,18,18,17,20,19,19,17,17,18,17,20,23,21,23,19,17,19,18,20,18,19,21,19,17,17,18,21,22,22,18,18,18,19,20,20,20,18,18,18,17,17,18,18,18,19,19,20,20,19,19,18,18,18,27,21,25,22,21,19,42,21,22,19,24,34,22,21,35,37,22,23,21,21,31,21,20,20,21,21,23,20,22,21,18,21,29,26,23,20,24,33,23,17,16,24,35,23,37,19,16,18,19,17,30,32,18,19,19,18,18,20,28,27,21,22,27,22,21,21,20,19,42,22,21,23,23,19,23,33,33,22,22,21,37,40,39,22,21,21,21,21,21,21,29,31,23,26,20,20,20,19,22,22,21,21,21,19,22,22,21,21,19,21,21,28,29,26,23,20,22,30,31,23,18,18,17,22,27,35,24,23,40,16,17,16,18,19,20,19,18,33,33,19,19,19,19,21,19,18,21,17,26,27,21,21,27,22,21,21,19,39,40,20,20,21,19,24,23,34,22,21,21,21,39,39,37,22,22,22,21,21,21,30,31,21,20,20,22,21,22,23,23,20,22,22,21,21,19,21,21,29,24,26,23,20,22,32,23,23,17,18,16,23,35,23,39,20,16,18,19,20,20,17,17,29,32,32,18,20,20,19,18,18,18,20,21,22,21,21,33,31,30,21,23,29,39,35,20,22,19,21,21,22,23,23,23,25,24,25,31,24,29,18,19,26,23,23,23,25,34,27,55,35,22,18,42,22,29,25,22,23,23,23,38,37,34,34,31,34,19,19,20,51,18,18,19,34,17,33,33,36,20,19,34,23,20,19,30,27,21,33,18,31,33,25,24,20,34,34,23,43,45,22,21,31,31,22,31,35,21,19,20,23,23,24,24,29,25,29,17,19,24,23,29,34,28,55,35,21,38,22,21,25,23,39,34,33,20,19,46,18,19,38,23,33,37,19,37,25,18,27,18,33,18,30,25,18,35,24,39,21,23,21,21,33,33,30,21,23,24,37,34,21,22,20,19,21,22,22,23,23,24,24,27,31,24,26,18,19,25,23,24,23,24,34,25,55,35,22,18,42,21,28,25,22,21,23,23,38,38,34,34,32,33,19,20,20,48,18,18,20,34,17,33,35,36,19,19,32,23,20,20,30,27,21,33,18,32,32,24,24,19,35,34,24,40,46,26,26,31,40,31,26,44,42,23,23,24,21,23,23,37,23,23,22,18,26,41,23,38,31,23,40,23,22,35,22,23,23,41,39,26,24,21,22,23,21,18,18,18,23,23,21,22,18,18,19,23,22,21,22,38,38,18,38,44,18,18,30,18,25,29,18,21,19,18,18,26,26,37,38,30,29,42,47,23,23,23,23,23,24,23,23,38,38,23,23,21,23,16,17,29,30,44,41,23,23,38,38,32,32,22,22,36,40,24,23,35,31,23,23,23,22,41,41,29,31,23,24,17,18,23,23,19,21,19,21,23,22,21,22,18,18,19,18,22,22,20,20,39,38,19,17,39,39,18,18,30,31,18,18,31,29,18,18,21,21,18,18,20,21,26,26,26,26,30,33,39,40,33,26,23,25,43,44,43,40,23,23,23,23,23,23,21,21,23,23,23,23,39,37,23,23,23,24,22,21,18,19,26,26,40,38,24,23,38,38,32,30,22,22,40,37,23,23,22,22,37,38,22,23,22,22,23,23,39,41,41,39,26,27,24,24,21,22,23,22,23,24,21,21,22,18,18,18,20,18,22,23,22,23,21,21,22,22,18,18,18,18,19,19,23,23,22,22,21,20,22,21,39,38,38,37,19,17,39,37,41,44,18,18,18,18,29,28,18,18,23,24,29,28,18,18,21,21,20,21,19,19,19,20,30,25,37,33,28,30,27,34,26,28,28,25,31,31,25,25,41,28,23,23,24,20,30,25,31,29,31,30,32,37,22,24,24,25,32,31,23,23,41,35,22,22,24,20,29,27,26,25,31,41,34,30,31,29,31,31,27,27,37,29,26,25,30,27,26,28,23,24,32,30,31,31,25,26,25,25,39,39,26,32,23,24,24,23,24,31,20,25,30,30,24,25,30,30,37,39,23,23,25,25,32,32,23,23,41,41,22,22,24,24,30,29,25,25,40,34,33,30,30,29,30,30,27,27,33,32,26,26,30,27,28,27,25,25,30,31,31,31,25,25,24,25,40,40,27,30,23,24,23,23,24,27,20,23,28,30,25,25,32,31,28,28,31,31,30,31,32,31,38,38,22,23,25,24,24,24,25,25,31,31,31,31,25,24,23,23,40,37,34,34,23,23,23,22,24,24,20,23,29,30,27,25,26,26,26,26,30,30,41,41,30,33,31,30,31,31,30,31,31,32,31,31,27,27,26,26,38,38,28,28,25,26,26,26,30,30,27,28,26,27,28,27,23,23,24,24,31,31,32,30,31,31,31,31,25,25,25,25,26,25,25,25,37,38,39,38,25,27,34,33,24,23,24,25,25,24,23,23,24,24,31,31,20,21,26,27,26,26,18,18,26,26,26,26,22,21,26,26,21,23,21,21,19,24,26,26,26,26,21,24,26,26,18,18,26,26,26,26,21,21,26,26,22,21,21,21,18,21,26,26,26,26,23,20,26,26,26,26,18,22,18,20,26,26,26,26,26,25,26,26,19,21,22,21,26,26,26,26,21,22,24,24,18,20,21,21,19,22,24,26,26,26,26,26,26,26,26,26,21,21,23,23,26,26,20,19,26,26,26,25,19,20,26,26,22,21,22,22,18,20,26,26,26,26,22,21,26,26,26,26,19,22,20,18,26,26,26,26,26,26,26,26,21,23,21,21,26,26,26,26,21,21,23,24,21,21,20,20,19,20,24,25,26,26,26,26,26,26,26,26,21,21,24,24,26,26,26,26,19,18,20,18,26,26,26,26,25,26,25,26,21,21,21,21,26,26,26,26,22,22,21,21,20,21,20,21,21,19,21,21,26,26,26,26,26,26,26,26,23,23,19,19,26,26,26,26,26,26,26,26,19,20,21,22,18,19,20,21,26,26,26,26,26,26,26,26,26,26,25,25,26,26,26,26,19,19,21,21,22,22,21,21,26,26,26,26,26,26,26,26,21,21,22,22,24,24,24,25,19,18,20,20,21,20,19,21,19,18,22,22,24,25,26,26,26,26,26,26,26,26,26,26,26,26,26,26,26,26,26,26,21,22,21,21,22,23,24,24],\"y0\":\" \",\"yaxis\":\"y\",\"type\":\"box\",\"line\":{\"width\":1.2},\"jitter\":0}],                        {\"template\":{\"data\":{\"barpolar\":[{\"marker\":{\"line\":{\"color\":\"white\",\"width\":0.5},\"pattern\":{\"fillmode\":\"overlay\",\"size\":10,\"solidity\":0.2}},\"type\":\"barpolar\"}],\"bar\":[{\"error_x\":{\"color\":\"#2a3f5f\"},\"error_y\":{\"color\":\"#2a3f5f\"},\"marker\":{\"line\":{\"color\":\"white\",\"width\":0.5},\"pattern\":{\"fillmode\":\"overlay\",\"size\":10,\"solidity\":0.2}},\"type\":\"bar\"}],\"carpet\":[{\"aaxis\":{\"endlinecolor\":\"#2a3f5f\",\"gridcolor\":\"#C8D4E3\",\"linecolor\":\"#C8D4E3\",\"minorgridcolor\":\"#C8D4E3\",\"startlinecolor\":\"#2a3f5f\"},\"baxis\":{\"endlinecolor\":\"#2a3f5f\",\"gridcolor\":\"#C8D4E3\",\"linecolor\":\"#C8D4E3\",\"minorgridcolor\":\"#C8D4E3\",\"startlinecolor\":\"#2a3f5f\"},\"type\":\"carpet\"}],\"choropleth\":[{\"colorbar\":{\"outlinewidth\":0,\"ticks\":\"\"},\"type\":\"choropleth\"}],\"contourcarpet\":[{\"colorbar\":{\"outlinewidth\":0,\"ticks\":\"\"},\"type\":\"contourcarpet\"}],\"contour\":[{\"colorbar\":{\"outlinewidth\":0,\"ticks\":\"\"},\"colorscale\":[[0.0,\"#0d0887\"],[0.1111111111111111,\"#46039f\"],[0.2222222222222222,\"#7201a8\"],[0.3333333333333333,\"#9c179e\"],[0.4444444444444444,\"#bd3786\"],[0.5555555555555556,\"#d8576b\"],[0.6666666666666666,\"#ed7953\"],[0.7777777777777778,\"#fb9f3a\"],[0.8888888888888888,\"#fdca26\"],[1.0,\"#f0f921\"]],\"type\":\"contour\"}],\"heatmapgl\":[{\"colorbar\":{\"outlinewidth\":0,\"ticks\":\"\"},\"colorscale\":[[0.0,\"#0d0887\"],[0.1111111111111111,\"#46039f\"],[0.2222222222222222,\"#7201a8\"],[0.3333333333333333,\"#9c179e\"],[0.4444444444444444,\"#bd3786\"],[0.5555555555555556,\"#d8576b\"],[0.6666666666666666,\"#ed7953\"],[0.7777777777777778,\"#fb9f3a\"],[0.8888888888888888,\"#fdca26\"],[1.0,\"#f0f921\"]],\"type\":\"heatmapgl\"}],\"heatmap\":[{\"colorbar\":{\"outlinewidth\":0,\"ticks\":\"\"},\"colorscale\":[[0.0,\"#0d0887\"],[0.1111111111111111,\"#46039f\"],[0.2222222222222222,\"#7201a8\"],[0.3333333333333333,\"#9c179e\"],[0.4444444444444444,\"#bd3786\"],[0.5555555555555556,\"#d8576b\"],[0.6666666666666666,\"#ed7953\"],[0.7777777777777778,\"#fb9f3a\"],[0.8888888888888888,\"#fdca26\"],[1.0,\"#f0f921\"]],\"type\":\"heatmap\"}],\"histogram2dcontour\":[{\"colorbar\":{\"outlinewidth\":0,\"ticks\":\"\"},\"colorscale\":[[0.0,\"#0d0887\"],[0.1111111111111111,\"#46039f\"],[0.2222222222222222,\"#7201a8\"],[0.3333333333333333,\"#9c179e\"],[0.4444444444444444,\"#bd3786\"],[0.5555555555555556,\"#d8576b\"],[0.6666666666666666,\"#ed7953\"],[0.7777777777777778,\"#fb9f3a\"],[0.8888888888888888,\"#fdca26\"],[1.0,\"#f0f921\"]],\"type\":\"histogram2dcontour\"}],\"histogram2d\":[{\"colorbar\":{\"outlinewidth\":0,\"ticks\":\"\"},\"colorscale\":[[0.0,\"#0d0887\"],[0.1111111111111111,\"#46039f\"],[0.2222222222222222,\"#7201a8\"],[0.3333333333333333,\"#9c179e\"],[0.4444444444444444,\"#bd3786\"],[0.5555555555555556,\"#d8576b\"],[0.6666666666666666,\"#ed7953\"],[0.7777777777777778,\"#fb9f3a\"],[0.8888888888888888,\"#fdca26\"],[1.0,\"#f0f921\"]],\"type\":\"histogram2d\"}],\"histogram\":[{\"marker\":{\"pattern\":{\"fillmode\":\"overlay\",\"size\":10,\"solidity\":0.2}},\"type\":\"histogram\"}],\"mesh3d\":[{\"colorbar\":{\"outlinewidth\":0,\"ticks\":\"\"},\"type\":\"mesh3d\"}],\"parcoords\":[{\"line\":{\"colorbar\":{\"outlinewidth\":0,\"ticks\":\"\"}},\"type\":\"parcoords\"}],\"pie\":[{\"automargin\":true,\"type\":\"pie\"}],\"scatter3d\":[{\"line\":{\"colorbar\":{\"outlinewidth\":0,\"ticks\":\"\"}},\"marker\":{\"colorbar\":{\"outlinewidth\":0,\"ticks\":\"\"}},\"type\":\"scatter3d\"}],\"scattercarpet\":[{\"marker\":{\"colorbar\":{\"outlinewidth\":0,\"ticks\":\"\"}},\"type\":\"scattercarpet\"}],\"scattergeo\":[{\"marker\":{\"colorbar\":{\"outlinewidth\":0,\"ticks\":\"\"}},\"type\":\"scattergeo\"}],\"scattergl\":[{\"marker\":{\"colorbar\":{\"outlinewidth\":0,\"ticks\":\"\"}},\"type\":\"scattergl\"}],\"scattermapbox\":[{\"marker\":{\"colorbar\":{\"outlinewidth\":0,\"ticks\":\"\"}},\"type\":\"scattermapbox\"}],\"scatterpolargl\":[{\"marker\":{\"colorbar\":{\"outlinewidth\":0,\"ticks\":\"\"}},\"type\":\"scatterpolargl\"}],\"scatterpolar\":[{\"marker\":{\"colorbar\":{\"outlinewidth\":0,\"ticks\":\"\"}},\"type\":\"scatterpolar\"}],\"scatter\":[{\"fillpattern\":{\"fillmode\":\"overlay\",\"size\":10,\"solidity\":0.2},\"type\":\"scatter\"}],\"scatterternary\":[{\"marker\":{\"colorbar\":{\"outlinewidth\":0,\"ticks\":\"\"}},\"type\":\"scatterternary\"}],\"surface\":[{\"colorbar\":{\"outlinewidth\":0,\"ticks\":\"\"},\"colorscale\":[[0.0,\"#0d0887\"],[0.1111111111111111,\"#46039f\"],[0.2222222222222222,\"#7201a8\"],[0.3333333333333333,\"#9c179e\"],[0.4444444444444444,\"#bd3786\"],[0.5555555555555556,\"#d8576b\"],[0.6666666666666666,\"#ed7953\"],[0.7777777777777778,\"#fb9f3a\"],[0.8888888888888888,\"#fdca26\"],[1.0,\"#f0f921\"]],\"type\":\"surface\"}],\"table\":[{\"cells\":{\"fill\":{\"color\":\"#EBF0F8\"},\"line\":{\"color\":\"white\"}},\"header\":{\"fill\":{\"color\":\"#C8D4E3\"},\"line\":{\"color\":\"white\"}},\"type\":\"table\"}]},\"layout\":{\"annotationdefaults\":{\"arrowcolor\":\"#2a3f5f\",\"arrowhead\":0,\"arrowwidth\":1},\"autotypenumbers\":\"strict\",\"coloraxis\":{\"colorbar\":{\"outlinewidth\":0,\"ticks\":\"\"}},\"colorscale\":{\"diverging\":[[0,\"#8e0152\"],[0.1,\"#c51b7d\"],[0.2,\"#de77ae\"],[0.3,\"#f1b6da\"],[0.4,\"#fde0ef\"],[0.5,\"#f7f7f7\"],[0.6,\"#e6f5d0\"],[0.7,\"#b8e186\"],[0.8,\"#7fbc41\"],[0.9,\"#4d9221\"],[1,\"#276419\"]],\"sequential\":[[0.0,\"#0d0887\"],[0.1111111111111111,\"#46039f\"],[0.2222222222222222,\"#7201a8\"],[0.3333333333333333,\"#9c179e\"],[0.4444444444444444,\"#bd3786\"],[0.5555555555555556,\"#d8576b\"],[0.6666666666666666,\"#ed7953\"],[0.7777777777777778,\"#fb9f3a\"],[0.8888888888888888,\"#fdca26\"],[1.0,\"#f0f921\"]],\"sequentialminus\":[[0.0,\"#0d0887\"],[0.1111111111111111,\"#46039f\"],[0.2222222222222222,\"#7201a8\"],[0.3333333333333333,\"#9c179e\"],[0.4444444444444444,\"#bd3786\"],[0.5555555555555556,\"#d8576b\"],[0.6666666666666666,\"#ed7953\"],[0.7777777777777778,\"#fb9f3a\"],[0.8888888888888888,\"#fdca26\"],[1.0,\"#f0f921\"]]},\"colorway\":[\"#636efa\",\"#EF553B\",\"#00cc96\",\"#ab63fa\",\"#FFA15A\",\"#19d3f3\",\"#FF6692\",\"#B6E880\",\"#FF97FF\",\"#FECB52\"],\"font\":{\"color\":\"#2a3f5f\"},\"geo\":{\"bgcolor\":\"white\",\"lakecolor\":\"white\",\"landcolor\":\"white\",\"showlakes\":true,\"showland\":true,\"subunitcolor\":\"#C8D4E3\"},\"hoverlabel\":{\"align\":\"left\"},\"hovermode\":\"closest\",\"mapbox\":{\"style\":\"light\"},\"paper_bgcolor\":\"white\",\"plot_bgcolor\":\"white\",\"polar\":{\"angularaxis\":{\"gridcolor\":\"#EBF0F8\",\"linecolor\":\"#EBF0F8\",\"ticks\":\"\"},\"bgcolor\":\"white\",\"radialaxis\":{\"gridcolor\":\"#EBF0F8\",\"linecolor\":\"#EBF0F8\",\"ticks\":\"\"}},\"scene\":{\"xaxis\":{\"backgroundcolor\":\"white\",\"gridcolor\":\"#DFE8F3\",\"gridwidth\":2,\"linecolor\":\"#EBF0F8\",\"showbackground\":true,\"ticks\":\"\",\"zerolinecolor\":\"#EBF0F8\"},\"yaxis\":{\"backgroundcolor\":\"white\",\"gridcolor\":\"#DFE8F3\",\"gridwidth\":2,\"linecolor\":\"#EBF0F8\",\"showbackground\":true,\"ticks\":\"\",\"zerolinecolor\":\"#EBF0F8\"},\"zaxis\":{\"backgroundcolor\":\"white\",\"gridcolor\":\"#DFE8F3\",\"gridwidth\":2,\"linecolor\":\"#EBF0F8\",\"showbackground\":true,\"ticks\":\"\",\"zerolinecolor\":\"#EBF0F8\"}},\"shapedefaults\":{\"line\":{\"color\":\"#2a3f5f\"}},\"ternary\":{\"aaxis\":{\"gridcolor\":\"#DFE8F3\",\"linecolor\":\"#A2B1C6\",\"ticks\":\"\"},\"baxis\":{\"gridcolor\":\"#DFE8F3\",\"linecolor\":\"#A2B1C6\",\"ticks\":\"\"},\"bgcolor\":\"white\",\"caxis\":{\"gridcolor\":\"#DFE8F3\",\"linecolor\":\"#A2B1C6\",\"ticks\":\"\"}},\"title\":{\"x\":0.05},\"xaxis\":{\"automargin\":true,\"gridcolor\":\"#EBF0F8\",\"linecolor\":\"#EBF0F8\",\"ticks\":\"\",\"title\":{\"standoff\":15},\"zerolinecolor\":\"#EBF0F8\",\"zerolinewidth\":2},\"yaxis\":{\"automargin\":true,\"gridcolor\":\"#EBF0F8\",\"linecolor\":\"#EBF0F8\",\"ticks\":\"\",\"title\":{\"standoff\":15},\"zerolinecolor\":\"#EBF0F8\",\"zerolinewidth\":2}}},\"xaxis\":{\"anchor\":\"y\",\"domain\":[0.0,1.0],\"title\":{\"text\":\"Obesity Status\"},\"categoryorder\":\"array\",\"categoryarray\":[\"Insufficient_Weight\",\"Normal_Weight\",\"Overweight_Level_I\",\"Overweight_Level_II\",\"Obesity_Type_I\",\"Obesity_Type_II\",\"Obesity_Type_III\"]},\"yaxis\":{\"anchor\":\"x\",\"domain\":[0.0,1.0],\"title\":{\"text\":\"Age\"}},\"legend\":{\"tracegroupgap\":0},\"margin\":{\"t\":60},\"boxmode\":\"group\",\"title\":{\"font\":{\"size\":24},\"text\":\"Box Plot of Age by Obesity Status\",\"x\":0.5},\"width\":800,\"height\":500},                        {\"responsive\": true}                    ).then(function(){\n",
       "                            \n",
       "var gd = document.getElementById('5ef831d3-aef8-4317-b7c5-23db1f645925');\n",
       "var x = new MutationObserver(function (mutations, observer) {{\n",
       "        var display = window.getComputedStyle(gd).display;\n",
       "        if (!display || display === 'none') {{\n",
       "            console.log([gd, 'removed!']);\n",
       "            Plotly.purge(gd);\n",
       "            observer.disconnect();\n",
       "        }}\n",
       "}});\n",
       "\n",
       "// Listen for the removal of the full notebook cells\n",
       "var notebookContainer = gd.closest('#notebook-container');\n",
       "if (notebookContainer) {{\n",
       "    x.observe(notebookContainer, {childList: true});\n",
       "}}\n",
       "\n",
       "// Listen for the clearing of the current output cell\n",
       "var outputEl = gd.closest('.output');\n",
       "if (outputEl) {{\n",
       "    x.observe(outputEl, {childList: true});\n",
       "}}\n",
       "\n",
       "                        })                };                });            </script>        </div>"
      ]
     },
     "metadata": {},
     "output_type": "display_data"
    }
   ],
   "source": [
    "\n",
    "obesity_order = ['Insufficient_Weight', 'Normal_Weight', 'Overweight_Level_I',\n",
    "                 'Overweight_Level_II', 'Obesity_Type_I', 'Obesity_Type_II', 'Obesity_Type_III']\n",
    "\n",
    "fig = px.box(df, x=\"NObeyesdad\", y=\"Age\",  category_orders={'NObeyesdad': obesity_order})\n",
    "\n",
    "# Update the color of the box and whiskers\n",
    "fig.update_traces(#boxmean=True,\n",
    "                  jitter=0,\n",
    "                  #whiskerwidth=0.2,\n",
    "                  marker=dict(color='#2a9d8f', size=3),\n",
    "                  line=dict(width=1.2)\n",
    "                 )\n",
    "\n",
    "# Update the layout\n",
    "fig.update_layout(\n",
    "    title=dict(text='Box Plot of Age by Obesity Status', x=0.5, font=dict(size=24)),\n",
    "    xaxis_title=\"Obesity Status\",\n",
    "    yaxis_title=\"Age\",\n",
    "    template='plotly_white',\n",
    "    width=800, # increase the width of the plot\n",
    "    height=500, # increase the height of the plot\n",
    ")\n",
    "\n",
    "fig.show()\n"
   ]
  },
  {
   "cell_type": "markdown",
   "id": "043d51bd",
   "metadata": {
    "papermill": {
     "duration": 0.026649,
     "end_time": "2023-04-17T10:49:45.395395",
     "exception": false,
     "start_time": "2023-04-17T10:49:45.368746",
     "status": "completed"
    },
    "tags": []
   },
   "source": [
    "> We can clearly see that \"AGE\" can be an important factor in classifying obesity"
   ]
  },
  {
   "cell_type": "code",
   "execution_count": 11,
   "id": "7494127d",
   "metadata": {
    "execution": {
     "iopub.execute_input": "2023-04-17T10:49:45.449544Z",
     "iopub.status.busy": "2023-04-17T10:49:45.448668Z",
     "iopub.status.idle": "2023-04-17T10:49:45.744694Z",
     "shell.execute_reply": "2023-04-17T10:49:45.743277Z"
    },
    "papermill": {
     "duration": 0.326005,
     "end_time": "2023-04-17T10:49:45.747291",
     "exception": false,
     "start_time": "2023-04-17T10:49:45.421286",
     "status": "completed"
    },
    "tags": []
   },
   "outputs": [
    {
     "data": {
      "text/html": [
       "<div>                            <div id=\"240e2110-13be-4f6a-ae64-ad367b5fca03\" class=\"plotly-graph-div\" style=\"height:1000px; width:1000px;\"></div>            <script type=\"text/javascript\">                require([\"plotly\"], function(Plotly) {                    window.PLOTLYENV=window.PLOTLYENV || {};                                    if (document.getElementById(\"240e2110-13be-4f6a-ae64-ad367b5fca03\")) {                    Plotly.newPlot(                        \"240e2110-13be-4f6a-ae64-ad367b5fca03\",                        [{\"marker\":{\"color\":\"rgb(158,202,225)\"},\"name\":\"Gender\",\"showlegend\":false,\"x\":[\"Male\",\"Female\"],\"y\":[1068,1043],\"type\":\"bar\",\"xaxis\":\"x\",\"yaxis\":\"y\"},{\"marker\":{\"color\":\"rgb(158,202,225)\"},\"name\":\"family_history_with_overweight\",\"showlegend\":false,\"x\":[\"yes\",\"no\"],\"y\":[1726,385],\"type\":\"bar\",\"xaxis\":\"x2\",\"yaxis\":\"y2\"},{\"marker\":{\"color\":\"rgb(158,202,225)\"},\"name\":\"FAVC\",\"showlegend\":false,\"x\":[\"yes\",\"no\"],\"y\":[1866,245],\"type\":\"bar\",\"xaxis\":\"x3\",\"yaxis\":\"y3\"},{\"marker\":{\"color\":\"rgb(158,202,225)\"},\"name\":\"CAEC\",\"showlegend\":false,\"x\":[\"Sometimes\",\"Frequently\",\"Always\",\"no\"],\"y\":[1765,242,53,51],\"type\":\"bar\",\"xaxis\":\"x4\",\"yaxis\":\"y4\"},{\"marker\":{\"color\":\"rgb(158,202,225)\"},\"name\":\"SMOKE\",\"showlegend\":false,\"x\":[\"no\",\"yes\"],\"y\":[2067,44],\"type\":\"bar\",\"xaxis\":\"x5\",\"yaxis\":\"y5\"},{\"marker\":{\"color\":\"rgb(158,202,225)\"},\"name\":\"SCC\",\"showlegend\":false,\"x\":[\"no\",\"yes\"],\"y\":[2015,96],\"type\":\"bar\",\"xaxis\":\"x6\",\"yaxis\":\"y6\"},{\"marker\":{\"color\":\"rgb(158,202,225)\"},\"name\":\"CALC\",\"showlegend\":false,\"x\":[\"Sometimes\",\"no\",\"Frequently\",\"Always\"],\"y\":[1401,639,70,1],\"type\":\"bar\",\"xaxis\":\"x7\",\"yaxis\":\"y7\"},{\"marker\":{\"color\":\"rgb(158,202,225)\"},\"name\":\"MTRANS\",\"showlegend\":false,\"x\":[\"Public_Transportation\",\"Automobile\",\"Walking\",\"Motorbike\",\"Bike\"],\"y\":[1580,457,56,11,7],\"type\":\"bar\",\"xaxis\":\"x8\",\"yaxis\":\"y8\"},{\"marker\":{\"color\":\"rgb(158,202,225)\"},\"name\":\"NObeyesdad\",\"showlegend\":false,\"x\":[\"Obesity_Type_I\",\"Obesity_Type_III\",\"Obesity_Type_II\",\"Overweight_Level_I\",\"Overweight_Level_II\",\"Normal_Weight\",\"Insufficient_Weight\"],\"y\":[351,324,297,290,290,287,272],\"type\":\"bar\",\"xaxis\":\"x9\",\"yaxis\":\"y9\"}],                        {\"template\":{\"data\":{\"barpolar\":[{\"marker\":{\"line\":{\"color\":\"white\",\"width\":0.5},\"pattern\":{\"fillmode\":\"overlay\",\"size\":10,\"solidity\":0.2}},\"type\":\"barpolar\"}],\"bar\":[{\"error_x\":{\"color\":\"#2a3f5f\"},\"error_y\":{\"color\":\"#2a3f5f\"},\"marker\":{\"line\":{\"color\":\"white\",\"width\":0.5},\"pattern\":{\"fillmode\":\"overlay\",\"size\":10,\"solidity\":0.2}},\"type\":\"bar\"}],\"carpet\":[{\"aaxis\":{\"endlinecolor\":\"#2a3f5f\",\"gridcolor\":\"#C8D4E3\",\"linecolor\":\"#C8D4E3\",\"minorgridcolor\":\"#C8D4E3\",\"startlinecolor\":\"#2a3f5f\"},\"baxis\":{\"endlinecolor\":\"#2a3f5f\",\"gridcolor\":\"#C8D4E3\",\"linecolor\":\"#C8D4E3\",\"minorgridcolor\":\"#C8D4E3\",\"startlinecolor\":\"#2a3f5f\"},\"type\":\"carpet\"}],\"choropleth\":[{\"colorbar\":{\"outlinewidth\":0,\"ticks\":\"\"},\"type\":\"choropleth\"}],\"contourcarpet\":[{\"colorbar\":{\"outlinewidth\":0,\"ticks\":\"\"},\"type\":\"contourcarpet\"}],\"contour\":[{\"colorbar\":{\"outlinewidth\":0,\"ticks\":\"\"},\"colorscale\":[[0.0,\"#0d0887\"],[0.1111111111111111,\"#46039f\"],[0.2222222222222222,\"#7201a8\"],[0.3333333333333333,\"#9c179e\"],[0.4444444444444444,\"#bd3786\"],[0.5555555555555556,\"#d8576b\"],[0.6666666666666666,\"#ed7953\"],[0.7777777777777778,\"#fb9f3a\"],[0.8888888888888888,\"#fdca26\"],[1.0,\"#f0f921\"]],\"type\":\"contour\"}],\"heatmapgl\":[{\"colorbar\":{\"outlinewidth\":0,\"ticks\":\"\"},\"colorscale\":[[0.0,\"#0d0887\"],[0.1111111111111111,\"#46039f\"],[0.2222222222222222,\"#7201a8\"],[0.3333333333333333,\"#9c179e\"],[0.4444444444444444,\"#bd3786\"],[0.5555555555555556,\"#d8576b\"],[0.6666666666666666,\"#ed7953\"],[0.7777777777777778,\"#fb9f3a\"],[0.8888888888888888,\"#fdca26\"],[1.0,\"#f0f921\"]],\"type\":\"heatmapgl\"}],\"heatmap\":[{\"colorbar\":{\"outlinewidth\":0,\"ticks\":\"\"},\"colorscale\":[[0.0,\"#0d0887\"],[0.1111111111111111,\"#46039f\"],[0.2222222222222222,\"#7201a8\"],[0.3333333333333333,\"#9c179e\"],[0.4444444444444444,\"#bd3786\"],[0.5555555555555556,\"#d8576b\"],[0.6666666666666666,\"#ed7953\"],[0.7777777777777778,\"#fb9f3a\"],[0.8888888888888888,\"#fdca26\"],[1.0,\"#f0f921\"]],\"type\":\"heatmap\"}],\"histogram2dcontour\":[{\"colorbar\":{\"outlinewidth\":0,\"ticks\":\"\"},\"colorscale\":[[0.0,\"#0d0887\"],[0.1111111111111111,\"#46039f\"],[0.2222222222222222,\"#7201a8\"],[0.3333333333333333,\"#9c179e\"],[0.4444444444444444,\"#bd3786\"],[0.5555555555555556,\"#d8576b\"],[0.6666666666666666,\"#ed7953\"],[0.7777777777777778,\"#fb9f3a\"],[0.8888888888888888,\"#fdca26\"],[1.0,\"#f0f921\"]],\"type\":\"histogram2dcontour\"}],\"histogram2d\":[{\"colorbar\":{\"outlinewidth\":0,\"ticks\":\"\"},\"colorscale\":[[0.0,\"#0d0887\"],[0.1111111111111111,\"#46039f\"],[0.2222222222222222,\"#7201a8\"],[0.3333333333333333,\"#9c179e\"],[0.4444444444444444,\"#bd3786\"],[0.5555555555555556,\"#d8576b\"],[0.6666666666666666,\"#ed7953\"],[0.7777777777777778,\"#fb9f3a\"],[0.8888888888888888,\"#fdca26\"],[1.0,\"#f0f921\"]],\"type\":\"histogram2d\"}],\"histogram\":[{\"marker\":{\"pattern\":{\"fillmode\":\"overlay\",\"size\":10,\"solidity\":0.2}},\"type\":\"histogram\"}],\"mesh3d\":[{\"colorbar\":{\"outlinewidth\":0,\"ticks\":\"\"},\"type\":\"mesh3d\"}],\"parcoords\":[{\"line\":{\"colorbar\":{\"outlinewidth\":0,\"ticks\":\"\"}},\"type\":\"parcoords\"}],\"pie\":[{\"automargin\":true,\"type\":\"pie\"}],\"scatter3d\":[{\"line\":{\"colorbar\":{\"outlinewidth\":0,\"ticks\":\"\"}},\"marker\":{\"colorbar\":{\"outlinewidth\":0,\"ticks\":\"\"}},\"type\":\"scatter3d\"}],\"scattercarpet\":[{\"marker\":{\"colorbar\":{\"outlinewidth\":0,\"ticks\":\"\"}},\"type\":\"scattercarpet\"}],\"scattergeo\":[{\"marker\":{\"colorbar\":{\"outlinewidth\":0,\"ticks\":\"\"}},\"type\":\"scattergeo\"}],\"scattergl\":[{\"marker\":{\"colorbar\":{\"outlinewidth\":0,\"ticks\":\"\"}},\"type\":\"scattergl\"}],\"scattermapbox\":[{\"marker\":{\"colorbar\":{\"outlinewidth\":0,\"ticks\":\"\"}},\"type\":\"scattermapbox\"}],\"scatterpolargl\":[{\"marker\":{\"colorbar\":{\"outlinewidth\":0,\"ticks\":\"\"}},\"type\":\"scatterpolargl\"}],\"scatterpolar\":[{\"marker\":{\"colorbar\":{\"outlinewidth\":0,\"ticks\":\"\"}},\"type\":\"scatterpolar\"}],\"scatter\":[{\"fillpattern\":{\"fillmode\":\"overlay\",\"size\":10,\"solidity\":0.2},\"type\":\"scatter\"}],\"scatterternary\":[{\"marker\":{\"colorbar\":{\"outlinewidth\":0,\"ticks\":\"\"}},\"type\":\"scatterternary\"}],\"surface\":[{\"colorbar\":{\"outlinewidth\":0,\"ticks\":\"\"},\"colorscale\":[[0.0,\"#0d0887\"],[0.1111111111111111,\"#46039f\"],[0.2222222222222222,\"#7201a8\"],[0.3333333333333333,\"#9c179e\"],[0.4444444444444444,\"#bd3786\"],[0.5555555555555556,\"#d8576b\"],[0.6666666666666666,\"#ed7953\"],[0.7777777777777778,\"#fb9f3a\"],[0.8888888888888888,\"#fdca26\"],[1.0,\"#f0f921\"]],\"type\":\"surface\"}],\"table\":[{\"cells\":{\"fill\":{\"color\":\"#EBF0F8\"},\"line\":{\"color\":\"white\"}},\"header\":{\"fill\":{\"color\":\"#C8D4E3\"},\"line\":{\"color\":\"white\"}},\"type\":\"table\"}]},\"layout\":{\"annotationdefaults\":{\"arrowcolor\":\"#2a3f5f\",\"arrowhead\":0,\"arrowwidth\":1},\"autotypenumbers\":\"strict\",\"coloraxis\":{\"colorbar\":{\"outlinewidth\":0,\"ticks\":\"\"}},\"colorscale\":{\"diverging\":[[0,\"#8e0152\"],[0.1,\"#c51b7d\"],[0.2,\"#de77ae\"],[0.3,\"#f1b6da\"],[0.4,\"#fde0ef\"],[0.5,\"#f7f7f7\"],[0.6,\"#e6f5d0\"],[0.7,\"#b8e186\"],[0.8,\"#7fbc41\"],[0.9,\"#4d9221\"],[1,\"#276419\"]],\"sequential\":[[0.0,\"#0d0887\"],[0.1111111111111111,\"#46039f\"],[0.2222222222222222,\"#7201a8\"],[0.3333333333333333,\"#9c179e\"],[0.4444444444444444,\"#bd3786\"],[0.5555555555555556,\"#d8576b\"],[0.6666666666666666,\"#ed7953\"],[0.7777777777777778,\"#fb9f3a\"],[0.8888888888888888,\"#fdca26\"],[1.0,\"#f0f921\"]],\"sequentialminus\":[[0.0,\"#0d0887\"],[0.1111111111111111,\"#46039f\"],[0.2222222222222222,\"#7201a8\"],[0.3333333333333333,\"#9c179e\"],[0.4444444444444444,\"#bd3786\"],[0.5555555555555556,\"#d8576b\"],[0.6666666666666666,\"#ed7953\"],[0.7777777777777778,\"#fb9f3a\"],[0.8888888888888888,\"#fdca26\"],[1.0,\"#f0f921\"]]},\"colorway\":[\"#636efa\",\"#EF553B\",\"#00cc96\",\"#ab63fa\",\"#FFA15A\",\"#19d3f3\",\"#FF6692\",\"#B6E880\",\"#FF97FF\",\"#FECB52\"],\"font\":{\"color\":\"#2a3f5f\"},\"geo\":{\"bgcolor\":\"white\",\"lakecolor\":\"white\",\"landcolor\":\"white\",\"showlakes\":true,\"showland\":true,\"subunitcolor\":\"#C8D4E3\"},\"hoverlabel\":{\"align\":\"left\"},\"hovermode\":\"closest\",\"mapbox\":{\"style\":\"light\"},\"paper_bgcolor\":\"white\",\"plot_bgcolor\":\"white\",\"polar\":{\"angularaxis\":{\"gridcolor\":\"#EBF0F8\",\"linecolor\":\"#EBF0F8\",\"ticks\":\"\"},\"bgcolor\":\"white\",\"radialaxis\":{\"gridcolor\":\"#EBF0F8\",\"linecolor\":\"#EBF0F8\",\"ticks\":\"\"}},\"scene\":{\"xaxis\":{\"backgroundcolor\":\"white\",\"gridcolor\":\"#DFE8F3\",\"gridwidth\":2,\"linecolor\":\"#EBF0F8\",\"showbackground\":true,\"ticks\":\"\",\"zerolinecolor\":\"#EBF0F8\"},\"yaxis\":{\"backgroundcolor\":\"white\",\"gridcolor\":\"#DFE8F3\",\"gridwidth\":2,\"linecolor\":\"#EBF0F8\",\"showbackground\":true,\"ticks\":\"\",\"zerolinecolor\":\"#EBF0F8\"},\"zaxis\":{\"backgroundcolor\":\"white\",\"gridcolor\":\"#DFE8F3\",\"gridwidth\":2,\"linecolor\":\"#EBF0F8\",\"showbackground\":true,\"ticks\":\"\",\"zerolinecolor\":\"#EBF0F8\"}},\"shapedefaults\":{\"line\":{\"color\":\"#2a3f5f\"}},\"ternary\":{\"aaxis\":{\"gridcolor\":\"#DFE8F3\",\"linecolor\":\"#A2B1C6\",\"ticks\":\"\"},\"baxis\":{\"gridcolor\":\"#DFE8F3\",\"linecolor\":\"#A2B1C6\",\"ticks\":\"\"},\"bgcolor\":\"white\",\"caxis\":{\"gridcolor\":\"#DFE8F3\",\"linecolor\":\"#A2B1C6\",\"ticks\":\"\"}},\"title\":{\"x\":0.05},\"xaxis\":{\"automargin\":true,\"gridcolor\":\"#EBF0F8\",\"linecolor\":\"#EBF0F8\",\"ticks\":\"\",\"title\":{\"standoff\":15},\"zerolinecolor\":\"#EBF0F8\",\"zerolinewidth\":2},\"yaxis\":{\"automargin\":true,\"gridcolor\":\"#EBF0F8\",\"linecolor\":\"#EBF0F8\",\"ticks\":\"\",\"title\":{\"standoff\":15},\"zerolinecolor\":\"#EBF0F8\",\"zerolinewidth\":2}}},\"xaxis\":{\"anchor\":\"y\",\"domain\":[0.0,0.2888888888888889],\"title\":{\"font\":{\"size\":12},\"text\":\"Gender\"},\"tickfont\":{\"size\":9}},\"yaxis\":{\"anchor\":\"x\",\"domain\":[0.7777777777777778,1.0],\"title\":{\"font\":{\"size\":12},\"text\":\"Frequency\"},\"tickfont\":{\"size\":9}},\"xaxis2\":{\"anchor\":\"y2\",\"domain\":[0.35555555555555557,0.6444444444444445],\"title\":{\"font\":{\"size\":12},\"text\":\"family_history_with_overweight\"},\"tickfont\":{\"size\":9}},\"yaxis2\":{\"anchor\":\"x2\",\"domain\":[0.7777777777777778,1.0],\"title\":{\"font\":{\"size\":12},\"text\":\"Frequency\"},\"tickfont\":{\"size\":9}},\"xaxis3\":{\"anchor\":\"y3\",\"domain\":[0.7111111111111111,1.0],\"title\":{\"font\":{\"size\":12},\"text\":\"FAVC\"},\"tickfont\":{\"size\":9}},\"yaxis3\":{\"anchor\":\"x3\",\"domain\":[0.7777777777777778,1.0],\"title\":{\"font\":{\"size\":12},\"text\":\"Frequency\"},\"tickfont\":{\"size\":9}},\"xaxis4\":{\"anchor\":\"y4\",\"domain\":[0.0,0.2888888888888889],\"title\":{\"font\":{\"size\":12},\"text\":\"CAEC\"},\"tickfont\":{\"size\":9}},\"yaxis4\":{\"anchor\":\"x4\",\"domain\":[0.3888888888888889,0.6111111111111112],\"title\":{\"font\":{\"size\":12},\"text\":\"Frequency\"},\"tickfont\":{\"size\":9}},\"xaxis5\":{\"anchor\":\"y5\",\"domain\":[0.35555555555555557,0.6444444444444445],\"title\":{\"font\":{\"size\":12},\"text\":\"SMOKE\"},\"tickfont\":{\"size\":9}},\"yaxis5\":{\"anchor\":\"x5\",\"domain\":[0.3888888888888889,0.6111111111111112],\"title\":{\"font\":{\"size\":12},\"text\":\"Frequency\"},\"tickfont\":{\"size\":9}},\"xaxis6\":{\"anchor\":\"y6\",\"domain\":[0.7111111111111111,1.0],\"title\":{\"font\":{\"size\":12},\"text\":\"SCC\"},\"tickfont\":{\"size\":9}},\"yaxis6\":{\"anchor\":\"x6\",\"domain\":[0.3888888888888889,0.6111111111111112],\"title\":{\"font\":{\"size\":12},\"text\":\"Frequency\"},\"tickfont\":{\"size\":9}},\"xaxis7\":{\"anchor\":\"y7\",\"domain\":[0.0,0.2888888888888889],\"title\":{\"font\":{\"size\":12},\"text\":\"CALC\"},\"tickfont\":{\"size\":9}},\"yaxis7\":{\"anchor\":\"x7\",\"domain\":[0.0,0.22222222222222224],\"title\":{\"font\":{\"size\":12},\"text\":\"Frequency\"},\"tickfont\":{\"size\":9}},\"xaxis8\":{\"anchor\":\"y8\",\"domain\":[0.35555555555555557,0.6444444444444445],\"title\":{\"font\":{\"size\":12},\"text\":\"MTRANS\"},\"tickfont\":{\"size\":9}},\"yaxis8\":{\"anchor\":\"x8\",\"domain\":[0.0,0.22222222222222224],\"title\":{\"font\":{\"size\":12},\"text\":\"Frequency\"},\"tickfont\":{\"size\":9}},\"xaxis9\":{\"anchor\":\"y9\",\"domain\":[0.7111111111111111,1.0],\"title\":{\"font\":{\"size\":12},\"text\":\"NObeyesdad\"},\"tickfont\":{\"size\":9}},\"yaxis9\":{\"anchor\":\"x9\",\"domain\":[0.0,0.22222222222222224],\"title\":{\"font\":{\"size\":12},\"text\":\"Frequency\"},\"tickfont\":{\"size\":9}},\"annotations\":[{\"font\":{\"size\":16},\"showarrow\":false,\"text\":\"Gender\",\"x\":0.14444444444444446,\"xanchor\":\"center\",\"xref\":\"paper\",\"y\":1.0,\"yanchor\":\"bottom\",\"yref\":\"paper\"},{\"font\":{\"size\":16},\"showarrow\":false,\"text\":\"family_history_with_overweight\",\"x\":0.5,\"xanchor\":\"center\",\"xref\":\"paper\",\"y\":1.0,\"yanchor\":\"bottom\",\"yref\":\"paper\"},{\"font\":{\"size\":16},\"showarrow\":false,\"text\":\"FAVC\",\"x\":0.8555555555555556,\"xanchor\":\"center\",\"xref\":\"paper\",\"y\":1.0,\"yanchor\":\"bottom\",\"yref\":\"paper\"},{\"font\":{\"size\":16},\"showarrow\":false,\"text\":\"CAEC\",\"x\":0.14444444444444446,\"xanchor\":\"center\",\"xref\":\"paper\",\"y\":0.6111111111111112,\"yanchor\":\"bottom\",\"yref\":\"paper\"},{\"font\":{\"size\":16},\"showarrow\":false,\"text\":\"SMOKE\",\"x\":0.5,\"xanchor\":\"center\",\"xref\":\"paper\",\"y\":0.6111111111111112,\"yanchor\":\"bottom\",\"yref\":\"paper\"},{\"font\":{\"size\":16},\"showarrow\":false,\"text\":\"SCC\",\"x\":0.8555555555555556,\"xanchor\":\"center\",\"xref\":\"paper\",\"y\":0.6111111111111112,\"yanchor\":\"bottom\",\"yref\":\"paper\"},{\"font\":{\"size\":16},\"showarrow\":false,\"text\":\"CALC\",\"x\":0.14444444444444446,\"xanchor\":\"center\",\"xref\":\"paper\",\"y\":0.22222222222222224,\"yanchor\":\"bottom\",\"yref\":\"paper\"},{\"font\":{\"size\":16},\"showarrow\":false,\"text\":\"MTRANS\",\"x\":0.5,\"xanchor\":\"center\",\"xref\":\"paper\",\"y\":0.22222222222222224,\"yanchor\":\"bottom\",\"yref\":\"paper\"},{\"font\":{\"size\":16},\"showarrow\":false,\"text\":\"NObeyesdad\",\"x\":0.8555555555555556,\"xanchor\":\"center\",\"xref\":\"paper\",\"y\":0.22222222222222224,\"yanchor\":\"bottom\",\"yref\":\"paper\"}],\"title\":{\"font\":{\"size\":24},\"text\":\"Frequency Plots of Categorical Columns\",\"x\":0.5},\"height\":1000,\"width\":1000},                        {\"responsive\": true}                    ).then(function(){\n",
       "                            \n",
       "var gd = document.getElementById('240e2110-13be-4f6a-ae64-ad367b5fca03');\n",
       "var x = new MutationObserver(function (mutations, observer) {{\n",
       "        var display = window.getComputedStyle(gd).display;\n",
       "        if (!display || display === 'none') {{\n",
       "            console.log([gd, 'removed!']);\n",
       "            Plotly.purge(gd);\n",
       "            observer.disconnect();\n",
       "        }}\n",
       "}});\n",
       "\n",
       "// Listen for the removal of the full notebook cells\n",
       "var notebookContainer = gd.closest('#notebook-container');\n",
       "if (notebookContainer) {{\n",
       "    x.observe(notebookContainer, {childList: true});\n",
       "}}\n",
       "\n",
       "// Listen for the clearing of the current output cell\n",
       "var outputEl = gd.closest('.output');\n",
       "if (outputEl) {{\n",
       "    x.observe(outputEl, {childList: true});\n",
       "}}\n",
       "\n",
       "                        })                };                });            </script>        </div>"
      ]
     },
     "metadata": {},
     "output_type": "display_data"
    }
   ],
   "source": [
    "\n",
    "\n",
    "columns = ['Gender', 'family_history_with_overweight', 'FAVC', 'CAEC', 'SMOKE',\n",
    "           'SCC', 'CALC', 'MTRANS', 'NObeyesdad']\n",
    "\n",
    "for col in columns:\n",
    "    df[col] = df[col].astype('category')\n",
    "\n",
    "# Define a list of colors for the bars\n",
    "#colors = ['#264653', '#2a9d8f', '#e9c46a', '#f4a261', '#e76f51', '#023047', '#8ecae6', '#fefae0', '#dda15e']\n",
    "\n",
    "# Create a 3x3 grid of subplots\n",
    "fig = make_subplots(rows=3, cols=3, subplot_titles=columns)\n",
    "\n",
    "# Add bar plots for each categorical column\n",
    "for idx, col in enumerate(columns):\n",
    "    row, col_idx = divmod(idx, 3)\n",
    "    counts = df[col].value_counts()\n",
    "    fig.add_trace(go.Bar(x=counts.index, y=counts.values, name=col, showlegend=False, marker=dict(color='rgb(158,202,225)')), row=row+1, col=col_idx+1)\n",
    "\n",
    "# Customize the plot\n",
    "fig.update_layout(\n",
    "    title=dict(text='Frequency Plots of Categorical Columns', x=0.5, font=dict(size=24)),\n",
    "    template='plotly_white',\n",
    "    height=1000,\n",
    "    width=1000,\n",
    ")\n",
    "\n",
    "# Update axis titles and font size\n",
    "for i in range(1, 10):\n",
    "    fig.update_xaxes(title_text=columns[i-1], title_font=dict(size=12), tickfont=dict(size=9), row=divmod(i-1, 3)[0]+1, col=divmod(i-1, 3)[1]+1)\n",
    "    fig.update_yaxes(title_text='Frequency', title_font=dict(size=12), tickfont=dict(size=9), row=divmod(i-1, 3)[0]+1, col=divmod(i-1,3)[1]+1)\n",
    "\n",
    "# Show the plot\n",
    "fig.show()\n"
   ]
  },
  {
   "cell_type": "code",
   "execution_count": 12,
   "id": "10d73fcc",
   "metadata": {
    "execution": {
     "iopub.execute_input": "2023-04-17T10:49:45.800130Z",
     "iopub.status.busy": "2023-04-17T10:49:45.799706Z",
     "iopub.status.idle": "2023-04-17T10:49:46.181745Z",
     "shell.execute_reply": "2023-04-17T10:49:46.180403Z"
    },
    "papermill": {
     "duration": 0.412335,
     "end_time": "2023-04-17T10:49:46.184538",
     "exception": false,
     "start_time": "2023-04-17T10:49:45.772203",
     "status": "completed"
    },
    "tags": []
   },
   "outputs": [
    {
     "data": {
      "text/html": [
       "<div>                            <div id=\"3788ae6f-f81b-420b-9832-4f2e9643fd17\" class=\"plotly-graph-div\" style=\"height:800px; width:1000px;\"></div>            <script type=\"text/javascript\">                require([\"plotly\"], function(Plotly) {                    window.PLOTLYENV=window.PLOTLYENV || {};                                    if (document.getElementById(\"3788ae6f-f81b-420b-9832-4f2e9643fd17\")) {                    Plotly.newPlot(                        \"3788ae6f-f81b-420b-9832-4f2e9643fd17\",                        [{\"name\":\"FCVC\",\"showlegend\":false,\"x\":[2,3,1],\"y\":[1013,996,102],\"type\":\"bar\",\"xaxis\":\"x\",\"yaxis\":\"y\",\"marker\":{\"color\":\"rgb(158,202,225)\"}},{\"name\":\"NCP\",\"showlegend\":false,\"x\":[3,1,2,4],\"y\":[1470,316,176,149],\"type\":\"bar\",\"xaxis\":\"x2\",\"yaxis\":\"y2\",\"marker\":{\"color\":\"rgb(158,202,225)\"}},{\"name\":\"CH2O\",\"showlegend\":false,\"x\":[2,3,1],\"y\":[1110,516,485],\"type\":\"bar\",\"xaxis\":\"x3\",\"yaxis\":\"y3\",\"marker\":{\"color\":\"rgb(158,202,225)\"}},{\"name\":\"FAF\",\"showlegend\":false,\"x\":[1,0,2,3],\"y\":[776,720,496,119],\"type\":\"bar\",\"xaxis\":\"x4\",\"yaxis\":\"y4\",\"marker\":{\"color\":\"rgb(158,202,225)\"}},{\"name\":\"TUE\",\"showlegend\":false,\"x\":[0,1,2],\"y\":[952,915,244],\"type\":\"bar\",\"xaxis\":\"x5\",\"yaxis\":\"y5\",\"marker\":{\"color\":\"rgb(158,202,225)\"}}],                        {\"template\":{\"data\":{\"barpolar\":[{\"marker\":{\"line\":{\"color\":\"white\",\"width\":0.5},\"pattern\":{\"fillmode\":\"overlay\",\"size\":10,\"solidity\":0.2}},\"type\":\"barpolar\"}],\"bar\":[{\"error_x\":{\"color\":\"#2a3f5f\"},\"error_y\":{\"color\":\"#2a3f5f\"},\"marker\":{\"line\":{\"color\":\"white\",\"width\":0.5},\"pattern\":{\"fillmode\":\"overlay\",\"size\":10,\"solidity\":0.2}},\"type\":\"bar\"}],\"carpet\":[{\"aaxis\":{\"endlinecolor\":\"#2a3f5f\",\"gridcolor\":\"#C8D4E3\",\"linecolor\":\"#C8D4E3\",\"minorgridcolor\":\"#C8D4E3\",\"startlinecolor\":\"#2a3f5f\"},\"baxis\":{\"endlinecolor\":\"#2a3f5f\",\"gridcolor\":\"#C8D4E3\",\"linecolor\":\"#C8D4E3\",\"minorgridcolor\":\"#C8D4E3\",\"startlinecolor\":\"#2a3f5f\"},\"type\":\"carpet\"}],\"choropleth\":[{\"colorbar\":{\"outlinewidth\":0,\"ticks\":\"\"},\"type\":\"choropleth\"}],\"contourcarpet\":[{\"colorbar\":{\"outlinewidth\":0,\"ticks\":\"\"},\"type\":\"contourcarpet\"}],\"contour\":[{\"colorbar\":{\"outlinewidth\":0,\"ticks\":\"\"},\"colorscale\":[[0.0,\"#0d0887\"],[0.1111111111111111,\"#46039f\"],[0.2222222222222222,\"#7201a8\"],[0.3333333333333333,\"#9c179e\"],[0.4444444444444444,\"#bd3786\"],[0.5555555555555556,\"#d8576b\"],[0.6666666666666666,\"#ed7953\"],[0.7777777777777778,\"#fb9f3a\"],[0.8888888888888888,\"#fdca26\"],[1.0,\"#f0f921\"]],\"type\":\"contour\"}],\"heatmapgl\":[{\"colorbar\":{\"outlinewidth\":0,\"ticks\":\"\"},\"colorscale\":[[0.0,\"#0d0887\"],[0.1111111111111111,\"#46039f\"],[0.2222222222222222,\"#7201a8\"],[0.3333333333333333,\"#9c179e\"],[0.4444444444444444,\"#bd3786\"],[0.5555555555555556,\"#d8576b\"],[0.6666666666666666,\"#ed7953\"],[0.7777777777777778,\"#fb9f3a\"],[0.8888888888888888,\"#fdca26\"],[1.0,\"#f0f921\"]],\"type\":\"heatmapgl\"}],\"heatmap\":[{\"colorbar\":{\"outlinewidth\":0,\"ticks\":\"\"},\"colorscale\":[[0.0,\"#0d0887\"],[0.1111111111111111,\"#46039f\"],[0.2222222222222222,\"#7201a8\"],[0.3333333333333333,\"#9c179e\"],[0.4444444444444444,\"#bd3786\"],[0.5555555555555556,\"#d8576b\"],[0.6666666666666666,\"#ed7953\"],[0.7777777777777778,\"#fb9f3a\"],[0.8888888888888888,\"#fdca26\"],[1.0,\"#f0f921\"]],\"type\":\"heatmap\"}],\"histogram2dcontour\":[{\"colorbar\":{\"outlinewidth\":0,\"ticks\":\"\"},\"colorscale\":[[0.0,\"#0d0887\"],[0.1111111111111111,\"#46039f\"],[0.2222222222222222,\"#7201a8\"],[0.3333333333333333,\"#9c179e\"],[0.4444444444444444,\"#bd3786\"],[0.5555555555555556,\"#d8576b\"],[0.6666666666666666,\"#ed7953\"],[0.7777777777777778,\"#fb9f3a\"],[0.8888888888888888,\"#fdca26\"],[1.0,\"#f0f921\"]],\"type\":\"histogram2dcontour\"}],\"histogram2d\":[{\"colorbar\":{\"outlinewidth\":0,\"ticks\":\"\"},\"colorscale\":[[0.0,\"#0d0887\"],[0.1111111111111111,\"#46039f\"],[0.2222222222222222,\"#7201a8\"],[0.3333333333333333,\"#9c179e\"],[0.4444444444444444,\"#bd3786\"],[0.5555555555555556,\"#d8576b\"],[0.6666666666666666,\"#ed7953\"],[0.7777777777777778,\"#fb9f3a\"],[0.8888888888888888,\"#fdca26\"],[1.0,\"#f0f921\"]],\"type\":\"histogram2d\"}],\"histogram\":[{\"marker\":{\"pattern\":{\"fillmode\":\"overlay\",\"size\":10,\"solidity\":0.2}},\"type\":\"histogram\"}],\"mesh3d\":[{\"colorbar\":{\"outlinewidth\":0,\"ticks\":\"\"},\"type\":\"mesh3d\"}],\"parcoords\":[{\"line\":{\"colorbar\":{\"outlinewidth\":0,\"ticks\":\"\"}},\"type\":\"parcoords\"}],\"pie\":[{\"automargin\":true,\"type\":\"pie\"}],\"scatter3d\":[{\"line\":{\"colorbar\":{\"outlinewidth\":0,\"ticks\":\"\"}},\"marker\":{\"colorbar\":{\"outlinewidth\":0,\"ticks\":\"\"}},\"type\":\"scatter3d\"}],\"scattercarpet\":[{\"marker\":{\"colorbar\":{\"outlinewidth\":0,\"ticks\":\"\"}},\"type\":\"scattercarpet\"}],\"scattergeo\":[{\"marker\":{\"colorbar\":{\"outlinewidth\":0,\"ticks\":\"\"}},\"type\":\"scattergeo\"}],\"scattergl\":[{\"marker\":{\"colorbar\":{\"outlinewidth\":0,\"ticks\":\"\"}},\"type\":\"scattergl\"}],\"scattermapbox\":[{\"marker\":{\"colorbar\":{\"outlinewidth\":0,\"ticks\":\"\"}},\"type\":\"scattermapbox\"}],\"scatterpolargl\":[{\"marker\":{\"colorbar\":{\"outlinewidth\":0,\"ticks\":\"\"}},\"type\":\"scatterpolargl\"}],\"scatterpolar\":[{\"marker\":{\"colorbar\":{\"outlinewidth\":0,\"ticks\":\"\"}},\"type\":\"scatterpolar\"}],\"scatter\":[{\"fillpattern\":{\"fillmode\":\"overlay\",\"size\":10,\"solidity\":0.2},\"type\":\"scatter\"}],\"scatterternary\":[{\"marker\":{\"colorbar\":{\"outlinewidth\":0,\"ticks\":\"\"}},\"type\":\"scatterternary\"}],\"surface\":[{\"colorbar\":{\"outlinewidth\":0,\"ticks\":\"\"},\"colorscale\":[[0.0,\"#0d0887\"],[0.1111111111111111,\"#46039f\"],[0.2222222222222222,\"#7201a8\"],[0.3333333333333333,\"#9c179e\"],[0.4444444444444444,\"#bd3786\"],[0.5555555555555556,\"#d8576b\"],[0.6666666666666666,\"#ed7953\"],[0.7777777777777778,\"#fb9f3a\"],[0.8888888888888888,\"#fdca26\"],[1.0,\"#f0f921\"]],\"type\":\"surface\"}],\"table\":[{\"cells\":{\"fill\":{\"color\":\"#EBF0F8\"},\"line\":{\"color\":\"white\"}},\"header\":{\"fill\":{\"color\":\"#C8D4E3\"},\"line\":{\"color\":\"white\"}},\"type\":\"table\"}]},\"layout\":{\"annotationdefaults\":{\"arrowcolor\":\"#2a3f5f\",\"arrowhead\":0,\"arrowwidth\":1},\"autotypenumbers\":\"strict\",\"coloraxis\":{\"colorbar\":{\"outlinewidth\":0,\"ticks\":\"\"}},\"colorscale\":{\"diverging\":[[0,\"#8e0152\"],[0.1,\"#c51b7d\"],[0.2,\"#de77ae\"],[0.3,\"#f1b6da\"],[0.4,\"#fde0ef\"],[0.5,\"#f7f7f7\"],[0.6,\"#e6f5d0\"],[0.7,\"#b8e186\"],[0.8,\"#7fbc41\"],[0.9,\"#4d9221\"],[1,\"#276419\"]],\"sequential\":[[0.0,\"#0d0887\"],[0.1111111111111111,\"#46039f\"],[0.2222222222222222,\"#7201a8\"],[0.3333333333333333,\"#9c179e\"],[0.4444444444444444,\"#bd3786\"],[0.5555555555555556,\"#d8576b\"],[0.6666666666666666,\"#ed7953\"],[0.7777777777777778,\"#fb9f3a\"],[0.8888888888888888,\"#fdca26\"],[1.0,\"#f0f921\"]],\"sequentialminus\":[[0.0,\"#0d0887\"],[0.1111111111111111,\"#46039f\"],[0.2222222222222222,\"#7201a8\"],[0.3333333333333333,\"#9c179e\"],[0.4444444444444444,\"#bd3786\"],[0.5555555555555556,\"#d8576b\"],[0.6666666666666666,\"#ed7953\"],[0.7777777777777778,\"#fb9f3a\"],[0.8888888888888888,\"#fdca26\"],[1.0,\"#f0f921\"]]},\"colorway\":[\"#636efa\",\"#EF553B\",\"#00cc96\",\"#ab63fa\",\"#FFA15A\",\"#19d3f3\",\"#FF6692\",\"#B6E880\",\"#FF97FF\",\"#FECB52\"],\"font\":{\"color\":\"#2a3f5f\"},\"geo\":{\"bgcolor\":\"white\",\"lakecolor\":\"white\",\"landcolor\":\"white\",\"showlakes\":true,\"showland\":true,\"subunitcolor\":\"#C8D4E3\"},\"hoverlabel\":{\"align\":\"left\"},\"hovermode\":\"closest\",\"mapbox\":{\"style\":\"light\"},\"paper_bgcolor\":\"white\",\"plot_bgcolor\":\"white\",\"polar\":{\"angularaxis\":{\"gridcolor\":\"#EBF0F8\",\"linecolor\":\"#EBF0F8\",\"ticks\":\"\"},\"bgcolor\":\"white\",\"radialaxis\":{\"gridcolor\":\"#EBF0F8\",\"linecolor\":\"#EBF0F8\",\"ticks\":\"\"}},\"scene\":{\"xaxis\":{\"backgroundcolor\":\"white\",\"gridcolor\":\"#DFE8F3\",\"gridwidth\":2,\"linecolor\":\"#EBF0F8\",\"showbackground\":true,\"ticks\":\"\",\"zerolinecolor\":\"#EBF0F8\"},\"yaxis\":{\"backgroundcolor\":\"white\",\"gridcolor\":\"#DFE8F3\",\"gridwidth\":2,\"linecolor\":\"#EBF0F8\",\"showbackground\":true,\"ticks\":\"\",\"zerolinecolor\":\"#EBF0F8\"},\"zaxis\":{\"backgroundcolor\":\"white\",\"gridcolor\":\"#DFE8F3\",\"gridwidth\":2,\"linecolor\":\"#EBF0F8\",\"showbackground\":true,\"ticks\":\"\",\"zerolinecolor\":\"#EBF0F8\"}},\"shapedefaults\":{\"line\":{\"color\":\"#2a3f5f\"}},\"ternary\":{\"aaxis\":{\"gridcolor\":\"#DFE8F3\",\"linecolor\":\"#A2B1C6\",\"ticks\":\"\"},\"baxis\":{\"gridcolor\":\"#DFE8F3\",\"linecolor\":\"#A2B1C6\",\"ticks\":\"\"},\"bgcolor\":\"white\",\"caxis\":{\"gridcolor\":\"#DFE8F3\",\"linecolor\":\"#A2B1C6\",\"ticks\":\"\"}},\"title\":{\"x\":0.05},\"xaxis\":{\"automargin\":true,\"gridcolor\":\"#EBF0F8\",\"linecolor\":\"#EBF0F8\",\"ticks\":\"\",\"title\":{\"standoff\":15},\"zerolinecolor\":\"#EBF0F8\",\"zerolinewidth\":2},\"yaxis\":{\"automargin\":true,\"gridcolor\":\"#EBF0F8\",\"linecolor\":\"#EBF0F8\",\"ticks\":\"\",\"title\":{\"standoff\":15},\"zerolinecolor\":\"#EBF0F8\",\"zerolinewidth\":2}}},\"xaxis\":{\"anchor\":\"y\",\"domain\":[0.0,0.2888888888888889],\"title\":{\"font\":{\"size\":12},\"text\":\"FCVC\"},\"tickfont\":{\"size\":10}},\"yaxis\":{\"anchor\":\"x\",\"domain\":[0.625,1.0],\"title\":{\"font\":{\"size\":12},\"text\":\"Frequency\"},\"tickfont\":{\"size\":10}},\"xaxis2\":{\"anchor\":\"y2\",\"domain\":[0.35555555555555557,0.6444444444444445],\"title\":{\"font\":{\"size\":12},\"text\":\"NCP\"},\"tickfont\":{\"size\":10}},\"yaxis2\":{\"anchor\":\"x2\",\"domain\":[0.625,1.0],\"title\":{\"font\":{\"size\":12},\"text\":\"Frequency\"},\"tickfont\":{\"size\":10}},\"xaxis3\":{\"anchor\":\"y3\",\"domain\":[0.7111111111111111,1.0],\"title\":{\"font\":{\"size\":12},\"text\":\"CH2O\"},\"tickfont\":{\"size\":10}},\"yaxis3\":{\"anchor\":\"x3\",\"domain\":[0.625,1.0],\"title\":{\"font\":{\"size\":12},\"text\":\"Frequency\"},\"tickfont\":{\"size\":10}},\"xaxis4\":{\"anchor\":\"y4\",\"domain\":[0.0,0.2888888888888889],\"title\":{\"font\":{\"size\":12},\"text\":\"FAF\"},\"tickfont\":{\"size\":10}},\"yaxis4\":{\"anchor\":\"x4\",\"domain\":[0.0,0.375],\"title\":{\"font\":{\"size\":12},\"text\":\"Frequency\"},\"tickfont\":{\"size\":10}},\"xaxis5\":{\"anchor\":\"y5\",\"domain\":[0.35555555555555557,0.6444444444444445],\"title\":{\"font\":{\"size\":12},\"text\":\"TUE\"},\"tickfont\":{\"size\":10}},\"yaxis5\":{\"anchor\":\"x5\",\"domain\":[0.0,0.375],\"title\":{\"font\":{\"size\":12},\"text\":\"Frequency\"},\"tickfont\":{\"size\":10}},\"xaxis6\":{\"anchor\":\"y6\",\"domain\":[0.7111111111111111,1.0]},\"yaxis6\":{\"anchor\":\"x6\",\"domain\":[0.0,0.375]},\"annotations\":[{\"font\":{\"size\":16},\"showarrow\":false,\"text\":\"FCVC\",\"x\":0.14444444444444446,\"xanchor\":\"center\",\"xref\":\"paper\",\"y\":1.0,\"yanchor\":\"bottom\",\"yref\":\"paper\"},{\"font\":{\"size\":16},\"showarrow\":false,\"text\":\"NCP\",\"x\":0.5,\"xanchor\":\"center\",\"xref\":\"paper\",\"y\":1.0,\"yanchor\":\"bottom\",\"yref\":\"paper\"},{\"font\":{\"size\":16},\"showarrow\":false,\"text\":\"CH2O\",\"x\":0.8555555555555556,\"xanchor\":\"center\",\"xref\":\"paper\",\"y\":1.0,\"yanchor\":\"bottom\",\"yref\":\"paper\"},{\"font\":{\"size\":16},\"showarrow\":false,\"text\":\"FAF\",\"x\":0.14444444444444446,\"xanchor\":\"center\",\"xref\":\"paper\",\"y\":0.375,\"yanchor\":\"bottom\",\"yref\":\"paper\"},{\"font\":{\"size\":16},\"showarrow\":false,\"text\":\"TUE\",\"x\":0.5,\"xanchor\":\"center\",\"xref\":\"paper\",\"y\":0.375,\"yanchor\":\"bottom\",\"yref\":\"paper\"}],\"title\":{\"font\":{\"size\":24},\"text\":\"Frequency Plots of Ordinal Columns\",\"x\":0.5},\"height\":800,\"width\":1000,\"showlegend\":true},                        {\"responsive\": true}                    ).then(function(){\n",
       "                            \n",
       "var gd = document.getElementById('3788ae6f-f81b-420b-9832-4f2e9643fd17');\n",
       "var x = new MutationObserver(function (mutations, observer) {{\n",
       "        var display = window.getComputedStyle(gd).display;\n",
       "        if (!display || display === 'none') {{\n",
       "            console.log([gd, 'removed!']);\n",
       "            Plotly.purge(gd);\n",
       "            observer.disconnect();\n",
       "        }}\n",
       "}});\n",
       "\n",
       "// Listen for the removal of the full notebook cells\n",
       "var notebookContainer = gd.closest('#notebook-container');\n",
       "if (notebookContainer) {{\n",
       "    x.observe(notebookContainer, {childList: true});\n",
       "}}\n",
       "\n",
       "// Listen for the clearing of the current output cell\n",
       "var outputEl = gd.closest('.output');\n",
       "if (outputEl) {{\n",
       "    x.observe(outputEl, {childList: true});\n",
       "}}\n",
       "\n",
       "                        })                };                });            </script>        </div>"
      ]
     },
     "metadata": {},
     "output_type": "display_data"
    }
   ],
   "source": [
    "columns = [\"FCVC\", \"NCP\", \"CH2O\", \"FAF\", \"TUE\"]\n",
    "\n",
    "# Create a 2x3 grid of subplots\n",
    "fig = make_subplots(rows=2, cols=3, subplot_titles=columns)\n",
    "\n",
    "# Add bar plots for each categorical column\n",
    "for idx, col in enumerate(columns):\n",
    "    row, col_idx = divmod(idx, 3)\n",
    "    counts = df[col].value_counts()\n",
    "    fig.add_trace(go.Bar(x=counts.index, y=counts.values, name=col, showlegend=False), row=row+1, col=col_idx+1)\n",
    "\n",
    "    # Change the color of each bar plot\n",
    "    fig.update_traces(marker_color='rgb(158,202,225)', row=row+1, col=col_idx+1)\n",
    "\n",
    "# Customize the plot\n",
    "fig.update_layout(\n",
    "    title=dict(text='Frequency Plots of Ordinal Columns', x=0.5, font=dict(size=24)),\n",
    "    template='plotly_white',\n",
    "    height=800,\n",
    "    width=1000,\n",
    "    showlegend=True,\n",
    ")\n",
    "\n",
    "# Update axis titles and font size\n",
    "for i in range(1, 6):\n",
    "    fig.update_xaxes(title_text=columns[i-1], title_font=dict(size=12), tickfont=dict(size=10), row=divmod(i-1, 3)[0]+1, col=divmod(i-1, 3)[1]+1)\n",
    "    fig.update_yaxes(title_text='Frequency', title_font=dict(size=12), tickfont=dict(size=10), row=divmod(i-1, 3)[0]+1, col=divmod(i-1,3)[1]+1)\n",
    "\n",
    "# Show the plot\n",
    "fig.show()\n"
   ]
  },
  {
   "cell_type": "markdown",
   "id": "292d2502",
   "metadata": {
    "papermill": {
     "duration": 0.025241,
     "end_time": "2023-04-17T10:49:46.236306",
     "exception": false,
     "start_time": "2023-04-17T10:49:46.211065",
     "status": "completed"
    },
    "tags": []
   },
   "source": [
    "# PCA\n",
    "PCA (Principal Component Analysis) is a statistical technique used to reduce the complexity of high-dimensional data by identifying the most important variables that explain the variance in the dataset. \n",
    "\n",
    "In the context of this study, PCA is used to identify the factors that contribute the most to obesity. By analyzing the relationships among the different features in the dataset, PCA can identify which features are most strongly correlated with obesity and which ones can be disregarded."
   ]
  },
  {
   "cell_type": "markdown",
   "id": "4d361c98",
   "metadata": {
    "execution": {
     "iopub.execute_input": "2023-04-01T15:15:35.424292Z",
     "iopub.status.busy": "2023-04-01T15:15:35.422751Z",
     "iopub.status.idle": "2023-04-01T15:15:35.430115Z",
     "shell.execute_reply": "2023-04-01T15:15:35.428783Z",
     "shell.execute_reply.started": "2023-04-01T15:15:35.424221Z"
    },
    "papermill": {
     "duration": 0.024962,
     "end_time": "2023-04-17T10:49:46.286715",
     "exception": false,
     "start_time": "2023-04-17T10:49:46.261753",
     "status": "completed"
    },
    "tags": []
   },
   "source": [
    "## Preprocessing"
   ]
  },
  {
   "cell_type": "code",
   "execution_count": 13,
   "id": "4781a5d9",
   "metadata": {
    "execution": {
     "iopub.execute_input": "2023-04-17T10:49:46.339223Z",
     "iopub.status.busy": "2023-04-17T10:49:46.338807Z",
     "iopub.status.idle": "2023-04-17T10:49:46.346621Z",
     "shell.execute_reply": "2023-04-17T10:49:46.345590Z"
    },
    "papermill": {
     "duration": 0.037178,
     "end_time": "2023-04-17T10:49:46.349081",
     "exception": false,
     "start_time": "2023-04-17T10:49:46.311903",
     "status": "completed"
    },
    "tags": []
   },
   "outputs": [],
   "source": [
    "X = df.drop([\"Weight\", \"Height\", \"NObeyesdad\"], axis=1)"
   ]
  },
  {
   "cell_type": "markdown",
   "id": "3179ce01",
   "metadata": {
    "papermill": {
     "duration": 0.024872,
     "end_time": "2023-04-17T10:49:46.399501",
     "exception": false,
     "start_time": "2023-04-17T10:49:46.374629",
     "status": "completed"
    },
    "tags": []
   },
   "source": [
    "> We firstly dropped our target variable **NObeyesdad**, and since it has been infered from the **Height** and **Weight** column using BMI calculation, we dropped them too"
   ]
  },
  {
   "cell_type": "code",
   "execution_count": 14,
   "id": "8849885e",
   "metadata": {
    "execution": {
     "iopub.execute_input": "2023-04-17T10:49:46.452048Z",
     "iopub.status.busy": "2023-04-17T10:49:46.451584Z",
     "iopub.status.idle": "2023-04-17T10:49:46.476601Z",
     "shell.execute_reply": "2023-04-17T10:49:46.475241Z"
    },
    "papermill": {
     "duration": 0.054895,
     "end_time": "2023-04-17T10:49:46.479421",
     "exception": false,
     "start_time": "2023-04-17T10:49:46.424526",
     "status": "completed"
    },
    "tags": []
   },
   "outputs": [
    {
     "data": {
      "text/html": [
       "<div>\n",
       "<style scoped>\n",
       "    .dataframe tbody tr th:only-of-type {\n",
       "        vertical-align: middle;\n",
       "    }\n",
       "\n",
       "    .dataframe tbody tr th {\n",
       "        vertical-align: top;\n",
       "    }\n",
       "\n",
       "    .dataframe thead th {\n",
       "        text-align: right;\n",
       "    }\n",
       "</style>\n",
       "<table border=\"1\" class=\"dataframe\">\n",
       "  <thead>\n",
       "    <tr style=\"text-align: right;\">\n",
       "      <th></th>\n",
       "      <th>Age</th>\n",
       "      <th>FCVC</th>\n",
       "      <th>NCP</th>\n",
       "      <th>CH2O</th>\n",
       "      <th>FAF</th>\n",
       "      <th>TUE</th>\n",
       "    </tr>\n",
       "  </thead>\n",
       "  <tbody>\n",
       "    <tr>\n",
       "      <th>0</th>\n",
       "      <td>-0.521741</td>\n",
       "      <td>-0.725454</td>\n",
       "      <td>0.385644</td>\n",
       "      <td>-0.021330</td>\n",
       "      <td>-1.124415</td>\n",
       "      <td>0.497717</td>\n",
       "    </tr>\n",
       "    <tr>\n",
       "      <th>1</th>\n",
       "      <td>-0.521741</td>\n",
       "      <td>0.987559</td>\n",
       "      <td>0.385644</td>\n",
       "      <td>1.431202</td>\n",
       "      <td>2.226606</td>\n",
       "      <td>-0.986295</td>\n",
       "    </tr>\n",
       "    <tr>\n",
       "      <th>2</th>\n",
       "      <td>-0.207057</td>\n",
       "      <td>-0.725454</td>\n",
       "      <td>0.385644</td>\n",
       "      <td>-0.021330</td>\n",
       "      <td>1.109599</td>\n",
       "      <td>0.497717</td>\n",
       "    </tr>\n",
       "    <tr>\n",
       "      <th>3</th>\n",
       "      <td>0.422312</td>\n",
       "      <td>0.987559</td>\n",
       "      <td>0.385644</td>\n",
       "      <td>-0.021330</td>\n",
       "      <td>1.109599</td>\n",
       "      <td>-0.986295</td>\n",
       "    </tr>\n",
       "    <tr>\n",
       "      <th>4</th>\n",
       "      <td>-0.364399</td>\n",
       "      <td>-0.725454</td>\n",
       "      <td>-2.085053</td>\n",
       "      <td>-0.021330</td>\n",
       "      <td>-1.124415</td>\n",
       "      <td>-0.986295</td>\n",
       "    </tr>\n",
       "  </tbody>\n",
       "</table>\n",
       "</div>"
      ],
      "text/plain": [
       "        Age      FCVC       NCP      CH2O       FAF       TUE\n",
       "0 -0.521741 -0.725454  0.385644 -0.021330 -1.124415  0.497717\n",
       "1 -0.521741  0.987559  0.385644  1.431202  2.226606 -0.986295\n",
       "2 -0.207057 -0.725454  0.385644 -0.021330  1.109599  0.497717\n",
       "3  0.422312  0.987559  0.385644 -0.021330  1.109599 -0.986295\n",
       "4 -0.364399 -0.725454 -2.085053 -0.021330 -1.124415 -0.986295"
      ]
     },
     "execution_count": 14,
     "metadata": {},
     "output_type": "execute_result"
    }
   ],
   "source": [
    "# Scale numerical variables\n",
    "scaler = StandardScaler()\n",
    "X_toScale = X.select_dtypes(include=['float64', 'int64'])\n",
    "X_scaled = pd.DataFrame(scaler.fit_transform(X_toScale), columns=X_toScale.columns)\n",
    "X_scaled.head()"
   ]
  },
  {
   "cell_type": "markdown",
   "id": "1c8fb229",
   "metadata": {
    "papermill": {
     "duration": 0.025712,
     "end_time": "2023-04-17T10:49:46.530747",
     "exception": false,
     "start_time": "2023-04-17T10:49:46.505035",
     "status": "completed"
    },
    "tags": []
   },
   "source": [
    "> We scaled the numerical variables of our dataset to improve the results of PCA."
   ]
  },
  {
   "cell_type": "code",
   "execution_count": 15,
   "id": "2f6054d3",
   "metadata": {
    "execution": {
     "iopub.execute_input": "2023-04-17T10:49:46.584767Z",
     "iopub.status.busy": "2023-04-17T10:49:46.584314Z",
     "iopub.status.idle": "2023-04-17T10:49:46.610559Z",
     "shell.execute_reply": "2023-04-17T10:49:46.609161Z"
    },
    "papermill": {
     "duration": 0.056521,
     "end_time": "2023-04-17T10:49:46.613282",
     "exception": false,
     "start_time": "2023-04-17T10:49:46.556761",
     "status": "completed"
    },
    "tags": []
   },
   "outputs": [
    {
     "data": {
      "text/html": [
       "<div>\n",
       "<style scoped>\n",
       "    .dataframe tbody tr th:only-of-type {\n",
       "        vertical-align: middle;\n",
       "    }\n",
       "\n",
       "    .dataframe tbody tr th {\n",
       "        vertical-align: top;\n",
       "    }\n",
       "\n",
       "    .dataframe thead th {\n",
       "        text-align: right;\n",
       "    }\n",
       "</style>\n",
       "<table border=\"1\" class=\"dataframe\">\n",
       "  <thead>\n",
       "    <tr style=\"text-align: right;\">\n",
       "      <th></th>\n",
       "      <th>Gender_Male</th>\n",
       "      <th>family_history_with_overweight_yes</th>\n",
       "      <th>FAVC_yes</th>\n",
       "      <th>CAEC_Frequently</th>\n",
       "      <th>CAEC_Sometimes</th>\n",
       "      <th>CAEC_no</th>\n",
       "      <th>SMOKE_yes</th>\n",
       "      <th>SCC_yes</th>\n",
       "      <th>CALC_Frequently</th>\n",
       "      <th>CALC_Sometimes</th>\n",
       "      <th>CALC_no</th>\n",
       "      <th>MTRANS_Bike</th>\n",
       "      <th>MTRANS_Motorbike</th>\n",
       "      <th>MTRANS_Public_Transportation</th>\n",
       "      <th>MTRANS_Walking</th>\n",
       "    </tr>\n",
       "  </thead>\n",
       "  <tbody>\n",
       "    <tr>\n",
       "      <th>0</th>\n",
       "      <td>0</td>\n",
       "      <td>1</td>\n",
       "      <td>0</td>\n",
       "      <td>0</td>\n",
       "      <td>1</td>\n",
       "      <td>0</td>\n",
       "      <td>0</td>\n",
       "      <td>0</td>\n",
       "      <td>0</td>\n",
       "      <td>0</td>\n",
       "      <td>1</td>\n",
       "      <td>0</td>\n",
       "      <td>0</td>\n",
       "      <td>1</td>\n",
       "      <td>0</td>\n",
       "    </tr>\n",
       "    <tr>\n",
       "      <th>1</th>\n",
       "      <td>0</td>\n",
       "      <td>1</td>\n",
       "      <td>0</td>\n",
       "      <td>0</td>\n",
       "      <td>1</td>\n",
       "      <td>0</td>\n",
       "      <td>1</td>\n",
       "      <td>1</td>\n",
       "      <td>0</td>\n",
       "      <td>1</td>\n",
       "      <td>0</td>\n",
       "      <td>0</td>\n",
       "      <td>0</td>\n",
       "      <td>1</td>\n",
       "      <td>0</td>\n",
       "    </tr>\n",
       "    <tr>\n",
       "      <th>2</th>\n",
       "      <td>1</td>\n",
       "      <td>1</td>\n",
       "      <td>0</td>\n",
       "      <td>0</td>\n",
       "      <td>1</td>\n",
       "      <td>0</td>\n",
       "      <td>0</td>\n",
       "      <td>0</td>\n",
       "      <td>1</td>\n",
       "      <td>0</td>\n",
       "      <td>0</td>\n",
       "      <td>0</td>\n",
       "      <td>0</td>\n",
       "      <td>1</td>\n",
       "      <td>0</td>\n",
       "    </tr>\n",
       "    <tr>\n",
       "      <th>3</th>\n",
       "      <td>1</td>\n",
       "      <td>0</td>\n",
       "      <td>0</td>\n",
       "      <td>0</td>\n",
       "      <td>1</td>\n",
       "      <td>0</td>\n",
       "      <td>0</td>\n",
       "      <td>0</td>\n",
       "      <td>1</td>\n",
       "      <td>0</td>\n",
       "      <td>0</td>\n",
       "      <td>0</td>\n",
       "      <td>0</td>\n",
       "      <td>0</td>\n",
       "      <td>1</td>\n",
       "    </tr>\n",
       "    <tr>\n",
       "      <th>4</th>\n",
       "      <td>1</td>\n",
       "      <td>0</td>\n",
       "      <td>0</td>\n",
       "      <td>0</td>\n",
       "      <td>1</td>\n",
       "      <td>0</td>\n",
       "      <td>0</td>\n",
       "      <td>0</td>\n",
       "      <td>0</td>\n",
       "      <td>1</td>\n",
       "      <td>0</td>\n",
       "      <td>0</td>\n",
       "      <td>0</td>\n",
       "      <td>1</td>\n",
       "      <td>0</td>\n",
       "    </tr>\n",
       "  </tbody>\n",
       "</table>\n",
       "</div>"
      ],
      "text/plain": [
       "   Gender_Male  family_history_with_overweight_yes  FAVC_yes  CAEC_Frequently  \\\n",
       "0            0                                   1         0                0   \n",
       "1            0                                   1         0                0   \n",
       "2            1                                   1         0                0   \n",
       "3            1                                   0         0                0   \n",
       "4            1                                   0         0                0   \n",
       "\n",
       "   CAEC_Sometimes  CAEC_no  SMOKE_yes  SCC_yes  CALC_Frequently  \\\n",
       "0               1        0          0        0                0   \n",
       "1               1        0          1        1                0   \n",
       "2               1        0          0        0                1   \n",
       "3               1        0          0        0                1   \n",
       "4               1        0          0        0                0   \n",
       "\n",
       "   CALC_Sometimes  CALC_no  MTRANS_Bike  MTRANS_Motorbike  \\\n",
       "0               0        1            0                 0   \n",
       "1               1        0            0                 0   \n",
       "2               0        0            0                 0   \n",
       "3               0        0            0                 0   \n",
       "4               1        0            0                 0   \n",
       "\n",
       "   MTRANS_Public_Transportation  MTRANS_Walking  \n",
       "0                             1               0  \n",
       "1                             1               0  \n",
       "2                             1               0  \n",
       "3                             0               1  \n",
       "4                             1               0  "
      ]
     },
     "execution_count": 15,
     "metadata": {},
     "output_type": "execute_result"
    }
   ],
   "source": [
    "dummies_cols = X[[\"Gender\",\"family_history_with_overweight\",\n",
    "                                          \"FAVC\",\"CAEC\",\"SMOKE\",\"SCC\",\"CALC\",\"MTRANS\"]]\n",
    "\n",
    "X_dummies = pd.get_dummies(dummies_cols,columns=[\"Gender\",\"family_history_with_overweight\",\n",
    "                                          \"FAVC\",\"CAEC\",\"SMOKE\",\"SCC\",\"CALC\",\"MTRANS\"], drop_first=True)\n",
    "X_dummies.head()"
   ]
  },
  {
   "cell_type": "markdown",
   "id": "f74aef50",
   "metadata": {
    "papermill": {
     "duration": 0.025442,
     "end_time": "2023-04-17T10:49:46.664895",
     "exception": false,
     "start_time": "2023-04-17T10:49:46.639453",
     "status": "completed"
    },
    "tags": []
   },
   "source": [
    "> As for our categorical variables, they have been encoded using one hot encoding and turned into dummy variables, it should be noted that we dropped one attribute from each feature to prevent Multicolinearity"
   ]
  },
  {
   "cell_type": "code",
   "execution_count": 16,
   "id": "d0d446ae",
   "metadata": {
    "execution": {
     "iopub.execute_input": "2023-04-17T10:49:46.719284Z",
     "iopub.status.busy": "2023-04-17T10:49:46.718822Z",
     "iopub.status.idle": "2023-04-17T10:49:46.744567Z",
     "shell.execute_reply": "2023-04-17T10:49:46.743277Z"
    },
    "papermill": {
     "duration": 0.055606,
     "end_time": "2023-04-17T10:49:46.746989",
     "exception": false,
     "start_time": "2023-04-17T10:49:46.691383",
     "status": "completed"
    },
    "tags": []
   },
   "outputs": [
    {
     "data": {
      "text/html": [
       "<div>\n",
       "<style scoped>\n",
       "    .dataframe tbody tr th:only-of-type {\n",
       "        vertical-align: middle;\n",
       "    }\n",
       "\n",
       "    .dataframe tbody tr th {\n",
       "        vertical-align: top;\n",
       "    }\n",
       "\n",
       "    .dataframe thead th {\n",
       "        text-align: right;\n",
       "    }\n",
       "</style>\n",
       "<table border=\"1\" class=\"dataframe\">\n",
       "  <thead>\n",
       "    <tr style=\"text-align: right;\">\n",
       "      <th></th>\n",
       "      <th>Age</th>\n",
       "      <th>FCVC</th>\n",
       "      <th>NCP</th>\n",
       "      <th>CH2O</th>\n",
       "      <th>FAF</th>\n",
       "      <th>TUE</th>\n",
       "      <th>Gender_Male</th>\n",
       "      <th>family_history_with_overweight_yes</th>\n",
       "      <th>FAVC_yes</th>\n",
       "      <th>CAEC_Frequently</th>\n",
       "      <th>...</th>\n",
       "      <th>CAEC_no</th>\n",
       "      <th>SMOKE_yes</th>\n",
       "      <th>SCC_yes</th>\n",
       "      <th>CALC_Frequently</th>\n",
       "      <th>CALC_Sometimes</th>\n",
       "      <th>CALC_no</th>\n",
       "      <th>MTRANS_Bike</th>\n",
       "      <th>MTRANS_Motorbike</th>\n",
       "      <th>MTRANS_Public_Transportation</th>\n",
       "      <th>MTRANS_Walking</th>\n",
       "    </tr>\n",
       "  </thead>\n",
       "  <tbody>\n",
       "    <tr>\n",
       "      <th>0</th>\n",
       "      <td>-0.521741</td>\n",
       "      <td>-0.725454</td>\n",
       "      <td>0.385644</td>\n",
       "      <td>-0.021330</td>\n",
       "      <td>-1.124415</td>\n",
       "      <td>0.497717</td>\n",
       "      <td>0</td>\n",
       "      <td>1</td>\n",
       "      <td>0</td>\n",
       "      <td>0</td>\n",
       "      <td>...</td>\n",
       "      <td>0</td>\n",
       "      <td>0</td>\n",
       "      <td>0</td>\n",
       "      <td>0</td>\n",
       "      <td>0</td>\n",
       "      <td>1</td>\n",
       "      <td>0</td>\n",
       "      <td>0</td>\n",
       "      <td>1</td>\n",
       "      <td>0</td>\n",
       "    </tr>\n",
       "    <tr>\n",
       "      <th>1</th>\n",
       "      <td>-0.521741</td>\n",
       "      <td>0.987559</td>\n",
       "      <td>0.385644</td>\n",
       "      <td>1.431202</td>\n",
       "      <td>2.226606</td>\n",
       "      <td>-0.986295</td>\n",
       "      <td>0</td>\n",
       "      <td>1</td>\n",
       "      <td>0</td>\n",
       "      <td>0</td>\n",
       "      <td>...</td>\n",
       "      <td>0</td>\n",
       "      <td>1</td>\n",
       "      <td>1</td>\n",
       "      <td>0</td>\n",
       "      <td>1</td>\n",
       "      <td>0</td>\n",
       "      <td>0</td>\n",
       "      <td>0</td>\n",
       "      <td>1</td>\n",
       "      <td>0</td>\n",
       "    </tr>\n",
       "    <tr>\n",
       "      <th>2</th>\n",
       "      <td>-0.207057</td>\n",
       "      <td>-0.725454</td>\n",
       "      <td>0.385644</td>\n",
       "      <td>-0.021330</td>\n",
       "      <td>1.109599</td>\n",
       "      <td>0.497717</td>\n",
       "      <td>1</td>\n",
       "      <td>1</td>\n",
       "      <td>0</td>\n",
       "      <td>0</td>\n",
       "      <td>...</td>\n",
       "      <td>0</td>\n",
       "      <td>0</td>\n",
       "      <td>0</td>\n",
       "      <td>1</td>\n",
       "      <td>0</td>\n",
       "      <td>0</td>\n",
       "      <td>0</td>\n",
       "      <td>0</td>\n",
       "      <td>1</td>\n",
       "      <td>0</td>\n",
       "    </tr>\n",
       "    <tr>\n",
       "      <th>3</th>\n",
       "      <td>0.422312</td>\n",
       "      <td>0.987559</td>\n",
       "      <td>0.385644</td>\n",
       "      <td>-0.021330</td>\n",
       "      <td>1.109599</td>\n",
       "      <td>-0.986295</td>\n",
       "      <td>1</td>\n",
       "      <td>0</td>\n",
       "      <td>0</td>\n",
       "      <td>0</td>\n",
       "      <td>...</td>\n",
       "      <td>0</td>\n",
       "      <td>0</td>\n",
       "      <td>0</td>\n",
       "      <td>1</td>\n",
       "      <td>0</td>\n",
       "      <td>0</td>\n",
       "      <td>0</td>\n",
       "      <td>0</td>\n",
       "      <td>0</td>\n",
       "      <td>1</td>\n",
       "    </tr>\n",
       "    <tr>\n",
       "      <th>4</th>\n",
       "      <td>-0.364399</td>\n",
       "      <td>-0.725454</td>\n",
       "      <td>-2.085053</td>\n",
       "      <td>-0.021330</td>\n",
       "      <td>-1.124415</td>\n",
       "      <td>-0.986295</td>\n",
       "      <td>1</td>\n",
       "      <td>0</td>\n",
       "      <td>0</td>\n",
       "      <td>0</td>\n",
       "      <td>...</td>\n",
       "      <td>0</td>\n",
       "      <td>0</td>\n",
       "      <td>0</td>\n",
       "      <td>0</td>\n",
       "      <td>1</td>\n",
       "      <td>0</td>\n",
       "      <td>0</td>\n",
       "      <td>0</td>\n",
       "      <td>1</td>\n",
       "      <td>0</td>\n",
       "    </tr>\n",
       "  </tbody>\n",
       "</table>\n",
       "<p>5 rows × 21 columns</p>\n",
       "</div>"
      ],
      "text/plain": [
       "        Age      FCVC       NCP      CH2O       FAF       TUE  Gender_Male  \\\n",
       "0 -0.521741 -0.725454  0.385644 -0.021330 -1.124415  0.497717            0   \n",
       "1 -0.521741  0.987559  0.385644  1.431202  2.226606 -0.986295            0   \n",
       "2 -0.207057 -0.725454  0.385644 -0.021330  1.109599  0.497717            1   \n",
       "3  0.422312  0.987559  0.385644 -0.021330  1.109599 -0.986295            1   \n",
       "4 -0.364399 -0.725454 -2.085053 -0.021330 -1.124415 -0.986295            1   \n",
       "\n",
       "   family_history_with_overweight_yes  FAVC_yes  CAEC_Frequently  ...  \\\n",
       "0                                   1         0                0  ...   \n",
       "1                                   1         0                0  ...   \n",
       "2                                   1         0                0  ...   \n",
       "3                                   0         0                0  ...   \n",
       "4                                   0         0                0  ...   \n",
       "\n",
       "   CAEC_no  SMOKE_yes  SCC_yes  CALC_Frequently  CALC_Sometimes  CALC_no  \\\n",
       "0        0          0        0                0               0        1   \n",
       "1        0          1        1                0               1        0   \n",
       "2        0          0        0                1               0        0   \n",
       "3        0          0        0                1               0        0   \n",
       "4        0          0        0                0               1        0   \n",
       "\n",
       "   MTRANS_Bike  MTRANS_Motorbike  MTRANS_Public_Transportation  MTRANS_Walking  \n",
       "0            0                 0                             1               0  \n",
       "1            0                 0                             1               0  \n",
       "2            0                 0                             1               0  \n",
       "3            0                 0                             0               1  \n",
       "4            0                 0                             1               0  \n",
       "\n",
       "[5 rows x 21 columns]"
      ]
     },
     "execution_count": 16,
     "metadata": {},
     "output_type": "execute_result"
    }
   ],
   "source": [
    "# Combine the encoded categorical and scaled numerical features\n",
    "X_final = pd.concat([X_scaled, X_dummies], axis=1)\n",
    "X_final.head()"
   ]
  },
  {
   "cell_type": "markdown",
   "id": "e3222a6b",
   "metadata": {
    "papermill": {
     "duration": 0.025987,
     "end_time": "2023-04-17T10:49:46.800187",
     "exception": false,
     "start_time": "2023-04-17T10:49:46.774200",
     "status": "completed"
    },
    "tags": []
   },
   "source": [
    "## Modelling"
   ]
  },
  {
   "cell_type": "code",
   "execution_count": 17,
   "id": "16702906",
   "metadata": {
    "execution": {
     "iopub.execute_input": "2023-04-17T10:49:46.859377Z",
     "iopub.status.busy": "2023-04-17T10:49:46.858186Z",
     "iopub.status.idle": "2023-04-17T10:49:46.892583Z",
     "shell.execute_reply": "2023-04-17T10:49:46.890699Z"
    },
    "papermill": {
     "duration": 0.06773,
     "end_time": "2023-04-17T10:49:46.897262",
     "exception": false,
     "start_time": "2023-04-17T10:49:46.829532",
     "status": "completed"
    },
    "tags": []
   },
   "outputs": [
    {
     "data": {
      "text/plain": [
       "PCA()"
      ]
     },
     "execution_count": 17,
     "metadata": {},
     "output_type": "execute_result"
    }
   ],
   "source": [
    "# Perform PCA\n",
    "pca = PCA()\n",
    "pca.fit(X_final)"
   ]
  },
  {
   "cell_type": "code",
   "execution_count": 18,
   "id": "a03ec110",
   "metadata": {
    "execution": {
     "iopub.execute_input": "2023-04-17T10:49:47.019156Z",
     "iopub.status.busy": "2023-04-17T10:49:47.018692Z",
     "iopub.status.idle": "2023-04-17T10:49:47.024946Z",
     "shell.execute_reply": "2023-04-17T10:49:47.023970Z"
    },
    "papermill": {
     "duration": 0.055774,
     "end_time": "2023-04-17T10:49:47.028543",
     "exception": false,
     "start_time": "2023-04-17T10:49:46.972769",
     "status": "completed"
    },
    "tags": []
   },
   "outputs": [
    {
     "name": "stdout",
     "output_type": "stream",
     "text": [
      "Explained variance ratio of component 1: 18.71%\n",
      "Explained variance ratio of component 2: 15.99%\n",
      "Explained variance ratio of component 3: 13.71%\n",
      "Explained variance ratio of component 4: 12.37%\n",
      "Explained variance ratio of component 5: 11.61%\n",
      "Explained variance ratio of component 6: 9.86%\n",
      "Explained variance ratio of component 7: 5.22%\n",
      "Explained variance ratio of component 8: 3.33%\n",
      "Explained variance ratio of component 9: 2.66%\n",
      "Explained variance ratio of component 10: 1.70%\n",
      "Explained variance ratio of component 11: 1.36%\n",
      "Explained variance ratio of component 12: 1.17%\n",
      "Explained variance ratio of component 13: 0.62%\n",
      "Explained variance ratio of component 14: 0.52%\n",
      "Explained variance ratio of component 15: 0.44%\n",
      "Explained variance ratio of component 16: 0.27%\n",
      "Explained variance ratio of component 17: 0.25%\n",
      "Explained variance ratio of component 18: 0.09%\n",
      "Explained variance ratio of component 19: 0.07%\n",
      "Explained variance ratio of component 20: 0.04%\n",
      "Explained variance ratio of component 21: 0.00%\n"
     ]
    }
   ],
   "source": [
    "# Get the explained variance ratio for each component\n",
    "explained_variance_ratio = pca.explained_variance_ratio_\n",
    "\n",
    "# Print the explained variance ratio for each component\n",
    "for i, ratio in enumerate(explained_variance_ratio):\n",
    "    print(f'Explained variance ratio of component {i+1}: {ratio:.2%}')"
   ]
  },
  {
   "cell_type": "markdown",
   "id": "127f9f81",
   "metadata": {
    "papermill": {
     "duration": 0.026681,
     "end_time": "2023-04-17T10:49:47.082075",
     "exception": false,
     "start_time": "2023-04-17T10:49:47.055394",
     "status": "completed"
    },
    "tags": []
   },
   "source": [
    "## Model Evaluation"
   ]
  },
  {
   "cell_type": "code",
   "execution_count": 19,
   "id": "51a9a075",
   "metadata": {
    "execution": {
     "iopub.execute_input": "2023-04-17T10:49:47.138133Z",
     "iopub.status.busy": "2023-04-17T10:49:47.137295Z",
     "iopub.status.idle": "2023-04-17T10:49:47.198410Z",
     "shell.execute_reply": "2023-04-17T10:49:47.197431Z"
    },
    "papermill": {
     "duration": 0.09205,
     "end_time": "2023-04-17T10:49:47.200868",
     "exception": false,
     "start_time": "2023-04-17T10:49:47.108818",
     "status": "completed"
    },
    "tags": []
   },
   "outputs": [
    {
     "data": {
      "text/html": [
       "<div>                            <div id=\"52e60186-1b36-4615-9d58-f002f303d1f7\" class=\"plotly-graph-div\" style=\"height:500px; width:800px;\"></div>            <script type=\"text/javascript\">                require([\"plotly\"], function(Plotly) {                    window.PLOTLYENV=window.PLOTLYENV || {};                                    if (document.getElementById(\"52e60186-1b36-4615-9d58-f002f303d1f7\")) {                    Plotly.newPlot(                        \"52e60186-1b36-4615-9d58-f002f303d1f7\",                        [{\"line\":{\"width\":1.2},\"marker\":{\"color\":\"#2a9d8f\",\"size\":8},\"mode\":\"lines+markers\",\"x\":[1,2,3,4,5,6,7,8,9,10,11,12,13,14,15,16,17,18,19,20,21],\"y\":[0.18709480364995526,0.3469866547323339,0.4841220308582023,0.6078566106152359,0.7239250415833461,0.8225170768340846,0.8746783050048264,0.9079670966647048,0.934571818736347,0.951561306663469,0.9651914006690185,0.9768942313821526,0.9831338820512652,0.9883177346372092,0.9926834041921014,0.9954197060123664,0.9979682600743541,0.9988981286488141,0.9995561987724607,0.999979609869134,1.0000000000000002],\"type\":\"scatter\"}],                        {\"height\":500,\"template\":{\"data\":{\"barpolar\":[{\"marker\":{\"line\":{\"color\":\"white\",\"width\":0.5},\"pattern\":{\"fillmode\":\"overlay\",\"size\":10,\"solidity\":0.2}},\"type\":\"barpolar\"}],\"bar\":[{\"error_x\":{\"color\":\"#2a3f5f\"},\"error_y\":{\"color\":\"#2a3f5f\"},\"marker\":{\"line\":{\"color\":\"white\",\"width\":0.5},\"pattern\":{\"fillmode\":\"overlay\",\"size\":10,\"solidity\":0.2}},\"type\":\"bar\"}],\"carpet\":[{\"aaxis\":{\"endlinecolor\":\"#2a3f5f\",\"gridcolor\":\"#C8D4E3\",\"linecolor\":\"#C8D4E3\",\"minorgridcolor\":\"#C8D4E3\",\"startlinecolor\":\"#2a3f5f\"},\"baxis\":{\"endlinecolor\":\"#2a3f5f\",\"gridcolor\":\"#C8D4E3\",\"linecolor\":\"#C8D4E3\",\"minorgridcolor\":\"#C8D4E3\",\"startlinecolor\":\"#2a3f5f\"},\"type\":\"carpet\"}],\"choropleth\":[{\"colorbar\":{\"outlinewidth\":0,\"ticks\":\"\"},\"type\":\"choropleth\"}],\"contourcarpet\":[{\"colorbar\":{\"outlinewidth\":0,\"ticks\":\"\"},\"type\":\"contourcarpet\"}],\"contour\":[{\"colorbar\":{\"outlinewidth\":0,\"ticks\":\"\"},\"colorscale\":[[0.0,\"#0d0887\"],[0.1111111111111111,\"#46039f\"],[0.2222222222222222,\"#7201a8\"],[0.3333333333333333,\"#9c179e\"],[0.4444444444444444,\"#bd3786\"],[0.5555555555555556,\"#d8576b\"],[0.6666666666666666,\"#ed7953\"],[0.7777777777777778,\"#fb9f3a\"],[0.8888888888888888,\"#fdca26\"],[1.0,\"#f0f921\"]],\"type\":\"contour\"}],\"heatmapgl\":[{\"colorbar\":{\"outlinewidth\":0,\"ticks\":\"\"},\"colorscale\":[[0.0,\"#0d0887\"],[0.1111111111111111,\"#46039f\"],[0.2222222222222222,\"#7201a8\"],[0.3333333333333333,\"#9c179e\"],[0.4444444444444444,\"#bd3786\"],[0.5555555555555556,\"#d8576b\"],[0.6666666666666666,\"#ed7953\"],[0.7777777777777778,\"#fb9f3a\"],[0.8888888888888888,\"#fdca26\"],[1.0,\"#f0f921\"]],\"type\":\"heatmapgl\"}],\"heatmap\":[{\"colorbar\":{\"outlinewidth\":0,\"ticks\":\"\"},\"colorscale\":[[0.0,\"#0d0887\"],[0.1111111111111111,\"#46039f\"],[0.2222222222222222,\"#7201a8\"],[0.3333333333333333,\"#9c179e\"],[0.4444444444444444,\"#bd3786\"],[0.5555555555555556,\"#d8576b\"],[0.6666666666666666,\"#ed7953\"],[0.7777777777777778,\"#fb9f3a\"],[0.8888888888888888,\"#fdca26\"],[1.0,\"#f0f921\"]],\"type\":\"heatmap\"}],\"histogram2dcontour\":[{\"colorbar\":{\"outlinewidth\":0,\"ticks\":\"\"},\"colorscale\":[[0.0,\"#0d0887\"],[0.1111111111111111,\"#46039f\"],[0.2222222222222222,\"#7201a8\"],[0.3333333333333333,\"#9c179e\"],[0.4444444444444444,\"#bd3786\"],[0.5555555555555556,\"#d8576b\"],[0.6666666666666666,\"#ed7953\"],[0.7777777777777778,\"#fb9f3a\"],[0.8888888888888888,\"#fdca26\"],[1.0,\"#f0f921\"]],\"type\":\"histogram2dcontour\"}],\"histogram2d\":[{\"colorbar\":{\"outlinewidth\":0,\"ticks\":\"\"},\"colorscale\":[[0.0,\"#0d0887\"],[0.1111111111111111,\"#46039f\"],[0.2222222222222222,\"#7201a8\"],[0.3333333333333333,\"#9c179e\"],[0.4444444444444444,\"#bd3786\"],[0.5555555555555556,\"#d8576b\"],[0.6666666666666666,\"#ed7953\"],[0.7777777777777778,\"#fb9f3a\"],[0.8888888888888888,\"#fdca26\"],[1.0,\"#f0f921\"]],\"type\":\"histogram2d\"}],\"histogram\":[{\"marker\":{\"pattern\":{\"fillmode\":\"overlay\",\"size\":10,\"solidity\":0.2}},\"type\":\"histogram\"}],\"mesh3d\":[{\"colorbar\":{\"outlinewidth\":0,\"ticks\":\"\"},\"type\":\"mesh3d\"}],\"parcoords\":[{\"line\":{\"colorbar\":{\"outlinewidth\":0,\"ticks\":\"\"}},\"type\":\"parcoords\"}],\"pie\":[{\"automargin\":true,\"type\":\"pie\"}],\"scatter3d\":[{\"line\":{\"colorbar\":{\"outlinewidth\":0,\"ticks\":\"\"}},\"marker\":{\"colorbar\":{\"outlinewidth\":0,\"ticks\":\"\"}},\"type\":\"scatter3d\"}],\"scattercarpet\":[{\"marker\":{\"colorbar\":{\"outlinewidth\":0,\"ticks\":\"\"}},\"type\":\"scattercarpet\"}],\"scattergeo\":[{\"marker\":{\"colorbar\":{\"outlinewidth\":0,\"ticks\":\"\"}},\"type\":\"scattergeo\"}],\"scattergl\":[{\"marker\":{\"colorbar\":{\"outlinewidth\":0,\"ticks\":\"\"}},\"type\":\"scattergl\"}],\"scattermapbox\":[{\"marker\":{\"colorbar\":{\"outlinewidth\":0,\"ticks\":\"\"}},\"type\":\"scattermapbox\"}],\"scatterpolargl\":[{\"marker\":{\"colorbar\":{\"outlinewidth\":0,\"ticks\":\"\"}},\"type\":\"scatterpolargl\"}],\"scatterpolar\":[{\"marker\":{\"colorbar\":{\"outlinewidth\":0,\"ticks\":\"\"}},\"type\":\"scatterpolar\"}],\"scatter\":[{\"fillpattern\":{\"fillmode\":\"overlay\",\"size\":10,\"solidity\":0.2},\"type\":\"scatter\"}],\"scatterternary\":[{\"marker\":{\"colorbar\":{\"outlinewidth\":0,\"ticks\":\"\"}},\"type\":\"scatterternary\"}],\"surface\":[{\"colorbar\":{\"outlinewidth\":0,\"ticks\":\"\"},\"colorscale\":[[0.0,\"#0d0887\"],[0.1111111111111111,\"#46039f\"],[0.2222222222222222,\"#7201a8\"],[0.3333333333333333,\"#9c179e\"],[0.4444444444444444,\"#bd3786\"],[0.5555555555555556,\"#d8576b\"],[0.6666666666666666,\"#ed7953\"],[0.7777777777777778,\"#fb9f3a\"],[0.8888888888888888,\"#fdca26\"],[1.0,\"#f0f921\"]],\"type\":\"surface\"}],\"table\":[{\"cells\":{\"fill\":{\"color\":\"#EBF0F8\"},\"line\":{\"color\":\"white\"}},\"header\":{\"fill\":{\"color\":\"#C8D4E3\"},\"line\":{\"color\":\"white\"}},\"type\":\"table\"}]},\"layout\":{\"annotationdefaults\":{\"arrowcolor\":\"#2a3f5f\",\"arrowhead\":0,\"arrowwidth\":1},\"autotypenumbers\":\"strict\",\"coloraxis\":{\"colorbar\":{\"outlinewidth\":0,\"ticks\":\"\"}},\"colorscale\":{\"diverging\":[[0,\"#8e0152\"],[0.1,\"#c51b7d\"],[0.2,\"#de77ae\"],[0.3,\"#f1b6da\"],[0.4,\"#fde0ef\"],[0.5,\"#f7f7f7\"],[0.6,\"#e6f5d0\"],[0.7,\"#b8e186\"],[0.8,\"#7fbc41\"],[0.9,\"#4d9221\"],[1,\"#276419\"]],\"sequential\":[[0.0,\"#0d0887\"],[0.1111111111111111,\"#46039f\"],[0.2222222222222222,\"#7201a8\"],[0.3333333333333333,\"#9c179e\"],[0.4444444444444444,\"#bd3786\"],[0.5555555555555556,\"#d8576b\"],[0.6666666666666666,\"#ed7953\"],[0.7777777777777778,\"#fb9f3a\"],[0.8888888888888888,\"#fdca26\"],[1.0,\"#f0f921\"]],\"sequentialminus\":[[0.0,\"#0d0887\"],[0.1111111111111111,\"#46039f\"],[0.2222222222222222,\"#7201a8\"],[0.3333333333333333,\"#9c179e\"],[0.4444444444444444,\"#bd3786\"],[0.5555555555555556,\"#d8576b\"],[0.6666666666666666,\"#ed7953\"],[0.7777777777777778,\"#fb9f3a\"],[0.8888888888888888,\"#fdca26\"],[1.0,\"#f0f921\"]]},\"colorway\":[\"#636efa\",\"#EF553B\",\"#00cc96\",\"#ab63fa\",\"#FFA15A\",\"#19d3f3\",\"#FF6692\",\"#B6E880\",\"#FF97FF\",\"#FECB52\"],\"font\":{\"color\":\"#2a3f5f\"},\"geo\":{\"bgcolor\":\"white\",\"lakecolor\":\"white\",\"landcolor\":\"white\",\"showlakes\":true,\"showland\":true,\"subunitcolor\":\"#C8D4E3\"},\"hoverlabel\":{\"align\":\"left\"},\"hovermode\":\"closest\",\"mapbox\":{\"style\":\"light\"},\"paper_bgcolor\":\"white\",\"plot_bgcolor\":\"white\",\"polar\":{\"angularaxis\":{\"gridcolor\":\"#EBF0F8\",\"linecolor\":\"#EBF0F8\",\"ticks\":\"\"},\"bgcolor\":\"white\",\"radialaxis\":{\"gridcolor\":\"#EBF0F8\",\"linecolor\":\"#EBF0F8\",\"ticks\":\"\"}},\"scene\":{\"xaxis\":{\"backgroundcolor\":\"white\",\"gridcolor\":\"#DFE8F3\",\"gridwidth\":2,\"linecolor\":\"#EBF0F8\",\"showbackground\":true,\"ticks\":\"\",\"zerolinecolor\":\"#EBF0F8\"},\"yaxis\":{\"backgroundcolor\":\"white\",\"gridcolor\":\"#DFE8F3\",\"gridwidth\":2,\"linecolor\":\"#EBF0F8\",\"showbackground\":true,\"ticks\":\"\",\"zerolinecolor\":\"#EBF0F8\"},\"zaxis\":{\"backgroundcolor\":\"white\",\"gridcolor\":\"#DFE8F3\",\"gridwidth\":2,\"linecolor\":\"#EBF0F8\",\"showbackground\":true,\"ticks\":\"\",\"zerolinecolor\":\"#EBF0F8\"}},\"shapedefaults\":{\"line\":{\"color\":\"#2a3f5f\"}},\"ternary\":{\"aaxis\":{\"gridcolor\":\"#DFE8F3\",\"linecolor\":\"#A2B1C6\",\"ticks\":\"\"},\"baxis\":{\"gridcolor\":\"#DFE8F3\",\"linecolor\":\"#A2B1C6\",\"ticks\":\"\"},\"bgcolor\":\"white\",\"caxis\":{\"gridcolor\":\"#DFE8F3\",\"linecolor\":\"#A2B1C6\",\"ticks\":\"\"}},\"title\":{\"x\":0.05},\"xaxis\":{\"automargin\":true,\"gridcolor\":\"#EBF0F8\",\"linecolor\":\"#EBF0F8\",\"ticks\":\"\",\"title\":{\"standoff\":15},\"zerolinecolor\":\"#EBF0F8\",\"zerolinewidth\":2},\"yaxis\":{\"automargin\":true,\"gridcolor\":\"#EBF0F8\",\"linecolor\":\"#EBF0F8\",\"ticks\":\"\",\"title\":{\"standoff\":15},\"zerolinecolor\":\"#EBF0F8\",\"zerolinewidth\":2}}},\"title\":{\"font\":{\"size\":24},\"text\":\"Cumulative Explained Variance Ratio\",\"x\":0.5},\"width\":800,\"xaxis\":{\"title\":{\"text\":\"Number of Components\"}},\"yaxis\":{\"title\":{\"text\":\"Cumulative Explained Variance Ratio\"}}},                        {\"responsive\": true}                    ).then(function(){\n",
       "                            \n",
       "var gd = document.getElementById('52e60186-1b36-4615-9d58-f002f303d1f7');\n",
       "var x = new MutationObserver(function (mutations, observer) {{\n",
       "        var display = window.getComputedStyle(gd).display;\n",
       "        if (!display || display === 'none') {{\n",
       "            console.log([gd, 'removed!']);\n",
       "            Plotly.purge(gd);\n",
       "            observer.disconnect();\n",
       "        }}\n",
       "}});\n",
       "\n",
       "// Listen for the removal of the full notebook cells\n",
       "var notebookContainer = gd.closest('#notebook-container');\n",
       "if (notebookContainer) {{\n",
       "    x.observe(notebookContainer, {childList: true});\n",
       "}}\n",
       "\n",
       "// Listen for the clearing of the current output cell\n",
       "var outputEl = gd.closest('.output');\n",
       "if (outputEl) {{\n",
       "    x.observe(outputEl, {childList: true});\n",
       "}}\n",
       "\n",
       "                        })                };                });            </script>        </div>"
      ]
     },
     "metadata": {},
     "output_type": "display_data"
    }
   ],
   "source": [
    "# cumulative explained variance ratio\n",
    "cumulative_variance_ratio = np.cumsum(pca.explained_variance_ratio_)\n",
    "\n",
    "# create trace for line with markers\n",
    "trace = go.Scatter(x=list(range(1, len(cumulative_variance_ratio)+1)), \n",
    "                   y=cumulative_variance_ratio,\n",
    "                   mode='lines+markers',\n",
    "                   marker=dict(size=8, color='#2a9d8f'),\n",
    "                   line=dict(width=1.2)\n",
    "                  )\n",
    "\n",
    "# create layout\n",
    "layout = go.Layout(title=dict(text='Cumulative Explained Variance Ratio', x=0.5, font=dict(size=24)),\n",
    "                   xaxis=dict(title='Number of Components'),\n",
    "                   yaxis=dict(title='Cumulative Explained Variance Ratio'),\n",
    "                   template='plotly_white',\n",
    "                   width=800, # increase the width of the plot\n",
    "                   height=500, # increase the height of the plot\n",
    "                  )\n",
    "\n",
    "# create figure\n",
    "fig = go.Figure(data=[trace], layout=layout)\n",
    "\n",
    "# show figure\n",
    "fig.show()\n"
   ]
  },
  {
   "cell_type": "markdown",
   "id": "ba21a11d",
   "metadata": {
    "papermill": {
     "duration": 0.027648,
     "end_time": "2023-04-17T10:49:47.256195",
     "exception": false,
     "start_time": "2023-04-17T10:49:47.228547",
     "status": "completed"
    },
    "tags": []
   },
   "source": [
    "> We can see that the first 5 components explain more than 70% of the variablility."
   ]
  },
  {
   "cell_type": "code",
   "execution_count": 20,
   "id": "84b59a5b",
   "metadata": {
    "execution": {
     "iopub.execute_input": "2023-04-17T10:49:47.315085Z",
     "iopub.status.busy": "2023-04-17T10:49:47.314414Z",
     "iopub.status.idle": "2023-04-17T10:49:47.329206Z",
     "shell.execute_reply": "2023-04-17T10:49:47.327162Z"
    },
    "papermill": {
     "duration": 0.047659,
     "end_time": "2023-04-17T10:49:47.331873",
     "exception": false,
     "start_time": "2023-04-17T10:49:47.284214",
     "status": "completed"
    },
    "tags": []
   },
   "outputs": [
    {
     "name": "stdout",
     "output_type": "stream",
     "text": [
      "Highest variance components:  [0 1 2 3 4]\n",
      "\n",
      "Component 0 - Top Variables:\n",
      "Age                                   0.652307\n",
      "FCVC                                  0.077632\n",
      "family_history_with_overweight_yes    0.036282\n",
      "CALC_Sometimes                        0.029018\n",
      "CAEC_Sometimes                        0.028276\n",
      "Name: 0, dtype: float64\n",
      "\n",
      "Component 1 - Top Variables:\n",
      "CH2O    0.565114\n",
      "NCP     0.452785\n",
      "FAF     0.425349\n",
      "FCVC    0.344828\n",
      "Age     0.181481\n",
      "Name: 1, dtype: float64\n",
      "\n",
      "Component 2 - Top Variables:\n",
      "NCP            0.331819\n",
      "Age            0.281140\n",
      "FAF            0.234547\n",
      "Gender_Male    0.195991\n",
      "CALC_no        0.036073\n",
      "Name: 2, dtype: float64\n",
      "\n",
      "Component 3 - Top Variables:\n",
      "CH2O           0.659154\n",
      "FAF            0.086353\n",
      "Gender_Male    0.073348\n",
      "CAEC_no        0.035755\n",
      "CALC_no        0.029883\n",
      "Name: 3, dtype: float64\n",
      "\n",
      "Component 4 - Top Variables:\n",
      "FAF                0.722431\n",
      "FCVC               0.151864\n",
      "CALC_no            0.149160\n",
      "Age                0.052581\n",
      "CAEC_Frequently    0.041599\n",
      "Name: 4, dtype: float64\n"
     ]
    }
   ],
   "source": [
    "# Look at loadings for each component\n",
    "loadings = pd.DataFrame(pca.components_, columns=X_final.columns)\n",
    "\n",
    "# Determine components with highest explained variance ratios\n",
    "variances = pca.explained_variance_ratio_\n",
    "highest_variances = np.argsort(variances)[::-1][:5]\n",
    "print(\"Highest variance components: \", highest_variances)\n",
    "\n",
    "# Look at variables with highest loadings for each of the most important components\n",
    "for component in highest_variances:\n",
    "    top_variables = loadings.iloc[component].sort_values(ascending=False)[:5]\n",
    "    print(f\"\\nComponent {component} - Top Variables:\\n{top_variables}\")\n",
    "\n",
    "# Consider relationships between prominent variables and outcome variable\n"
   ]
  },
  {
   "cell_type": "code",
   "execution_count": 21,
   "id": "84b58d04",
   "metadata": {
    "execution": {
     "iopub.execute_input": "2023-04-17T10:49:47.388494Z",
     "iopub.status.busy": "2023-04-17T10:49:47.387708Z",
     "iopub.status.idle": "2023-04-17T10:49:47.416461Z",
     "shell.execute_reply": "2023-04-17T10:49:47.415459Z"
    },
    "papermill": {
     "duration": 0.060052,
     "end_time": "2023-04-17T10:49:47.418678",
     "exception": false,
     "start_time": "2023-04-17T10:49:47.358626",
     "status": "completed"
    },
    "tags": []
   },
   "outputs": [
    {
     "data": {
      "text/html": [
       "<div>\n",
       "<style scoped>\n",
       "    .dataframe tbody tr th:only-of-type {\n",
       "        vertical-align: middle;\n",
       "    }\n",
       "\n",
       "    .dataframe tbody tr th {\n",
       "        vertical-align: top;\n",
       "    }\n",
       "\n",
       "    .dataframe thead th {\n",
       "        text-align: right;\n",
       "    }\n",
       "</style>\n",
       "<table border=\"1\" class=\"dataframe\">\n",
       "  <thead>\n",
       "    <tr style=\"text-align: right;\">\n",
       "      <th></th>\n",
       "      <th>Component</th>\n",
       "      <th>Explained Variance Ratio</th>\n",
       "      <th>Cumulative Explained Variance Ratio</th>\n",
       "      <th>Top Variables</th>\n",
       "    </tr>\n",
       "  </thead>\n",
       "  <tbody>\n",
       "    <tr>\n",
       "      <th>0</th>\n",
       "      <td>1</td>\n",
       "      <td>0.187095</td>\n",
       "      <td>0.187095</td>\n",
       "      <td>[Age, FCVC, family_history_with_overweight_yes...</td>\n",
       "    </tr>\n",
       "    <tr>\n",
       "      <th>1</th>\n",
       "      <td>2</td>\n",
       "      <td>0.159892</td>\n",
       "      <td>0.346987</td>\n",
       "      <td>[CH2O, NCP, FAF, FCVC, Age]</td>\n",
       "    </tr>\n",
       "    <tr>\n",
       "      <th>2</th>\n",
       "      <td>3</td>\n",
       "      <td>0.137135</td>\n",
       "      <td>0.484122</td>\n",
       "      <td>[NCP, Age, FAF, Gender_Male, CALC_no]</td>\n",
       "    </tr>\n",
       "    <tr>\n",
       "      <th>3</th>\n",
       "      <td>4</td>\n",
       "      <td>0.123735</td>\n",
       "      <td>0.607857</td>\n",
       "      <td>[CH2O, FAF, Gender_Male, CAEC_no, CALC_no]</td>\n",
       "    </tr>\n",
       "    <tr>\n",
       "      <th>4</th>\n",
       "      <td>5</td>\n",
       "      <td>0.116068</td>\n",
       "      <td>0.723925</td>\n",
       "      <td>[FAF, FCVC, CALC_no, Age, CAEC_Frequently]</td>\n",
       "    </tr>\n",
       "    <tr>\n",
       "      <th>5</th>\n",
       "      <td>6</td>\n",
       "      <td>0.098592</td>\n",
       "      <td>0.822517</td>\n",
       "      <td>[TUE, Age, FCVC, family_history_with_overweigh...</td>\n",
       "    </tr>\n",
       "  </tbody>\n",
       "</table>\n",
       "</div>"
      ],
      "text/plain": [
       "   Component  Explained Variance Ratio  Cumulative Explained Variance Ratio  \\\n",
       "0          1                  0.187095                             0.187095   \n",
       "1          2                  0.159892                             0.346987   \n",
       "2          3                  0.137135                             0.484122   \n",
       "3          4                  0.123735                             0.607857   \n",
       "4          5                  0.116068                             0.723925   \n",
       "5          6                  0.098592                             0.822517   \n",
       "\n",
       "                                       Top Variables  \n",
       "0  [Age, FCVC, family_history_with_overweight_yes...  \n",
       "1                        [CH2O, NCP, FAF, FCVC, Age]  \n",
       "2              [NCP, Age, FAF, Gender_Male, CALC_no]  \n",
       "3         [CH2O, FAF, Gender_Male, CAEC_no, CALC_no]  \n",
       "4         [FAF, FCVC, CALC_no, Age, CAEC_Frequently]  \n",
       "5  [TUE, Age, FCVC, family_history_with_overweigh...  "
      ]
     },
     "execution_count": 21,
     "metadata": {},
     "output_type": "execute_result"
    }
   ],
   "source": [
    "# Get the loadings of the significant components\n",
    "loadings = pca.components_\n",
    "\n",
    "# Create a DataFrame to store the loadings\n",
    "loadings_df = pd.DataFrame(loadings, columns=X_final.columns)\n",
    "\n",
    "# Identify the variables with the highest loadings in each component\n",
    "component_vars = []\n",
    "for i in range(len(loadings)):\n",
    "    component_vars.append(list(loadings_df.iloc[i].nlargest(5).index))\n",
    "\n",
    "# Determine the cumulative explained variance ratio for each component\n",
    "cumulative_var_ratio = np.cumsum(pca.explained_variance_ratio_)\n",
    "\n",
    "# Create a summary table\n",
    "summary_df = pd.DataFrame({\n",
    "    'Component': range(1, len(loadings)+1),\n",
    "    'Explained Variance Ratio': pca.explained_variance_ratio_,\n",
    "    'Cumulative Explained Variance Ratio': cumulative_var_ratio,\n",
    "    'Top Variables': component_vars\n",
    "})\n",
    "\n",
    "# Print the summary table\n",
    "summary_df.head(6)\n"
   ]
  },
  {
   "cell_type": "markdown",
   "id": "629d47cc",
   "metadata": {
    "papermill": {
     "duration": 0.027419,
     "end_time": "2023-04-17T10:49:47.473121",
     "exception": false,
     "start_time": "2023-04-17T10:49:47.445702",
     "status": "completed"
    },
    "tags": []
   },
   "source": [
    "Based on the top variables for each component, we can conclude the following:\n",
    "\n",
    "* Component 0 is heavily influenced by **Age** and has a moderate positive correlation with **FCVC**, and a small positive correlation with **family_history_with_overweight_yes**, **CALC_Sometimes**, and **CAEC_Sometimes**.\n",
    "* Component 1 is strongly influenced by **CH2O** and has moderate positive correlations with **NCP** and **FAF**, and a small positive correlation with **FCVC** and **Age**.\n",
    "* Component 2 is moderately influenced by **NCP** and **Age** and has small positive correlations with **FAF** and **Gender_Male**, and a very small positive correlation with **CALC_no**.\n",
    "* Component 3 is strongly influenced by **CH2O** and has small positive correlations with **FAF** and **Gender_Male**, and very small positive correlations with **CAEC_no** and **CALC_no**.\n",
    "* Component 4 is strongly influenced by **FAF** and has a moderate positive correlation with **FCVC**, a small positive correlation with **CALC_no**, and a very small positive correlation with **Age** and **CAEC_Frequently**.\n",
    "\n",
    "These results suggest that **Age**, **CH2O**, **FAF**, **FCVC**, **NCP**, **Gender_Male**, **family_history_with_overweight_yes** are the most important variables in determining obesity status in the dataset. However, it is important to note that the interpretation of PCA results can be challenging and should be interpreted with caution. Further analysis and experimentation may be required to validate these findings.\n",
    "\n"
   ]
  },
  {
   "cell_type": "markdown",
   "id": "2543f52b",
   "metadata": {
    "papermill": {
     "duration": 0.027446,
     "end_time": "2023-04-17T10:49:47.527825",
     "exception": false,
     "start_time": "2023-04-17T10:49:47.500379",
     "status": "completed"
    },
    "tags": []
   },
   "source": [
    "# Classification"
   ]
  },
  {
   "cell_type": "markdown",
   "id": "e59528d9",
   "metadata": {
    "papermill": {
     "duration": 0.027051,
     "end_time": "2023-04-17T10:49:47.582232",
     "exception": false,
     "start_time": "2023-04-17T10:49:47.555181",
     "status": "completed"
    },
    "tags": []
   },
   "source": [
    "Classification is a machine learning technique that involves predicting the class of an object based on its features. \n",
    "\n",
    "In this study, multiple classification algorithms are used on the 'NObeyesdad' feature as the target variable. By training different classifiers on the dataset, the study aims to identify the most important features that predict obesity. \n",
    "\n",
    "To interpret the results of the classification, the SHAP (SHapley Additive exPlanations) approach is used. SHAP values are used to explain the contribution of each feature to the classification decision. This helps to understand which features are most important in predicting obesity."
   ]
  },
  {
   "cell_type": "markdown",
   "id": "98119d47",
   "metadata": {
    "papermill": {
     "duration": 0.026916,
     "end_time": "2023-04-17T10:49:47.637420",
     "exception": false,
     "start_time": "2023-04-17T10:49:47.610504",
     "status": "completed"
    },
    "tags": []
   },
   "source": [
    "## Preprocessing"
   ]
  },
  {
   "cell_type": "code",
   "execution_count": 22,
   "id": "ca00b89a",
   "metadata": {
    "execution": {
     "iopub.execute_input": "2023-04-17T10:49:47.701705Z",
     "iopub.status.busy": "2023-04-17T10:49:47.701247Z",
     "iopub.status.idle": "2023-04-17T10:49:47.708914Z",
     "shell.execute_reply": "2023-04-17T10:49:47.707811Z"
    },
    "papermill": {
     "duration": 0.039319,
     "end_time": "2023-04-17T10:49:47.711533",
     "exception": false,
     "start_time": "2023-04-17T10:49:47.672214",
     "status": "completed"
    },
    "tags": []
   },
   "outputs": [],
   "source": [
    "X = df.drop([\"Weight\", \"Height\", \"NObeyesdad\"], axis=1)\n",
    "y = df[\"NObeyesdad\"]"
   ]
  },
  {
   "cell_type": "code",
   "execution_count": 23,
   "id": "e7aca4ee",
   "metadata": {
    "execution": {
     "iopub.execute_input": "2023-04-17T10:49:47.768722Z",
     "iopub.status.busy": "2023-04-17T10:49:47.767965Z",
     "iopub.status.idle": "2023-04-17T10:49:47.779806Z",
     "shell.execute_reply": "2023-04-17T10:49:47.778450Z"
    },
    "papermill": {
     "duration": 0.043729,
     "end_time": "2023-04-17T10:49:47.782541",
     "exception": false,
     "start_time": "2023-04-17T10:49:47.738812",
     "status": "completed"
    },
    "tags": []
   },
   "outputs": [
    {
     "data": {
      "text/plain": [
       "0    1\n",
       "1    1\n",
       "2    1\n",
       "3    2\n",
       "4    3\n",
       "Name: NObeyesdad, dtype: category\n",
       "Categories (7, int64): [0, 1, 4, 5, 6, 2, 3]"
      ]
     },
     "execution_count": 23,
     "metadata": {},
     "output_type": "execute_result"
    }
   ],
   "source": [
    "# Create a dictionary to map obesity status to a numerical value based on obesity severity\n",
    "obesity_status_mapping = {\n",
    "    'Insufficient_Weight': 0,\n",
    "    'Normal_Weight': 1,\n",
    "    'Overweight_Level_I': 2,\n",
    "    'Overweight_Level_II': 3,\n",
    "    'Obesity_Type_I': 4,\n",
    "    'Obesity_Type_II': 5,\n",
    "    'Obesity_Type_III': 6\n",
    "}\n",
    "\n",
    "# Map the obesity status to numerical values based on obesity severity\n",
    "y = y.map(obesity_status_mapping)\n",
    "y.head()"
   ]
  },
  {
   "cell_type": "code",
   "execution_count": 24,
   "id": "64a1ce1d",
   "metadata": {
    "execution": {
     "iopub.execute_input": "2023-04-17T10:49:47.842194Z",
     "iopub.status.busy": "2023-04-17T10:49:47.841690Z",
     "iopub.status.idle": "2023-04-17T10:49:47.875188Z",
     "shell.execute_reply": "2023-04-17T10:49:47.873786Z"
    },
    "papermill": {
     "duration": 0.068304,
     "end_time": "2023-04-17T10:49:47.877935",
     "exception": false,
     "start_time": "2023-04-17T10:49:47.809631",
     "status": "completed"
    },
    "tags": []
   },
   "outputs": [
    {
     "data": {
      "text/html": [
       "<div>\n",
       "<style scoped>\n",
       "    .dataframe tbody tr th:only-of-type {\n",
       "        vertical-align: middle;\n",
       "    }\n",
       "\n",
       "    .dataframe tbody tr th {\n",
       "        vertical-align: top;\n",
       "    }\n",
       "\n",
       "    .dataframe thead th {\n",
       "        text-align: right;\n",
       "    }\n",
       "</style>\n",
       "<table border=\"1\" class=\"dataframe\">\n",
       "  <thead>\n",
       "    <tr style=\"text-align: right;\">\n",
       "      <th></th>\n",
       "      <th>Age</th>\n",
       "      <th>FCVC</th>\n",
       "      <th>NCP</th>\n",
       "      <th>CH2O</th>\n",
       "      <th>FAF</th>\n",
       "      <th>TUE</th>\n",
       "      <th>Gender_Male</th>\n",
       "      <th>family_history_with_overweight_yes</th>\n",
       "      <th>FAVC_yes</th>\n",
       "      <th>CAEC_Frequently</th>\n",
       "      <th>...</th>\n",
       "      <th>CAEC_no</th>\n",
       "      <th>SMOKE_yes</th>\n",
       "      <th>SCC_yes</th>\n",
       "      <th>CALC_Frequently</th>\n",
       "      <th>CALC_Sometimes</th>\n",
       "      <th>CALC_no</th>\n",
       "      <th>MTRANS_Bike</th>\n",
       "      <th>MTRANS_Motorbike</th>\n",
       "      <th>MTRANS_Public_Transportation</th>\n",
       "      <th>MTRANS_Walking</th>\n",
       "    </tr>\n",
       "  </thead>\n",
       "  <tbody>\n",
       "    <tr>\n",
       "      <th>0</th>\n",
       "      <td>21</td>\n",
       "      <td>2</td>\n",
       "      <td>3</td>\n",
       "      <td>2</td>\n",
       "      <td>0</td>\n",
       "      <td>1</td>\n",
       "      <td>0</td>\n",
       "      <td>1</td>\n",
       "      <td>0</td>\n",
       "      <td>0</td>\n",
       "      <td>...</td>\n",
       "      <td>0</td>\n",
       "      <td>0</td>\n",
       "      <td>0</td>\n",
       "      <td>0</td>\n",
       "      <td>0</td>\n",
       "      <td>1</td>\n",
       "      <td>0</td>\n",
       "      <td>0</td>\n",
       "      <td>1</td>\n",
       "      <td>0</td>\n",
       "    </tr>\n",
       "    <tr>\n",
       "      <th>1</th>\n",
       "      <td>21</td>\n",
       "      <td>3</td>\n",
       "      <td>3</td>\n",
       "      <td>3</td>\n",
       "      <td>3</td>\n",
       "      <td>0</td>\n",
       "      <td>0</td>\n",
       "      <td>1</td>\n",
       "      <td>0</td>\n",
       "      <td>0</td>\n",
       "      <td>...</td>\n",
       "      <td>0</td>\n",
       "      <td>1</td>\n",
       "      <td>1</td>\n",
       "      <td>0</td>\n",
       "      <td>1</td>\n",
       "      <td>0</td>\n",
       "      <td>0</td>\n",
       "      <td>0</td>\n",
       "      <td>1</td>\n",
       "      <td>0</td>\n",
       "    </tr>\n",
       "    <tr>\n",
       "      <th>2</th>\n",
       "      <td>23</td>\n",
       "      <td>2</td>\n",
       "      <td>3</td>\n",
       "      <td>2</td>\n",
       "      <td>2</td>\n",
       "      <td>1</td>\n",
       "      <td>1</td>\n",
       "      <td>1</td>\n",
       "      <td>0</td>\n",
       "      <td>0</td>\n",
       "      <td>...</td>\n",
       "      <td>0</td>\n",
       "      <td>0</td>\n",
       "      <td>0</td>\n",
       "      <td>1</td>\n",
       "      <td>0</td>\n",
       "      <td>0</td>\n",
       "      <td>0</td>\n",
       "      <td>0</td>\n",
       "      <td>1</td>\n",
       "      <td>0</td>\n",
       "    </tr>\n",
       "    <tr>\n",
       "      <th>3</th>\n",
       "      <td>27</td>\n",
       "      <td>3</td>\n",
       "      <td>3</td>\n",
       "      <td>2</td>\n",
       "      <td>2</td>\n",
       "      <td>0</td>\n",
       "      <td>1</td>\n",
       "      <td>0</td>\n",
       "      <td>0</td>\n",
       "      <td>0</td>\n",
       "      <td>...</td>\n",
       "      <td>0</td>\n",
       "      <td>0</td>\n",
       "      <td>0</td>\n",
       "      <td>1</td>\n",
       "      <td>0</td>\n",
       "      <td>0</td>\n",
       "      <td>0</td>\n",
       "      <td>0</td>\n",
       "      <td>0</td>\n",
       "      <td>1</td>\n",
       "    </tr>\n",
       "    <tr>\n",
       "      <th>4</th>\n",
       "      <td>22</td>\n",
       "      <td>2</td>\n",
       "      <td>1</td>\n",
       "      <td>2</td>\n",
       "      <td>0</td>\n",
       "      <td>0</td>\n",
       "      <td>1</td>\n",
       "      <td>0</td>\n",
       "      <td>0</td>\n",
       "      <td>0</td>\n",
       "      <td>...</td>\n",
       "      <td>0</td>\n",
       "      <td>0</td>\n",
       "      <td>0</td>\n",
       "      <td>0</td>\n",
       "      <td>1</td>\n",
       "      <td>0</td>\n",
       "      <td>0</td>\n",
       "      <td>0</td>\n",
       "      <td>1</td>\n",
       "      <td>0</td>\n",
       "    </tr>\n",
       "  </tbody>\n",
       "</table>\n",
       "<p>5 rows × 21 columns</p>\n",
       "</div>"
      ],
      "text/plain": [
       "   Age  FCVC  NCP  CH2O  FAF  TUE  Gender_Male  \\\n",
       "0   21     2    3     2    0    1            0   \n",
       "1   21     3    3     3    3    0            0   \n",
       "2   23     2    3     2    2    1            1   \n",
       "3   27     3    3     2    2    0            1   \n",
       "4   22     2    1     2    0    0            1   \n",
       "\n",
       "   family_history_with_overweight_yes  FAVC_yes  CAEC_Frequently  ...  \\\n",
       "0                                   1         0                0  ...   \n",
       "1                                   1         0                0  ...   \n",
       "2                                   1         0                0  ...   \n",
       "3                                   0         0                0  ...   \n",
       "4                                   0         0                0  ...   \n",
       "\n",
       "   CAEC_no  SMOKE_yes  SCC_yes  CALC_Frequently  CALC_Sometimes  CALC_no  \\\n",
       "0        0          0        0                0               0        1   \n",
       "1        0          1        1                0               1        0   \n",
       "2        0          0        0                1               0        0   \n",
       "3        0          0        0                1               0        0   \n",
       "4        0          0        0                0               1        0   \n",
       "\n",
       "   MTRANS_Bike  MTRANS_Motorbike  MTRANS_Public_Transportation  MTRANS_Walking  \n",
       "0            0                 0                             1               0  \n",
       "1            0                 0                             1               0  \n",
       "2            0                 0                             1               0  \n",
       "3            0                 0                             0               1  \n",
       "4            0                 0                             1               0  \n",
       "\n",
       "[5 rows x 21 columns]"
      ]
     },
     "execution_count": 24,
     "metadata": {},
     "output_type": "execute_result"
    }
   ],
   "source": [
    "dummies_cols = X[[\"Gender\",\"family_history_with_overweight\",\n",
    "                                          \"FAVC\",\"CAEC\",\"SMOKE\",\"SCC\",\"CALC\",\"MTRANS\"]]\n",
    "\n",
    "X_dummies = pd.get_dummies(dummies_cols,columns=[\"Gender\",\"family_history_with_overweight\",\n",
    "                                          \"FAVC\",\"CAEC\",\"SMOKE\",\"SCC\",\"CALC\",\"MTRANS\"], drop_first=True)\n",
    "\n",
    "X_num = X.select_dtypes(include=['float64', 'int64'])\n",
    "\n",
    "\n",
    "X = pd.concat([X_num, X_dummies], axis=1)\n",
    "X.head()"
   ]
  },
  {
   "cell_type": "code",
   "execution_count": 25,
   "id": "462fa695",
   "metadata": {
    "execution": {
     "iopub.execute_input": "2023-04-17T10:49:47.936309Z",
     "iopub.status.busy": "2023-04-17T10:49:47.935855Z",
     "iopub.status.idle": "2023-04-17T10:49:47.953539Z",
     "shell.execute_reply": "2023-04-17T10:49:47.952108Z"
    },
    "papermill": {
     "duration": 0.049842,
     "end_time": "2023-04-17T10:49:47.956214",
     "exception": false,
     "start_time": "2023-04-17T10:49:47.906372",
     "status": "completed"
    },
    "tags": []
   },
   "outputs": [
    {
     "data": {
      "text/markdown": [
       " X_train: 1688  |  y_train: 1688"
      ],
      "text/plain": [
       "<IPython.core.display.Markdown object>"
      ]
     },
     "metadata": {},
     "output_type": "display_data"
    },
    {
     "data": {
      "text/markdown": [
       " X_test :  423  |  y_test: 423"
      ],
      "text/plain": [
       "<IPython.core.display.Markdown object>"
      ]
     },
     "metadata": {},
     "output_type": "display_data"
    }
   ],
   "source": [
    "X_train, X_test, y_train, y_test = train_test_split( X, y, test_size=0.2, random_state=23, stratify=y)\n",
    "\n",
    "bold(f' X_train: {X_train.shape[0]}  |  y_train: {y_train.shape[0]}')\n",
    "bold(f' X_test :  {X_test.shape[0]}  |  y_test: {y_test.shape[0]}')"
   ]
  },
  {
   "cell_type": "code",
   "execution_count": 26,
   "id": "7e0a3eee",
   "metadata": {
    "execution": {
     "iopub.execute_input": "2023-04-17T10:49:48.015588Z",
     "iopub.status.busy": "2023-04-17T10:49:48.014060Z",
     "iopub.status.idle": "2023-04-17T10:49:48.035886Z",
     "shell.execute_reply": "2023-04-17T10:49:48.034523Z"
    },
    "papermill": {
     "duration": 0.054501,
     "end_time": "2023-04-17T10:49:48.038596",
     "exception": false,
     "start_time": "2023-04-17T10:49:47.984095",
     "status": "completed"
    },
    "tags": []
   },
   "outputs": [
    {
     "data": {
      "text/markdown": [
       " X_train: 1688"
      ],
      "text/plain": [
       "<IPython.core.display.Markdown object>"
      ]
     },
     "metadata": {},
     "output_type": "display_data"
    },
    {
     "data": {
      "text/markdown": [
       " X_test :  423"
      ],
      "text/plain": [
       "<IPython.core.display.Markdown object>"
      ]
     },
     "metadata": {},
     "output_type": "display_data"
    }
   ],
   "source": [
    "#Scaling the numerical columns of train set and test set separatly to prevent data leakage\n",
    "cols = [\"Age\", \"FCVC\", \"NCP\", \"CH2O\", \"FAF\", \"TUE\"]\n",
    "\n",
    "std_scaler = StandardScaler()\n",
    "\n",
    "X_train[cols] = std_scaler.fit_transform(X_train[cols])\n",
    "X_test[cols] = std_scaler.transform(X_test[cols])\n",
    "\n",
    "bold(f' X_train: {X_train.shape[0]}')\n",
    "bold(f' X_test :  {X_test.shape[0]}')"
   ]
  },
  {
   "cell_type": "markdown",
   "id": "02172130",
   "metadata": {
    "papermill": {
     "duration": 0.028012,
     "end_time": "2023-04-17T10:49:48.094586",
     "exception": false,
     "start_time": "2023-04-17T10:49:48.066574",
     "status": "completed"
    },
    "tags": []
   },
   "source": [
    "> We chose to scale the train and test sets separately to prevent data leakage"
   ]
  },
  {
   "cell_type": "code",
   "execution_count": 27,
   "id": "92e8846c",
   "metadata": {
    "execution": {
     "iopub.execute_input": "2023-04-17T10:49:48.152552Z",
     "iopub.status.busy": "2023-04-17T10:49:48.151610Z",
     "iopub.status.idle": "2023-04-17T10:50:36.863665Z",
     "shell.execute_reply": "2023-04-17T10:50:36.862176Z"
    },
    "papermill": {
     "duration": 48.744598,
     "end_time": "2023-04-17T10:50:36.867166",
     "exception": false,
     "start_time": "2023-04-17T10:49:48.122568",
     "status": "completed"
    },
    "tags": []
   },
   "outputs": [
    {
     "name": "stdout",
     "output_type": "stream",
     "text": [
      "Fitting estimator with 21 features.\n",
      "Fitting estimator with 20 features.\n",
      "Fitting estimator with 19 features.\n",
      "Fitting estimator with 18 features.\n",
      "Fitting estimator with 17 features.\n"
     ]
    },
    {
     "data": {
      "text/markdown": [
       "Optimal number of features is **16** from 21 available"
      ],
      "text/plain": [
       "<IPython.core.display.Markdown object>"
      ]
     },
     "metadata": {},
     "output_type": "display_data"
    },
    {
     "name": "stdout",
     "output_type": "stream",
     "text": [
      "CPU times: user 2.65 s, sys: 496 ms, total: 3.15 s\n",
      "Wall time: 48.7 s\n"
     ]
    }
   ],
   "source": [
    "%%time\n",
    "#Initializing the Folds, the Classifier and the RFECV algorithm\n",
    "cv = StratifiedKFold(n_splits=10, shuffle=True, random_state=23)\n",
    "clf = ensemble.RandomForestClassifier(n_jobs=-1, random_state=23) \n",
    "rfecv = RFECV(estimator=clf, step=1, cv=cv, scoring='accuracy', verbose=1, n_jobs=-1)   #10-fold cross-validation\n",
    "\n",
    "rfecv = rfecv.fit(X_train, y_train)\n",
    "cols = X_train.columns[rfecv.support_]\n",
    "bold(f'Optimal number of features is **{rfecv.n_features_}** from {X_train.shape[1]} available')\n"
   ]
  },
  {
   "cell_type": "markdown",
   "id": "58eefc84",
   "metadata": {
    "papermill": {
     "duration": 0.027925,
     "end_time": "2023-04-17T10:50:36.923834",
     "exception": false,
     "start_time": "2023-04-17T10:50:36.895909",
     "status": "completed"
    },
    "tags": []
   },
   "source": [
    "> We performed [RFECV](https://www.scikit-yb.org/en/latest/api/model_selection/rfecv.html) to chose the best feature subset for our classification problem, this resulted in keeping **16** features out of the **21** original features."
   ]
  },
  {
   "cell_type": "code",
   "execution_count": 28,
   "id": "da34573d",
   "metadata": {
    "execution": {
     "iopub.execute_input": "2023-04-17T10:50:36.982829Z",
     "iopub.status.busy": "2023-04-17T10:50:36.982401Z",
     "iopub.status.idle": "2023-04-17T10:50:37.000078Z",
     "shell.execute_reply": "2023-04-17T10:50:36.998760Z"
    },
    "papermill": {
     "duration": 0.051413,
     "end_time": "2023-04-17T10:50:37.003603",
     "exception": false,
     "start_time": "2023-04-17T10:50:36.952190",
     "status": "completed"
    },
    "tags": []
   },
   "outputs": [
    {
     "data": {
      "text/markdown": [
       "**Features dropped** :\n"
      ],
      "text/plain": [
       "<IPython.core.display.Markdown object>"
      ]
     },
     "metadata": {},
     "output_type": "display_data"
    },
    {
     "name": "stdout",
     "output_type": "stream",
     "text": [
      "CAEC_no\n",
      "SMOKE_yes\n",
      "MTRANS_Bike\n",
      "MTRANS_Motorbike\n",
      "MTRANS_Walking\n",
      "\n",
      "\n"
     ]
    },
    {
     "data": {
      "text/markdown": [
       "**Features kept** :\n"
      ],
      "text/plain": [
       "<IPython.core.display.Markdown object>"
      ]
     },
     "metadata": {},
     "output_type": "display_data"
    },
    {
     "name": "stdout",
     "output_type": "stream",
     "text": [
      "Age\n",
      "FCVC\n",
      "NCP\n",
      "CH2O\n",
      "FAF\n",
      "TUE\n",
      "Gender_Male\n",
      "family_history_with_overweight_yes\n",
      "FAVC_yes\n",
      "CAEC_Frequently\n",
      "CAEC_Sometimes\n",
      "SCC_yes\n",
      "CALC_Frequently\n",
      "CALC_Sometimes\n",
      "CALC_no\n",
      "MTRANS_Public_Transportation\n"
     ]
    }
   ],
   "source": [
    "keep_cols = X_train.columns[rfecv.support_]\n",
    "features_dropped = [x for x in X_train.columns if x not in keep_cols]\n",
    "\n",
    "X_train = X_train[keep_cols]\n",
    "X_test = X_test[keep_cols]\n",
    "\n",
    "bold('**Features dropped** :\\n')\n",
    "for col in features_dropped:\n",
    "    print(col)\n",
    "print('\\n')\n",
    "bold('**Features kept** :\\n')\n",
    "for col in keep_cols:\n",
    "    print(col)"
   ]
  },
  {
   "cell_type": "markdown",
   "id": "c9e0bf79",
   "metadata": {
    "papermill": {
     "duration": 0.028554,
     "end_time": "2023-04-17T10:50:37.060955",
     "exception": false,
     "start_time": "2023-04-17T10:50:37.032401",
     "status": "completed"
    },
    "tags": []
   },
   "source": [
    "## Modelling\n"
   ]
  },
  {
   "cell_type": "markdown",
   "id": "e4d084c0",
   "metadata": {
    "papermill": {
     "duration": 0.029772,
     "end_time": "2023-04-17T10:50:37.119954",
     "exception": false,
     "start_time": "2023-04-17T10:50:37.090182",
     "status": "completed"
    },
    "tags": []
   },
   "source": [
    "### Model Selection"
   ]
  },
  {
   "cell_type": "code",
   "execution_count": 29,
   "id": "a9ecdefb",
   "metadata": {
    "execution": {
     "iopub.execute_input": "2023-04-17T10:50:37.180750Z",
     "iopub.status.busy": "2023-04-17T10:50:37.179557Z",
     "iopub.status.idle": "2023-04-17T10:51:25.977738Z",
     "shell.execute_reply": "2023-04-17T10:51:25.976433Z"
    },
    "papermill": {
     "duration": 48.831192,
     "end_time": "2023-04-17T10:51:25.980309",
     "exception": false,
     "start_time": "2023-04-17T10:50:37.149117",
     "status": "completed"
    },
    "tags": []
   },
   "outputs": [
    {
     "name": "stdout",
     "output_type": "stream",
     "text": [
      "DecisionTreeClassifier is done in 0.106\n",
      "RandomForestClassifier is done in 3.767\n",
      "LogisticRegression is done in 1.689\n",
      "AdaBoostClassifier is done in 1.844\n",
      "SVC is done in 1.757\n",
      "LinearSVC is done in 4.587\n",
      "KNeighborsClassifier is done in 0.045\n",
      "LGBMClassifier is done in 17.841\n",
      "XGBClassifier is done in 59.182\n",
      "MLPClassifier is done in 66.039\n",
      "CPU times: user 732 ms, sys: 38.2 ms, total: 770 ms\n",
      "Wall time: 48.8 s\n"
     ]
    },
    {
     "data": {
      "text/html": [
       "<div>\n",
       "<style scoped>\n",
       "    .dataframe tbody tr th:only-of-type {\n",
       "        vertical-align: middle;\n",
       "    }\n",
       "\n",
       "    .dataframe tbody tr th {\n",
       "        vertical-align: top;\n",
       "    }\n",
       "\n",
       "    .dataframe thead th {\n",
       "        text-align: right;\n",
       "    }\n",
       "</style>\n",
       "<table border=\"1\" class=\"dataframe\">\n",
       "  <thead>\n",
       "    <tr style=\"text-align: right;\">\n",
       "      <th></th>\n",
       "      <th>Name</th>\n",
       "      <th>Accuracy</th>\n",
       "      <th>Recall</th>\n",
       "      <th>Precision</th>\n",
       "      <th>F1_score</th>\n",
       "      <th>Accuracy_std</th>\n",
       "      <th>Fit Time</th>\n",
       "    </tr>\n",
       "  </thead>\n",
       "  <tbody>\n",
       "    <tr>\n",
       "      <th>1</th>\n",
       "      <td>RandomForestClassifier</td>\n",
       "      <td>0.805</td>\n",
       "      <td>0.803</td>\n",
       "      <td>0.802</td>\n",
       "      <td>0.8</td>\n",
       "      <td>0.039</td>\n",
       "      <td>3.767</td>\n",
       "    </tr>\n",
       "    <tr>\n",
       "      <th>7</th>\n",
       "      <td>LGBMClassifier</td>\n",
       "      <td>0.797</td>\n",
       "      <td>0.795</td>\n",
       "      <td>0.793</td>\n",
       "      <td>0.792</td>\n",
       "      <td>0.03</td>\n",
       "      <td>17.841</td>\n",
       "    </tr>\n",
       "    <tr>\n",
       "      <th>8</th>\n",
       "      <td>XGBClassifier</td>\n",
       "      <td>0.795</td>\n",
       "      <td>0.792</td>\n",
       "      <td>0.791</td>\n",
       "      <td>0.788</td>\n",
       "      <td>0.034</td>\n",
       "      <td>59.182</td>\n",
       "    </tr>\n",
       "    <tr>\n",
       "      <th>9</th>\n",
       "      <td>MLPClassifier</td>\n",
       "      <td>0.731</td>\n",
       "      <td>0.728</td>\n",
       "      <td>0.721</td>\n",
       "      <td>0.72</td>\n",
       "      <td>0.034</td>\n",
       "      <td>66.039</td>\n",
       "    </tr>\n",
       "    <tr>\n",
       "      <th>0</th>\n",
       "      <td>DecisionTreeClassifier</td>\n",
       "      <td>0.728</td>\n",
       "      <td>0.723</td>\n",
       "      <td>0.72</td>\n",
       "      <td>0.719</td>\n",
       "      <td>0.029</td>\n",
       "      <td>0.106</td>\n",
       "    </tr>\n",
       "    <tr>\n",
       "      <th>4</th>\n",
       "      <td>SVC</td>\n",
       "      <td>0.723</td>\n",
       "      <td>0.719</td>\n",
       "      <td>0.715</td>\n",
       "      <td>0.71</td>\n",
       "      <td>0.035</td>\n",
       "      <td>1.757</td>\n",
       "    </tr>\n",
       "    <tr>\n",
       "      <th>6</th>\n",
       "      <td>KNeighborsClassifier</td>\n",
       "      <td>0.678</td>\n",
       "      <td>0.672</td>\n",
       "      <td>0.666</td>\n",
       "      <td>0.653</td>\n",
       "      <td>0.027</td>\n",
       "      <td>0.045</td>\n",
       "    </tr>\n",
       "    <tr>\n",
       "      <th>2</th>\n",
       "      <td>LogisticRegression</td>\n",
       "      <td>0.591</td>\n",
       "      <td>0.583</td>\n",
       "      <td>0.576</td>\n",
       "      <td>0.56</td>\n",
       "      <td>0.026</td>\n",
       "      <td>1.689</td>\n",
       "    </tr>\n",
       "    <tr>\n",
       "      <th>5</th>\n",
       "      <td>LinearSVC</td>\n",
       "      <td>0.571</td>\n",
       "      <td>0.561</td>\n",
       "      <td>0.564</td>\n",
       "      <td>0.522</td>\n",
       "      <td>0.023</td>\n",
       "      <td>4.587</td>\n",
       "    </tr>\n",
       "    <tr>\n",
       "      <th>3</th>\n",
       "      <td>AdaBoostClassifier</td>\n",
       "      <td>0.401</td>\n",
       "      <td>0.393</td>\n",
       "      <td>0.407</td>\n",
       "      <td>0.368</td>\n",
       "      <td>0.038</td>\n",
       "      <td>1.844</td>\n",
       "    </tr>\n",
       "  </tbody>\n",
       "</table>\n",
       "</div>"
      ],
      "text/plain": [
       "                     Name Accuracy Recall Precision F1_score Accuracy_std  \\\n",
       "1  RandomForestClassifier    0.805  0.803     0.802      0.8        0.039   \n",
       "7          LGBMClassifier    0.797  0.795     0.793    0.792         0.03   \n",
       "8           XGBClassifier    0.795  0.792     0.791    0.788        0.034   \n",
       "9           MLPClassifier    0.731  0.728     0.721     0.72        0.034   \n",
       "0  DecisionTreeClassifier    0.728  0.723      0.72    0.719        0.029   \n",
       "4                     SVC    0.723  0.719     0.715     0.71        0.035   \n",
       "6    KNeighborsClassifier    0.678  0.672     0.666    0.653        0.027   \n",
       "2      LogisticRegression    0.591  0.583     0.576     0.56        0.026   \n",
       "5               LinearSVC    0.571  0.561     0.564    0.522        0.023   \n",
       "3      AdaBoostClassifier    0.401  0.393     0.407    0.368        0.038   \n",
       "\n",
       "  Fit Time  \n",
       "1    3.767  \n",
       "7   17.841  \n",
       "8   59.182  \n",
       "9   66.039  \n",
       "0    0.106  \n",
       "4    1.757  \n",
       "6    0.045  \n",
       "2    1.689  \n",
       "5    4.587  \n",
       "3    1.844  "
      ]
     },
     "execution_count": 29,
     "metadata": {},
     "output_type": "execute_result"
    }
   ],
   "source": [
    "%%time\n",
    "random_state = 23\n",
    "\n",
    "# create a list of classifiers\n",
    "classifiers = [\n",
    "    tree.DecisionTreeClassifier(random_state=random_state),\n",
    "    ensemble.RandomForestClassifier(random_state=random_state),\n",
    "    linear_model.LogisticRegression(random_state=random_state),\n",
    "    ensemble.AdaBoostClassifier(random_state=random_state),\n",
    "    svm.SVC(random_state=random_state),\n",
    "    svm.LinearSVC(random_state=random_state),\n",
    "    neighbors.KNeighborsClassifier(),\n",
    "    lgb.LGBMClassifier(random_state=random_state),\n",
    "    xgb.XGBClassifier(random_state=random_state),\n",
    "    neural_network.MLPClassifier(random_state=random_state)\n",
    "]\n",
    "\n",
    "# create a list of classifiers to evaluate\n",
    "cv = StratifiedKFold(n_splits=10, shuffle=True, random_state=23)\n",
    "\n",
    "# define the metrics to be computed\n",
    "scoring = ['accuracy', 'precision_macro', 'recall_macro', 'f1_macro']\n",
    "\n",
    "#create table to compare MLA metrics\n",
    "MLA_columns = ['Name','Accuracy','Recall', 'Precision', 'F1_score', 'Accuracy_std', 'Fit Time']\n",
    "MLA_compare = pd.DataFrame(columns = MLA_columns)\n",
    "\n",
    "# perform cross-validation and compute metrics\n",
    "row_index = 0\n",
    "cv_results_list = []\n",
    "for clf in classifiers:\n",
    "    cv_results = cross_validate(clf, X_train, y_train, cv=cv, scoring=scoring, n_jobs=-1)\n",
    "    cv_results_list.append(cv_results)\n",
    "    \n",
    "    MLA_name = clf.__class__.__name__\n",
    "    MLA_compare.loc[row_index, 'Name'] = MLA_name\n",
    "    MLA_compare.loc[row_index, 'Accuracy'] = round(cv_results['test_accuracy'].mean(), 3)\n",
    "    MLA_compare.loc[row_index, 'Recall'] = round(cv_results['test_recall_macro'].mean(), 3)\n",
    "    MLA_compare.loc[row_index, 'Precision'] = round(cv_results['test_precision_macro'].mean(), 3)\n",
    "    MLA_compare.loc[row_index, 'F1_score'] = round(cv_results['test_f1_macro'].mean(), 3)\n",
    "    MLA_compare.loc[row_index, 'Accuracy_std'] = round(cv_results['test_accuracy'].std(), 3)\n",
    "    MLA_compare.loc[row_index, 'Fit Time'] = round(cv_results['fit_time'].sum(), 3)\n",
    "    \n",
    "    \n",
    "    print(f'{MLA_name} is done in {round(cv_results[\"fit_time\"].sum(), 3)}')\n",
    "    \n",
    "    row_index+=1\n",
    "\n",
    "MLA_compare.sort_values(by = ['Accuracy'], ascending = False, inplace = True)\n",
    "MLA_compare"
   ]
  },
  {
   "cell_type": "markdown",
   "id": "4bc373e3",
   "metadata": {
    "papermill": {
     "duration": 0.029838,
     "end_time": "2023-04-17T10:51:26.040319",
     "exception": false,
     "start_time": "2023-04-17T10:51:26.010481",
     "status": "completed"
    },
    "tags": []
   },
   "source": [
    "> We applied a 10 classification algorithms using 10 fold cross-validation on our training set, the results show clear superiority of ensemble methods over other methods.\n",
    "> \n",
    "> We chose **RandomForestClassifier** and **LGBMClassifier** for further analysis."
   ]
  },
  {
   "cell_type": "markdown",
   "id": "aad8ea6c",
   "metadata": {
    "papermill": {
     "duration": 0.029223,
     "end_time": "2023-04-17T10:51:26.099977",
     "exception": false,
     "start_time": "2023-04-17T10:51:26.070754",
     "status": "completed"
    },
    "tags": []
   },
   "source": [
    "### Hyperparameter Tuning"
   ]
  },
  {
   "cell_type": "code",
   "execution_count": 30,
   "id": "100f31b7",
   "metadata": {
    "execution": {
     "iopub.execute_input": "2023-04-17T10:51:26.161907Z",
     "iopub.status.busy": "2023-04-17T10:51:26.160934Z",
     "iopub.status.idle": "2023-04-17T10:51:26.179299Z",
     "shell.execute_reply": "2023-04-17T10:51:26.178183Z"
    },
    "papermill": {
     "duration": 0.052288,
     "end_time": "2023-04-17T10:51:26.182024",
     "exception": false,
     "start_time": "2023-04-17T10:51:26.129736",
     "status": "completed"
    },
    "tags": []
   },
   "outputs": [],
   "source": [
    "def objective(trial, mod, X_train, y_train, scorer= 'accuracy', folds=5):\n",
    "    \"\"\"\n",
    "    THIS IS THE OBJECTIVE FUNCTION THAT RETURNS THE MEAN SCORES OF THE MODEL TO OPTUNA \n",
    "    FOR HYPERPARAMETER OPTIMIZATION\n",
    "    \"\"\"\n",
    "    \n",
    "    cv = StratifiedKFold(n_splits=folds, shuffle=True, random_state=23)\n",
    "    \n",
    "    X = X_train.copy()\n",
    "    y = y_train.copy()\n",
    "    \n",
    "    if mod == 'RF  ':\n",
    "        n_estimators = trial.suggest_int('n_estimators', 50, 500)\n",
    "        max_depth = trial.suggest_int('max_depth', 5, 50)\n",
    "        min_samples_split = trial.suggest_int('min_samples_split', 2, 10)\n",
    "        min_samples_leaf = trial.suggest_int('min_samples_leaf', 1, 10)\n",
    "        max_features = trial.suggest_int('max_features', 1, 8)\n",
    "    \n",
    "        model = ensemble.RandomForestClassifier(max_depth=max_depth,\n",
    "                                                n_estimators=n_estimators,\n",
    "                                                min_samples_split=min_samples_split,\n",
    "                                                min_samples_leaf=min_samples_leaf,\n",
    "                                                max_features=max_features,\n",
    "                                                random_state=23)\n",
    "\n",
    "    elif mod == 'LGBM':\n",
    "            max_depth = trial.suggest_int(\"max_depth\", 6, 20)\n",
    "            n_estimators = trial.suggest_int(\"n_estimators\", 100, 1000)\n",
    "            learning_rate = trial.suggest_loguniform('learning_rate', 1e-8, 1)\n",
    "            num_leaves = trial.suggest_int(\"num_leaves\", 2, 3000)\n",
    "            min_child_samples = trial.suggest_int('min_child_samples', 3, 200)\n",
    "            min_child_weight = trial.suggest_loguniform('min_child_weight', 1e-5, 1)\n",
    "            colsample_bytree = trial.suggest_uniform('colsample_bytree', 0.1, 1)\n",
    "            subsample = trial.suggest_uniform('subsample', 0.1, 1)\n",
    "            random_state = 23\n",
    "\n",
    "            model = lgb.LGBMClassifier(learning_rate=learning_rate, \n",
    "                                   n_estimators=n_estimators, \n",
    "                                   max_depth=max_depth, \n",
    "                                   num_leaves=num_leaves, \n",
    "                                   min_child_samples=min_child_samples,\n",
    "                                   min_child_weight=min_child_weight,\n",
    "                                   colsample_bytree=colsample_bytree,\n",
    "                                   subsample=subsample,\n",
    "                                   random_state=23)\n",
    "\n",
    "    elif mod == 'XGB ':\n",
    "        max_depth = trial.suggest_int(\"max_depth\", 2, 20)\n",
    "        n_estimators = trial.suggest_int(\"n_estimators\", 50, 1000)\n",
    "        learning_rate = trial.suggest_loguniform(\"learning_rate\", 1e-5, 1)\n",
    "        gamma = trial.suggest_loguniform(\"gamma\", 1e-5, 1)\n",
    "        subsample = trial.suggest_uniform(\"subsample\", 0.1, 1.0)\n",
    "        colsample_bytree = trial.suggest_uniform(\"colsample_bytree\", 0.1, 1.0)\n",
    "\n",
    "        model = xgb.XGBClassifier(learning_rate=learning_rate,\n",
    "                              n_estimators=n_estimators,\n",
    "                              max_depth=max_depth,\n",
    "                              gamma=gamma,\n",
    "                              subsample=subsample,\n",
    "                              colsample_bytree=colsample_bytree,\n",
    "                              random_state=23,\n",
    "                              use_label_encoder=False,\n",
    "                              eval_metric='mlogloss')\n",
    "    \n",
    "    scores = cross_val_score(model, X, y, cv=cv, scoring=scorer, n_jobs=-1, \n",
    "                             error_score=float(\"-inf\"))\n",
    "    if len(scores) < folds:\n",
    "        raise TrialPruned()\n",
    "\n",
    "    return scores.mean()\n"
   ]
  },
  {
   "cell_type": "code",
   "execution_count": 31,
   "id": "dddbf59a",
   "metadata": {
    "execution": {
     "iopub.execute_input": "2023-04-17T10:51:26.243713Z",
     "iopub.status.busy": "2023-04-17T10:51:26.243264Z",
     "iopub.status.idle": "2023-04-17T10:51:26.250285Z",
     "shell.execute_reply": "2023-04-17T10:51:26.249427Z"
    },
    "papermill": {
     "duration": 0.04032,
     "end_time": "2023-04-17T10:51:26.252540",
     "exception": false,
     "start_time": "2023-04-17T10:51:26.212220",
     "status": "completed"
    },
    "tags": []
   },
   "outputs": [],
   "source": [
    "from optuna.samplers import TPESampler\n",
    "from optuna import TrialPruned\n",
    "\n",
    "def tune(objective, mod, X_train, y_train, scorer, n_trials=25, pruner=None):\n",
    "    objective_func = lambda trial: objective(trial, mod, X_train, y_train, scorer)\n",
    "    study = optuna.create_study(direction=\"maximize\", pruner=pruner, sampler=TPESampler(seed=23))\n",
    "    study.optimize(objective_func, n_trials=n_trials, show_progress_bar=True)\n",
    "    params = study.best_params\n",
    "    best_score = study.best_value\n",
    "    return params, best_score\n"
   ]
  },
  {
   "cell_type": "code",
   "execution_count": 32,
   "id": "ea586a8b",
   "metadata": {
    "execution": {
     "iopub.execute_input": "2023-04-17T10:51:26.315318Z",
     "iopub.status.busy": "2023-04-17T10:51:26.314123Z",
     "iopub.status.idle": "2023-04-17T11:07:42.291302Z",
     "shell.execute_reply": "2023-04-17T11:07:42.290085Z"
    },
    "papermill": {
     "duration": 976.010865,
     "end_time": "2023-04-17T11:07:42.293773",
     "exception": false,
     "start_time": "2023-04-17T10:51:26.282908",
     "status": "completed"
    },
    "tags": []
   },
   "outputs": [
    {
     "data": {
      "application/vnd.jupyter.widget-view+json": {
       "model_id": "4edba7c16598418faa7dd56416b8e434",
       "version_major": 2,
       "version_minor": 0
      },
      "text/plain": [
       "  0%|          | 0/250 [00:00<?, ?it/s]"
      ]
     },
     "metadata": {},
     "output_type": "display_data"
    },
    {
     "name": "stdout",
     "output_type": "stream",
     "text": [
      "Best score: 0.80687\n",
      "| RF   |------------------------------------------------------------------------------------------| 00:16:15 \n",
      "\n",
      "CPU times: user 20.3 s, sys: 544 ms, total: 20.9 s\n",
      "Wall time: 16min 15s\n"
     ]
    }
   ],
   "source": [
    "%%time\n",
    "import datetime\n",
    "\n",
    "params = {'RF  ':'',\n",
    "          #'LGBM':'',\n",
    "          #'XGB ':''\n",
    "         }\n",
    "pruner = optuna.pruners.MedianPruner(n_warmup_steps=5, interval_steps=1)\n",
    "for mod, param in params.items():\n",
    "        start_time = time.time()\n",
    "        tuned_params, top_score = tune(objective, mod, X_train, y_train, scorer='accuracy', n_trials=250, \n",
    "                                        pruner=pruner)\n",
    "        params[mod] = tuned_params\n",
    "        end_time = time.time()\n",
    "        time_spent = datetime.datetime.utcfromtimestamp(end_time-start_time)\n",
    "        time_str = time_spent.strftime('%H:%M:%S')\n",
    "        print(f'Best score: {top_score:.5f}')\n",
    "        print(f'| {mod} |{\"-\"*90}| {time_str} \\n')\n"
   ]
  },
  {
   "cell_type": "markdown",
   "id": "4e62150c",
   "metadata": {
    "papermill": {
     "duration": 0.02944,
     "end_time": "2023-04-17T11:07:42.353119",
     "exception": false,
     "start_time": "2023-04-17T11:07:42.323679",
     "status": "completed"
    },
    "tags": []
   },
   "source": [
    "> Following the results of the hyperparameter tuning, we chose **RandomForestClassifier**."
   ]
  },
  {
   "cell_type": "code",
   "execution_count": 33,
   "id": "484680c1",
   "metadata": {
    "execution": {
     "iopub.execute_input": "2023-04-17T11:07:42.416085Z",
     "iopub.status.busy": "2023-04-17T11:07:42.415627Z",
     "iopub.status.idle": "2023-04-17T11:07:42.424386Z",
     "shell.execute_reply": "2023-04-17T11:07:42.423046Z"
    },
    "papermill": {
     "duration": 0.044549,
     "end_time": "2023-04-17T11:07:42.427258",
     "exception": false,
     "start_time": "2023-04-17T11:07:42.382709",
     "status": "completed"
    },
    "tags": []
   },
   "outputs": [
    {
     "data": {
      "text/markdown": [
       "the best parameters for our random forest are :"
      ],
      "text/plain": [
       "<IPython.core.display.Markdown object>"
      ]
     },
     "metadata": {},
     "output_type": "display_data"
    },
    {
     "name": "stdout",
     "output_type": "stream",
     "text": [
      "{'n_estimators': 261, 'max_depth': 42, 'min_samples_split': 4, 'min_samples_leaf': 1, 'max_features': 3}\n"
     ]
    }
   ],
   "source": [
    "bold(f\"the best parameters for our random forest are :\")\n",
    "print(params['RF  '])"
   ]
  },
  {
   "cell_type": "code",
   "execution_count": 34,
   "id": "f28ade79",
   "metadata": {
    "execution": {
     "iopub.execute_input": "2023-04-17T11:07:42.489679Z",
     "iopub.status.busy": "2023-04-17T11:07:42.488876Z",
     "iopub.status.idle": "2023-04-17T11:07:50.627253Z",
     "shell.execute_reply": "2023-04-17T11:07:50.625920Z"
    },
    "papermill": {
     "duration": 8.172378,
     "end_time": "2023-04-17T11:07:50.629943",
     "exception": false,
     "start_time": "2023-04-17T11:07:42.457565",
     "status": "completed"
    },
    "tags": []
   },
   "outputs": [
    {
     "name": "stdout",
     "output_type": "stream",
     "text": [
      "           |  cv   | test  |\n",
      "accuracy:  | 0.808 | 0.806 |\n",
      "recall:    | 0.805 | 0.803 |\n",
      "precision: | 0.805 | 0.804 |\n",
      "f1_score:  | 0.802 | 0.802 |\n"
     ]
    }
   ],
   "source": [
    "random_state = 23\n",
    "\n",
    "# create a list of classifiers\n",
    "classifiers = [ensemble.RandomForestClassifier(random_state=23)]\n",
    "\n",
    "# create a list of classifiers to evaluate\n",
    "cv = StratifiedKFold(n_splits=10, shuffle=True, random_state=23)\n",
    "\n",
    "# define the metrics to be computed\n",
    "scoring = ['accuracy', 'precision_macro', 'recall_macro', 'f1_macro']\n",
    "\n",
    "# perform cross-validation and compute metrics\n",
    "cv_results = cross_validate(classifiers[0].set_params(**params['RF  ']), X_train, y_train, cv=cv, scoring=scoring, n_jobs=-1)\n",
    "cv_results_list.append(cv_results)\n",
    "\n",
    "cv_accuracy = round(cv_results['test_accuracy'].mean(), 3)\n",
    "cv_recall = round(cv_results['test_recall_macro'].mean(), 3)\n",
    "cv_precision = round(cv_results['test_precision_macro'].mean(), 3)\n",
    "cv_f1_score = round(cv_results['test_f1_macro'].mean(), 3)\n",
    "\n",
    "best_model = classifiers[0].fit(X_train, y_train)\n",
    "y_pred = best_model.predict(X_test)\n",
    "test_accuracy = round(accuracy_score(y_test, y_pred), 3)\n",
    "test_recall = round(recall_score(y_test, y_pred, average='macro'), 3)\n",
    "test_precision = round(precision_score(y_test, y_pred, average='macro'), 3)\n",
    "test_f1_score = round(f1_score(y_test, y_pred, average='macro'), 3)\n",
    "\n",
    "# comparison\n",
    "print(f\"           |  cv   | test  |\")\n",
    "print(f\"accuracy:  | {cv_accuracy} | {test_accuracy} |\")\n",
    "print(f\"recall:    | {cv_recall} | {test_recall} |\")\n",
    "print(f\"precision: | {cv_precision} | {test_precision} |\")\n",
    "print(f\"f1_score:  | {cv_f1_score} | {test_f1_score} |\")"
   ]
  },
  {
   "cell_type": "markdown",
   "id": "f05991e0",
   "metadata": {
    "papermill": {
     "duration": 0.030014,
     "end_time": "2023-04-17T11:07:50.690436",
     "exception": false,
     "start_time": "2023-04-17T11:07:50.660422",
     "status": "completed"
    },
    "tags": []
   },
   "source": [
    "## Interpretation"
   ]
  },
  {
   "cell_type": "code",
   "execution_count": 35,
   "id": "1a8f3c25",
   "metadata": {
    "execution": {
     "iopub.execute_input": "2023-04-17T11:07:50.752810Z",
     "iopub.status.busy": "2023-04-17T11:07:50.752065Z",
     "iopub.status.idle": "2023-04-17T11:09:34.600311Z",
     "shell.execute_reply": "2023-04-17T11:09:34.598795Z"
    },
    "papermill": {
     "duration": 103.911988,
     "end_time": "2023-04-17T11:09:34.632779",
     "exception": false,
     "start_time": "2023-04-17T11:07:50.720791",
     "status": "completed"
    },
    "tags": []
   },
   "outputs": [
    {
     "name": "stdout",
     "output_type": "stream",
     "text": [
      "CPU times: user 1min 44s, sys: 570 ms, total: 1min 45s\n",
      "Wall time: 1min 43s\n"
     ]
    }
   ],
   "source": [
    "%%time\n",
    "explainer = shap.TreeExplainer(best_model)\n",
    "shap_values = explainer.shap_values(X_train)"
   ]
  },
  {
   "cell_type": "code",
   "execution_count": 36,
   "id": "25e4296b",
   "metadata": {
    "execution": {
     "iopub.execute_input": "2023-04-17T11:09:34.694874Z",
     "iopub.status.busy": "2023-04-17T11:09:34.694457Z",
     "iopub.status.idle": "2023-04-17T11:09:34.701445Z",
     "shell.execute_reply": "2023-04-17T11:09:34.700648Z"
    },
    "papermill": {
     "duration": 0.041037,
     "end_time": "2023-04-17T11:09:34.703891",
     "exception": false,
     "start_time": "2023-04-17T11:09:34.662854",
     "status": "completed"
    },
    "tags": []
   },
   "outputs": [
    {
     "data": {
      "text/plain": [
       "{0: 'Insufficient_Weight',\n",
       " 1: 'Normal_Weight',\n",
       " 2: 'Overweight_Level_I',\n",
       " 3: 'Overweight_Level_II',\n",
       " 4: 'Obesity_Type_I',\n",
       " 5: 'Obesity_Type_II',\n",
       " 6: 'Obesity_Type_III'}"
      ]
     },
     "execution_count": 36,
     "metadata": {},
     "output_type": "execute_result"
    }
   ],
   "source": [
    "class_names = {value: key for key, value in obesity_status_mapping.items()}\n",
    "\n",
    "class_names"
   ]
  },
  {
   "cell_type": "code",
   "execution_count": 37,
   "id": "0e0d5a0a",
   "metadata": {
    "execution": {
     "iopub.execute_input": "2023-04-17T11:09:34.769929Z",
     "iopub.status.busy": "2023-04-17T11:09:34.769528Z",
     "iopub.status.idle": "2023-04-17T11:09:35.424702Z",
     "shell.execute_reply": "2023-04-17T11:09:35.423224Z"
    },
    "papermill": {
     "duration": 0.693568,
     "end_time": "2023-04-17T11:09:35.427573",
     "exception": false,
     "start_time": "2023-04-17T11:09:34.734005",
     "status": "completed"
    },
    "tags": []
   },
   "outputs": [
    {
     "data": {
      "image/png": "[encoded data removed]",
      "text/plain": [
       "<Figure size 800x550 with 1 Axes>"
      ]
     },
     "metadata": {},
     "output_type": "display_data"
    }
   ],
   "source": [
    "shap.summary_plot(shap_values, X_train, plot_type='bar', class_names=class_names, max_display=10)"
   ]
  },
  {
   "cell_type": "markdown",
   "id": "8aac1e5f",
   "metadata": {
    "papermill": {
     "duration": 0.031947,
     "end_time": "2023-04-17T11:09:35.491749",
     "exception": false,
     "start_time": "2023-04-17T11:09:35.459802",
     "status": "completed"
    },
    "tags": []
   },
   "source": [
    "# Regression"
   ]
  },
  {
   "cell_type": "markdown",
   "id": "b9f2834f",
   "metadata": {
    "papermill": {
     "duration": 0.03192,
     "end_time": "2023-04-17T11:09:35.555867",
     "exception": false,
     "start_time": "2023-04-17T11:09:35.523947",
     "status": "completed"
    },
    "tags": []
   },
   "source": [
    "Regression is a statistical technique used to model the relationship between a dependent variable and one or more independent variables. \n",
    "\n",
    "In this study, a 'BMI' variable is created by dividing an individual's weight in kilograms by the square of their height in meters. This variable is then used as the target variable for regression analysis to identify the factors that contribute to obesity. \n",
    "\n",
    "To interpret the results of the regression analysis, the SHAP approach is again used. SHAP values are used to explain the contribution of each feature to the BMI of an individual. This helps to understand which features are most important in contributing to an individual's BMI."
   ]
  },
  {
   "cell_type": "markdown",
   "id": "4bc82711",
   "metadata": {
    "papermill": {
     "duration": 0.031679,
     "end_time": "2023-04-17T11:09:35.619682",
     "exception": false,
     "start_time": "2023-04-17T11:09:35.588003",
     "status": "completed"
    },
    "tags": []
   },
   "source": [
    "## Preprocessing"
   ]
  },
  {
   "cell_type": "code",
   "execution_count": 38,
   "id": "8481f235",
   "metadata": {
    "execution": {
     "iopub.execute_input": "2023-04-17T11:09:35.686141Z",
     "iopub.status.busy": "2023-04-17T11:09:35.684884Z",
     "iopub.status.idle": "2023-04-17T11:09:35.692233Z",
     "shell.execute_reply": "2023-04-17T11:09:35.691202Z"
    },
    "papermill": {
     "duration": 0.043348,
     "end_time": "2023-04-17T11:09:35.694786",
     "exception": false,
     "start_time": "2023-04-17T11:09:35.651438",
     "status": "completed"
    },
    "tags": []
   },
   "outputs": [],
   "source": [
    "X = df.drop(columns=[\"NObeyesdad\"], axis=1)\n"
   ]
  },
  {
   "cell_type": "code",
   "execution_count": 39,
   "id": "47bd5b20",
   "metadata": {
    "execution": {
     "iopub.execute_input": "2023-04-17T11:09:35.761135Z",
     "iopub.status.busy": "2023-04-17T11:09:35.760258Z",
     "iopub.status.idle": "2023-04-17T11:09:35.784492Z",
     "shell.execute_reply": "2023-04-17T11:09:35.783150Z"
    },
    "papermill": {
     "duration": 0.060571,
     "end_time": "2023-04-17T11:09:35.787132",
     "exception": false,
     "start_time": "2023-04-17T11:09:35.726561",
     "status": "completed"
    },
    "tags": []
   },
   "outputs": [
    {
     "data": {
      "text/html": [
       "<div>\n",
       "<style scoped>\n",
       "    .dataframe tbody tr th:only-of-type {\n",
       "        vertical-align: middle;\n",
       "    }\n",
       "\n",
       "    .dataframe tbody tr th {\n",
       "        vertical-align: top;\n",
       "    }\n",
       "\n",
       "    .dataframe thead th {\n",
       "        text-align: right;\n",
       "    }\n",
       "</style>\n",
       "<table border=\"1\" class=\"dataframe\">\n",
       "  <thead>\n",
       "    <tr style=\"text-align: right;\">\n",
       "      <th></th>\n",
       "      <th>Gender</th>\n",
       "      <th>Age</th>\n",
       "      <th>family_history_with_overweight</th>\n",
       "      <th>FAVC</th>\n",
       "      <th>FCVC</th>\n",
       "      <th>NCP</th>\n",
       "      <th>CAEC</th>\n",
       "      <th>SMOKE</th>\n",
       "      <th>CH2O</th>\n",
       "      <th>SCC</th>\n",
       "      <th>FAF</th>\n",
       "      <th>TUE</th>\n",
       "      <th>CALC</th>\n",
       "      <th>MTRANS</th>\n",
       "      <th>BMI</th>\n",
       "    </tr>\n",
       "  </thead>\n",
       "  <tbody>\n",
       "    <tr>\n",
       "      <th>0</th>\n",
       "      <td>Female</td>\n",
       "      <td>21</td>\n",
       "      <td>yes</td>\n",
       "      <td>no</td>\n",
       "      <td>2</td>\n",
       "      <td>3</td>\n",
       "      <td>Sometimes</td>\n",
       "      <td>no</td>\n",
       "      <td>2</td>\n",
       "      <td>no</td>\n",
       "      <td>0</td>\n",
       "      <td>1</td>\n",
       "      <td>no</td>\n",
       "      <td>Public_Transportation</td>\n",
       "      <td>24.386526</td>\n",
       "    </tr>\n",
       "    <tr>\n",
       "      <th>1</th>\n",
       "      <td>Female</td>\n",
       "      <td>21</td>\n",
       "      <td>yes</td>\n",
       "      <td>no</td>\n",
       "      <td>3</td>\n",
       "      <td>3</td>\n",
       "      <td>Sometimes</td>\n",
       "      <td>yes</td>\n",
       "      <td>3</td>\n",
       "      <td>yes</td>\n",
       "      <td>3</td>\n",
       "      <td>0</td>\n",
       "      <td>Sometimes</td>\n",
       "      <td>Public_Transportation</td>\n",
       "      <td>24.238227</td>\n",
       "    </tr>\n",
       "    <tr>\n",
       "      <th>2</th>\n",
       "      <td>Male</td>\n",
       "      <td>23</td>\n",
       "      <td>yes</td>\n",
       "      <td>no</td>\n",
       "      <td>2</td>\n",
       "      <td>3</td>\n",
       "      <td>Sometimes</td>\n",
       "      <td>no</td>\n",
       "      <td>2</td>\n",
       "      <td>no</td>\n",
       "      <td>2</td>\n",
       "      <td>1</td>\n",
       "      <td>Frequently</td>\n",
       "      <td>Public_Transportation</td>\n",
       "      <td>23.765432</td>\n",
       "    </tr>\n",
       "    <tr>\n",
       "      <th>3</th>\n",
       "      <td>Male</td>\n",
       "      <td>27</td>\n",
       "      <td>no</td>\n",
       "      <td>no</td>\n",
       "      <td>3</td>\n",
       "      <td>3</td>\n",
       "      <td>Sometimes</td>\n",
       "      <td>no</td>\n",
       "      <td>2</td>\n",
       "      <td>no</td>\n",
       "      <td>2</td>\n",
       "      <td>0</td>\n",
       "      <td>Frequently</td>\n",
       "      <td>Walking</td>\n",
       "      <td>26.851852</td>\n",
       "    </tr>\n",
       "    <tr>\n",
       "      <th>4</th>\n",
       "      <td>Male</td>\n",
       "      <td>22</td>\n",
       "      <td>no</td>\n",
       "      <td>no</td>\n",
       "      <td>2</td>\n",
       "      <td>1</td>\n",
       "      <td>Sometimes</td>\n",
       "      <td>no</td>\n",
       "      <td>2</td>\n",
       "      <td>no</td>\n",
       "      <td>0</td>\n",
       "      <td>0</td>\n",
       "      <td>Sometimes</td>\n",
       "      <td>Public_Transportation</td>\n",
       "      <td>28.342381</td>\n",
       "    </tr>\n",
       "  </tbody>\n",
       "</table>\n",
       "</div>"
      ],
      "text/plain": [
       "   Gender  Age family_history_with_overweight FAVC  FCVC  NCP       CAEC  \\\n",
       "0  Female   21                            yes   no     2    3  Sometimes   \n",
       "1  Female   21                            yes   no     3    3  Sometimes   \n",
       "2    Male   23                            yes   no     2    3  Sometimes   \n",
       "3    Male   27                             no   no     3    3  Sometimes   \n",
       "4    Male   22                             no   no     2    1  Sometimes   \n",
       "\n",
       "  SMOKE  CH2O  SCC  FAF  TUE        CALC                 MTRANS        BMI  \n",
       "0    no     2   no    0    1          no  Public_Transportation  24.386526  \n",
       "1   yes     3  yes    3    0   Sometimes  Public_Transportation  24.238227  \n",
       "2    no     2   no    2    1  Frequently  Public_Transportation  23.765432  \n",
       "3    no     2   no    2    0  Frequently                Walking  26.851852  \n",
       "4    no     2   no    0    0   Sometimes  Public_Transportation  28.342381  "
      ]
     },
     "execution_count": 39,
     "metadata": {},
     "output_type": "execute_result"
    }
   ],
   "source": [
    "X['BMI'] = df['Weight'] / df['Height']**2\n",
    "X.drop(columns=[\"Weight\", \"Height\"], axis=1, inplace=True)\n",
    "X.head()"
   ]
  },
  {
   "cell_type": "markdown",
   "id": "c8c35c98",
   "metadata": {
    "papermill": {
     "duration": 0.031491,
     "end_time": "2023-04-17T11:09:35.850497",
     "exception": false,
     "start_time": "2023-04-17T11:09:35.819006",
     "status": "completed"
    },
    "tags": []
   },
   "source": [
    "> We created a **BMI** (Body Mass Index) feature using the following formula:\n",
    "> \n",
    "> We then dropped the **Height** and **Weight** features."
   ]
  },
  {
   "cell_type": "code",
   "execution_count": 40,
   "id": "9faacbde",
   "metadata": {
    "execution": {
     "iopub.execute_input": "2023-04-17T11:09:35.917607Z",
     "iopub.status.busy": "2023-04-17T11:09:35.917128Z",
     "iopub.status.idle": "2023-04-17T11:09:35.923803Z",
     "shell.execute_reply": "2023-04-17T11:09:35.922458Z"
    },
    "papermill": {
     "duration": 0.04358,
     "end_time": "2023-04-17T11:09:35.926304",
     "exception": false,
     "start_time": "2023-04-17T11:09:35.882724",
     "status": "completed"
    },
    "tags": []
   },
   "outputs": [],
   "source": [
    "# Split the data into features and target\n",
    "y = X[\"BMI\"]\n",
    "X = X.drop(\"BMI\", axis=1)"
   ]
  },
  {
   "cell_type": "code",
   "execution_count": 41,
   "id": "5265c7c2",
   "metadata": {
    "execution": {
     "iopub.execute_input": "2023-04-17T11:09:35.993541Z",
     "iopub.status.busy": "2023-04-17T11:09:35.992743Z",
     "iopub.status.idle": "2023-04-17T11:09:36.023774Z",
     "shell.execute_reply": "2023-04-17T11:09:36.022458Z"
    },
    "papermill": {
     "duration": 0.067415,
     "end_time": "2023-04-17T11:09:36.026472",
     "exception": false,
     "start_time": "2023-04-17T11:09:35.959057",
     "status": "completed"
    },
    "tags": []
   },
   "outputs": [
    {
     "data": {
      "text/html": [
       "<div>\n",
       "<style scoped>\n",
       "    .dataframe tbody tr th:only-of-type {\n",
       "        vertical-align: middle;\n",
       "    }\n",
       "\n",
       "    .dataframe tbody tr th {\n",
       "        vertical-align: top;\n",
       "    }\n",
       "\n",
       "    .dataframe thead th {\n",
       "        text-align: right;\n",
       "    }\n",
       "</style>\n",
       "<table border=\"1\" class=\"dataframe\">\n",
       "  <thead>\n",
       "    <tr style=\"text-align: right;\">\n",
       "      <th></th>\n",
       "      <th>Age</th>\n",
       "      <th>FCVC</th>\n",
       "      <th>NCP</th>\n",
       "      <th>CH2O</th>\n",
       "      <th>FAF</th>\n",
       "      <th>TUE</th>\n",
       "      <th>Gender_Male</th>\n",
       "      <th>family_history_with_overweight_yes</th>\n",
       "      <th>FAVC_yes</th>\n",
       "      <th>CAEC_Frequently</th>\n",
       "      <th>...</th>\n",
       "      <th>CAEC_no</th>\n",
       "      <th>SMOKE_yes</th>\n",
       "      <th>SCC_yes</th>\n",
       "      <th>CALC_Frequently</th>\n",
       "      <th>CALC_Sometimes</th>\n",
       "      <th>CALC_no</th>\n",
       "      <th>MTRANS_Bike</th>\n",
       "      <th>MTRANS_Motorbike</th>\n",
       "      <th>MTRANS_Public_Transportation</th>\n",
       "      <th>MTRANS_Walking</th>\n",
       "    </tr>\n",
       "  </thead>\n",
       "  <tbody>\n",
       "    <tr>\n",
       "      <th>0</th>\n",
       "      <td>21</td>\n",
       "      <td>2</td>\n",
       "      <td>3</td>\n",
       "      <td>2</td>\n",
       "      <td>0</td>\n",
       "      <td>1</td>\n",
       "      <td>0</td>\n",
       "      <td>1</td>\n",
       "      <td>0</td>\n",
       "      <td>0</td>\n",
       "      <td>...</td>\n",
       "      <td>0</td>\n",
       "      <td>0</td>\n",
       "      <td>0</td>\n",
       "      <td>0</td>\n",
       "      <td>0</td>\n",
       "      <td>1</td>\n",
       "      <td>0</td>\n",
       "      <td>0</td>\n",
       "      <td>1</td>\n",
       "      <td>0</td>\n",
       "    </tr>\n",
       "    <tr>\n",
       "      <th>1</th>\n",
       "      <td>21</td>\n",
       "      <td>3</td>\n",
       "      <td>3</td>\n",
       "      <td>3</td>\n",
       "      <td>3</td>\n",
       "      <td>0</td>\n",
       "      <td>0</td>\n",
       "      <td>1</td>\n",
       "      <td>0</td>\n",
       "      <td>0</td>\n",
       "      <td>...</td>\n",
       "      <td>0</td>\n",
       "      <td>1</td>\n",
       "      <td>1</td>\n",
       "      <td>0</td>\n",
       "      <td>1</td>\n",
       "      <td>0</td>\n",
       "      <td>0</td>\n",
       "      <td>0</td>\n",
       "      <td>1</td>\n",
       "      <td>0</td>\n",
       "    </tr>\n",
       "    <tr>\n",
       "      <th>2</th>\n",
       "      <td>23</td>\n",
       "      <td>2</td>\n",
       "      <td>3</td>\n",
       "      <td>2</td>\n",
       "      <td>2</td>\n",
       "      <td>1</td>\n",
       "      <td>1</td>\n",
       "      <td>1</td>\n",
       "      <td>0</td>\n",
       "      <td>0</td>\n",
       "      <td>...</td>\n",
       "      <td>0</td>\n",
       "      <td>0</td>\n",
       "      <td>0</td>\n",
       "      <td>1</td>\n",
       "      <td>0</td>\n",
       "      <td>0</td>\n",
       "      <td>0</td>\n",
       "      <td>0</td>\n",
       "      <td>1</td>\n",
       "      <td>0</td>\n",
       "    </tr>\n",
       "    <tr>\n",
       "      <th>3</th>\n",
       "      <td>27</td>\n",
       "      <td>3</td>\n",
       "      <td>3</td>\n",
       "      <td>2</td>\n",
       "      <td>2</td>\n",
       "      <td>0</td>\n",
       "      <td>1</td>\n",
       "      <td>0</td>\n",
       "      <td>0</td>\n",
       "      <td>0</td>\n",
       "      <td>...</td>\n",
       "      <td>0</td>\n",
       "      <td>0</td>\n",
       "      <td>0</td>\n",
       "      <td>1</td>\n",
       "      <td>0</td>\n",
       "      <td>0</td>\n",
       "      <td>0</td>\n",
       "      <td>0</td>\n",
       "      <td>0</td>\n",
       "      <td>1</td>\n",
       "    </tr>\n",
       "    <tr>\n",
       "      <th>4</th>\n",
       "      <td>22</td>\n",
       "      <td>2</td>\n",
       "      <td>1</td>\n",
       "      <td>2</td>\n",
       "      <td>0</td>\n",
       "      <td>0</td>\n",
       "      <td>1</td>\n",
       "      <td>0</td>\n",
       "      <td>0</td>\n",
       "      <td>0</td>\n",
       "      <td>...</td>\n",
       "      <td>0</td>\n",
       "      <td>0</td>\n",
       "      <td>0</td>\n",
       "      <td>0</td>\n",
       "      <td>1</td>\n",
       "      <td>0</td>\n",
       "      <td>0</td>\n",
       "      <td>0</td>\n",
       "      <td>1</td>\n",
       "      <td>0</td>\n",
       "    </tr>\n",
       "  </tbody>\n",
       "</table>\n",
       "<p>5 rows × 21 columns</p>\n",
       "</div>"
      ],
      "text/plain": [
       "   Age  FCVC  NCP  CH2O  FAF  TUE  Gender_Male  \\\n",
       "0   21     2    3     2    0    1            0   \n",
       "1   21     3    3     3    3    0            0   \n",
       "2   23     2    3     2    2    1            1   \n",
       "3   27     3    3     2    2    0            1   \n",
       "4   22     2    1     2    0    0            1   \n",
       "\n",
       "   family_history_with_overweight_yes  FAVC_yes  CAEC_Frequently  ...  \\\n",
       "0                                   1         0                0  ...   \n",
       "1                                   1         0                0  ...   \n",
       "2                                   1         0                0  ...   \n",
       "3                                   0         0                0  ...   \n",
       "4                                   0         0                0  ...   \n",
       "\n",
       "   CAEC_no  SMOKE_yes  SCC_yes  CALC_Frequently  CALC_Sometimes  CALC_no  \\\n",
       "0        0          0        0                0               0        1   \n",
       "1        0          1        1                0               1        0   \n",
       "2        0          0        0                1               0        0   \n",
       "3        0          0        0                1               0        0   \n",
       "4        0          0        0                0               1        0   \n",
       "\n",
       "   MTRANS_Bike  MTRANS_Motorbike  MTRANS_Public_Transportation  MTRANS_Walking  \n",
       "0            0                 0                             1               0  \n",
       "1            0                 0                             1               0  \n",
       "2            0                 0                             1               0  \n",
       "3            0                 0                             0               1  \n",
       "4            0                 0                             1               0  \n",
       "\n",
       "[5 rows x 21 columns]"
      ]
     },
     "execution_count": 41,
     "metadata": {},
     "output_type": "execute_result"
    }
   ],
   "source": [
    "dummies_cols = X[[\"Gender\",\"family_history_with_overweight\",\n",
    "                                          \"FAVC\",\"CAEC\",\"SMOKE\",\"SCC\",\"CALC\",\"MTRANS\"]]\n",
    "\n",
    "X_dummies = pd.get_dummies(dummies_cols,columns=[\"Gender\",\"family_history_with_overweight\",\n",
    "                                          \"FAVC\",\"CAEC\",\"SMOKE\",\"SCC\",\"CALC\",\"MTRANS\"], drop_first=True)\n",
    "\n",
    "X_num = X.select_dtypes(include=['float64', 'int64'])\n",
    "\n",
    "\n",
    "X = pd.concat([X_num, X_dummies], axis=1)\n",
    "X.head()"
   ]
  },
  {
   "cell_type": "code",
   "execution_count": 42,
   "id": "6f776269",
   "metadata": {
    "execution": {
     "iopub.execute_input": "2023-04-17T11:09:36.167619Z",
     "iopub.status.busy": "2023-04-17T11:09:36.166931Z",
     "iopub.status.idle": "2023-04-17T11:09:36.178003Z",
     "shell.execute_reply": "2023-04-17T11:09:36.177149Z"
    },
    "papermill": {
     "duration": 0.047187,
     "end_time": "2023-04-17T11:09:36.180162",
     "exception": false,
     "start_time": "2023-04-17T11:09:36.132975",
     "status": "completed"
    },
    "tags": []
   },
   "outputs": [
    {
     "data": {
      "text/markdown": [
       " X_train: 1688  |  y_train: 1688"
      ],
      "text/plain": [
       "<IPython.core.display.Markdown object>"
      ]
     },
     "metadata": {},
     "output_type": "display_data"
    },
    {
     "data": {
      "text/markdown": [
       " X_test :  423  |  y_test: 423"
      ],
      "text/plain": [
       "<IPython.core.display.Markdown object>"
      ]
     },
     "metadata": {},
     "output_type": "display_data"
    }
   ],
   "source": [
    "X_train, X_test, y_train, y_test = train_test_split( X, y, test_size=0.2, random_state=23)\n",
    "\n",
    "bold(f' X_train: {X_train.shape[0]}  |  y_train: {y_train.shape[0]}')\n",
    "bold(f' X_test :  {X_test.shape[0]}  |  y_test: {y_test.shape[0]}')"
   ]
  },
  {
   "cell_type": "code",
   "execution_count": 43,
   "id": "80f50bcf",
   "metadata": {
    "execution": {
     "iopub.execute_input": "2023-04-17T11:09:36.249323Z",
     "iopub.status.busy": "2023-04-17T11:09:36.248628Z",
     "iopub.status.idle": "2023-04-17T11:09:36.268264Z",
     "shell.execute_reply": "2023-04-17T11:09:36.267089Z"
    },
    "papermill": {
     "duration": 0.056949,
     "end_time": "2023-04-17T11:09:36.270873",
     "exception": false,
     "start_time": "2023-04-17T11:09:36.213924",
     "status": "completed"
    },
    "tags": []
   },
   "outputs": [
    {
     "data": {
      "text/markdown": [
       " X_train: 1688"
      ],
      "text/plain": [
       "<IPython.core.display.Markdown object>"
      ]
     },
     "metadata": {},
     "output_type": "display_data"
    },
    {
     "data": {
      "text/markdown": [
       " X_test :  423"
      ],
      "text/plain": [
       "<IPython.core.display.Markdown object>"
      ]
     },
     "metadata": {},
     "output_type": "display_data"
    }
   ],
   "source": [
    "#Scaling the numerical columns of train set and test set separatly to prevent data leakage\n",
    "cols = [\"Age\", \"FCVC\", \"NCP\", \"CH2O\", \"FAF\", \"TUE\"]\n",
    "\n",
    "std_scaler = StandardScaler()\n",
    "\n",
    "X_train[cols] = std_scaler.fit_transform(X_train[cols])\n",
    "X_test[cols] = std_scaler.transform(X_test[cols])\n",
    "\n",
    "bold(f' X_train: {X_train.shape[0]}')\n",
    "bold(f' X_test :  {X_test.shape[0]}')"
   ]
  },
  {
   "cell_type": "markdown",
   "id": "d51d7ee6",
   "metadata": {
    "papermill": {
     "duration": 0.033311,
     "end_time": "2023-04-17T11:09:36.338072",
     "exception": false,
     "start_time": "2023-04-17T11:09:36.304761",
     "status": "completed"
    },
    "tags": []
   },
   "source": [
    "## Model Selection"
   ]
  },
  {
   "cell_type": "code",
   "execution_count": 44,
   "id": "ee44ec17",
   "metadata": {
    "execution": {
     "iopub.execute_input": "2023-04-17T11:09:36.408513Z",
     "iopub.status.busy": "2023-04-17T11:09:36.407662Z",
     "iopub.status.idle": "2023-04-17T11:10:04.634987Z",
     "shell.execute_reply": "2023-04-17T11:10:04.633844Z"
    },
    "papermill": {
     "duration": 28.265093,
     "end_time": "2023-04-17T11:10:04.637546",
     "exception": false,
     "start_time": "2023-04-17T11:09:36.372453",
     "status": "completed"
    },
    "tags": []
   },
   "outputs": [
    {
     "name": "stdout",
     "output_type": "stream",
     "text": [
      "LinearRegression is done in 0.086\n",
      "Ridge is done in 0.07\n",
      "Lasso is done in 0.068\n",
      "ElasticNet is done in 0.067\n",
      "SVR is done in 5.731\n",
      "RandomForestRegressor is done in 15.837\n",
      "GradientBoostingRegressor is done in 4.941\n",
      "XGBRegressor is done in 18.179\n",
      "LGBMRegressor is done in 2.302\n",
      "MLPRegressor is done in 50.145\n",
      "CPU times: user 632 ms, sys: 23.7 ms, total: 656 ms\n",
      "Wall time: 28.2 s\n"
     ]
    },
    {
     "data": {
      "text/html": [
       "<div>\n",
       "<style scoped>\n",
       "    .dataframe tbody tr th:only-of-type {\n",
       "        vertical-align: middle;\n",
       "    }\n",
       "\n",
       "    .dataframe tbody tr th {\n",
       "        vertical-align: top;\n",
       "    }\n",
       "\n",
       "    .dataframe thead th {\n",
       "        text-align: right;\n",
       "    }\n",
       "</style>\n",
       "<table border=\"1\" class=\"dataframe\">\n",
       "  <thead>\n",
       "    <tr style=\"text-align: right;\">\n",
       "      <th></th>\n",
       "      <th>Name</th>\n",
       "      <th>MAE</th>\n",
       "      <th>MAE_std</th>\n",
       "      <th>MSE</th>\n",
       "      <th>MSE_std</th>\n",
       "      <th>RMSE</th>\n",
       "      <th>RMSE_std</th>\n",
       "      <th>R-squared</th>\n",
       "      <th>R-squared_std</th>\n",
       "      <th>Fit Time</th>\n",
       "    </tr>\n",
       "  </thead>\n",
       "  <tbody>\n",
       "    <tr>\n",
       "      <th>5</th>\n",
       "      <td>RandomForestRegressor</td>\n",
       "      <td>2.013</td>\n",
       "      <td>0.136</td>\n",
       "      <td>10.288</td>\n",
       "      <td>1.9</td>\n",
       "      <td>3.208</td>\n",
       "      <td>1.378</td>\n",
       "      <td>0.839</td>\n",
       "      <td>0.036</td>\n",
       "      <td>15.837</td>\n",
       "    </tr>\n",
       "    <tr>\n",
       "      <th>8</th>\n",
       "      <td>LGBMRegressor</td>\n",
       "      <td>2.254</td>\n",
       "      <td>0.111</td>\n",
       "      <td>11.057</td>\n",
       "      <td>1.742</td>\n",
       "      <td>3.325</td>\n",
       "      <td>1.32</td>\n",
       "      <td>0.828</td>\n",
       "      <td>0.032</td>\n",
       "      <td>2.302</td>\n",
       "    </tr>\n",
       "    <tr>\n",
       "      <th>7</th>\n",
       "      <td>XGBRegressor</td>\n",
       "      <td>2.295</td>\n",
       "      <td>0.172</td>\n",
       "      <td>11.782</td>\n",
       "      <td>1.875</td>\n",
       "      <td>3.432</td>\n",
       "      <td>1.369</td>\n",
       "      <td>0.815</td>\n",
       "      <td>0.041</td>\n",
       "      <td>18.179</td>\n",
       "    </tr>\n",
       "    <tr>\n",
       "      <th>6</th>\n",
       "      <td>GradientBoostingRegressor</td>\n",
       "      <td>3.262</td>\n",
       "      <td>0.196</td>\n",
       "      <td>18.271</td>\n",
       "      <td>2.173</td>\n",
       "      <td>4.274</td>\n",
       "      <td>1.474</td>\n",
       "      <td>0.716</td>\n",
       "      <td>0.043</td>\n",
       "      <td>4.941</td>\n",
       "    </tr>\n",
       "    <tr>\n",
       "      <th>4</th>\n",
       "      <td>SVR</td>\n",
       "      <td>3.394</td>\n",
       "      <td>0.179</td>\n",
       "      <td>20.237</td>\n",
       "      <td>2.561</td>\n",
       "      <td>4.499</td>\n",
       "      <td>1.6</td>\n",
       "      <td>0.685</td>\n",
       "      <td>0.05</td>\n",
       "      <td>5.731</td>\n",
       "    </tr>\n",
       "    <tr>\n",
       "      <th>9</th>\n",
       "      <td>MLPRegressor</td>\n",
       "      <td>3.516</td>\n",
       "      <td>0.178</td>\n",
       "      <td>20.519</td>\n",
       "      <td>2.648</td>\n",
       "      <td>4.53</td>\n",
       "      <td>1.627</td>\n",
       "      <td>0.681</td>\n",
       "      <td>0.049</td>\n",
       "      <td>50.145</td>\n",
       "    </tr>\n",
       "    <tr>\n",
       "      <th>1</th>\n",
       "      <td>Ridge</td>\n",
       "      <td>4.689</td>\n",
       "      <td>0.186</td>\n",
       "      <td>34.039</td>\n",
       "      <td>2.727</td>\n",
       "      <td>5.834</td>\n",
       "      <td>1.651</td>\n",
       "      <td>0.471</td>\n",
       "      <td>0.054</td>\n",
       "      <td>0.07</td>\n",
       "    </tr>\n",
       "    <tr>\n",
       "      <th>0</th>\n",
       "      <td>LinearRegression</td>\n",
       "      <td>4.69</td>\n",
       "      <td>0.185</td>\n",
       "      <td>34.078</td>\n",
       "      <td>2.713</td>\n",
       "      <td>5.838</td>\n",
       "      <td>1.647</td>\n",
       "      <td>0.471</td>\n",
       "      <td>0.054</td>\n",
       "      <td>0.086</td>\n",
       "    </tr>\n",
       "    <tr>\n",
       "      <th>3</th>\n",
       "      <td>ElasticNet</td>\n",
       "      <td>5.978</td>\n",
       "      <td>0.397</td>\n",
       "      <td>51.477</td>\n",
       "      <td>5.696</td>\n",
       "      <td>7.175</td>\n",
       "      <td>2.387</td>\n",
       "      <td>0.207</td>\n",
       "      <td>0.02</td>\n",
       "      <td>0.067</td>\n",
       "    </tr>\n",
       "    <tr>\n",
       "      <th>2</th>\n",
       "      <td>Lasso</td>\n",
       "      <td>6.004</td>\n",
       "      <td>0.424</td>\n",
       "      <td>52.45</td>\n",
       "      <td>5.893</td>\n",
       "      <td>7.242</td>\n",
       "      <td>2.428</td>\n",
       "      <td>0.192</td>\n",
       "      <td>0.019</td>\n",
       "      <td>0.068</td>\n",
       "    </tr>\n",
       "  </tbody>\n",
       "</table>\n",
       "</div>"
      ],
      "text/plain": [
       "                        Name    MAE MAE_std     MSE MSE_std   RMSE RMSE_std  \\\n",
       "5      RandomForestRegressor  2.013   0.136  10.288     1.9  3.208    1.378   \n",
       "8              LGBMRegressor  2.254   0.111  11.057   1.742  3.325     1.32   \n",
       "7               XGBRegressor  2.295   0.172  11.782   1.875  3.432    1.369   \n",
       "6  GradientBoostingRegressor  3.262   0.196  18.271   2.173  4.274    1.474   \n",
       "4                        SVR  3.394   0.179  20.237   2.561  4.499      1.6   \n",
       "9               MLPRegressor  3.516   0.178  20.519   2.648   4.53    1.627   \n",
       "1                      Ridge  4.689   0.186  34.039   2.727  5.834    1.651   \n",
       "0           LinearRegression   4.69   0.185  34.078   2.713  5.838    1.647   \n",
       "3                 ElasticNet  5.978   0.397  51.477   5.696  7.175    2.387   \n",
       "2                      Lasso  6.004   0.424   52.45   5.893  7.242    2.428   \n",
       "\n",
       "  R-squared R-squared_std Fit Time  \n",
       "5     0.839         0.036   15.837  \n",
       "8     0.828         0.032    2.302  \n",
       "7     0.815         0.041   18.179  \n",
       "6     0.716         0.043    4.941  \n",
       "4     0.685          0.05    5.731  \n",
       "9     0.681         0.049   50.145  \n",
       "1     0.471         0.054     0.07  \n",
       "0     0.471         0.054    0.086  \n",
       "3     0.207          0.02    0.067  \n",
       "2     0.192         0.019    0.068  "
      ]
     },
     "execution_count": 44,
     "metadata": {},
     "output_type": "execute_result"
    }
   ],
   "source": [
    "%%time\n",
    "random_state = 23\n",
    "\n",
    "# create a list of regressors\n",
    "regressors = [linear_model.LinearRegression(),\n",
    "              linear_model.Ridge(),\n",
    "              linear_model.Lasso(),\n",
    "              linear_model.ElasticNet(),\n",
    "              svm.SVR(),\n",
    "              ensemble.RandomForestRegressor(random_state=random_state),\n",
    "              ensemble.GradientBoostingRegressor(random_state=random_state),\n",
    "              xgb.XGBRegressor(random_state=random_state),\n",
    "              lgb.LGBMRegressor(random_state=random_state),\n",
    "              neural_network.MLPRegressor(random_state=random_state)]\n",
    "\n",
    "# create a list of regressors to evaluate\n",
    "cv = KFold(n_splits=10, shuffle=True, random_state=23)\n",
    "\n",
    "# define the metrics to be computed\n",
    "scoring = ['neg_mean_absolute_error', 'neg_mean_squared_error', 'r2']\n",
    "\n",
    "# create table to compare MLA metrics\n",
    "MLA_columns = ['Name','MAE','MAE_std','MSE','MSE_std','RMSE','RMSE_std','R-squared','R-squared_std','Fit Time']\n",
    "MLA_compare = pd.DataFrame(columns = MLA_columns)\n",
    "\n",
    "# perform cross-validation and compute metrics\n",
    "row_index = 0\n",
    "cv_results_list = []\n",
    "for clf in regressors:\n",
    "    cv_results = cross_validate(clf, X_train, y_train, cv=cv, scoring=scoring, n_jobs=-1)\n",
    "    cv_results_list.append(cv_results)\n",
    "    \n",
    "    MLA_name = clf.__class__.__name__\n",
    "    MLA_compare.loc[row_index, 'Name'] = MLA_name\n",
    "    MLA_compare.loc[row_index, 'MAE'] = round(-cv_results['test_neg_mean_absolute_error'].mean(), 3)\n",
    "    MLA_compare.loc[row_index, 'MAE_std'] = round(cv_results['test_neg_mean_absolute_error'].std(), 3)\n",
    "    MLA_compare.loc[row_index, 'MSE'] = round(-cv_results['test_neg_mean_squared_error'].mean(), 3)\n",
    "    MLA_compare.loc[row_index, 'MSE_std'] = round(cv_results['test_neg_mean_squared_error'].std(), 3)\n",
    "    MLA_compare.loc[row_index, 'RMSE'] = round(np.sqrt(-cv_results['test_neg_mean_squared_error'].mean()), 3)\n",
    "    MLA_compare.loc[row_index, 'RMSE_std'] = round(np.sqrt(cv_results['test_neg_mean_squared_error'].std()), 3)\n",
    "    MLA_compare.loc[row_index, 'R-squared'] = round(cv_results['test_r2'].mean(), 3)\n",
    "    MLA_compare.loc[row_index, 'R-squared_std'] = round(cv_results['test_r2'].std(), 3)\n",
    "    MLA_compare.loc[row_index, 'Fit Time'] = round(cv_results['fit_time'].sum(), 3)\n",
    "    \n",
    "    \n",
    "    print(f'{MLA_name} is done in {round(cv_results[\"fit_time\"].sum(), 3)}')\n",
    "    \n",
    "    row_index+=1\n",
    "\n",
    "MLA_compare.sort_values(by = ['RMSE'], ascending = True, inplace = True)\n",
    "MLA_compare\n"
   ]
  },
  {
   "cell_type": "markdown",
   "id": "07a69124",
   "metadata": {
    "papermill": {
     "duration": 0.033306,
     "end_time": "2023-04-17T11:10:04.704456",
     "exception": false,
     "start_time": "2023-04-17T11:10:04.671150",
     "status": "completed"
    },
    "tags": []
   },
   "source": [
    "> We applied a 10 classification algorithms using 10 fold cross-validation on our training set, the results show clear superiority of ensemble methods over other methods.\n",
    "> \n",
    "> We chose **RandomForestRegressor** and **LGBMRegressor** for further analysis."
   ]
  },
  {
   "cell_type": "markdown",
   "id": "ab68fd86",
   "metadata": {
    "papermill": {
     "duration": 0.033639,
     "end_time": "2023-04-17T11:10:04.771643",
     "exception": false,
     "start_time": "2023-04-17T11:10:04.738004",
     "status": "completed"
    },
    "tags": []
   },
   "source": [
    "## Hyperparameter Tuning"
   ]
  },
  {
   "cell_type": "code",
   "execution_count": 45,
   "id": "2ad307f9",
   "metadata": {
    "execution": {
     "iopub.execute_input": "2023-04-17T11:10:04.840909Z",
     "iopub.status.busy": "2023-04-17T11:10:04.840433Z",
     "iopub.status.idle": "2023-04-17T11:10:04.858377Z",
     "shell.execute_reply": "2023-04-17T11:10:04.856958Z"
    },
    "papermill": {
     "duration": 0.056079,
     "end_time": "2023-04-17T11:10:04.861222",
     "exception": false,
     "start_time": "2023-04-17T11:10:04.805143",
     "status": "completed"
    },
    "tags": []
   },
   "outputs": [],
   "source": [
    "from sklearn.metrics import mean_squared_error\n",
    "\n",
    "def objective(trial, mod, X_train, y_train, scorer= 'neg_mean_squared_error', folds=10):\n",
    "    \"\"\"\n",
    "    THIS IS THE OBJECTIVE FUNCTION THAT RETURNS THE MEAN SCORES OF THE MODEL TO OPTUNA \n",
    "    FOR HYPERPARAMETER OPTIMIZATION\n",
    "    \"\"\"\n",
    "    \n",
    "    cv = KFold(n_splits=folds, shuffle=True, random_state=23)\n",
    "    \n",
    "    X = X_train.copy()\n",
    "    y = y_train.copy()\n",
    "    \n",
    "    if mod == 'RF  ':\n",
    "        n_estimators = trial.suggest_int('n_estimators', 50, 500)\n",
    "        max_depth = trial.suggest_int('max_depth', 5, 50)\n",
    "        min_samples_split = trial.suggest_int('min_samples_split', 2, 10)\n",
    "        min_samples_leaf = trial.suggest_int('min_samples_leaf', 1, 10)\n",
    "        max_features = trial.suggest_int('max_features', 1, 8)\n",
    "    \n",
    "        model = ensemble.RandomForestRegressor(max_depth=max_depth,\n",
    "                                                n_estimators=n_estimators,\n",
    "                                                min_samples_split=min_samples_split,\n",
    "                                                min_samples_leaf=min_samples_leaf,\n",
    "                                                max_features=max_features,\n",
    "                                                random_state=23)\n",
    "        \n",
    "    elif mod == 'LGBM':\n",
    "        max_depth = trial.suggest_int(\"max_depth\", 6, 20)\n",
    "        n_estimators = trial.suggest_int(\"n_estimators\", 100, 1000)\n",
    "        learning_rate = trial.suggest_loguniform('learning_rate', 1e-8, 1)\n",
    "        num_leaves = trial.suggest_int(\"num_leaves\", 2, 3000)\n",
    "        min_child_samples = trial.suggest_int('min_child_samples', 3, 200)\n",
    "        min_child_weight = trial.suggest_loguniform('min_child_weight', 1e-5, 1)\n",
    "        colsample_bytree = trial.suggest_uniform('colsample_bytree', 0.1, 1)\n",
    "        subsample = trial.suggest_uniform('subsample', 0.1, 1)\n",
    "        random_state = 23\n",
    "\n",
    "        model = lgb.LGBMRegressor(learning_rate=learning_rate, \n",
    "                              n_estimators=n_estimators, \n",
    "                              max_depth=max_depth, \n",
    "                              num_leaves=num_leaves, \n",
    "                              min_child_samples=min_child_samples,\n",
    "                              min_child_weight=min_child_weight,\n",
    "                              colsample_bytree=colsample_bytree,\n",
    "                              subsample=subsample,\n",
    "                              random_state=23)\n",
    "\n",
    "    elif mod == 'XGB ':\n",
    "        max_depth = trial.suggest_int(\"max_depth\", 2, 20)\n",
    "        n_estimators = trial.suggest_int(\"n_estimators\", 50, 1000)\n",
    "        learning_rate = trial.suggest_loguniform(\"learning_rate\", 1e-5, 1)\n",
    "        gamma = trial.suggest_loguniform(\"gamma\", 1e-5, 1)\n",
    "        subsample = trial.suggest_uniform(\"subsample\", 0.1, 1.0)\n",
    "        colsample_bytree = trial.suggest_uniform(\"colsample_bytree\", 0.1, 1.0)\n",
    "        random_state = 23\n",
    "\n",
    "        model = xgb.XGBRegressor(max_depth=max_depth, \n",
    "                         learning_rate=learning_rate, \n",
    "                         n_estimators=n_estimators, \n",
    "                         gamma=gamma, \n",
    "                         subsample=subsample, \n",
    "                         colsample_bytree=colsample_bytree, \n",
    "                         random_state=23)\n",
    "        \n",
    "    # Cross validation of the model\n",
    "    scores = cross_val_score(model, X, y, scoring=scorer, cv=cv, n_jobs=-1)\n",
    "\n",
    "    # Return mean score and variance\n",
    "    return scores.mean()\n"
   ]
  },
  {
   "cell_type": "code",
   "execution_count": 46,
   "id": "bf3237a3",
   "metadata": {
    "execution": {
     "iopub.execute_input": "2023-04-17T11:10:04.931652Z",
     "iopub.status.busy": "2023-04-17T11:10:04.931193Z",
     "iopub.status.idle": "2023-04-17T11:10:04.939454Z",
     "shell.execute_reply": "2023-04-17T11:10:04.938158Z"
    },
    "papermill": {
     "duration": 0.046645,
     "end_time": "2023-04-17T11:10:04.941720",
     "exception": false,
     "start_time": "2023-04-17T11:10:04.895075",
     "status": "completed"
    },
    "tags": []
   },
   "outputs": [],
   "source": [
    "from optuna.samplers import TPESampler\n",
    "from optuna import TrialPruned\n",
    "\n",
    "def tune(objective, mod, X_train, y_train, scorer, n_trials=25, pruner=None):\n",
    "    objective_func = lambda trial: objective(trial, mod, X_train, y_train, scorer)\n",
    "    \n",
    "    if scorer == 'neg_mean_squared_error':\n",
    "        direction = 'minimize'\n",
    "    else:\n",
    "        direction = 'maximize'\n",
    "    \n",
    "    study = optuna.create_study(direction=direction, pruner=pruner, sampler=TPESampler(seed=23))\n",
    "    study.optimize(objective_func, n_trials=n_trials, show_progress_bar=True)\n",
    "    params = study.best_params\n",
    "    best_score = study.best_value\n",
    "    return params, best_score"
   ]
  },
  {
   "cell_type": "code",
   "execution_count": 47,
   "id": "5e2b4122",
   "metadata": {
    "execution": {
     "iopub.execute_input": "2023-04-17T11:10:05.012625Z",
     "iopub.status.busy": "2023-04-17T11:10:05.011412Z",
     "iopub.status.idle": "2023-04-17T11:54:26.915808Z",
     "shell.execute_reply": "2023-04-17T11:54:26.914536Z"
    },
    "papermill": {
     "duration": 2661.980226,
     "end_time": "2023-04-17T11:54:26.955823",
     "exception": false,
     "start_time": "2023-04-17T11:10:04.975597",
     "status": "completed"
    },
    "tags": []
   },
   "outputs": [
    {
     "data": {
      "application/vnd.jupyter.widget-view+json": {
       "model_id": "54466ea16ee54c05a9bbfe3896de5f75",
       "version_major": 2,
       "version_minor": 0
      },
      "text/plain": [
       "  0%|          | 0/250 [00:00<?, ?it/s]"
      ]
     },
     "metadata": {},
     "output_type": "display_data"
    },
    {
     "name": "stdout",
     "output_type": "stream",
     "text": [
      "Best score: 0.85611\n",
      "| RF   |------------------------------------------------------------------------------------------| 00:44:21 \n",
      "\n",
      "CPU times: user 27 s, sys: 1.03 s, total: 28 s\n",
      "Wall time: 44min 21s\n"
     ]
    }
   ],
   "source": [
    "%%time\n",
    "import datetime\n",
    "from optuna.pruners import MedianPruner\n",
    "import optuna.logging\n",
    "#optuna.logging.set_verbosity(optuna.logging.WARNING)\n",
    "\n",
    "\n",
    "params = {'RF  ':'',\n",
    "          #'LGBM':'',\n",
    "          #'XGB ':''\n",
    "         }\n",
    "pruner = optuna.pruners.MedianPruner(n_warmup_steps=5, interval_steps=1)\n",
    "for mod, param in params.items():\n",
    "        start_time = time.time()\n",
    "        tuned_params, top_score = tune(objective, mod, X_train, y_train, scorer='r2', n_trials=250, \n",
    "                                        pruner=pruner)\n",
    "        params[mod] = tuned_params\n",
    "        end_time = time.time()\n",
    "        time_spent = datetime.datetime.utcfromtimestamp(end_time-start_time)\n",
    "        time_str = time_spent.strftime('%H:%M:%S')\n",
    "        print(f'Best score: {top_score:.5f}')\n",
    "        print(f'| {mod} |{\"-\"*90}| {time_str} \\n')"
   ]
  },
  {
   "cell_type": "markdown",
   "id": "c8a71d6d",
   "metadata": {
    "papermill": {
     "duration": 0.0345,
     "end_time": "2023-04-17T11:54:27.024664",
     "exception": false,
     "start_time": "2023-04-17T11:54:26.990164",
     "status": "completed"
    },
    "tags": []
   },
   "source": [
    "> Following the results of the hyperparameter tuning, the **RandomForestRegressor** model has improved."
   ]
  },
  {
   "cell_type": "code",
   "execution_count": 48,
   "id": "65892deb",
   "metadata": {
    "execution": {
     "iopub.execute_input": "2023-04-17T11:54:27.097065Z",
     "iopub.status.busy": "2023-04-17T11:54:27.095837Z",
     "iopub.status.idle": "2023-04-17T11:54:27.104531Z",
     "shell.execute_reply": "2023-04-17T11:54:27.103463Z"
    },
    "papermill": {
     "duration": 0.047821,
     "end_time": "2023-04-17T11:54:27.107430",
     "exception": false,
     "start_time": "2023-04-17T11:54:27.059609",
     "status": "completed"
    },
    "tags": []
   },
   "outputs": [
    {
     "data": {
      "text/markdown": [
       "the best parameters for our random forest are :"
      ],
      "text/plain": [
       "<IPython.core.display.Markdown object>"
      ]
     },
     "metadata": {},
     "output_type": "display_data"
    },
    {
     "name": "stdout",
     "output_type": "stream",
     "text": [
      "{'n_estimators': 418, 'max_depth': 15, 'min_samples_split': 3, 'min_samples_leaf': 1, 'max_features': 6}\n"
     ]
    }
   ],
   "source": [
    "bold(f\"the best parameters for our random forest are :\")\n",
    "print(params['RF  '])"
   ]
  },
  {
   "cell_type": "code",
   "execution_count": 49,
   "id": "6701c650",
   "metadata": {
    "execution": {
     "iopub.execute_input": "2023-04-17T11:54:27.179832Z",
     "iopub.status.busy": "2023-04-17T11:54:27.179153Z",
     "iopub.status.idle": "2023-04-17T11:54:39.374195Z",
     "shell.execute_reply": "2023-04-17T11:54:39.373248Z"
    },
    "papermill": {
     "duration": 12.235318,
     "end_time": "2023-04-17T11:54:39.377704",
     "exception": false,
     "start_time": "2023-04-17T11:54:27.142386",
     "status": "completed"
    },
    "tags": []
   },
   "outputs": [
    {
     "name": "stdout",
     "output_type": "stream",
     "text": [
      "           |  cv   | test  |\n",
      "MSE:       | 9.21  | 7.909 |\n",
      "MAE:       | 2.014 | 1.884 |\n",
      "R2 Score:  | 0.856 | 0.867 |\n"
     ]
    }
   ],
   "source": [
    "# create a list of regressors\n",
    "regressors = [ensemble.RandomForestRegressor(random_state=random_state)]\n",
    "\n",
    "# create a list of regressors to evaluate\n",
    "cv = KFold(n_splits=10, shuffle=True, random_state=23)\n",
    "\n",
    "# define the metrics to be computed\n",
    "scoring = ['neg_mean_absolute_error', 'neg_mean_squared_error', 'r2']\n",
    "\n",
    "# perform cross-validation and compute metrics\n",
    "cv_results = cross_validate(regressors[0].set_params(**params['RF  ']), X_train, y_train, cv=cv, scoring=scoring, n_jobs=-1)\n",
    "\n",
    "name = '10 CV Score'\n",
    "cv_mse = round(-cv_results['test_neg_mean_squared_error'].mean(), 3)\n",
    "cv_mae = round(-cv_results['test_neg_mean_absolute_error'].mean(), 3)\n",
    "cv_r2 = round(cv_results['test_r2'].mean(), 3)\n",
    "\n",
    "# retrain the best model on the full training set using the tuned parameters\n",
    "best_model = ensemble.RandomForestRegressor(random_state=random_state).set_params(**params['RF  '])\n",
    "best_model.fit(X_train, y_train)\n",
    "\n",
    "# compute test set metrics using the best model\n",
    "y_pred = best_model.predict(X_test)\n",
    "name = 'Test Score'\n",
    "test_mse = round(mean_squared_error(y_test, y_pred), 3)\n",
    "test_mae = round(mean_absolute_error(y_test, y_pred), 3)\n",
    "test_r2 = round(r2_score(y_test, y_pred), 3)\n",
    "\n",
    "# comparison\n",
    "print(f\"           |  cv   | test  |\")\n",
    "print(f\"MSE:       | {cv_mse}  | {test_mse} |\")\n",
    "print(f\"MAE:       | {cv_mae} | {test_mae} |\")\n",
    "print(f\"R2 Score:  | {cv_r2} | {test_r2} |\")\n"
   ]
  },
  {
   "cell_type": "markdown",
   "id": "2e19afbd",
   "metadata": {
    "papermill": {
     "duration": 0.034593,
     "end_time": "2023-04-17T11:54:39.454748",
     "exception": false,
     "start_time": "2023-04-17T11:54:39.420155",
     "status": "completed"
    },
    "tags": []
   },
   "source": [
    "## Interpretation"
   ]
  },
  {
   "cell_type": "code",
   "execution_count": 50,
   "id": "19ba8b7d",
   "metadata": {
    "execution": {
     "iopub.execute_input": "2023-04-17T11:54:39.527707Z",
     "iopub.status.busy": "2023-04-17T11:54:39.526414Z",
     "iopub.status.idle": "2023-04-17T11:58:22.449544Z",
     "shell.execute_reply": "2023-04-17T11:58:22.448146Z"
    },
    "papermill": {
     "duration": 222.962544,
     "end_time": "2023-04-17T11:58:22.452476",
     "exception": false,
     "start_time": "2023-04-17T11:54:39.489932",
     "status": "completed"
    },
    "tags": []
   },
   "outputs": [],
   "source": [
    "# calculate SHAP values\n",
    "explainer = shap.TreeExplainer(best_model)\n",
    "shap_values = explainer.shap_values(X_train)"
   ]
  },
  {
   "cell_type": "code",
   "execution_count": 51,
   "id": "f4d5ce79",
   "metadata": {
    "execution": {
     "iopub.execute_input": "2023-04-17T11:58:22.524962Z",
     "iopub.status.busy": "2023-04-17T11:58:22.524548Z",
     "iopub.status.idle": "2023-04-17T11:58:22.890787Z",
     "shell.execute_reply": "2023-04-17T11:58:22.889448Z"
    },
    "papermill": {
     "duration": 0.406039,
     "end_time": "2023-04-17T11:58:22.893716",
     "exception": false,
     "start_time": "2023-04-17T11:58:22.487677",
     "status": "completed"
    },
    "tags": []
   },
   "outputs": [
    {
     "data": {
      "image/png": "[encoded data removed]",
      "text/plain": [
       "<Figure size 800x550 with 1 Axes>"
      ]
     },
     "metadata": {},
     "output_type": "display_data"
    }
   ],
   "source": [
    "# generate summary plot\n",
    "shap.summary_plot(shap_values, X_test, plot_type=\"bar\", max_display=10)"
   ]
  },
  {
   "cell_type": "markdown",
   "id": "3e06a6cf",
   "metadata": {
    "papermill": {
     "duration": 0.035605,
     "end_time": "2023-04-17T11:58:22.965320",
     "exception": false,
     "start_time": "2023-04-17T11:58:22.929715",
     "status": "completed"
    },
    "tags": []
   },
   "source": [
    "# Conclusion"
   ]
  },
  {
   "cell_type": "markdown",
   "id": "55139006",
   "metadata": {
    "papermill": {
     "duration": 0.035731,
     "end_time": "2023-04-17T11:58:23.037455",
     "exception": false,
     "start_time": "2023-04-17T11:58:23.001724",
     "status": "completed"
    },
    "tags": []
   },
   "source": [
    "After conducting PCA, Classification, and Regression analyses on the UCI Obesity Dataset, it can be concluded that several factors have been identified as significant predictors of obesity. The results show that family history with overweight, age, frequency of consumption of vegetables, and gender are the most important factors that affect and can predict obesity.\n",
    "\n",
    "The family history with overweight, which indicates whether a person has a family history of being overweight, has a significant impact on obesity. This result suggests that individuals with a family history of obesity may have a higher risk of developing obesity themselves.\n",
    "\n",
    "Age is another important predictor of obesity. The older an individual is, the higher the likelihood of them being obese. This result is consistent with previous studies that have identified age as a significant risk factor for obesity.\n",
    "\n",
    "The frequency of consumption of vegetables (FCVC) is another factor that significantly affects obesity. This result suggests that individuals who consume vegetables more frequently have a lower risk of obesity compared to those who consume them less frequently.\n",
    "\n",
    "Finally, the analysis showed that gender is also an important factor in predicting obesity. Females were found to be more likely to be obese than males. This result is consistent with previous studies that have identified gender as a significant risk factor for obesity.\n",
    "\n",
    "In conclusion, by using the PCA, Classification, and Regression, we have identified several factors that significantly affect and predict obesity. These results can be useful in developing effective interventions and strategies to prevent and manage obesity.\n"
   ]
  }
 ],
 "metadata": {
  "kernelspec": {
   "display_name": "Python 3",
   "language": "python",
   "name": "python3"
  },
  "language_info": {
   "codemirror_mode": {
    "name": "ipython",
    "version": 3
   },
   "file_extension": ".py",
   "mimetype": "text/x-python",
   "name": "python",
   "nbconvert_exporter": "python",
   "pygments_lexer": "ipython3",
   "version": "3.7.12"
  },
  "papermill": {
   "default_parameters": {},
   "duration": 4145.432996,
   "end_time": "2023-04-17T11:58:25.718704",
   "environment_variables": {},
   "exception": null,
   "input_path": "__notebook__.ipynb",
   "output_path": "__notebook__.ipynb",
   "parameters": {},
   "start_time": "2023-04-17T10:49:20.285708",
   "version": "2.4.0"
  },
  "widgets": {
   "application/vnd.jupyter.widget-state+json": {
    "state": {
     "02f9fc9d3df043b9836a3d30c668ee1d": {
      "model_module": "@jupyter-widgets/controls",
      "model_module_version": "1.5.0",
      "model_name": "DescriptionStyleModel",
      "state": {
       "_model_module": "@jupyter-widgets/controls",
       "_model_module_version": "1.5.0",
       "_model_name": "DescriptionStyleModel",
       "_view_count": null,
       "_view_module": "@jupyter-widgets/base",
       "_view_module_version": "1.2.0",
       "_view_name": "StyleView",
       "description_width": ""
      }
     },
     "07a8324e01fd4ea79b2eba357ebf8bf6": {
      "model_module": "@jupyter-widgets/controls",
      "model_module_version": "1.5.0",
      "model_name": "ProgressStyleModel",
      "state": {
       "_model_module": "@jupyter-widgets/controls",
       "_model_module_version": "1.5.0",
       "_model_name": "ProgressStyleModel",
       "_view_count": null,
       "_view_module": "@jupyter-widgets/base",
       "_view_module_version": "1.2.0",
       "_view_name": "StyleView",
       "bar_color": null,
       "description_width": ""
      }
     },
     "0ba0e725c7914ad584f16a5fd846325a": {
      "model_module": "@jupyter-widgets/controls",
      "model_module_version": "1.5.0",
      "model_name": "DescriptionStyleModel",
      "state": {
       "_model_module": "@jupyter-widgets/controls",
       "_model_module_version": "1.5.0",
       "_model_name": "DescriptionStyleModel",
       "_view_count": null,
       "_view_module": "@jupyter-widgets/base",
       "_view_module_version": "1.2.0",
       "_view_name": "StyleView",
       "description_width": ""
      }
     },
     "1345761c276042318a543e502ceef08a": {
      "model_module": "@jupyter-widgets/controls",
      "model_module_version": "1.5.0",
      "model_name": "HTMLModel",
      "state": {
       "_dom_classes": [],
       "_model_module": "@jupyter-widgets/controls",
       "_model_module_version": "1.5.0",
       "_model_name": "HTMLModel",
       "_view_count": null,
       "_view_module": "@jupyter-widgets/controls",
       "_view_module_version": "1.5.0",
       "_view_name": "HTMLView",
       "description": "",
       "description_tooltip": null,
       "layout": "IPY_MODEL_ba24934b9471448b978ed1d387289a55",
       "placeholder": "​",
       "style": "IPY_MODEL_63f3d634998544f583735c58f3a1310f",
       "value": "Best trial: 184. Best value: 0.806869: 100%"
      }
     },
     "14b09e8293bd4d5c847af443a2aee4b3": {
      "model_module": "@jupyter-widgets/base",
      "model_module_version": "1.2.0",
      "model_name": "LayoutModel",
      "state": {
       "_model_module": "@jupyter-widgets/base",
       "_model_module_version": "1.2.0",
       "_model_name": "LayoutModel",
       "_view_count": null,
       "_view_module": "@jupyter-widgets/base",
       "_view_module_version": "1.2.0",
       "_view_name": "LayoutView",
       "align_content": null,
       "align_items": null,
       "align_self": null,
       "border": null,
       "bottom": null,
       "display": null,
       "flex": null,
       "flex_flow": null,
       "grid_area": null,
       "grid_auto_columns": null,
       "grid_auto_flow": null,
       "grid_auto_rows": null,
       "grid_column": null,
       "grid_gap": null,
       "grid_row": null,
       "grid_template_areas": null,
       "grid_template_columns": null,
       "grid_template_rows": null,
       "height": null,
       "justify_content": null,
       "justify_items": null,
       "left": null,
       "margin": null,
       "max_height": null,
       "max_width": null,
       "min_height": null,
       "min_width": null,
       "object_fit": null,
       "object_position": null,
       "order": null,
       "overflow": null,
       "overflow_x": null,
       "overflow_y": null,
       "padding": null,
       "right": null,
       "top": null,
       "visibility": null,
       "width": null
      }
     },
     "1dda5f17ea7849fe9580aa36ed25ac5f": {
      "model_module": "@jupyter-widgets/base",
      "model_module_version": "1.2.0",
      "model_name": "LayoutModel",
      "state": {
       "_model_module": "@jupyter-widgets/base",
       "_model_module_version": "1.2.0",
       "_model_name": "LayoutModel",
       "_view_count": null,
       "_view_module": "@jupyter-widgets/base",
       "_view_module_version": "1.2.0",
       "_view_name": "LayoutView",
       "align_content": null,
       "align_items": null,
       "align_self": null,
       "border": null,
       "bottom": null,
       "display": null,
       "flex": null,
       "flex_flow": null,
       "grid_area": null,
       "grid_auto_columns": null,
       "grid_auto_flow": null,
       "grid_auto_rows": null,
       "grid_column": null,
       "grid_gap": null,
       "grid_row": null,
       "grid_template_areas": null,
       "grid_template_columns": null,
       "grid_template_rows": null,
       "height": null,
       "justify_content": null,
       "justify_items": null,
       "left": null,
       "margin": null,
       "max_height": null,
       "max_width": null,
       "min_height": null,
       "min_width": null,
       "object_fit": null,
       "object_position": null,
       "order": null,
       "overflow": null,
       "overflow_x": null,
       "overflow_y": null,
       "padding": null,
       "right": null,
       "top": null,
       "visibility": null,
       "width": null
      }
     },
     "2559b8cd2e2c42c8b573956f509f02cc": {
      "model_module": "@jupyter-widgets/base",
      "model_module_version": "1.2.0",
      "model_name": "LayoutModel",
      "state": {
       "_model_module": "@jupyter-widgets/base",
       "_model_module_version": "1.2.0",
       "_model_name": "LayoutModel",
       "_view_count": null,
       "_view_module": "@jupyter-widgets/base",
       "_view_module_version": "1.2.0",
       "_view_name": "LayoutView",
       "align_content": null,
       "align_items": null,
       "align_self": null,
       "border": null,
       "bottom": null,
       "display": null,
       "flex": null,
       "flex_flow": null,
       "grid_area": null,
       "grid_auto_columns": null,
       "grid_auto_flow": null,
       "grid_auto_rows": null,
       "grid_column": null,
       "grid_gap": null,
       "grid_row": null,
       "grid_template_areas": null,
       "grid_template_columns": null,
       "grid_template_rows": null,
       "height": null,
       "justify_content": null,
       "justify_items": null,
       "left": null,
       "margin": null,
       "max_height": null,
       "max_width": null,
       "min_height": null,
       "min_width": null,
       "object_fit": null,
       "object_position": null,
       "order": null,
       "overflow": null,
       "overflow_x": null,
       "overflow_y": null,
       "padding": null,
       "right": null,
       "top": null,
       "visibility": null,
       "width": null
      }
     },
     "2bd83a78b0724a418a3b9c208ea4e345": {
      "model_module": "@jupyter-widgets/controls",
      "model_module_version": "1.5.0",
      "model_name": "DescriptionStyleModel",
      "state": {
       "_model_module": "@jupyter-widgets/controls",
       "_model_module_version": "1.5.0",
       "_model_name": "DescriptionStyleModel",
       "_view_count": null,
       "_view_module": "@jupyter-widgets/base",
       "_view_module_version": "1.2.0",
       "_view_name": "StyleView",
       "description_width": ""
      }
     },
     "2f44f0f6678947e78cffa56331ff0e2f": {
      "model_module": "@jupyter-widgets/controls",
      "model_module_version": "1.5.0",
      "model_name": "ProgressStyleModel",
      "state": {
       "_model_module": "@jupyter-widgets/controls",
       "_model_module_version": "1.5.0",
       "_model_name": "ProgressStyleModel",
       "_view_count": null,
       "_view_module": "@jupyter-widgets/base",
       "_view_module_version": "1.2.0",
       "_view_name": "StyleView",
       "bar_color": null,
       "description_width": ""
      }
     },
     "3367e829cd474236a8d3390cac897943": {
      "model_module": "@jupyter-widgets/controls",
      "model_module_version": "1.5.0",
      "model_name": "FloatProgressModel",
      "state": {
       "_dom_classes": [],
       "_model_module": "@jupyter-widgets/controls",
       "_model_module_version": "1.5.0",
       "_model_name": "FloatProgressModel",
       "_view_count": null,
       "_view_module": "@jupyter-widgets/controls",
       "_view_module_version": "1.5.0",
       "_view_name": "ProgressView",
       "bar_style": "success",
       "description": "",
       "description_tooltip": null,
       "layout": "IPY_MODEL_e0737d5a008b486ea6a70f7ad700e780",
       "max": 250.0,
       "min": 0.0,
       "orientation": "horizontal",
       "style": "IPY_MODEL_2f44f0f6678947e78cffa56331ff0e2f",
       "value": 250.0
      }
     },
     "3c158d8577844d2883e54fb8658ebdfb": {
      "model_module": "@jupyter-widgets/base",
      "model_module_version": "1.2.0",
      "model_name": "LayoutModel",
      "state": {
       "_model_module": "@jupyter-widgets/base",
       "_model_module_version": "1.2.0",
       "_model_name": "LayoutModel",
       "_view_count": null,
       "_view_module": "@jupyter-widgets/base",
       "_view_module_version": "1.2.0",
       "_view_name": "LayoutView",
       "align_content": null,
       "align_items": null,
       "align_self": null,
       "border": null,
       "bottom": null,
       "display": null,
       "flex": null,
       "flex_flow": null,
       "grid_area": null,
       "grid_auto_columns": null,
       "grid_auto_flow": null,
       "grid_auto_rows": null,
       "grid_column": null,
       "grid_gap": null,
       "grid_row": null,
       "grid_template_areas": null,
       "grid_template_columns": null,
       "grid_template_rows": null,
       "height": null,
       "justify_content": null,
       "justify_items": null,
       "left": null,
       "margin": null,
       "max_height": null,
       "max_width": null,
       "min_height": null,
       "min_width": null,
       "object_fit": null,
       "object_position": null,
       "order": null,
       "overflow": null,
       "overflow_x": null,
       "overflow_y": null,
       "padding": null,
       "right": null,
       "top": null,
       "visibility": null,
       "width": null
      }
     },
     "4edba7c16598418faa7dd56416b8e434": {
      "model_module": "@jupyter-widgets/controls",
      "model_module_version": "1.5.0",
      "model_name": "HBoxModel",
      "state": {
       "_dom_classes": [],
       "_model_module": "@jupyter-widgets/controls",
       "_model_module_version": "1.5.0",
       "_model_name": "HBoxModel",
       "_view_count": null,
       "_view_module": "@jupyter-widgets/controls",
       "_view_module_version": "1.5.0",
       "_view_name": "HBoxView",
       "box_style": "",
       "children": [
        "IPY_MODEL_1345761c276042318a543e502ceef08a",
        "IPY_MODEL_cb14d3d29f2843b29f1253c07552d9b0",
        "IPY_MODEL_d4af5facacb84191ae4dcd43363c1136"
       ],
       "layout": "IPY_MODEL_3c158d8577844d2883e54fb8658ebdfb"
      }
     },
     "54466ea16ee54c05a9bbfe3896de5f75": {
      "model_module": "@jupyter-widgets/controls",
      "model_module_version": "1.5.0",
      "model_name": "HBoxModel",
      "state": {
       "_dom_classes": [],
       "_model_module": "@jupyter-widgets/controls",
       "_model_module_version": "1.5.0",
       "_model_name": "HBoxModel",
       "_view_count": null,
       "_view_module": "@jupyter-widgets/controls",
       "_view_module_version": "1.5.0",
       "_view_name": "HBoxView",
       "box_style": "",
       "children": [
        "IPY_MODEL_d6f6a02ee8f64db28c964b0bd1b40bf2",
        "IPY_MODEL_3367e829cd474236a8d3390cac897943",
        "IPY_MODEL_6828e97d2f394399b63ae5ea6f786717"
       ],
       "layout": "IPY_MODEL_2559b8cd2e2c42c8b573956f509f02cc"
      }
     },
     "63f3d634998544f583735c58f3a1310f": {
      "model_module": "@jupyter-widgets/controls",
      "model_module_version": "1.5.0",
      "model_name": "DescriptionStyleModel",
      "state": {
       "_model_module": "@jupyter-widgets/controls",
       "_model_module_version": "1.5.0",
       "_model_name": "DescriptionStyleModel",
       "_view_count": null,
       "_view_module": "@jupyter-widgets/base",
       "_view_module_version": "1.2.0",
       "_view_name": "StyleView",
       "description_width": ""
      }
     },
     "6828e97d2f394399b63ae5ea6f786717": {
      "model_module": "@jupyter-widgets/controls",
      "model_module_version": "1.5.0",
      "model_name": "HTMLModel",
      "state": {
       "_dom_classes": [],
       "_model_module": "@jupyter-widgets/controls",
       "_model_module_version": "1.5.0",
       "_model_name": "HTMLModel",
       "_view_count": null,
       "_view_module": "@jupyter-widgets/controls",
       "_view_module_version": "1.5.0",
       "_view_name": "HTMLView",
       "description": "",
       "description_tooltip": null,
       "layout": "IPY_MODEL_ab7ccecc38be40cba66bf286787da21a",
       "placeholder": "​",
       "style": "IPY_MODEL_02f9fc9d3df043b9836a3d30c668ee1d",
       "value": " 250/250 [44:21&lt;00:00, 11.68s/it]"
      }
     },
     "ab7ccecc38be40cba66bf286787da21a": {
      "model_module": "@jupyter-widgets/base",
      "model_module_version": "1.2.0",
      "model_name": "LayoutModel",
      "state": {
       "_model_module": "@jupyter-widgets/base",
       "_model_module_version": "1.2.0",
       "_model_name": "LayoutModel",
       "_view_count": null,
       "_view_module": "@jupyter-widgets/base",
       "_view_module_version": "1.2.0",
       "_view_name": "LayoutView",
       "align_content": null,
       "align_items": null,
       "align_self": null,
       "border": null,
       "bottom": null,
       "display": null,
       "flex": null,
       "flex_flow": null,
       "grid_area": null,
       "grid_auto_columns": null,
       "grid_auto_flow": null,
       "grid_auto_rows": null,
       "grid_column": null,
       "grid_gap": null,
       "grid_row": null,
       "grid_template_areas": null,
       "grid_template_columns": null,
       "grid_template_rows": null,
       "height": null,
       "justify_content": null,
       "justify_items": null,
       "left": null,
       "margin": null,
       "max_height": null,
       "max_width": null,
       "min_height": null,
       "min_width": null,
       "object_fit": null,
       "object_position": null,
       "order": null,
       "overflow": null,
       "overflow_x": null,
       "overflow_y": null,
       "padding": null,
       "right": null,
       "top": null,
       "visibility": null,
       "width": null
      }
     },
     "ba24934b9471448b978ed1d387289a55": {
      "model_module": "@jupyter-widgets/base",
      "model_module_version": "1.2.0",
      "model_name": "LayoutModel",
      "state": {
       "_model_module": "@jupyter-widgets/base",
       "_model_module_version": "1.2.0",
       "_model_name": "LayoutModel",
       "_view_count": null,
       "_view_module": "@jupyter-widgets/base",
       "_view_module_version": "1.2.0",
       "_view_name": "LayoutView",
       "align_content": null,
       "align_items": null,
       "align_self": null,
       "border": null,
       "bottom": null,
       "display": null,
       "flex": null,
       "flex_flow": null,
       "grid_area": null,
       "grid_auto_columns": null,
       "grid_auto_flow": null,
       "grid_auto_rows": null,
       "grid_column": null,
       "grid_gap": null,
       "grid_row": null,
       "grid_template_areas": null,
       "grid_template_columns": null,
       "grid_template_rows": null,
       "height": null,
       "justify_content": null,
       "justify_items": null,
       "left": null,
       "margin": null,
       "max_height": null,
       "max_width": null,
       "min_height": null,
       "min_width": null,
       "object_fit": null,
       "object_position": null,
       "order": null,
       "overflow": null,
       "overflow_x": null,
       "overflow_y": null,
       "padding": null,
       "right": null,
       "top": null,
       "visibility": null,
       "width": null
      }
     },
     "c18e44ca9d184ee386e59fd4106b8090": {
      "model_module": "@jupyter-widgets/base",
      "model_module_version": "1.2.0",
      "model_name": "LayoutModel",
      "state": {
       "_model_module": "@jupyter-widgets/base",
       "_model_module_version": "1.2.0",
       "_model_name": "LayoutModel",
       "_view_count": null,
       "_view_module": "@jupyter-widgets/base",
       "_view_module_version": "1.2.0",
       "_view_name": "LayoutView",
       "align_content": null,
       "align_items": null,
       "align_self": null,
       "border": null,
       "bottom": null,
       "display": null,
       "flex": null,
       "flex_flow": null,
       "grid_area": null,
       "grid_auto_columns": null,
       "grid_auto_flow": null,
       "grid_auto_rows": null,
       "grid_column": null,
       "grid_gap": null,
       "grid_row": null,
       "grid_template_areas": null,
       "grid_template_columns": null,
       "grid_template_rows": null,
       "height": null,
       "justify_content": null,
       "justify_items": null,
       "left": null,
       "margin": null,
       "max_height": null,
       "max_width": null,
       "min_height": null,
       "min_width": null,
       "object_fit": null,
       "object_position": null,
       "order": null,
       "overflow": null,
       "overflow_x": null,
       "overflow_y": null,
       "padding": null,
       "right": null,
       "top": null,
       "visibility": null,
       "width": null
      }
     },
     "cb14d3d29f2843b29f1253c07552d9b0": {
      "model_module": "@jupyter-widgets/controls",
      "model_module_version": "1.5.0",
      "model_name": "FloatProgressModel",
      "state": {
       "_dom_classes": [],
       "_model_module": "@jupyter-widgets/controls",
       "_model_module_version": "1.5.0",
       "_model_name": "FloatProgressModel",
       "_view_count": null,
       "_view_module": "@jupyter-widgets/controls",
       "_view_module_version": "1.5.0",
       "_view_name": "ProgressView",
       "bar_style": "success",
       "description": "",
       "description_tooltip": null,
       "layout": "IPY_MODEL_1dda5f17ea7849fe9580aa36ed25ac5f",
       "max": 250.0,
       "min": 0.0,
       "orientation": "horizontal",
       "style": "IPY_MODEL_07a8324e01fd4ea79b2eba357ebf8bf6",
       "value": 250.0
      }
     },
     "d4af5facacb84191ae4dcd43363c1136": {
      "model_module": "@jupyter-widgets/controls",
      "model_module_version": "1.5.0",
      "model_name": "HTMLModel",
      "state": {
       "_dom_classes": [],
       "_model_module": "@jupyter-widgets/controls",
       "_model_module_version": "1.5.0",
       "_model_name": "HTMLModel",
       "_view_count": null,
       "_view_module": "@jupyter-widgets/controls",
       "_view_module_version": "1.5.0",
       "_view_name": "HTMLView",
       "description": "",
       "description_tooltip": null,
       "layout": "IPY_MODEL_14b09e8293bd4d5c847af443a2aee4b3",
       "placeholder": "​",
       "style": "IPY_MODEL_0ba0e725c7914ad584f16a5fd846325a",
       "value": " 250/250 [16:15&lt;00:00,  3.44s/it]"
      }
     },
     "d6f6a02ee8f64db28c964b0bd1b40bf2": {
      "model_module": "@jupyter-widgets/controls",
      "model_module_version": "1.5.0",
      "model_name": "HTMLModel",
      "state": {
       "_dom_classes": [],
       "_model_module": "@jupyter-widgets/controls",
       "_model_module_version": "1.5.0",
       "_model_name": "HTMLModel",
       "_view_count": null,
       "_view_module": "@jupyter-widgets/controls",
       "_view_module_version": "1.5.0",
       "_view_name": "HTMLView",
       "description": "",
       "description_tooltip": null,
       "layout": "IPY_MODEL_c18e44ca9d184ee386e59fd4106b8090",
       "placeholder": "​",
       "style": "IPY_MODEL_2bd83a78b0724a418a3b9c208ea4e345",
       "value": "Best trial: 234. Best value: 0.856111: 100%"
      }
     },
     "e0737d5a008b486ea6a70f7ad700e780": {
      "model_module": "@jupyter-widgets/base",
      "model_module_version": "1.2.0",
      "model_name": "LayoutModel",
      "state": {
       "_model_module": "@jupyter-widgets/base",
       "_model_module_version": "1.2.0",
       "_model_name": "LayoutModel",
       "_view_count": null,
       "_view_module": "@jupyter-widgets/base",
       "_view_module_version": "1.2.0",
       "_view_name": "LayoutView",
       "align_content": null,
       "align_items": null,
       "align_self": null,
       "border": null,
       "bottom": null,
       "display": null,
       "flex": null,
       "flex_flow": null,
       "grid_area": null,
       "grid_auto_columns": null,
       "grid_auto_flow": null,
       "grid_auto_rows": null,
       "grid_column": null,
       "grid_gap": null,
       "grid_row": null,
       "grid_template_areas": null,
       "grid_template_columns": null,
       "grid_template_rows": null,
       "height": null,
       "justify_content": null,
       "justify_items": null,
       "left": null,
       "margin": null,
       "max_height": null,
       "max_width": null,
       "min_height": null,
       "min_width": null,
       "object_fit": null,
       "object_position": null,
       "order": null,
       "overflow": null,
       "overflow_x": null,
       "overflow_y": null,
       "padding": null,
       "right": null,
       "top": null,
       "visibility": null,
       "width": null
      }
     }
    },
    "version_major": 2,
    "version_minor": 0
   }
  }
 },
 "nbformat": 4,
 "nbformat_minor": 5
}
